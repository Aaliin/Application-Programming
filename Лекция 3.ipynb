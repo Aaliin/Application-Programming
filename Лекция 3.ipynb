{
  "cells": [
    {
      "cell_type": "markdown",
      "metadata": {
        "id": "4ixgf2Qeog5Z"
      },
      "source": [
        "# **Лекция №3**\n",
        "##**Курс \"Прикладное программирование систем безопасности\"**  \n",
        "*Специальность \"Информационная безопасность автоматизированных систем\", 2(3) курс, 1 семестр*  \n",
        "\n",
        "Содержание:\n",
        "1. Работа с модулями и пакетами.\n",
        "2. Объектно-ориентированное программирование.\n",
        "3. Работа с исключениями.\n",
        "4. Проверка типов.\n",
        "5. Стандарты оформления кода.\n",
        "\n",
        "\n"
      ]
    },
    {
      "cell_type": "markdown",
      "metadata": {
        "id": "0A6AZCdbqcPS"
      },
      "source": [
        "##1. Работа с модулями и пакетами"
      ]
    },
    {
      "cell_type": "markdown",
      "metadata": {
        "id": "gtS2LZUP46GH"
      },
      "source": [
        "__Модуль__  - файл с исходным кодом, имеющий расширение .py. Встроенные модули (такие как math или sys), изначально написаны на С и встроены непосредственно в интерпретатор.  \n",
        "__Пакет__ – это каталог, который может включать другие каталоги или модули."
      ]
    },
    {
      "cell_type": "markdown",
      "metadata": {
        "id": "LHDVbm0CDS5u"
      },
      "source": [
        "###Импорт модулей\n",
        "При импорте модуля интерпретатор выполняет весь код в нем.\n",
        "\n",
        "Процесс поиска модуля командой import:\n",
        "1. сначала среди встроенных модулей;\n",
        "2. далее в директории с исполняемым скриптом;\n",
        "3. далее в директории по умолчанию дистрибутива python;\n",
        "4. далее в PYTHONPATH.\n"
      ]
    },
    {
      "cell_type": "code",
      "execution_count": null,
      "metadata": {
        "colab": {
          "base_uri": "https://localhost:8080/"
        },
        "id": "ORA0dhNK5BmN",
        "outputId": "9e5688b3-2f43-4c61-b5d9-6d1538662d5a"
      },
      "outputs": [
        {
          "output_type": "execute_result",
          "data": {
            "text/plain": [
              "['__doc__',\n",
              " '__loader__',\n",
              " '__name__',\n",
              " '__package__',\n",
              " '__spec__',\n",
              " 'acos',\n",
              " 'acosh',\n",
              " 'asin',\n",
              " 'asinh',\n",
              " 'atan',\n",
              " 'atan2',\n",
              " 'atanh',\n",
              " 'ceil',\n",
              " 'copysign',\n",
              " 'cos',\n",
              " 'cosh',\n",
              " 'degrees',\n",
              " 'e',\n",
              " 'erf',\n",
              " 'erfc',\n",
              " 'exp',\n",
              " 'expm1',\n",
              " 'fabs',\n",
              " 'factorial',\n",
              " 'floor',\n",
              " 'fmod',\n",
              " 'frexp',\n",
              " 'fsum',\n",
              " 'gamma',\n",
              " 'gcd',\n",
              " 'hypot',\n",
              " 'inf',\n",
              " 'isclose',\n",
              " 'isfinite',\n",
              " 'isinf',\n",
              " 'isnan',\n",
              " 'ldexp',\n",
              " 'lgamma',\n",
              " 'log',\n",
              " 'log10',\n",
              " 'log1p',\n",
              " 'log2',\n",
              " 'modf',\n",
              " 'nan',\n",
              " 'pi',\n",
              " 'pow',\n",
              " 'radians',\n",
              " 'remainder',\n",
              " 'sin',\n",
              " 'sinh',\n",
              " 'sqrt',\n",
              " 'tan',\n",
              " 'tanh',\n",
              " 'tau',\n",
              " 'trunc']"
            ]
          },
          "metadata": {},
          "execution_count": 2
        }
      ],
      "source": [
        "# импортируем для примера встроенный модуль\n",
        "import math\n",
        "dir(math) # посмотрим, что внутри"
      ]
    },
    {
      "cell_type": "code",
      "execution_count": null,
      "metadata": {
        "colab": {
          "base_uri": "https://localhost:8080/"
        },
        "id": "kZRpr5KD7HDj",
        "outputId": "2b4fba86-8f5b-4237-b610-1a87983d7280"
      },
      "outputs": [
        {
          "output_type": "stream",
          "name": "stdout",
          "text": [
            "9 result type: <class 'int'>\n",
            "9.0 result type: <class 'float'>\n"
          ]
        }
      ],
      "source": [
        "print(f'{pow(3,2)} result type: {type(pow(3,2))}') # встроенная в язык функция\n",
        "print(f'{math.pow(3,2)} result type: {type(math.pow(3,2))}') # функция из пакета"
      ]
    },
    {
      "cell_type": "code",
      "execution_count": null,
      "metadata": {
        "colab": {
          "base_uri": "https://localhost:8080/"
        },
        "id": "Fl_pRMn58bLp",
        "outputId": "3af2ca21-0d76-4c23-9bb3-4a663149ee75"
      },
      "outputs": [
        {
          "name": "stdout",
          "output_type": "stream",
          "text": [
            "3.141592653589793\n",
            "4\n"
          ]
        }
      ],
      "source": [
        "# можно не импортировать пакет целиком, а ограничиться определенными классами/функциями/константами\n",
        "from math import pi\n",
        "print(pi)\n",
        "pi = 4\n",
        "print(pi) # поздравляю, констранта испорчена"
      ]
    },
    {
      "cell_type": "code",
      "execution_count": null,
      "metadata": {
        "colab": {
          "base_uri": "https://localhost:8080/"
        },
        "id": "hRlxLrrG_vaC",
        "outputId": "e40b2ee6-6280-4cdf-ea91-517ad1856d68"
      },
      "outputs": [
        {
          "name": "stdout",
          "output_type": "stream",
          "text": [
            "3.141592653589793\n",
            "4\n"
          ]
        }
      ],
      "source": [
        "# есть возможность изменить имя импортируемого объекта\n",
        "from math import pi as pifrommathplzdonotruin\n",
        "print(pifrommathplzdonotruin)\n",
        "print(pi)"
      ]
    },
    {
      "cell_type": "code",
      "execution_count": null,
      "metadata": {
        "colab": {
          "base_uri": "https://localhost:8080/"
        },
        "id": "9fF5mDRIBYGX",
        "outputId": "c285e3b9-c164-4ab2-c158-bb293283576f"
      },
      "outputs": [
        {
          "name": "stdout",
          "output_type": "stream",
          "text": [
            "9.0 result type: <class 'float'>\n"
          ]
        }
      ],
      "source": [
        "# можно импортировать все содержимое пакета, в этом случае для вызова ипортированных методов указывать имя пакета не нужно\n",
        "from math import *\n",
        "print(f'{pow(3,2)} result type: {type(pow(3,2))}')"
      ]
    },
    {
      "cell_type": "markdown",
      "metadata": {
        "id": "3RGMXh3BOMI6"
      },
      "source": [
        "### Импорт пакетов\n",
        "При импорте пакета после обнаружения папки с требуемым именем интерпретатор выполняет модуль \\_\\_init\\_\\_.py.\n",
        "\n",
        "\\_\\_init\\_\\_.py может включать в себя необходимые подмодули и подпакеты, может быть пустым, а с версии 3.3. его вообще может не быть.\n"
      ]
    },
    {
      "cell_type": "code",
      "execution_count": null,
      "metadata": {
        "id": "pQSEtlKTfyJZ"
      },
      "outputs": [],
      "source": [
        "# рассмотрим на примере популярного пакета с функциями для инженерных расчетов\n",
        "import scipy"
      ]
    },
    {
      "cell_type": "code",
      "execution_count": null,
      "metadata": {
        "id": "hNvtFFLMeOGv",
        "colab": {
          "base_uri": "https://localhost:8080/"
        },
        "outputId": "d47d816e-aa5a-4a55-8d6b-1d78f122a3df"
      },
      "outputs": [
        {
          "output_type": "stream",
          "name": "stdout",
          "text": [
            "__config__\n",
            "_build_utils\n",
            "_distributor_init\n",
            "_lib\n",
            "cluster\n",
            "conftest\n",
            "constants\n",
            "fft\n",
            "fftpack\n",
            "integrate\n",
            "interpolate\n",
            "io\n",
            "linalg\n",
            "misc\n",
            "ndimage\n",
            "odr\n",
            "optimize\n",
            "setup\n",
            "signal\n",
            "sparse\n",
            "spatial\n",
            "special\n",
            "stats\n",
            "version\n"
          ]
        }
      ],
      "source": [
        "from pkgutil import iter_modules\n",
        "# выведем все подмодули\n",
        "def list_submodules(module):\n",
        "    for submodule in iter_modules(module.__path__):\n",
        "        print(submodule.name)\n",
        "\n",
        "list_submodules(scipy)"
      ]
    },
    {
      "cell_type": "code",
      "execution_count": null,
      "metadata": {
        "colab": {
          "base_uri": "https://localhost:8080/"
        },
        "id": "P-LPjKMUYnv_",
        "outputId": "1e04ae2f-a613-400f-c701-bcc5749598e6"
      },
      "outputs": [
        {
          "output_type": "execute_result",
          "data": {
            "text/plain": [
              "['__all__',\n",
              " '__builtins__',\n",
              " '__cached__',\n",
              " '__doc__',\n",
              " '__file__',\n",
              " '__loader__',\n",
              " '__name__',\n",
              " '__package__',\n",
              " '__path__',\n",
              " '__spec__',\n",
              " '_backend',\n",
              " '_basic',\n",
              " '_fftlog',\n",
              " '_helper',\n",
              " '_pocketfft',\n",
              " '_realtransforms',\n",
              " 'dct',\n",
              " 'dctn',\n",
              " 'dst',\n",
              " 'dstn',\n",
              " 'fft',\n",
              " 'fft2',\n",
              " 'fftfreq',\n",
              " 'fftn',\n",
              " 'fftshift',\n",
              " 'fht',\n",
              " 'fhtoffset',\n",
              " 'get_workers',\n",
              " 'hfft',\n",
              " 'hfft2',\n",
              " 'hfftn',\n",
              " 'idct',\n",
              " 'idctn',\n",
              " 'idst',\n",
              " 'idstn',\n",
              " 'ifft',\n",
              " 'ifft2',\n",
              " 'ifftn',\n",
              " 'ifftshift',\n",
              " 'ifht',\n",
              " 'ihfft',\n",
              " 'ihfft2',\n",
              " 'ihfftn',\n",
              " 'irfft',\n",
              " 'irfft2',\n",
              " 'irfftn',\n",
              " 'next_fast_len',\n",
              " 'register_backend',\n",
              " 'rfft',\n",
              " 'rfft2',\n",
              " 'rfftfreq',\n",
              " 'rfftn',\n",
              " 'set_backend',\n",
              " 'set_global_backend',\n",
              " 'set_workers',\n",
              " 'skip_backend',\n",
              " 'test']"
            ]
          },
          "metadata": {},
          "execution_count": 14
        }
      ],
      "source": [
        "# выведенные подмодули содержат внутри наборы методов для определенной прикладной области\n",
        "# этот модуль, например, содержит связанные с преобразованием Фурье методы\n",
        "dir(scipy.fft)"
      ]
    },
    {
      "cell_type": "code",
      "execution_count": null,
      "metadata": {
        "id": "y2QKCbaxlfM4"
      },
      "outputs": [],
      "source": [
        "# импорт отдельно взятой функции (все аналогично работе с модулями)\n",
        "from scipy.fft import fft\n"
      ]
    },
    {
      "cell_type": "markdown",
      "metadata": {
        "id": "mtzCyASkqhYJ"
      },
      "source": [
        "###Создание модулей"
      ]
    },
    {
      "cell_type": "code",
      "execution_count": null,
      "metadata": {
        "colab": {
          "base_uri": "https://localhost:8080/"
        },
        "id": "zb1S7FSRpaEA",
        "outputId": "d7f46ef6-efc0-47f9-c83b-a1f5992e02f4"
      },
      "outputs": [
        {
          "output_type": "stream",
          "name": "stdout",
          "text": [
            "Writing area.py\n"
          ]
        }
      ],
      "source": [
        "#создадим для примера модуль и сохраним его в файл \"area.py\"\n",
        "%%writefile area.py\n",
        "pi = 3.14\n",
        "\n",
        "def rectangle_area(a, b):\n",
        "    return round(a * b, 2)\n",
        "\n",
        "def triangle_area(a, h):\n",
        "    return round(0.5 * a * h, 2)\n",
        "\n",
        "def circle_area(r):\n",
        "    return round(pi * r * r, 2)"
      ]
    },
    {
      "cell_type": "code",
      "execution_count": null,
      "metadata": {
        "colab": {
          "base_uri": "https://localhost:8080/"
        },
        "id": "BeRz_OyFqQze",
        "outputId": "d80c39ae-d09b-42a8-bc8d-b62f375ca920"
      },
      "outputs": [
        {
          "output_type": "stream",
          "name": "stdout",
          "text": [
            "<class 'module'>\n",
            "['__builtins__', '__cached__', '__doc__', '__file__', '__loader__', '__name__', '__package__', '__spec__', 'circle_area', 'pi', 'rectangle_area', 'triangle_area']\n"
          ]
        }
      ],
      "source": [
        "# ипортируем свое творение\n",
        "import area\n",
        "print(type(area))\n",
        "print(dir(area))"
      ]
    },
    {
      "cell_type": "code",
      "execution_count": null,
      "metadata": {
        "colab": {
          "base_uri": "https://localhost:8080/"
        },
        "id": "BuLXj9FuvkHR",
        "outputId": "ad1f7313-e73a-44ca-ccd0-8a4f15c9bba0"
      },
      "outputs": [
        {
          "output_type": "stream",
          "name": "stdout",
          "text": [
            "3.14\n",
            "21\n",
            "4.0\n",
            "78.5\n"
          ]
        }
      ],
      "source": [
        "# проверяем работоспособность\n",
        "print(area.pi)\n",
        "print(area.rectangle_area(3,7))\n",
        "print(area.triangle_area(2,4))\n",
        "print(area.circle_area(5))"
      ]
    },
    {
      "cell_type": "markdown",
      "metadata": {
        "id": "HoFneKHUuNGO"
      },
      "source": [
        "###Создание пакетов\n"
      ]
    },
    {
      "cell_type": "code",
      "execution_count": null,
      "metadata": {
        "id": "q30JNWup1OZc"
      },
      "outputs": [],
      "source": [
        "# создадим директорию для пакета\n",
        "!mkdir samplepackage"
      ]
    },
    {
      "cell_type": "code",
      "execution_count": null,
      "metadata": {
        "colab": {
          "base_uri": "https://localhost:8080/"
        },
        "id": "SD7clfev6KMo",
        "outputId": "5647f2cf-e1dc-4422-f2e7-b28664b8f79f"
      },
      "outputs": [
        {
          "output_type": "stream",
          "name": "stdout",
          "text": [
            "Writing samplepackage/constants.py\n"
          ]
        }
      ],
      "source": [
        "# хорошим тоном считается выносить константы в отдельный модуль\n",
        "%%writefile samplepackage/constants.py\n",
        "pi = 3.14"
      ]
    },
    {
      "cell_type": "code",
      "execution_count": null,
      "metadata": {
        "colab": {
          "base_uri": "https://localhost:8080/"
        },
        "id": "fXXNOTNv0jAt",
        "outputId": "648347dc-0ae9-478c-fd74-3619e78d9eb0"
      },
      "outputs": [
        {
          "output_type": "stream",
          "name": "stdout",
          "text": [
            "Writing samplepackage/area.py\n"
          ]
        }
      ],
      "source": [
        "# сохраним методы исходного модуля\n",
        "%%writefile samplepackage/area.py\n",
        "from samplepackage.constants import pi\n",
        "\n",
        "def rectangle_area(a, b):\n",
        "    return round(a * b, 2)\n",
        "\n",
        "def triangle_area(a, h):\n",
        "    return round(0.5 * a * h, 2)\n",
        "\n",
        "def circle_area(r):\n",
        "    return round(pi * r * r, 2)"
      ]
    },
    {
      "cell_type": "code",
      "execution_count": null,
      "metadata": {
        "colab": {
          "base_uri": "https://localhost:8080/"
        },
        "id": "7XeJQQUS3me6",
        "outputId": "7e68ad4d-6f0f-4f7d-e939-549af3649666"
      },
      "outputs": [
        {
          "output_type": "stream",
          "name": "stdout",
          "text": [
            "Writing samplepackage/perimeter.py\n"
          ]
        }
      ],
      "source": [
        "# расширим псевдофункционал нашего пакета\n",
        "%%writefile samplepackage/perimeter.py\n",
        "from samplepackage.constants import pi\n",
        "\n",
        "def rectangle_perimeter(a, b):\n",
        "    return round(2*a + 2*b, 2)\n",
        "\n",
        "def triangle_perimeter(a, b,c):\n",
        "    return round(a+b+c, 2)\n",
        "\n",
        "def circle_perimeter(r):\n",
        "    return round(pi * 2 * r, 2)"
      ]
    },
    {
      "cell_type": "code",
      "execution_count": null,
      "metadata": {
        "colab": {
          "base_uri": "https://localhost:8080/"
        },
        "id": "2K5S5Fkf1lQR",
        "outputId": "f5cf9785-e9a8-451f-cdbd-fb95c9fb99c1"
      },
      "outputs": [
        {
          "output_type": "stream",
          "name": "stdout",
          "text": [
            "Writing samplepackage/__init__.py\n"
          ]
        }
      ],
      "source": [
        "# создадим __init_.py, для того, чтобы интерпетатор понял, что эта директория является пакетом\n",
        "# как помним, можно оставить пустым, можно не создавать вовсе\n",
        "%%writefile samplepackage/__init__.py\n",
        "__all__ = ['constants', 'area','perimeter'] #можно указать, что будет импортировано командой from samplepackage import *"
      ]
    },
    {
      "cell_type": "code",
      "execution_count": null,
      "metadata": {
        "colab": {
          "base_uri": "https://localhost:8080/"
        },
        "id": "vEgyUCE94L0f",
        "outputId": "9b37b514-7119-4d91-914b-89317b5d35e8"
      },
      "outputs": [
        {
          "output_type": "stream",
          "name": "stdout",
          "text": [
            "3.14\n",
            "314.0\n",
            "62.8\n"
          ]
        }
      ],
      "source": [
        "#проверим работоспособность\n",
        "from samplepackage.constants import pi\n",
        "from samplepackage.area import circle_area\n",
        "from samplepackage.perimeter import circle_perimeter\n",
        "\n",
        "print(pi)\n",
        "print(circle_area(10))\n",
        "print(circle_perimeter(10))"
      ]
    },
    {
      "cell_type": "markdown",
      "metadata": {
        "id": "M8tiwRurqqgo"
      },
      "source": [
        "###Установка пакетов и модулей\n",
        "Пакеты и модули можно установить из внешнего репозитория.  \n",
        "Официальным репозиторием пакетов python является [Python Package Index](https://pypi.org/).\n",
        "\n",
        "__Pip__ — система управления пакетами, которая используется для установки и управления пакетами, написанными на python.\n",
        "\n",
        "С версии языка 3.4 pip входит в стандартный дистрибутив python."
      ]
    },
    {
      "cell_type": "code",
      "execution_count": null,
      "metadata": {
        "colab": {
          "base_uri": "https://localhost:8080/"
        },
        "id": "dnk0yn_PNQ_8",
        "outputId": "c781fb59-4431-47ac-e87b-3c1a80ad5fef"
      },
      "outputs": [
        {
          "output_type": "stream",
          "name": "stdout",
          "text": [
            "Looking in indexes: https://pypi.org/simple, https://us-python.pkg.dev/colab-wheels/public/simple/\n",
            "Collecting fiona==1.8.10\n",
            "  Downloading Fiona-1.8.10-cp37-cp37m-manylinux1_x86_64.whl (11.8 MB)\n",
            "\u001b[K     |████████████████████████████████| 11.8 MB 5.5 MB/s \n",
            "\u001b[?25hCollecting munch\n",
            "  Downloading munch-2.5.0-py2.py3-none-any.whl (10 kB)\n",
            "Collecting click-plugins>=1.0\n",
            "  Downloading click_plugins-1.1.1-py2.py3-none-any.whl (7.5 kB)\n",
            "Requirement already satisfied: click<8,>=4.0 in /usr/local/lib/python3.7/dist-packages (from fiona==1.8.10) (7.1.2)\n",
            "Collecting cligj>=0.5\n",
            "  Downloading cligj-0.7.2-py3-none-any.whl (7.1 kB)\n",
            "Requirement already satisfied: attrs>=17 in /usr/local/lib/python3.7/dist-packages (from fiona==1.8.10) (22.1.0)\n",
            "Requirement already satisfied: six>=1.7 in /usr/local/lib/python3.7/dist-packages (from fiona==1.8.10) (1.15.0)\n",
            "Installing collected packages: munch, cligj, click-plugins, fiona\n",
            "Successfully installed click-plugins-1.1.1 cligj-0.7.2 fiona-1.8.10 munch-2.5.0\n"
          ]
        }
      ],
      "source": [
        "# установка пакета при помощи командной строки\n",
        "# например, установим пакет для для манипуляции пространственными данными - он точно не предустановлен в коллабовской виртуалке\n",
        "!pip install fiona==1.8.10 # можно указать определенную версию пакета"
      ]
    },
    {
      "cell_type": "code",
      "execution_count": null,
      "metadata": {
        "colab": {
          "base_uri": "https://localhost:8080/"
        },
        "id": "xFK1u03zNRaU",
        "outputId": "0f30dc3a-d745-4cf0-a46a-48404a194621"
      },
      "outputs": [
        {
          "output_type": "stream",
          "name": "stdout",
          "text": [
            "Name: Fiona\n",
            "Version: 1.8.10\n",
            "Summary: Fiona reads and writes spatial data files\n",
            "Home-page: http://github.com/Toblerity/Fiona\n",
            "Author: Sean Gillies\n",
            "Author-email: sean.gillies@gmail.com\n",
            "License: BSD\n",
            "Location: /usr/local/lib/python3.7/dist-packages\n",
            "Requires: cligj, attrs, click, munch, six, click-plugins\n",
            "Required-by: \n"
          ]
        }
      ],
      "source": [
        "# просмотр информации об установленном пакете через командную строку\n",
        "!pip show fiona"
      ]
    },
    {
      "cell_type": "code",
      "execution_count": null,
      "metadata": {
        "colab": {
          "base_uri": "https://localhost:8080/"
        },
        "id": "si4ACZBwVPVN",
        "outputId": "636dd5dc-9cdf-4774-8d5e-ecc0a54843ba"
      },
      "outputs": [
        {
          "output_type": "stream",
          "name": "stdout",
          "text": [
            "1.8.10\n"
          ]
        }
      ],
      "source": [
        "# также версию пакета можно узнать и при помощи python скрипта\n",
        "import fiona\n",
        "print(fiona.__version__)"
      ]
    },
    {
      "cell_type": "code",
      "execution_count": null,
      "metadata": {
        "colab": {
          "base_uri": "https://localhost:8080/"
        },
        "id": "QmNjHPwYX_GG",
        "outputId": "1787c2dd-a5b1-4ae1-e860-64d168a91fca"
      },
      "outputs": [
        {
          "output_type": "stream",
          "name": "stdout",
          "text": [
            "absl-py==1.2.0\n",
            "aeppl==0.0.33\n",
            "aesara==2.7.9\n",
            "aiohttp==3.8.1\n",
            "aiosignal==1.2.0\n",
            "alabaster==0.7.12\n",
            "albumentations==1.2.1\n",
            "altair==4.2.0\n",
            "appdirs==1.4.4\n",
            "arviz==0.12.1\n",
            "astor==0.8.1\n",
            "astropy==4.3.1\n",
            "astunparse==1.6.3\n",
            "async-timeout==4.0.2\n",
            "asynctest==0.13.0\n",
            "atari-py==0.2.9\n",
            "atomicwrites==1.4.1\n",
            "attrs==22.1.0\n",
            "audioread==3.0.0\n",
            "autograd==1.4\n",
            "Babel==2.10.3\n",
            "backcall==0.2.0\n",
            "beautifulsoup4==4.6.3\n",
            "bleach==5.0.1\n",
            "blis==0.7.8\n",
            "bokeh==2.3.3\n",
            "branca==0.5.0\n",
            "bs4==0.0.1\n",
            "CacheControl==0.12.11\n",
            "cached-property==1.5.2\n",
            "cachetools==4.2.4\n",
            "catalogue==2.0.8\n",
            "certifi==2022.6.15\n",
            "cffi==1.15.1\n",
            "cftime==1.6.1\n",
            "chardet==3.0.4\n",
            "charset-normalizer==2.1.1\n",
            "click==7.1.2\n",
            "click-plugins==1.1.1\n",
            "cligj==0.7.2\n",
            "clikit==0.6.2\n",
            "cloudpickle==1.5.0\n",
            "cmake==3.22.6\n",
            "cmdstanpy==1.0.7\n",
            "colorcet==3.0.0\n",
            "colorlover==0.3.0\n",
            "community==1.0.0b1\n",
            "cons==0.4.5\n",
            "contextlib2==0.5.5\n",
            "convertdate==2.4.0\n",
            "crashtest==0.3.1\n",
            "crcmod==1.7\n",
            "cufflinks==0.17.3\n",
            "cvxopt==1.3.0\n",
            "cvxpy==1.2.1\n",
            "cycler==0.11.0\n",
            "cymem==2.0.6\n",
            "Cython==0.29.32\n",
            "daft==0.0.4\n",
            "dask==2022.2.0\n",
            "datascience==0.17.5\n",
            "debugpy==1.0.0\n",
            "decorator==4.4.2\n",
            "defusedxml==0.7.1\n",
            "descartes==1.1.0\n",
            "dill==0.3.5.1\n",
            "distributed==2022.2.0\n",
            "dlib==19.24.0\n",
            "dm-tree==0.1.7\n",
            "docutils==0.17.1\n",
            "dopamine-rl==1.0.5\n",
            "earthengine-api==0.1.323\n",
            "easydict==1.9\n",
            "ecos==2.0.10\n",
            "editdistance==0.5.3\n",
            "en-core-web-sm @ https://github.com/explosion/spacy-models/releases/download/en_core_web_sm-3.4.0/en_core_web_sm-3.4.0-py3-none-any.whl\n",
            "entrypoints==0.4\n",
            "ephem==4.1.3\n",
            "et-xmlfile==1.1.0\n",
            "etils==0.7.1\n",
            "etuples==0.3.8\n",
            "fa2==0.3.5\n",
            "fastai==2.7.9\n",
            "fastcore==1.5.25\n",
            "fastdownload==0.0.7\n",
            "fastdtw==0.3.4\n",
            "fastjsonschema==2.16.1\n",
            "fastprogress==1.0.3\n",
            "fastrlock==0.8\n",
            "feather-format==0.4.1\n",
            "filelock==3.8.0\n",
            "Fiona==1.8.10\n",
            "firebase-admin==4.4.0\n",
            "fix-yahoo-finance==0.0.22\n",
            "Flask==1.1.4\n",
            "flatbuffers==2.0.7\n",
            "folium==0.12.1.post1\n",
            "frozenlist==1.3.1\n",
            "fsspec==2022.8.2\n",
            "future==0.16.0\n",
            "gast==0.5.3\n",
            "GDAL==2.2.2\n",
            "gdown==4.4.0\n",
            "gensim==3.6.0\n",
            "geographiclib==1.52\n",
            "geopy==1.17.0\n",
            "gin-config==0.5.0\n",
            "glob2==0.7\n",
            "google==2.0.3\n",
            "google-api-core==1.31.6\n",
            "google-api-python-client==1.12.11\n",
            "google-auth==1.35.0\n",
            "google-auth-httplib2==0.0.4\n",
            "google-auth-oauthlib==0.4.6\n",
            "google-cloud-bigquery==1.21.0\n",
            "google-cloud-bigquery-storage==1.1.2\n",
            "google-cloud-core==1.0.3\n",
            "google-cloud-datastore==1.8.0\n",
            "google-cloud-firestore==1.7.0\n",
            "google-cloud-language==1.2.0\n",
            "google-cloud-storage==1.18.1\n",
            "google-cloud-translate==1.5.0\n",
            "google-colab @ file:///colabtools/dist/google-colab-1.0.0.tar.gz\n",
            "google-pasta==0.2.0\n",
            "google-resumable-media==0.4.1\n",
            "googleapis-common-protos==1.56.4\n",
            "googledrivedownloader==0.4\n",
            "graphviz==0.10.1\n",
            "greenlet==1.1.3\n",
            "grpcio==1.48.1\n",
            "gspread==3.4.2\n",
            "gspread-dataframe==3.0.8\n",
            "gym==0.25.2\n",
            "gym-notices==0.0.8\n",
            "h5py==3.1.0\n",
            "HeapDict==1.0.1\n",
            "hijri-converter==2.2.4\n",
            "holidays==0.15\n",
            "holoviews==1.14.9\n",
            "html5lib==1.0.1\n",
            "httpimport==0.5.18\n",
            "httplib2==0.17.4\n",
            "httplib2shim==0.0.3\n",
            "httpstan==4.6.1\n",
            "humanize==0.5.1\n",
            "hyperopt==0.1.2\n",
            "idna==2.10\n",
            "imageio==2.9.0\n",
            "imagesize==1.4.1\n",
            "imbalanced-learn==0.8.1\n",
            "imblearn==0.0\n",
            "imgaug==0.4.0\n",
            "importlib-metadata==4.12.0\n",
            "importlib-resources==5.9.0\n",
            "imutils==0.5.4\n",
            "inflect==2.1.0\n",
            "intel-openmp==2022.1.0\n",
            "intervaltree==2.1.0\n",
            "ipykernel==5.3.4\n",
            "ipython==7.9.0\n",
            "ipython-genutils==0.2.0\n",
            "ipython-sql==0.3.9\n",
            "ipywidgets==7.7.1\n",
            "itsdangerous==1.1.0\n",
            "jax==0.3.17\n",
            "jaxlib @ https://storage.googleapis.com/jax-releases/cuda11/jaxlib-0.3.15+cuda11.cudnn805-cp37-none-manylinux2014_x86_64.whl\n",
            "jieba==0.42.1\n",
            "Jinja2==2.11.3\n",
            "joblib==1.1.0\n",
            "jpeg4py==0.1.4\n",
            "jsonschema==4.3.3\n",
            "jupyter-client==6.1.12\n",
            "jupyter-console==6.1.0\n",
            "jupyter-core==4.11.1\n",
            "jupyterlab-widgets==3.0.3\n",
            "kaggle==1.5.12\n",
            "kapre==0.3.7\n",
            "keras==2.8.0\n",
            "Keras-Preprocessing==1.1.2\n",
            "keras-vis==0.4.1\n",
            "kiwisolver==1.4.4\n",
            "korean-lunar-calendar==0.2.1\n",
            "langcodes==3.3.0\n",
            "libclang==14.0.6\n",
            "librosa==0.8.1\n",
            "lightgbm==2.2.3\n",
            "llvmlite==0.39.1\n",
            "lmdb==0.99\n",
            "locket==1.0.0\n",
            "logical-unification==0.4.5\n",
            "LunarCalendar==0.0.9\n",
            "lxml==4.9.1\n",
            "Markdown==3.4.1\n",
            "MarkupSafe==2.0.1\n",
            "marshmallow==3.17.1\n",
            "matplotlib==3.2.2\n",
            "matplotlib-venn==0.11.7\n",
            "miniKanren==1.0.3\n",
            "missingno==0.5.1\n",
            "mistune==0.8.4\n",
            "mizani==0.7.3\n",
            "mkl==2019.0\n",
            "mlxtend==0.14.0\n",
            "more-itertools==8.14.0\n",
            "moviepy==0.2.3.5\n",
            "mpmath==1.2.1\n",
            "msgpack==1.0.4\n",
            "multidict==6.0.2\n",
            "multipledispatch==0.6.0\n",
            "multitasking==0.0.11\n",
            "munch==2.5.0\n",
            "murmurhash==1.0.8\n",
            "music21==5.5.0\n",
            "natsort==5.5.0\n",
            "nbconvert==5.6.1\n",
            "nbformat==5.4.0\n",
            "netCDF4==1.6.0\n",
            "networkx==2.6.3\n",
            "nibabel==3.0.2\n",
            "nltk==3.7\n",
            "notebook==5.3.1\n",
            "numba==0.56.2\n",
            "numexpr==2.8.3\n",
            "numpy==1.21.6\n",
            "oauth2client==4.1.3\n",
            "oauthlib==3.2.0\n",
            "okgrade==0.4.3\n",
            "opencv-contrib-python==4.6.0.66\n",
            "opencv-python==4.6.0.66\n",
            "opencv-python-headless==4.6.0.66\n",
            "openpyxl==3.0.10\n",
            "opt-einsum==3.3.0\n",
            "osqp==0.6.2.post0\n",
            "packaging==21.3\n",
            "palettable==3.3.0\n",
            "pandas==1.3.5\n",
            "pandas-datareader==0.9.0\n",
            "pandas-gbq==0.13.3\n",
            "pandas-profiling==1.4.1\n",
            "pandocfilters==1.5.0\n",
            "panel==0.12.1\n",
            "param==1.12.2\n",
            "parso==0.8.3\n",
            "partd==1.3.0\n",
            "pastel==0.2.1\n",
            "pathlib==1.0.1\n",
            "pathy==0.6.2\n",
            "patsy==0.5.2\n",
            "pep517==0.13.0\n",
            "pexpect==4.8.0\n",
            "pickleshare==0.7.5\n",
            "Pillow==7.1.2\n",
            "pip-tools==6.2.0\n",
            "plotly==5.5.0\n",
            "plotnine==0.8.0\n",
            "pluggy==0.7.1\n",
            "pooch==1.6.0\n",
            "portpicker==1.3.9\n",
            "prefetch-generator==1.0.1\n",
            "preshed==3.0.7\n",
            "prettytable==3.4.1\n",
            "progressbar2==3.38.0\n",
            "promise==2.3\n",
            "prompt-toolkit==2.0.10\n",
            "prophet==1.1\n",
            "protobuf==3.17.3\n",
            "psutil==5.4.8\n",
            "psycopg2==2.9.3\n",
            "ptyprocess==0.7.0\n",
            "py==1.11.0\n",
            "pyarrow==6.0.1\n",
            "pyasn1==0.4.8\n",
            "pyasn1-modules==0.2.8\n",
            "pycocotools==2.0.4\n",
            "pycparser==2.21\n",
            "pyct==0.4.8\n",
            "pydantic==1.9.2\n",
            "pydata-google-auth==1.4.0\n",
            "pydot==1.3.0\n",
            "pydot-ng==2.0.0\n",
            "pydotplus==2.0.2\n",
            "PyDrive==1.3.1\n",
            "pyemd==0.5.1\n",
            "pyerfa==2.0.0.1\n",
            "Pygments==2.6.1\n",
            "pygobject==3.26.1\n",
            "pylev==1.4.0\n",
            "pymc==4.1.4\n",
            "PyMeeus==0.5.11\n",
            "pymongo==4.2.0\n",
            "pymystem3==0.2.0\n",
            "PyOpenGL==3.1.6\n",
            "pyparsing==3.0.9\n",
            "pyrsistent==0.18.1\n",
            "pysimdjson==3.2.0\n",
            "pysndfile==1.3.8\n",
            "PySocks==1.7.1\n",
            "pystan==3.3.0\n",
            "pytest==3.6.4\n",
            "python-apt==0.0.0\n",
            "python-chess==0.23.11\n",
            "python-dateutil==2.8.2\n",
            "python-louvain==0.16\n",
            "python-slugify==6.1.2\n",
            "python-utils==3.3.3\n",
            "pytz==2022.2.1\n",
            "pyviz-comms==2.2.1\n",
            "PyWavelets==1.3.0\n",
            "PyYAML==6.0\n",
            "pyzmq==23.2.1\n",
            "qdldl==0.1.5.post2\n",
            "qudida==0.0.4\n",
            "regex==2022.6.2\n",
            "requests==2.23.0\n",
            "requests-oauthlib==1.3.1\n",
            "resampy==0.4.0\n",
            "rpy2==3.4.5\n",
            "rsa==4.9\n",
            "scikit-image==0.18.3\n",
            "scikit-learn==1.0.2\n",
            "scipy==1.7.3\n",
            "screen-resolution-extra==0.0.0\n",
            "scs==3.2.0\n",
            "seaborn==0.11.2\n",
            "Send2Trash==1.8.0\n",
            "setuptools-git==1.2\n",
            "Shapely==1.8.4\n",
            "six==1.15.0\n",
            "sklearn-pandas==1.8.0\n",
            "smart-open==5.2.1\n",
            "snowballstemmer==2.2.0\n",
            "sortedcontainers==2.4.0\n",
            "SoundFile==0.10.3.post1\n",
            "spacy==3.4.1\n",
            "spacy-legacy==3.0.10\n",
            "spacy-loggers==1.0.3\n",
            "Sphinx==1.8.6\n",
            "sphinxcontrib-serializinghtml==1.1.5\n",
            "sphinxcontrib-websupport==1.2.4\n",
            "SQLAlchemy==1.4.41\n",
            "sqlparse==0.4.2\n",
            "srsly==2.4.4\n",
            "statsmodels==0.12.2\n",
            "sympy==1.7.1\n",
            "tables==3.7.0\n",
            "tabulate==0.8.10\n",
            "tblib==1.7.0\n",
            "tenacity==8.0.1\n",
            "tensorboard==2.8.0\n",
            "tensorboard-data-server==0.6.1\n",
            "tensorboard-plugin-wit==1.8.1\n",
            "tensorflow==2.8.2+zzzcolab20220719082949\n",
            "tensorflow-datasets==4.6.0\n",
            "tensorflow-estimator==2.8.0\n",
            "tensorflow-gcs-config==2.8.0\n",
            "tensorflow-hub==0.12.0\n",
            "tensorflow-io-gcs-filesystem==0.26.0\n",
            "tensorflow-metadata==1.10.0\n",
            "tensorflow-probability==0.16.0\n",
            "termcolor==1.1.0\n",
            "terminado==0.13.3\n",
            "testpath==0.6.0\n",
            "text-unidecode==1.3\n",
            "textblob==0.15.3\n",
            "thinc==8.1.0\n",
            "threadpoolctl==3.1.0\n",
            "tifffile==2021.11.2\n",
            "toml==0.10.2\n",
            "tomli==2.0.1\n",
            "toolz==0.12.0\n",
            "torch @ https://download.pytorch.org/whl/cu113/torch-1.12.1%2Bcu113-cp37-cp37m-linux_x86_64.whl\n",
            "torchaudio @ https://download.pytorch.org/whl/cu113/torchaudio-0.12.1%2Bcu113-cp37-cp37m-linux_x86_64.whl\n",
            "torchsummary==1.5.1\n",
            "torchtext==0.13.1\n",
            "torchvision @ https://download.pytorch.org/whl/cu113/torchvision-0.13.1%2Bcu113-cp37-cp37m-linux_x86_64.whl\n",
            "tornado==5.1.1\n",
            "tqdm==4.64.1\n",
            "traitlets==5.1.1\n",
            "tweepy==3.10.0\n",
            "typeguard==2.7.1\n",
            "typer==0.4.2\n",
            "typing-extensions==4.1.1\n",
            "tzlocal==1.5.1\n",
            "ujson==5.4.0\n",
            "uritemplate==3.0.1\n",
            "urllib3==1.24.3\n",
            "vega-datasets==0.9.0\n",
            "wasabi==0.10.1\n",
            "wcwidth==0.2.5\n",
            "webargs==8.2.0\n",
            "webencodings==0.5.1\n",
            "Werkzeug==1.0.1\n",
            "widgetsnbextension==3.6.1\n",
            "wordcloud==1.8.2.2\n",
            "wrapt==1.14.1\n",
            "xarray==0.20.2\n",
            "xarray-einstats==0.2.2\n",
            "xgboost==0.90\n",
            "xkit==0.0.0\n",
            "xlrd==1.1.0\n",
            "xlwt==1.3.0\n",
            "yarl==1.8.1\n",
            "yellowbrick==1.5\n",
            "zict==2.2.0\n",
            "zipp==3.8.1\n"
          ]
        }
      ],
      "source": [
        "# вывод списка всех установленных в окружении пакетов\n",
        "!pip freeze"
      ]
    },
    {
      "cell_type": "code",
      "execution_count": null,
      "metadata": {
        "colab": {
          "base_uri": "https://localhost:8080/"
        },
        "id": "ZU9OQMj5NRL9",
        "outputId": "2453c796-06e7-4069-d6d9-f9752a6699c8"
      },
      "outputs": [
        {
          "output_type": "stream",
          "name": "stdout",
          "text": [
            "Found existing installation: Fiona 1.8.10\n",
            "Uninstalling Fiona-1.8.10:\n",
            "  Successfully uninstalled Fiona-1.8.10\n"
          ]
        }
      ],
      "source": [
        "# деинсталляция пакета при помощи командной строки\n",
        "!pip uninstall fiona -y  # и пропустим диалог с подтверждением удаления"
      ]
    },
    {
      "cell_type": "code",
      "execution_count": null,
      "metadata": {
        "colab": {
          "base_uri": "https://localhost:8080/"
        },
        "id": "WalMvaRKU5dr",
        "outputId": "a1e2f139-dfb7-4073-fb6f-22e7052b08ed"
      },
      "outputs": [
        {
          "output_type": "stream",
          "name": "stdout",
          "text": [
            "Name: Fiona\n",
            "Version: 1.8.21\n",
            "Summary: Fiona reads and writes spatial data files\n",
            "Home-page: http://github.com/Toblerity/Fiona\n",
            "Author: Sean Gillies\n",
            "Author-email: sean.gillies@gmail.com\n",
            "License: BSD\n",
            "Location: /usr/local/lib/python3.7/dist-packages\n",
            "Requires: click-plugins, attrs, click, munch, cligj, certifi, six, setuptools\n",
            "Required-by: \n"
          ]
        }
      ],
      "source": [
        "# можно добавить условие на версию пакета при установке, все опции команды можно изучить на https://pip.pypa.io/en/stable/cli/pip_install/\n",
        "!pip install fiona>=1.8.10\n",
        "!pip show fiona"
      ]
    },
    {
      "cell_type": "code",
      "execution_count": null,
      "metadata": {
        "colab": {
          "base_uri": "https://localhost:8080/"
        },
        "id": "xFa-e4hAV2xP",
        "outputId": "04e4790a-45ad-4e25-85c2-20c0916b85ea"
      },
      "outputs": [
        {
          "output_type": "stream",
          "name": "stdout",
          "text": [
            "Found existing installation: Fiona 1.8.21\n",
            "Uninstalling Fiona-1.8.21:\n",
            "  Successfully uninstalled Fiona-1.8.21\n",
            "Пакет fiona успешно установлен\n",
            "1.8.10\n"
          ]
        }
      ],
      "source": [
        "!pip uninstall fiona -y\n",
        "# если непременно требуется установить пакет при выполнении кода,\n",
        "# то вот рекомендуемый пример кода, как это следует сделать\n",
        "import subprocess\n",
        "import sys\n",
        "\n",
        "\n",
        "def install_pip_package(package_name):\n",
        "  subprocess.check_call([sys.executable, \"-m\", \"pip\", \"install\", package_name])\n",
        "  print(f\"Пакет {package_name} успешно установлен\")\n",
        "\n",
        "install_pip_package(\"fiona\")\n",
        "print(fiona.__version__)"
      ]
    },
    {
      "cell_type": "markdown",
      "metadata": {
        "id": "484WkPuIqq5g"
      },
      "source": [
        "## 2. Объектно-ориентированное программирование\n"
      ]
    },
    {
      "cell_type": "markdown",
      "metadata": {
        "id": "fa6QU_vsAqIk"
      },
      "source": [
        "__Объектно-ориентированное программирование__ — методология программирования, основанная на представлении программы в виде совокупности объектов, каждый из которых является экземпляром определённого класса, а классы образуют иерархию наследования."
      ]
    },
    {
      "cell_type": "markdown",
      "metadata": {
        "id": "owNJ8EVJRpMo"
      },
      "source": [
        "### Синтаксис создания классов\n",
        "\n",
        "В целом синтаксис создания классов в python не отличается значительно от других языков, однако имеет определенные особенности."
      ]
    },
    {
      "cell_type": "code",
      "execution_count": null,
      "metadata": {
        "colab": {
          "base_uri": "https://localhost:8080/"
        },
        "id": "QD1lY0OcyeaG",
        "outputId": "a9ae6c8a-398f-4139-96c4-01dbc3bc5234"
      },
      "outputs": [
        {
          "name": "stdout",
          "output_type": "stream",
          "text": [
            "Circle: создается объект класса <class '__main__.Circle'>\n",
            "circ._radius: 10\n",
            "circ.pi:3.14\n",
            "Circle.pi:3.14\n",
            "circ.area(): 314.0\n",
            "circ.perimeter():62.800000000000004\n",
            "Circle: удаляется объект класса <class '__main__.Circle'>\n"
          ]
        }
      ],
      "source": [
        "#рассмотрим реализацию ООП в python на примерах\n",
        "class Circle: # задаем классу имя\n",
        "  # в теле класса объявляем классовые свойства и методы объектов\n",
        "  pi = 3.14 # свойство класса\n",
        "\n",
        "  def __init__(self,r): # инциализатор, единственный\n",
        "    print(f'Circle: создается объект класса {type(self)}')\n",
        "    # в конструкторе объявляем и инициализируем объектные свойства\n",
        "    self._radius = r # префикс _ означает аналог internal в С-подобных языках\n",
        "\n",
        "  def __del__(self): # деструктор, единственный\n",
        "    print(f'Circle: удаляется объект класса {type(self)}')\n",
        "  # метод экземляра класса\n",
        "  def area(self):\n",
        "    return self.pi*self._radius*self._radius\n",
        "\n",
        "  def perimeter(self):\n",
        "    return 2*self.pi*self._radius\n",
        "\n",
        "\n",
        "circ = Circle(10)\n",
        "print(f'circ._radius: {circ._radius}') # в некоторых средах исполнения это будет вызывать warning\n",
        "print(f'circ.pi:{circ.pi}') # классовое свойство присутствует в каждом экземпляре\n",
        "print(f'Circle.pi:{Circle.pi}') # а также доступно по имени класса\n",
        "print(f'circ.area(): {circ.area()}')\n",
        "print(f'circ.perimeter():{circ.perimeter()}')\n",
        "del circ"
      ]
    },
    {
      "cell_type": "code",
      "execution_count": null,
      "metadata": {
        "colab": {
          "base_uri": "https://localhost:8080/"
        },
        "outputId": "bfd929db-787d-4806-d435-def34f41be36",
        "id": "X3yVVW7UyweP"
      },
      "outputs": [
        {
          "output_type": "stream",
          "name": "stdout",
          "text": [
            "Circle: создается объект класса <class '__main__.Circle'>\n",
            "circ._radius: 10\n",
            "circ.pi:3.14\n",
            "Circle.pi:3.14\n",
            "circ.area(): 314.0\n",
            "circ.perimeter():62.800000000000004\n"
          ]
        }
      ],
      "source": [
        "#рассмотрим реализацию ООП в python на примерах\n",
        "class Circle: # задаем классу имя\n",
        "  # в теле класса объявляем классовые свойства и методы объектов\n",
        "  pi = 3.14 # свойство класса\n",
        "\n",
        "  def __init__(self,r): # инциализатор, единственный\n",
        "    print(f'Circle: создается объект класса {type(self)}')\n",
        "    # в конструкторе объявляем и инициализируем объектные свойства\n",
        "    self._radius = r # префикс _ означает аналог internal в С-подобных языках\n",
        "\n",
        "  def area(self):\n",
        "    return self.pi*self._radius*self._radius\n",
        "\n",
        "  def perimeter(self):\n",
        "    return 2*self.pi*self._radius\n",
        "\n",
        "\n",
        "circ = Circle(10)\n",
        "print(f'circ._radius: {circ._radius}') # в некоторых средах исполнения это будет вызывать warning\n",
        "print(f'circ.pi:{circ.pi}') # классовое свойство присутствует в каждом экземпляре\n",
        "print(f'Circle.pi:{Circle.pi}') # а также доступно по имени класса\n",
        "print(f'circ.area(): {circ.area()}')\n",
        "print(f'circ.perimeter():{circ.perimeter()}')"
      ]
    },
    {
      "cell_type": "code",
      "execution_count": null,
      "metadata": {
        "colab": {
          "base_uri": "https://localhost:8080/"
        },
        "id": "2pdIYxD3JQgP",
        "outputId": "ed2aea54-98ab-4ae2-e4c0-7d57de81b4eb"
      },
      "outputs": [
        {
          "output_type": "stream",
          "name": "stdout",
          "text": [
            "Rectangle: создается объект класса <class '__main__.Rectangle'>\n",
            "длина: 5, ширина: 7\n",
            "rect.area(): 200\n",
            "rect.perimeter(): 60\n",
            "\n",
            "я класс Rectangle\n",
            "\n",
            "площадь = ширина * длина\n",
            "периметр =  2 *(ширина + длина)\n",
            "\n",
            "площадь = ширина * длина\n",
            "периметр =  2 *(ширина + длина)\n",
            "\n",
            "площадь = 132\n",
            "периметр = 46\n",
            "\n",
            "Rectangle: удаляется объект класса <class '__main__.Rectangle'>\n"
          ]
        }
      ],
      "source": [
        "class Rectangle:\n",
        "  def __init__(self, a, b):\n",
        "    print(f'Rectangle: создается объект класса {type(self)}')\n",
        "    self.__length = a # префикс __ означает аналог protected в С-подобных языках\n",
        "    self.__width = b\n",
        "\n",
        "  def get_length(self):\n",
        "    return self.__length\n",
        "  @property # это организуется декораторами\n",
        "  def length(self): # это геттер\n",
        "    return self.__length\n",
        "\n",
        "  def set_length(self,value):\n",
        "    self.__length = value\n",
        "  @length.setter # это сеттер\n",
        "  def length(self,value):\n",
        "    if isinstance(value, int) and value > 0:\n",
        "      self.__length = value\n",
        "    else:\n",
        "      raise Exception()\n",
        "\n",
        "  # для работы с защищенным свойством можно использовать проперти\n",
        "\n",
        "\n",
        "\n",
        "  @property\n",
        "  def width(self):\n",
        "    return self.__width\n",
        "  @width.setter\n",
        "  def width(self,value):\n",
        "    self.__width = value\n",
        "\n",
        "  def __del__(self):\n",
        "    print(f'Rectangle: удаляется объект класса {type(self)}')\n",
        "\n",
        "  def area(self):\n",
        "    return self.__length * self.__width\n",
        "\n",
        "  def perimeter(self):\n",
        "    return 2*(self.__length + self.__width)\n",
        "\n",
        "  # для создания статических методов используется специальный декоратор\n",
        "  @staticmethod\n",
        "  def formulae():\n",
        "    print(\"площадь = ширина * длина\")\n",
        "    print(\"периметр =  2 *(ширина + длина)\\n\")\n",
        "\n",
        "  # для создания классовых методов используется специальный декторатор\n",
        "  @classmethod\n",
        "  def info(cls):\n",
        "    print(f'я класс {cls.__name__}\\n')\n",
        "\n",
        "  # дает возможность вызвать экземляр как метод\n",
        "  def __call__(self, a, b):\n",
        "\n",
        "   print(f\"площадь = {a*b}\")\n",
        "   print(f\"периметр = {2*(a+b)}\\n\")\n",
        "\n",
        "\n",
        "rect = Rectangle(5,7)\n",
        "# обращение к защищенным свойствам через публичное проперти\n",
        "print(f'длина: {rect.length}, ширина: {rect.width}') # отработал геттер\n",
        "rect.set_length(10)\n",
        "rect.length = 10 # отработал сеттер\n",
        "rect.width = 20\n",
        "# методы экземпляра доступны только через экземпляр\n",
        "print(f'rect.area(): {rect.area()}')\n",
        "print(f'rect.perimeter(): {rect.perimeter()}\\n')\n",
        "# методы класса доступны только через имя класса\n",
        "Rectangle.info()\n",
        "# статические методы доступны и через имя класса, и через экземпляр\n",
        "Rectangle.formulae()\n",
        "rect.formulae()\n",
        "# использование __call__ позволяет осуществить такой вызов\n",
        "rect(11, 12)\n",
        "del rect"
      ]
    },
    {
      "cell_type": "code",
      "execution_count": null,
      "metadata": {
        "colab": {
          "base_uri": "https://localhost:8080/"
        },
        "id": "npJVuTysZnWJ",
        "outputId": "b647edc6-e943-4c2f-c436-b57d1b3e173c"
      },
      "outputs": [
        {
          "name": "stdout",
          "output_type": "stream",
          "text": [
            "я такой один\n",
            "True\n"
          ]
        }
      ],
      "source": [
        "class Singleton:\n",
        "  obj = None\n",
        "  # конструктор, вызывается до инициализатора\n",
        "  def __new__(cls, *dt, **mp):\n",
        "    if cls.obj is None:\n",
        "      cls.obj = object.__new__(cls, *dt, **mp)\n",
        "    return cls.obj\n",
        "\n",
        "# в данном примере реализован паттерн проектирования одиночка, в итоге экземпляр такого класса будет всегда единственным\n",
        "singleton0 = Singleton()\n",
        "singleton0.obj = 'я такой один'\n",
        "singleton1 = Singleton()\n",
        "print(singleton1.obj)\n",
        "print(singleton1 is singleton0)"
      ]
    },
    {
      "cell_type": "markdown",
      "metadata": {
        "id": "Uj7lSBKtXSIq"
      },
      "source": [
        "### Принципы ООП в python"
      ]
    },
    {
      "cell_type": "markdown",
      "metadata": {
        "id": "NIaAldsnqu4x"
      },
      "source": [
        "__Инкапсуляция__ – это принцип, предполагающий возможность объединить данные и методы, работающие с ними, в классе и скрыть детали реализации от пользователя.  \n",
        "__Наследование__ - это принцип, предполагающий, что класс может приобретать свойства и методы другого.  \n",
        "__Полиморфизм__ - это принцип, предполагающий использование одного и того же имени свойств/методов для решения нескольких схожих, но технически разных задач.  "
      ]
    },
    {
      "cell_type": "markdown",
      "metadata": {
        "id": "aXgCOSjyXkcS"
      },
      "source": [
        "#### Инкапсуляция\n",
        "\n",
        "Инкапсуляция в python реализована весьма формально - за счет префиксов _ и __\n",
        "\n"
      ]
    },
    {
      "cell_type": "code",
      "execution_count": null,
      "metadata": {
        "colab": {
          "base_uri": "https://localhost:8080/"
        },
        "id": "Pfdhqh-xIhU-",
        "outputId": "debaf995-2b5e-4de8-8f63-960c7bce9b5c"
      },
      "outputs": [
        {
          "name": "stdout",
          "output_type": "stream",
          "text": [
            "я внутренний метод\n",
            "type object 'ClassWithPrivateMethods' has no attribute '__ProtectedMethod'\n"
          ]
        }
      ],
      "source": [
        "class ClassWithPrivateMethods:\n",
        "  @staticmethod\n",
        "  def _InternalMethod():\n",
        "    print('я внутренний метод')\n",
        "  @staticmethod\n",
        "  def __ProtectedMethod():\n",
        "    print('я защищенный метод')\n",
        "\n",
        "ClassWithPrivateMethods._InternalMethod()\n",
        "try:\n",
        "  ClassWithPrivateMethods.__ProtectedMethod()\n",
        "except Exception as e:\n",
        "  print(e)\n"
      ]
    },
    {
      "cell_type": "markdown",
      "metadata": {
        "id": "v-2p0diiXlNe"
      },
      "source": [
        "#### Наследование\n",
        " В python есть возможность множественного наследования"
      ]
    },
    {
      "cell_type": "code",
      "execution_count": null,
      "metadata": {
        "colab": {
          "base_uri": "https://localhost:8080/"
        },
        "id": "D3pKHE5SXlhf",
        "outputId": "4a973497-2444-4e7e-d029-e956473e180c"
      },
      "outputs": [
        {
          "output_type": "stream",
          "name": "stdout",
          "text": [
            "Circle: создается объект класса <class '__main__.Cylinder'>\n",
            "Rectangle: создается объект класса <class '__main__.Cylinder'>\n",
            "ширина: 14\n",
            "длина: 10\n",
            "радиус: 7\n",
            "Rectangle: удаляется объект класса <class '__main__.Cylinder'>\n"
          ]
        }
      ],
      "source": [
        "class Cylinder(Circle,Rectangle):\n",
        "  def __init__(self,h,r):\n",
        "    Circle.__init__(self,r)\n",
        "    Rectangle.__init__(self,10,2*r)\n",
        "\n",
        "  # получаем доступ к проперти родительского класса\n",
        "  @property\n",
        "  def length(self):\n",
        "    return Rectangle.length\n",
        "  @Rectangle.length.setter\n",
        "  def length(self, l):\n",
        "    Rectangle.length = l\n",
        "\n",
        "  @property\n",
        "  def width(self):\n",
        "    return Rectangle.width\n",
        "  @Rectangle.width.setter\n",
        "  def width(self, w):\n",
        "    Rectangle.width = w\n",
        "\n",
        "cyl = Cylinder(10,7)\n",
        "print(f'ширина: {cyl.width}')\n",
        "print(f'длина: {cyl.length}')\n",
        "print(f'радиус: {cyl._radius}')"
      ]
    },
    {
      "cell_type": "markdown",
      "metadata": {
        "id": "mxRH7DkGXlp-"
      },
      "source": [
        "#### Полиморфизм\n",
        "Все методы в python являются виртуальными"
      ]
    },
    {
      "cell_type": "code",
      "execution_count": null,
      "metadata": {
        "colab": {
          "base_uri": "https://localhost:8080/"
        },
        "id": "jB6C-KmnXl4e",
        "outputId": "b684e8d4-f6f0-44a3-b1cf-4180ed47b5c1"
      },
      "outputs": [
        {
          "name": "stdout",
          "output_type": "stream",
          "text": [
            "Circle: создается объект класса <class '__main__.Cylinder'>\n",
            "Rectangle: создается объект класса <class '__main__.Cylinder'>\n",
            "Circle: удаляется объект класса <class '__main__.Cylinder'>\n",
            "площадь поверхности: 747.32\n"
          ]
        }
      ],
      "source": [
        "class Cylinder(Circle,Rectangle):\n",
        "  def __init__(self,h,r):\n",
        "    Circle.__init__(self,r)\n",
        "    Rectangle.__init__(self,10,2*r)\n",
        "\n",
        "  # получаем доступ к проперти родительского класса\n",
        "  @property\n",
        "  def length(self):\n",
        "    return Rectangle.length\n",
        "  @Rectangle.length.setter\n",
        "  def length(self, l):\n",
        "    Rectangle.length = l\n",
        "\n",
        "  @property\n",
        "  def width(self):\n",
        "    return Rectangle.width\n",
        "  @Rectangle.width.setter\n",
        "  def width(self, w):\n",
        "    Rectangle.width = w\n",
        "  # поскольку все методы объектов в python являются виртуальными, их можно перегружать\n",
        "  def area(self):\n",
        "    return Cylinder.__bases__[0].area(self)*2 + Cylinder.__bases__[0].pi * Cylinder.__bases__[1].area(self) # при этом можно достучаться до методов родительских классов\n",
        "\n",
        "cyl = Cylinder(10,7)\n",
        "print(f'площадь поверхности: {cyl.area()}')"
      ]
    },
    {
      "cell_type": "markdown",
      "metadata": {
        "id": "H2RvteqJtuuT"
      },
      "source": [
        "### Несколько способов выстрелить себе в ногу"
      ]
    },
    {
      "cell_type": "code",
      "execution_count": null,
      "metadata": {
        "colab": {
          "base_uri": "https://localhost:8080/"
        },
        "id": "Z65gt8m_eLGo",
        "outputId": "47bcc6d5-d8af-42a8-bac5-1daa37adfaad"
      },
      "outputs": [
        {
          "name": "stdout",
          "output_type": "stream",
          "text": [
            "object.method(10) = 30\n",
            "object.method(10) = 20\n",
            "'SomeClass' object has no attribute 'method'\n"
          ]
        }
      ],
      "source": [
        "# классы в python могут изменяться динамически после определения\n",
        "# что предоставляет широкий простор для трудноотслеживаемых багов\n",
        "class SomeClass:\n",
        "  def method(self, parameter):\n",
        "    return parameter*3\n",
        "\n",
        "\n",
        "def someFunction(self,parameter):\n",
        "  return parameter*2\n",
        "\n",
        "# например, переопределить метод класса в ходе работы программы\n",
        "object = SomeClass()\n",
        "print(f'object.method(10) = {object.method(10)}')\n",
        "SomeClass.method = someFunction\n",
        "print(f'object.method(10) = {object.method(10)}')\n",
        "# или вообще его удалить\n",
        "del SomeClass.method\n",
        "try:\n",
        "  object.method(10)\n",
        "except Exception as e:\n",
        "  print(e)"
      ]
    },
    {
      "cell_type": "code",
      "execution_count": null,
      "metadata": {
        "colab": {
          "base_uri": "https://localhost:8080/"
        },
        "id": "UBskfPRvhAnk",
        "outputId": "d231a4d8-8808-402e-978b-99110ef0839b"
      },
      "outputs": [
        {
          "output_type": "stream",
          "name": "stdout",
          "text": [
            "SomeClass.classAttrubute = 1\n",
            "someClass.classAttrubute = 2\n",
            "SomeClass.classAttrubute = 4.5\n",
            "someClass.classAttrubute = 2\n"
          ]
        }
      ],
      "source": [
        "# свойства, указанные вне __init__ считаются свойствами класса\n",
        "# что предоставляет широкий простор для трудноотслеживаемых багов\n",
        "class SomeClass:\n",
        "  #свойство класса\n",
        "  classAttrubute = 1\n",
        "\n",
        "  def __init__(self, attr):\n",
        "    #свойство объекта\n",
        "    self.objectAttribute = attr\n",
        "#особенно если называть экземпляры вот так\n",
        "someClass = SomeClass('zero')\n",
        "someClass.classAttrubute = 2 # классовое свойство и свойство экзмепляра связаны\n",
        "print(f'SomeClass.classAttrubute = {SomeClass.classAttrubute}')\n",
        "print(f'someClass.classAttrubute = {someClass.classAttrubute}')\n",
        "SomeClass.classAttrubute = 4.5 # совершенно никак, как можно убедиться тут\n",
        "print(f'SomeClass.classAttrubute = {SomeClass.classAttrubute}')\n",
        "print(f'someClass.classAttrubute = {someClass.classAttrubute}')"
      ]
    },
    {
      "cell_type": "code",
      "execution_count": null,
      "metadata": {
        "colab": {
          "base_uri": "https://localhost:8080/"
        },
        "id": "o_iHBYr4nYnQ",
        "outputId": "e42d0d42-3576-4dab-efd8-0c79f5f2a984"
      },
      "outputs": [
        {
          "output_type": "stream",
          "name": "stdout",
          "text": [
            "10\n",
            "20\n",
            "30\n"
          ]
        }
      ],
      "source": [
        "# все свойства классов в python по умолчанию публичные\n",
        "# префикс _ согласно PEP8 намекает, что свойство внутреннее, но оно останется публичным\n",
        "# c префиксом __ свойство действительно станет приватным\n",
        "class SomeClass:\n",
        "  def __init__(self, publicAttr, privateAttr, anotherPrivateAttr):\n",
        "    self.publicAttribute = publicAttr\n",
        "    self._privateAttrribute = privateAttr\n",
        "    self.__anotherPrivateAttribute = anotherPrivateAttr\n",
        "\n",
        "object = SomeClass(10, 20, 30)\n",
        "print(object.publicAttribute)\n",
        "print(object._privateAttrribute)\n",
        "# только до его значения все равно можно легко добраться, потому что имя свойства просто маскируется именем класса\n",
        "print(object._SomeClass__anotherPrivateAttribute)"
      ]
    },
    {
      "cell_type": "code",
      "execution_count": null,
      "metadata": {
        "colab": {
          "base_uri": "https://localhost:8080/"
        },
        "id": "Ngs4Ko42fL85",
        "outputId": "06d0fef8-c93a-45d8-b955-4aec93889901"
      },
      "outputs": [
        {
          "name": "stdout",
          "output_type": "stream",
          "text": [
            "10\n",
            "20\n",
            "'SomeClass' object has no attribute '_SomeClass__privateAttribute'\n",
            "30\n"
          ]
        }
      ],
      "source": [
        "# при использовании разных декораторов имена вызываемых методов могут совпадать\n",
        "# что предоставляет широкий простор для трудноотслеживаемых багов\n",
        "class SomeClass:\n",
        "  def __init__(self, privateAttr):\n",
        "    self.__privateAttribute = privateAttr\n",
        "\n",
        "  @property\n",
        "  def attribute(self):\n",
        "    return self.__privateAttribute\n",
        "\n",
        "  @attribute.setter\n",
        "  def attribute(self,privateAttr):\n",
        "    self.__privateAttribute = privateAttr\n",
        "\n",
        "  @attribute.deleter\n",
        "  def attribute(self):\n",
        "    del self.__privateAttribute\n",
        "\n",
        "\n",
        "object = SomeClass(10)\n",
        "print(f'{object.attribute}')\n",
        "object.attribute = 20\n",
        "print(f'{object.attribute}')\n",
        "del object.attribute\n",
        "try:\n",
        "  print(f'{object.attribute}')\n",
        "except Exception as e:\n",
        "  print(e)\n",
        "object.attribute = 30\n",
        "print(f'{object.attribute}')\n"
      ]
    },
    {
      "cell_type": "markdown",
      "metadata": {
        "id": "IvIQ5RxoqrIH"
      },
      "source": [
        "##3. Работа с исключениями"
      ]
    },
    {
      "cell_type": "markdown",
      "metadata": {
        "id": "enCotKBL0L_r"
      },
      "source": [
        " __Исключения__ — это конструкция языка позволяющая управлять потоком выполнения."
      ]
    },
    {
      "cell_type": "code",
      "execution_count": null,
      "metadata": {
        "colab": {
          "base_uri": "https://localhost:8080/",
          "height": 841
        },
        "id": "xQMIf2QF0MHD",
        "outputId": "6209aa7e-38a2-4db7-bba7-0eb0d7b5caa6"
      },
      "outputs": [
        {
          "data": {
            "text/html": [
              "<img src='https://i.imgur.com/AenGQYk.png' height=\"800\"/>"
            ],
            "text/plain": [
              "<IPython.core.display.HTML object>"
            ]
          },
          "metadata": {},
          "output_type": "display_data"
        }
      ],
      "source": [
        "%%html\n",
        "<img src='https://i.imgur.com/AenGQYk.png' height=\"800\"/>"
      ]
    },
    {
      "cell_type": "code",
      "execution_count": null,
      "metadata": {
        "colab": {
          "base_uri": "https://localhost:8080/"
        },
        "id": "tIyVlmb74XNm",
        "outputId": "696d74d4-f1d2-4785-87c9-b4b94e367361"
      },
      "outputs": [
        {
          "output_type": "stream",
          "name": "stdout",
          "text": [
            "Не дели на ноль!\n"
          ]
        }
      ],
      "source": [
        "# голое исключение - такая обработка исключений не рекомендуется\n",
        "try:\n",
        "    1 / 0\n",
        "except:\n",
        "    print(\"Не дели на ноль!\")"
      ]
    },
    {
      "cell_type": "code",
      "execution_count": null,
      "metadata": {
        "colab": {
          "base_uri": "https://localhost:8080/"
        },
        "id": "_g2dKtEm5Ouh",
        "outputId": "74fa1cb4-6835-4f78-a4aa-9834d4305a78"
      },
      "outputs": [
        {
          "output_type": "stream",
          "name": "stdout",
          "text": [
            "<class 'ZeroDivisionError'>:division by zero\n"
          ]
        }
      ],
      "source": [
        "# можно вывести сообщение о возникшей ошибке\n",
        "try:\n",
        "    1 / 0\n",
        "except Exception as e:\n",
        "  print(f'{type(e)}:{e}')"
      ]
    },
    {
      "cell_type": "code",
      "execution_count": null,
      "metadata": {
        "colab": {
          "base_uri": "https://localhost:8080/"
        },
        "id": "nqYlrs-_6Nof",
        "outputId": "b733ef66-d5d8-4628-ca9e-b40ce06f34c6"
      },
      "outputs": [
        {
          "output_type": "stream",
          "name": "stdout",
          "text": [
            "Делишь на ноль!\n",
            "Такого ключа нет!\n",
            "Индекс вне границ массива!\n"
          ]
        }
      ],
      "source": [
        "# хорошим тоном считается обработка ожидаемого типа исключения\n",
        "sample_dict = {\"a\":1, \"b\":2, \"c\":3}\n",
        "sample_list = [1, 2, 3, 4, 5]\n",
        "try:\n",
        "    1 / 0\n",
        "except ZeroDivisionError:\n",
        "    print(\"Делишь на ноль!\")\n",
        "\n",
        "try:\n",
        "    val = sample_dict[\"d\"]\n",
        "except KeyError:\n",
        "    print(\"Такого ключа нет!\")\n",
        "\n",
        "try:\n",
        "    sample_list[6]\n",
        "except IndexError:\n",
        "    print(\"Индекс вне границ массива!\")"
      ]
    },
    {
      "cell_type": "code",
      "execution_count": null,
      "metadata": {
        "colab": {
          "base_uri": "https://localhost:8080/"
        },
        "id": "zJjGD6_97JPI",
        "outputId": "dff82236-6dae-4292-91fe-eaf1fadcc646"
      },
      "outputs": [
        {
          "name": "stdout",
          "output_type": "stream",
          "text": [
            "Такого ключа нет!\n"
          ]
        }
      ],
      "source": [
        "# можно обрабатывать исключения различных типов на одном участке кода\n",
        "try:\n",
        "    val = sample_dict[\"d\"]\n",
        "except ZeroDivisionError:\n",
        "    print(\"Делишь на ноль!\")\n",
        "except KeyError:\n",
        "    print(\"Такого ключа нет!\")\n",
        "except IndexError:\n",
        "    print(\"Индекс вне границ массива!\")"
      ]
    },
    {
      "cell_type": "code",
      "execution_count": null,
      "metadata": {
        "colab": {
          "base_uri": "https://localhost:8080/"
        },
        "id": "bYBVnYCp9KSN",
        "outputId": "be0e432d-d871-45d3-d2fb-47bbf622973e"
      },
      "outputs": [
        {
          "name": "stdout",
          "output_type": "stream",
          "text": [
            "Делишь на ноль!\n",
            "Мне все равно, делишь ты на ноль или нет!\n"
          ]
        }
      ],
      "source": [
        "#else исполняется, если исключения не случилось\n",
        "#finally выполняется в любом случае\n",
        "try:\n",
        "    1 / 0\n",
        "except ZeroDivisionError:\n",
        "    print(\"Делишь на ноль!\")\n",
        "else:\n",
        "  print(\"Не делишь на ноль!\")\n",
        "finally:\n",
        "  print(\"Мне все равно, делишь ты на ноль или нет!\")"
      ]
    },
    {
      "cell_type": "code",
      "execution_count": null,
      "metadata": {
        "colab": {
          "base_uri": "https://localhost:8080/"
        },
        "id": "RK_ZwgpZDVGv",
        "outputId": "b6914d93-c8f6-405c-eb44-475741cf6838"
      },
      "outputs": [
        {
          "output_type": "stream",
          "name": "stdout",
          "text": [
            "Введите целое число от 1 до 10: 55\n",
            "Будьте внимательны: Число лежит вне интервала [1; 10]!\n"
          ]
        }
      ],
      "source": [
        "MIN = 1\n",
        "MAX = 10\n",
        "\n",
        "try:\n",
        "    x = int(input(\"Введите целое число от {} до {}: \".format(MIN, MAX)))\n",
        "\n",
        "    if not MIN <= x <= MAX:\n",
        "        # Возбудив исключение, его можно будет обработать в except\n",
        "        # вместе с другими похожими исключениями\n",
        "        raise ValueError(\"Число лежит вне интервала [{}; {}]!\".format(MIN, MAX))\n",
        "\n",
        "    print(\"Спасибо!\")\n",
        "except ValueError as err:  # 'err' содержит ссылку на исключение\n",
        "    print(\"Будьте внимательны:\", err)"
      ]
    },
    {
      "cell_type": "code",
      "execution_count": null,
      "metadata": {
        "colab": {
          "base_uri": "https://localhost:8080/"
        },
        "id": "048v42npDbtG",
        "outputId": "ba057805-15a4-4284-b14b-ab38ef9f2d7e"
      },
      "outputs": [
        {
          "output_type": "stream",
          "name": "stdout",
          "text": [
            "--------------------------------------------------\n",
            "Запущена функция: get_1_x\n",
            "Произошла ошибка: division by zero.\n",
            "--------------------------------------------------\n",
            "Запущена функция: get_2_x\n",
            "Внутри произошла ошибка... division by zero\n",
            "None\n",
            "--------------------------------------------------\n",
            "Запущена функция: get_3_x\n",
            "Внутри произошла ошибка... division by zero\n",
            "Произошла ошибка: division by zero.\n"
          ]
        }
      ],
      "source": [
        "def get_1_x(x):\n",
        "    \"\"\"Вернуть 1/x.\n",
        "\n",
        "    Функция не обрабатывает исключения - ответственность на вызывающем коде.\n",
        "    \"\"\"\n",
        "    return 1/x\n",
        "\n",
        "\n",
        "def get_2_x(x):\n",
        "    \"\"\"Вернуть 2/x.\n",
        "\n",
        "    Функция обрабатывает исключения, \"затушив\" ошибку - вызывающий код\n",
        "    не будет знать, сработала функция правильно или нет.\n",
        "\n",
        "    Данный способ использовать не рекомендуется!\n",
        "    \"\"\"\n",
        "    try:\n",
        "        return 2/x\n",
        "    except Exception as e:\n",
        "        print(\"Внутри произошла ошибка...\", e)\n",
        "\n",
        "\n",
        "def get_3_x(x):\n",
        "    \"\"\"Вернуть 3/x.\n",
        "\n",
        "    Функция не только обрабатывает исключения, но перевозбуждает его:\n",
        "    в результате вызывающий так же получает возникшее исключение.\n",
        "\n",
        "    Внутренняя обработка исключений может быть полезна, если в целом результат\n",
        "    функции не связан с внутренней ошибкой.\n",
        "    \"\"\"\n",
        "    try:\n",
        "        return 3/x\n",
        "    except Exception as e:\n",
        "        print(\"Внутри произошла ошибка...\", e)\n",
        "        raise\n",
        "\n",
        "funcs = (get_1_x, get_2_x, get_3_x)\n",
        "# Вызываем каждую функцию с \"ошибочным\" параметром\n",
        "for func in funcs:\n",
        "    try:\n",
        "        print(\"-\" * 50)\n",
        "        print(\"Запущена функция:\", func.__name__)\n",
        "        print(func(0))\n",
        "    except Exception as e:\n",
        "        print(\"Произошла ошибка: {}.\".format(e))\n"
      ]
    },
    {
      "cell_type": "code",
      "execution_count": null,
      "metadata": {
        "colab": {
          "base_uri": "https://localhost:8080/",
          "height": 383
        },
        "id": "P-HsdihJBHeQ",
        "outputId": "eed068d2-2dd9-4537-d9b6-261f11fb514e"
      },
      "outputs": [
        {
          "output_type": "stream",
          "name": "stdout",
          "text": [
            "[2]\n"
          ]
        },
        {
          "output_type": "error",
          "ename": "AssertionError",
          "evalue": "ignored",
          "traceback": [
            "\u001b[0;31m---------------------------------------------------------------------------\u001b[0m",
            "\u001b[0;31mAssertionError\u001b[0m                            Traceback (most recent call last)",
            "\u001b[0;32m<ipython-input-25-9468eb6ccf76>\u001b[0m in \u001b[0;36m<module>\u001b[0;34m\u001b[0m\n\u001b[1;32m      8\u001b[0m \u001b[0;34m\u001b[0m\u001b[0m\n\u001b[1;32m      9\u001b[0m \u001b[0mprint\u001b[0m\u001b[0;34m(\u001b[0m\u001b[0madd_to_list\u001b[0m\u001b[0;34m(\u001b[0m\u001b[0;36m2\u001b[0m\u001b[0;34m,\u001b[0m \u001b[0;34m[\u001b[0m\u001b[0;34m]\u001b[0m\u001b[0;34m)\u001b[0m\u001b[0;34m)\u001b[0m\u001b[0;34m\u001b[0m\u001b[0;34m\u001b[0m\u001b[0m\n\u001b[0;32m---> 10\u001b[0;31m \u001b[0mprint\u001b[0m\u001b[0;34m(\u001b[0m\u001b[0madd_to_list\u001b[0m\u001b[0;34m(\u001b[0m\u001b[0;36m2\u001b[0m\u001b[0;34m,\u001b[0m \u001b[0;34m[\u001b[0m\u001b[0;36m1\u001b[0m\u001b[0;34m,\u001b[0m \u001b[0;36m2\u001b[0m\u001b[0;34m]\u001b[0m\u001b[0;34m)\u001b[0m\u001b[0;34m)\u001b[0m\u001b[0;34m\u001b[0m\u001b[0;34m\u001b[0m\u001b[0m\n\u001b[0m",
            "\u001b[0;32m<ipython-input-25-9468eb6ccf76>\u001b[0m in \u001b[0;36madd_to_list\u001b[0;34m(x, lst)\u001b[0m\n\u001b[1;32m      2\u001b[0m     \u001b[0;31m# Использование assert здесь оправдано - список всегда\u001b[0m\u001b[0;34m\u001b[0m\u001b[0;34m\u001b[0m\u001b[0;34m\u001b[0m\u001b[0m\n\u001b[1;32m      3\u001b[0m     \u001b[0;31m# подразумевается пустым\u001b[0m\u001b[0;34m\u001b[0m\u001b[0;34m\u001b[0m\u001b[0;34m\u001b[0m\u001b[0m\n\u001b[0;32m----> 4\u001b[0;31m     \u001b[0;32massert\u001b[0m \u001b[0mlen\u001b[0m\u001b[0;34m(\u001b[0m\u001b[0mlst\u001b[0m\u001b[0;34m)\u001b[0m \u001b[0;34m==\u001b[0m \u001b[0;36m0\u001b[0m\u001b[0;34m,\u001b[0m \u001b[0;34m\"Список должен быть пуст!\"\u001b[0m\u001b[0;34m\u001b[0m\u001b[0;34m\u001b[0m\u001b[0m\n\u001b[0m\u001b[1;32m      5\u001b[0m \u001b[0;34m\u001b[0m\u001b[0m\n\u001b[1;32m      6\u001b[0m     \u001b[0mlst\u001b[0m\u001b[0;34m.\u001b[0m\u001b[0mappend\u001b[0m\u001b[0;34m(\u001b[0m\u001b[0mx\u001b[0m\u001b[0;34m)\u001b[0m\u001b[0;34m\u001b[0m\u001b[0;34m\u001b[0m\u001b[0m\n",
            "\u001b[0;31mAssertionError\u001b[0m: Список должен быть пуст!"
          ]
        }
      ],
      "source": [
        "def add_to_list(x, lst):\n",
        "    # Использование assert здесь оправдано - список всегда\n",
        "    # подразумевается пустым\n",
        "    assert len(lst) == 0, \"Список должен быть пуст!\"\n",
        "\n",
        "    lst.append(x)\n",
        "    return lst\n",
        "\n",
        "print(add_to_list(2, []))\n",
        "print(add_to_list(2, [1, 2]))"
      ]
    },
    {
      "cell_type": "code",
      "execution_count": null,
      "metadata": {
        "id": "BjISzUjJBH2d"
      },
      "outputs": [],
      "source": []
    },
    {
      "cell_type": "markdown",
      "metadata": {
        "id": "6CLEH5ziqrc3"
      },
      "source": [
        "##4. Проверка типов"
      ]
    },
    {
      "cell_type": "markdown",
      "metadata": {
        "id": "yi_Irc3CNqCu"
      },
      "source": [
        "Несмотря на то, что python - язык с динамической типизацией, может возникнуть необходимость проверки типов.  \n",
        "Для этой задачи существует [__mypy__](https://mypy.readthedocs.io/en/stable/) - открыто разрабатываемый статический анализатор кода, обеспечивающий проверку и аннотирование типов в python.  "
      ]
    },
    {
      "cell_type": "markdown",
      "metadata": {
        "id": "E1v81QEOCbiP"
      },
      "source": [
        "####Mypy в Colab"
      ]
    },
    {
      "cell_type": "code",
      "execution_count": null,
      "metadata": {
        "colab": {
          "base_uri": "https://localhost:8080/"
        },
        "id": "uw4wVXf1-pUZ",
        "outputId": "323ab522-d5bf-4135-bdfd-6589dc5cb0cd"
      },
      "outputs": [
        {
          "output_type": "stream",
          "name": "stdout",
          "text": [
            "Looking in indexes: https://pypi.org/simple, https://us-python.pkg.dev/colab-wheels/public/simple/\n",
            "Collecting mypy\n",
            "  Downloading mypy-0.981-cp37-cp37m-manylinux_2_17_x86_64.manylinux2014_x86_64.whl (15.1 MB)\n",
            "\u001b[K     |████████████████████████████████| 15.1 MB 23.8 MB/s \n",
            "\u001b[?25hRequirement already satisfied: typing-extensions>=3.10 in /usr/local/lib/python3.7/dist-packages (from mypy) (4.1.1)\n",
            "Collecting mypy-extensions>=0.4.3\n",
            "  Downloading mypy_extensions-0.4.3-py2.py3-none-any.whl (4.5 kB)\n",
            "Collecting typed-ast<2,>=1.4.0\n",
            "  Downloading typed_ast-1.5.4-cp37-cp37m-manylinux_2_5_x86_64.manylinux1_x86_64.manylinux_2_12_x86_64.manylinux2010_x86_64.whl (843 kB)\n",
            "\u001b[K     |████████████████████████████████| 843 kB 56.7 MB/s \n",
            "\u001b[?25hRequirement already satisfied: tomli>=1.1.0 in /usr/local/lib/python3.7/dist-packages (from mypy) (2.0.1)\n",
            "Installing collected packages: typed-ast, mypy-extensions, mypy\n",
            "Successfully installed mypy-0.981 mypy-extensions-0.4.3 typed-ast-1.5.4\n"
          ]
        }
      ],
      "source": [
        "#чтобы оживить mypy в colab, необходима небольшая дополнительная работа\n",
        "!pip install mypy\n",
        "from IPython.core.magic import register_cell_magic\n",
        "from IPython import get_ipython\n",
        "from mypy import api\n",
        "\n",
        "@register_cell_magic\n",
        "def mypy(line, cell):\n",
        "  for output in api.run(['-c', '\\n' + cell] + line.split()):\n",
        "    if output and not output.startswith('Success'):\n",
        "      raise TypeError(output)\n",
        "  get_ipython().run_cell(cell)"
      ]
    },
    {
      "cell_type": "markdown",
      "metadata": {
        "id": "nyS103fTCo0J"
      },
      "source": [
        "####Аннотирование типов с помощью mypy"
      ]
    },
    {
      "cell_type": "code",
      "execution_count": null,
      "metadata": {
        "colab": {
          "base_uri": "https://localhost:8080/"
        },
        "id": "AikgB2FwEDZe",
        "outputId": "f49e5a84-7ae3-4d90-a10a-238dc33e32b7"
      },
      "outputs": [
        {
          "output_type": "stream",
          "name": "stdout",
          "text": [
            "<class 'int'>, 6\n",
            "<class 'float'>, 5.5\n",
            "<class 'list'>, [1]\n",
            "<class 'set'>, {6, 7}\n",
            "<class 'dict'>, {'ключ': 0.88}\n",
            "object<class '__main__.Square'>, field <class 'int'>, 10\n"
          ]
        }
      ],
      "source": [
        "%%mypy\n",
        "from typing import List, Set,Dict\n",
        "#аннотирование переменных - можно аннотировать двумя вариантами\n",
        "variable0: int = 6\n",
        "variable1 = 5.5  # type: float\n",
        "\n",
        "#аннотировать можно и коллекции\n",
        "list0: List[int] = [1]\n",
        "set0: Set[int] = {6, 7}\n",
        "dict0: Dict[str, float] = {'ключ':0.88}\n",
        "\n",
        "#и пользовательские классы\n",
        "class Square:\n",
        "  side: int\n",
        "  def __init__(self, a):\n",
        "    self.side = a\n",
        "\n",
        "square: Square = Square(10)\n",
        "\n",
        "print(f'{type(variable0)}, {variable0}')\n",
        "print(f'{type(variable1)}, {variable1}')\n",
        "print(f'{type(list0)}, {list0}')\n",
        "print(f'{type(set0)}, {set0}')\n",
        "print(f'{type(dict0)}, {dict0}')\n",
        "print(f'object{type(square)}, field {type(square.side)}, {square.side}')"
      ]
    },
    {
      "cell_type": "code",
      "execution_count": null,
      "metadata": {
        "id": "CyyWtAgaQPGC"
      },
      "outputs": [],
      "source": [
        "#без проверки типов\n",
        "variable0 = 1\n",
        "variable0 = 'a'"
      ]
    },
    {
      "cell_type": "code",
      "execution_count": null,
      "metadata": {
        "colab": {
          "base_uri": "https://localhost:8080/",
          "height": 389
        },
        "id": "J7758MwHQKzF",
        "outputId": "d588918f-00a6-4dd5-aa4e-e1cb6a030577"
      },
      "outputs": [
        {
          "output_type": "error",
          "ename": "TypeError",
          "evalue": "ignored",
          "traceback": [
            "\u001b[0;31m---------------------------------------------------------------------------\u001b[0m",
            "\u001b[0;31mTypeError\u001b[0m                                 Traceback (most recent call last)",
            "\u001b[0;32m<ipython-input-30-5256040406b0>\u001b[0m in \u001b[0;36m<module>\u001b[0;34m\u001b[0m\n\u001b[0;32m----> 1\u001b[0;31m \u001b[0mget_ipython\u001b[0m\u001b[0;34m(\u001b[0m\u001b[0;34m)\u001b[0m\u001b[0;34m.\u001b[0m\u001b[0mrun_cell_magic\u001b[0m\u001b[0;34m(\u001b[0m\u001b[0;34m'mypy'\u001b[0m\u001b[0;34m,\u001b[0m \u001b[0;34m''\u001b[0m\u001b[0;34m,\u001b[0m \u001b[0;34m\"variable0 = 1\\nvariable0 = 'a'\\n\"\u001b[0m\u001b[0;34m)\u001b[0m\u001b[0;34m\u001b[0m\u001b[0;34m\u001b[0m\u001b[0m\n\u001b[0m",
            "\u001b[0;32m/usr/local/lib/python3.7/dist-packages/IPython/core/interactiveshell.py\u001b[0m in \u001b[0;36mrun_cell_magic\u001b[0;34m(self, magic_name, line, cell)\u001b[0m\n\u001b[1;32m   2357\u001b[0m             \u001b[0;32mwith\u001b[0m \u001b[0mself\u001b[0m\u001b[0;34m.\u001b[0m\u001b[0mbuiltin_trap\u001b[0m\u001b[0;34m:\u001b[0m\u001b[0;34m\u001b[0m\u001b[0;34m\u001b[0m\u001b[0m\n\u001b[1;32m   2358\u001b[0m                 \u001b[0margs\u001b[0m \u001b[0;34m=\u001b[0m \u001b[0;34m(\u001b[0m\u001b[0mmagic_arg_s\u001b[0m\u001b[0;34m,\u001b[0m \u001b[0mcell\u001b[0m\u001b[0;34m)\u001b[0m\u001b[0;34m\u001b[0m\u001b[0;34m\u001b[0m\u001b[0m\n\u001b[0;32m-> 2359\u001b[0;31m                 \u001b[0mresult\u001b[0m \u001b[0;34m=\u001b[0m \u001b[0mfn\u001b[0m\u001b[0;34m(\u001b[0m\u001b[0;34m*\u001b[0m\u001b[0margs\u001b[0m\u001b[0;34m,\u001b[0m \u001b[0;34m**\u001b[0m\u001b[0mkwargs\u001b[0m\u001b[0;34m)\u001b[0m\u001b[0;34m\u001b[0m\u001b[0;34m\u001b[0m\u001b[0m\n\u001b[0m\u001b[1;32m   2360\u001b[0m             \u001b[0;32mreturn\u001b[0m \u001b[0mresult\u001b[0m\u001b[0;34m\u001b[0m\u001b[0;34m\u001b[0m\u001b[0m\n\u001b[1;32m   2361\u001b[0m \u001b[0;34m\u001b[0m\u001b[0m\n",
            "\u001b[0;32m<ipython-input-26-89a6d20c3a89>\u001b[0m in \u001b[0;36mmypy\u001b[0;34m(line, cell)\u001b[0m\n\u001b[1;32m      9\u001b[0m   \u001b[0;32mfor\u001b[0m \u001b[0moutput\u001b[0m \u001b[0;32min\u001b[0m \u001b[0mapi\u001b[0m\u001b[0;34m.\u001b[0m\u001b[0mrun\u001b[0m\u001b[0;34m(\u001b[0m\u001b[0;34m[\u001b[0m\u001b[0;34m'-c'\u001b[0m\u001b[0;34m,\u001b[0m \u001b[0;34m'\\n'\u001b[0m \u001b[0;34m+\u001b[0m \u001b[0mcell\u001b[0m\u001b[0;34m]\u001b[0m \u001b[0;34m+\u001b[0m \u001b[0mline\u001b[0m\u001b[0;34m.\u001b[0m\u001b[0msplit\u001b[0m\u001b[0;34m(\u001b[0m\u001b[0;34m)\u001b[0m\u001b[0;34m)\u001b[0m\u001b[0;34m:\u001b[0m\u001b[0;34m\u001b[0m\u001b[0;34m\u001b[0m\u001b[0m\n\u001b[1;32m     10\u001b[0m     \u001b[0;32mif\u001b[0m \u001b[0moutput\u001b[0m \u001b[0;32mand\u001b[0m \u001b[0;32mnot\u001b[0m \u001b[0moutput\u001b[0m\u001b[0;34m.\u001b[0m\u001b[0mstartswith\u001b[0m\u001b[0;34m(\u001b[0m\u001b[0;34m'Success'\u001b[0m\u001b[0;34m)\u001b[0m\u001b[0;34m:\u001b[0m\u001b[0;34m\u001b[0m\u001b[0;34m\u001b[0m\u001b[0m\n\u001b[0;32m---> 11\u001b[0;31m       \u001b[0;32mraise\u001b[0m \u001b[0mTypeError\u001b[0m\u001b[0;34m(\u001b[0m\u001b[0moutput\u001b[0m\u001b[0;34m)\u001b[0m\u001b[0;34m\u001b[0m\u001b[0;34m\u001b[0m\u001b[0m\n\u001b[0m\u001b[1;32m     12\u001b[0m   \u001b[0mget_ipython\u001b[0m\u001b[0;34m(\u001b[0m\u001b[0;34m)\u001b[0m\u001b[0;34m.\u001b[0m\u001b[0mrun_cell\u001b[0m\u001b[0;34m(\u001b[0m\u001b[0mcell\u001b[0m\u001b[0;34m)\u001b[0m\u001b[0;34m\u001b[0m\u001b[0;34m\u001b[0m\u001b[0m\n",
            "\u001b[0;31mTypeError\u001b[0m: <string>:3: error: Incompatible types in assignment (expression has type \"str\", variable has type \"int\")\nFound 1 error in 1 file (checked 1 source file)\n"
          ]
        }
      ],
      "source": [
        "# c проверкой типов\n",
        "%%mypy\n",
        "variable0 = 1\n",
        "variable0 = 'a'"
      ]
    },
    {
      "cell_type": "code",
      "execution_count": null,
      "metadata": {
        "colab": {
          "base_uri": "https://localhost:8080/"
        },
        "id": "xod769ZfEoz9",
        "outputId": "4ab5cc3e-78ab-4a48-eeb3-5f4fef35db9e"
      },
      "outputs": [
        {
          "output_type": "stream",
          "name": "stdout",
          "text": [
            "<class 'bool'>, True\n"
          ]
        }
      ],
      "source": [
        "%%mypy\n",
        "\n",
        "variable0 = 0\n",
        "variable1 = 1\n",
        "\n",
        "#можно аннотировать переменную до присвоения ей значения\n",
        "boolvar: bool\n",
        "if variable0 < variable1:\n",
        "    boolvar = True\n",
        "else:\n",
        "    boolvar = False\n",
        "\n",
        "print(f'{type(boolvar)}, {boolvar}')"
      ]
    },
    {
      "cell_type": "code",
      "source": [
        "%%mypy\n",
        "from typing import Union, Optional\n",
        "\n",
        "def function(x: int) -> Optional[float]:\n",
        "  return 1/x if x != 0 else None\n",
        "\n",
        "lst = [1, 2, 3, 0, 5]\n",
        "\n",
        "for element in lst:\n",
        "  result = function(element)\n",
        "  if result is None:\n",
        "    print(0)\n",
        "  else:\n",
        "    print(result)"
      ],
      "metadata": {
        "colab": {
          "base_uri": "https://localhost:8080/"
        },
        "id": "FY9aEP8_C6Kg",
        "outputId": "2a6b94bc-cd1a-4dfa-a400-860d26bd04c9"
      },
      "execution_count": null,
      "outputs": [
        {
          "output_type": "stream",
          "name": "stdout",
          "text": [
            "1.0\n",
            "0.5\n",
            "0.3333333333333333\n",
            "0\n",
            "0.2\n"
          ]
        }
      ]
    },
    {
      "cell_type": "code",
      "execution_count": null,
      "metadata": {
        "colab": {
          "base_uri": "https://localhost:8080/"
        },
        "id": "Lre-AIHM-kw8",
        "outputId": "95d5db45-f015-4870-9e90-e9f830f880fe"
      },
      "outputs": [
        {
          "output_type": "stream",
          "name": "stdout",
          "text": [
            "9\n"
          ]
        }
      ],
      "source": [
        "%%mypy\n",
        "from typing import Union, Optional\n",
        "#аннотирование функций Union[None, float] == Optional[float]\n",
        "def sample_function(x: Union[int, float]) -> Union[int, float]: #указываем тип  и для входных параметров, и для результирующего значения\n",
        "  return 3 * x\n",
        "\n",
        "print(sample_function(3))"
      ]
    },
    {
      "cell_type": "code",
      "execution_count": null,
      "metadata": {
        "colab": {
          "base_uri": "https://localhost:8080/"
        },
        "id": "1RbHEGMQHYrP",
        "outputId": "31fb3b09-0ef4-4909-e487-c3f0cf96a2ad"
      },
      "outputs": [
        {
          "name": "stdout",
          "output_type": "stream",
          "text": [
            "aaa\n"
          ]
        }
      ],
      "source": [
        "#если не использовать аннотирование\n",
        "print(sample_function('a'))"
      ]
    },
    {
      "cell_type": "code",
      "execution_count": null,
      "metadata": {
        "colab": {
          "base_uri": "https://localhost:8080/",
          "height": 306
        },
        "id": "tu23LDz2HNBG",
        "outputId": "6fc535bb-033d-4a1b-91b0-8dfb662a9caf"
      },
      "outputs": [
        {
          "ename": "TypeError",
          "evalue": "ignored",
          "output_type": "error",
          "traceback": [
            "\u001b[0;31m---------------------------------------------------------------------------\u001b[0m",
            "\u001b[0;31mTypeError\u001b[0m                                 Traceback (most recent call last)",
            "\u001b[0;32m<ipython-input-28-2f8168665336>\u001b[0m in \u001b[0;36m<module>\u001b[0;34m()\u001b[0m\n\u001b[0;32m----> 1\u001b[0;31m \u001b[0mget_ipython\u001b[0m\u001b[0;34m(\u001b[0m\u001b[0;34m)\u001b[0m\u001b[0;34m.\u001b[0m\u001b[0mrun_cell_magic\u001b[0m\u001b[0;34m(\u001b[0m\u001b[0;34m'mypy'\u001b[0m\u001b[0;34m,\u001b[0m \u001b[0;34m''\u001b[0m\u001b[0;34m,\u001b[0m \u001b[0;34m\"#если использовать аннотирование\\nprint(sample_function('a'))\"\u001b[0m\u001b[0;34m)\u001b[0m\u001b[0;34m\u001b[0m\u001b[0;34m\u001b[0m\u001b[0m\n\u001b[0m",
            "\u001b[0;32m/usr/local/lib/python3.7/dist-packages/IPython/core/interactiveshell.py\u001b[0m in \u001b[0;36mrun_cell_magic\u001b[0;34m(self, magic_name, line, cell)\u001b[0m\n\u001b[1;32m   2115\u001b[0m             \u001b[0mmagic_arg_s\u001b[0m \u001b[0;34m=\u001b[0m \u001b[0mself\u001b[0m\u001b[0;34m.\u001b[0m\u001b[0mvar_expand\u001b[0m\u001b[0;34m(\u001b[0m\u001b[0mline\u001b[0m\u001b[0;34m,\u001b[0m \u001b[0mstack_depth\u001b[0m\u001b[0;34m)\u001b[0m\u001b[0;34m\u001b[0m\u001b[0;34m\u001b[0m\u001b[0m\n\u001b[1;32m   2116\u001b[0m             \u001b[0;32mwith\u001b[0m \u001b[0mself\u001b[0m\u001b[0;34m.\u001b[0m\u001b[0mbuiltin_trap\u001b[0m\u001b[0;34m:\u001b[0m\u001b[0;34m\u001b[0m\u001b[0;34m\u001b[0m\u001b[0m\n\u001b[0;32m-> 2117\u001b[0;31m                 \u001b[0mresult\u001b[0m \u001b[0;34m=\u001b[0m \u001b[0mfn\u001b[0m\u001b[0;34m(\u001b[0m\u001b[0mmagic_arg_s\u001b[0m\u001b[0;34m,\u001b[0m \u001b[0mcell\u001b[0m\u001b[0;34m)\u001b[0m\u001b[0;34m\u001b[0m\u001b[0;34m\u001b[0m\u001b[0m\n\u001b[0m\u001b[1;32m   2118\u001b[0m             \u001b[0;32mreturn\u001b[0m \u001b[0mresult\u001b[0m\u001b[0;34m\u001b[0m\u001b[0;34m\u001b[0m\u001b[0m\n\u001b[1;32m   2119\u001b[0m \u001b[0;34m\u001b[0m\u001b[0m\n",
            "\u001b[0;32m<ipython-input-25-89a6d20c3a89>\u001b[0m in \u001b[0;36mmypy\u001b[0;34m(line, cell)\u001b[0m\n\u001b[1;32m      9\u001b[0m   \u001b[0;32mfor\u001b[0m \u001b[0moutput\u001b[0m \u001b[0;32min\u001b[0m \u001b[0mapi\u001b[0m\u001b[0;34m.\u001b[0m\u001b[0mrun\u001b[0m\u001b[0;34m(\u001b[0m\u001b[0;34m[\u001b[0m\u001b[0;34m'-c'\u001b[0m\u001b[0;34m,\u001b[0m \u001b[0;34m'\\n'\u001b[0m \u001b[0;34m+\u001b[0m \u001b[0mcell\u001b[0m\u001b[0;34m]\u001b[0m \u001b[0;34m+\u001b[0m \u001b[0mline\u001b[0m\u001b[0;34m.\u001b[0m\u001b[0msplit\u001b[0m\u001b[0;34m(\u001b[0m\u001b[0;34m)\u001b[0m\u001b[0;34m)\u001b[0m\u001b[0;34m:\u001b[0m\u001b[0;34m\u001b[0m\u001b[0;34m\u001b[0m\u001b[0m\n\u001b[1;32m     10\u001b[0m     \u001b[0;32mif\u001b[0m \u001b[0moutput\u001b[0m \u001b[0;32mand\u001b[0m \u001b[0;32mnot\u001b[0m \u001b[0moutput\u001b[0m\u001b[0;34m.\u001b[0m\u001b[0mstartswith\u001b[0m\u001b[0;34m(\u001b[0m\u001b[0;34m'Success'\u001b[0m\u001b[0;34m)\u001b[0m\u001b[0;34m:\u001b[0m\u001b[0;34m\u001b[0m\u001b[0;34m\u001b[0m\u001b[0m\n\u001b[0;32m---> 11\u001b[0;31m       \u001b[0;32mraise\u001b[0m \u001b[0mTypeError\u001b[0m\u001b[0;34m(\u001b[0m\u001b[0moutput\u001b[0m\u001b[0;34m)\u001b[0m\u001b[0;34m\u001b[0m\u001b[0;34m\u001b[0m\u001b[0m\n\u001b[0m\u001b[1;32m     12\u001b[0m   \u001b[0mget_ipython\u001b[0m\u001b[0;34m(\u001b[0m\u001b[0;34m)\u001b[0m\u001b[0;34m.\u001b[0m\u001b[0mrun_cell\u001b[0m\u001b[0;34m(\u001b[0m\u001b[0mcell\u001b[0m\u001b[0;34m)\u001b[0m\u001b[0;34m\u001b[0m\u001b[0;34m\u001b[0m\u001b[0m\n",
            "\u001b[0;31mTypeError\u001b[0m: <string>:3: error: Name \"sample_function\" is not defined\nFound 1 error in 1 file (checked 1 source file)\n"
          ]
        }
      ],
      "source": [
        "%%mypy\n",
        "#если использовать аннотирование\n",
        "print(sample_function('a'))"
      ]
    },
    {
      "cell_type": "markdown",
      "metadata": {
        "id": "8ZTvgPtMFXqs"
      },
      "source": [
        "[Здесь](https://mypy.readthedocs.io/en/stable/cheat_sheet_py3.html) и [здесь](https://docs.python.org/3/library/typing.html) можно посмотреть на примеры аннотирования для всех встроенных в python типов данных, а также на аннотирование функций"
      ]
    },
    {
      "cell_type": "markdown",
      "metadata": {
        "id": "iKL4Y-5Rqrq5"
      },
      "source": [
        "##5. Стандарты оформления кода"
      ]
    },
    {
      "cell_type": "markdown",
      "metadata": {
        "id": "Y70Bv7ahUk65"
      },
      "source": [
        "###Что такое PEP"
      ]
    },
    {
      "cell_type": "markdown",
      "metadata": {
        "id": "4LTw5jM6Uxqm"
      },
      "source": [
        "__PEP__ – Python Enhancement Proposal, предложения по развитию Python,это стандарты позволяющие создавать унифицированную проектную документацию для новых утвержденных возможностей языка Python.  \n",
        "[PEP8](https://www.python.org/dev/peps/pep-0008/) содержит перечень принципов написания красивого и лаконичного программного кода на языке Python, в том числе:\n",
        "*   Описание того, как должен выглядеть код на python,\n",
        "*   Что должны содержать в себе комментарии к коду,\n",
        "*   Как должны именоваться переменные, функции, классы и т.д.,\n",
        "*   Где должны ставиться пробелы,\n",
        "*   И многое другое.\n",
        "\n"
      ]
    },
    {
      "cell_type": "code",
      "execution_count": null,
      "metadata": {
        "colab": {
          "base_uri": "https://localhost:8080/"
        },
        "id": "f-XArqFjUllT",
        "outputId": "7f720201-3ed1-4add-ac37-b21b66c8f7e3"
      },
      "outputs": [
        {
          "name": "stdout",
          "output_type": "stream",
          "text": [
            "The Zen of Python, by Tim Peters\n",
            "\n",
            "Beautiful is better than ugly.\n",
            "Explicit is better than implicit.\n",
            "Simple is better than complex.\n",
            "Complex is better than complicated.\n",
            "Flat is better than nested.\n",
            "Sparse is better than dense.\n",
            "Readability counts.\n",
            "Special cases aren't special enough to break the rules.\n",
            "Although practicality beats purity.\n",
            "Errors should never pass silently.\n",
            "Unless explicitly silenced.\n",
            "In the face of ambiguity, refuse the temptation to guess.\n",
            "There should be one-- and preferably only one --obvious way to do it.\n",
            "Although that way may not be obvious at first unless you're Dutch.\n",
            "Now is better than never.\n",
            "Although never is often better than *right* now.\n",
            "If the implementation is hard to explain, it's a bad idea.\n",
            "If the implementation is easy to explain, it may be a good idea.\n",
            "Namespaces are one honking great idea -- let's do more of those!\n"
          ]
        }
      ],
      "source": [
        "# общий вектор развития языка вдохновлен этими постулатами\n",
        "import this"
      ]
    },
    {
      "cell_type": "markdown",
      "metadata": {
        "id": "uIwQ4NAIw0N1"
      },
      "source": [
        "### Google style guide\n",
        "\n",
        "[Google Python Style Guide](https://github.com/google/styleguide/blob/gh-pages/pyguide.md) - используемый в проектах Google вариант стандарта оформления кода"
      ]
    },
    {
      "cell_type": "markdown",
      "metadata": {
        "id": "BAsPnu8lqsHC"
      },
      "source": [
        "###Docstrings"
      ]
    },
    {
      "cell_type": "markdown",
      "metadata": {
        "id": "f5fInu5GYTsi"
      },
      "source": [
        "__Docstring__ - многострочная строка, указанная в исходном коде. Используется для документирования определенного сегмента кода. Служит инструментом для обеспечения удобного связывания документации с модулями, функциями, классами и методами.  \n",
        "Помимо описания в PEP8, докстринги подробно разобраны в отдельном документе - [PEP257](https://www.python.org/dev/peps/pep-0257/)"
      ]
    },
    {
      "cell_type": "code",
      "execution_count": null,
      "metadata": {
        "id": "WrPxnF3jbygl"
      },
      "outputs": [],
      "source": [
        "# рассмотрим то, как должен выглядеть докстринг на примере функции:\n",
        "# \"\"\"\n",
        "# первой строкой саммари\n",
        "# пустая строка\n",
        "# далее развернутое описание того, что функция делает\n",
        "# после описание входных параметров\n",
        "# в конце описание возвращаемого значения\n",
        "# \"\"\"\n",
        "def print_complex(real,imag):\n",
        "  \"\"\"\n",
        "  Возвращает комплексное число в виде строки.\n",
        "\n",
        "  Данная функция возвращает комплексное число в виде строки \"a+ib\" по переданной\n",
        "  в нее действительной и мнимой частям числа\n",
        "  Parameters\n",
        "  ----------\n",
        "  real : float\n",
        "    Действительная часть комплексного числа\n",
        "  imag : float\n",
        "    Мнимая часть комплексного числа\n",
        "  Returns\n",
        "  -------\n",
        "  string\n",
        "    Запись комплексиного числа в виде \"a+ib\"\n",
        "  \"\"\"\n",
        "  return f'{real}+{imag}i'"
      ]
    },
    {
      "cell_type": "code",
      "execution_count": null,
      "metadata": {
        "colab": {
          "base_uri": "https://localhost:8080/",
          "height": 70
        },
        "id": "Ak6FQf2ofJij",
        "outputId": "334f0297-ea30-4609-cdc7-96f24691a396"
      },
      "outputs": [
        {
          "data": {
            "application/vnd.google.colaboratory.intrinsic+json": {
              "type": "string"
            },
            "text/plain": [
              "'\\n  Возвращает комплексное число в виде строки.\\n\\n  Данная функция возвращает комплексное число в виде строки \"a+ib\" по переданной \\n  в нее действительной и мнимой частям числа\\n  Parameters\\n  ----------\\n  real : float\\n    Действительная часть комплексного числа\\n  imag : float\\n    Мнимая часть комплексного числа\\n  Returns\\n  -------\\n  string\\n    Запись комплексиного числа в виде \"a+ib\"\\n  '"
            ]
          },
          "execution_count": 85,
          "metadata": {},
          "output_type": "execute_result"
        }
      ],
      "source": [
        "# получить доступ к докстрингу можно по свойству __doc__\n",
        "print_complex.__doc__"
      ]
    },
    {
      "cell_type": "code",
      "execution_count": null,
      "metadata": {
        "colab": {
          "base_uri": "https://localhost:8080/"
        },
        "id": "XK5G4lW6eq2q",
        "outputId": "c3d673a0-734f-4d9c-aad9-23e67b10ead2"
      },
      "outputs": [
        {
          "name": "stdout",
          "output_type": "stream",
          "text": [
            "Help on function print_complex in module __main__:\n",
            "\n",
            "print_complex(real, imag)\n",
            "    Возвращает комплексное число в виде строки.\n",
            "    \n",
            "    Данная функция возвращает комплексное число в виде строки \"a+ib\" по переданной \n",
            "    в нее действительной и мнимой частям числа\n",
            "    Parameters\n",
            "    ----------\n",
            "    real : float\n",
            "      Действительная часть комплексного числа\n",
            "    imag : float\n",
            "      Мнимая часть комплексного числа\n",
            "    Returns\n",
            "    -------\n",
            "    string\n",
            "      Запись комплексиного числа в виде \"a+ib\"\n",
            "\n"
          ]
        }
      ],
      "source": [
        "# вывести докстринг в читаемом виде можно при помощи команды help()\n",
        "help(print_complex)"
      ]
    },
    {
      "cell_type": "code",
      "execution_count": null,
      "metadata": {
        "id": "Qxy2Sws6mO3u"
      },
      "outputs": [],
      "source": []
    },
    {
      "cell_type": "markdown",
      "metadata": {
        "id": "s1Nn4OFPguH_"
      },
      "source": [
        "### Автоматическое приведение кода к стандарту"
      ]
    },
    {
      "cell_type": "markdown",
      "metadata": {
        "id": "MOdUzU1Ujdnj"
      },
      "source": [
        "Если заниматься ручным приведением кода в соответствие со стандартом, то можно потратить огромное время на рефакторинг. К счастью, уже существуют утилиты, автоматизирующие форматирование кода.\n",
        "Их существует немало, вот некоторые из них:  \n",
        "* [autopep8](https://pypi.org/project/autopep8/) - приводит код к стандарту PEP8;  \n",
        "* [autoflake](https://pypi.org/project/autoflake/) - удаялет неиспользуемые импорты и переменные;  \n",
        "* [unify](https://pypi.org/project/unify/) - производит рефакторинг строк, расставляя одинарные и двойные апострофы в соответствии со стандартами;  \n",
        "* [docformatter](https://pypi.org/project/docformatter/) - приводит докстринги к PEP257;  \n",
        "* [pyformat](https://pypi.org/project/pyformat/) - обертка над всеми перечисленными выше утилитами.\n",
        "\n",
        "Поскольку вызов утилит в целом идентичен, рассмотри их работу на примере autopep8."
      ]
    },
    {
      "cell_type": "code",
      "execution_count": null,
      "metadata": {
        "colab": {
          "base_uri": "https://localhost:8080/"
        },
        "id": "8D0S9yc0jZYG",
        "outputId": "1b146124-63f2-47c7-ef82-d3a368c0e4d5"
      },
      "outputs": [
        {
          "output_type": "stream",
          "name": "stdout",
          "text": [
            "Looking in indexes: https://pypi.org/simple, https://us-python.pkg.dev/colab-wheels/public/simple/\n",
            "Collecting autopep8\n",
            "  Downloading autopep8-1.7.0-py2.py3-none-any.whl (45 kB)\n",
            "\u001b[?25l\r\u001b[K     |███████▏                        | 10 kB 18.9 MB/s eta 0:00:01\r\u001b[K     |██████████████▍                 | 20 kB 21.7 MB/s eta 0:00:01\r\u001b[K     |█████████████████████▋          | 30 kB 25.1 MB/s eta 0:00:01\r\u001b[K     |████████████████████████████▊   | 40 kB 25.9 MB/s eta 0:00:01\r\u001b[K     |████████████████████████████████| 45 kB 3.2 MB/s \n",
            "\u001b[?25hRequirement already satisfied: toml in /usr/local/lib/python3.7/dist-packages (from autopep8) (0.10.2)\n",
            "Collecting pycodestyle>=2.9.1\n",
            "  Downloading pycodestyle-2.9.1-py2.py3-none-any.whl (41 kB)\n",
            "\u001b[K     |████████████████████████████████| 41 kB 455 kB/s \n",
            "\u001b[?25hInstalling collected packages: pycodestyle, autopep8\n",
            "Successfully installed autopep8-1.7.0 pycodestyle-2.9.1\n"
          ]
        }
      ],
      "source": [
        "# устанавливаем пакет\n",
        "!pip install autopep8"
      ]
    },
    {
      "cell_type": "code",
      "execution_count": null,
      "metadata": {
        "colab": {
          "base_uri": "https://localhost:8080/"
        },
        "id": "f9Sp6ZP8mXXt",
        "outputId": "41317f2f-6a66-4d5e-9a81-f7024fd1ac85"
      },
      "outputs": [
        {
          "output_type": "stream",
          "name": "stdout",
          "text": [
            "Writing uglycodesample.py\n"
          ]
        }
      ],
      "source": [
        "# сохраняем отвратительно отформатированный файл\n",
        "%%writefile uglycodesample.py\n",
        "import math, sys, re;\n",
        "\n",
        "def sample_function():\n",
        "    ####Крайне длинный комментарий, который значительно превышает максимально рекомендованное количество символов в строке\n",
        "    some_tuple=(   1,2, 3,'a'  );\n",
        "    some_variable={'long':'еще одна длинная строка, которая не умещается на единственной строке',\n",
        "    'other':[math.pi, 100,200,300,9876543210,'и опять строкаааааааааааааааааааааааааааааааааа'],\n",
        "    'more':{'inner':'как можно аметить, вложенные объекты в объявлении данной переменной не отформатированы',some_tuple:[1,\n",
        "    20,300,40000,500000000,60000000000000000]}}\n",
        "    return (some_tuple, some_variable)\n",
        "def sample_function1(): return {'has_key() is deprecated':True}.has_key({'f':2}.has_key(''));\n",
        "class Example3(   object ):\n",
        "    def __init__    ( self, bar ):\n",
        "     #комментарии должны иметь пробел после хештега\n",
        "     if bar : bar+=1;  bar=bar* bar   ; return bar\n",
        "     else:\n",
        "                    some_string = \"\"\"\n",
        "                       Отступы строковых переменных трогать нельзя.\n",
        "Поэтому эта переменная не должна измениться.\n",
        "\"\"\"\n",
        "                    return (sys.path, some_string)"
      ]
    },
    {
      "cell_type": "code",
      "execution_count": null,
      "metadata": {
        "id": "M98MfhSAmdwi"
      },
      "outputs": [],
      "source": [
        "# запускаем его рефакторинг\n",
        "!autopep8 --in-place --aggressive --aggressive uglycodesample.py"
      ]
    },
    {
      "cell_type": "code",
      "execution_count": null,
      "metadata": {
        "id": "-qPb4hpapQlS"
      },
      "outputs": [],
      "source": [
        "# после чего смотрим на результат\n",
        "%pycat uglycodesample.py"
      ]
    }
  ],
  "metadata": {
    "colab": {
      "collapsed_sections": [
        "s1Nn4OFPguH_"
      ],
      "provenance": []
    },
    "kernelspec": {
      "display_name": "Python 3",
      "name": "python3"
    },
    "language_info": {
      "name": "python"
    }
  },
  "nbformat": 4,
  "nbformat_minor": 0
}