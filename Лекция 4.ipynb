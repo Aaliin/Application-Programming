{
  "nbformat": 4,
  "nbformat_minor": 0,
  "metadata": {
    "colab": {
      "provenance": [],
      "collapsed_sections": [
        "Yz3HO7V-Jrmf",
        "fV0_8zvxJwaX",
        "2Po-wmvaBdZi",
        "ZYo9nYdNrJ7s",
        "iNSpD0yZrLTR",
        "LRIuuI-UrMHK",
        "JbORSSsArMti",
        "y17vgPpbrNbc",
        "CrKxJmNgrORy"
      ]
    },
    "kernelspec": {
      "name": "python3",
      "display_name": "Python 3"
    },
    "language_info": {
      "name": "python"
    },
    "widgets": {
      "application/vnd.jupyter.widget-state+json": {
        "0e494cbf6214470489baf4bfe41b5fcf": {
          "model_module": "@jupyter-widgets/controls",
          "model_name": "HBoxModel",
          "model_module_version": "1.5.0",
          "state": {
            "_dom_classes": [],
            "_model_module": "@jupyter-widgets/controls",
            "_model_module_version": "1.5.0",
            "_model_name": "HBoxModel",
            "_view_count": null,
            "_view_module": "@jupyter-widgets/controls",
            "_view_module_version": "1.5.0",
            "_view_name": "HBoxView",
            "box_style": "",
            "children": [
              "IPY_MODEL_b72b275c194e4564a491d1a79ae88680",
              "IPY_MODEL_0674c12c11ef4427a125881ee442950e",
              "IPY_MODEL_2df6bf8d643b4a8ea4be41a1d530be27"
            ],
            "layout": "IPY_MODEL_b8371ffe36ca42a2b43074024018ed11"
          }
        },
        "b72b275c194e4564a491d1a79ae88680": {
          "model_module": "@jupyter-widgets/controls",
          "model_name": "HTMLModel",
          "model_module_version": "1.5.0",
          "state": {
            "_dom_classes": [],
            "_model_module": "@jupyter-widgets/controls",
            "_model_module_version": "1.5.0",
            "_model_name": "HTMLModel",
            "_view_count": null,
            "_view_module": "@jupyter-widgets/controls",
            "_view_module_version": "1.5.0",
            "_view_name": "HTMLView",
            "description": "",
            "description_tooltip": null,
            "layout": "IPY_MODEL_543585d02a1e4d90b97c0a792f2c5d3a",
            "placeholder": "​",
            "style": "IPY_MODEL_7e919929102644cda39b9cbdf68e4090",
            "value": "Обрабатываем букву f: 100%"
          }
        },
        "0674c12c11ef4427a125881ee442950e": {
          "model_module": "@jupyter-widgets/controls",
          "model_name": "FloatProgressModel",
          "model_module_version": "1.5.0",
          "state": {
            "_dom_classes": [],
            "_model_module": "@jupyter-widgets/controls",
            "_model_module_version": "1.5.0",
            "_model_name": "FloatProgressModel",
            "_view_count": null,
            "_view_module": "@jupyter-widgets/controls",
            "_view_module_version": "1.5.0",
            "_view_name": "ProgressView",
            "bar_style": "success",
            "description": "",
            "description_tooltip": null,
            "layout": "IPY_MODEL_13cc26923c304f32b543cde75390c28f",
            "max": 6,
            "min": 0,
            "orientation": "horizontal",
            "style": "IPY_MODEL_3f582622e44c464d973783b2292d0292",
            "value": 6
          }
        },
        "2df6bf8d643b4a8ea4be41a1d530be27": {
          "model_module": "@jupyter-widgets/controls",
          "model_name": "HTMLModel",
          "model_module_version": "1.5.0",
          "state": {
            "_dom_classes": [],
            "_model_module": "@jupyter-widgets/controls",
            "_model_module_version": "1.5.0",
            "_model_name": "HTMLModel",
            "_view_count": null,
            "_view_module": "@jupyter-widgets/controls",
            "_view_module_version": "1.5.0",
            "_view_name": "HTMLView",
            "description": "",
            "description_tooltip": null,
            "layout": "IPY_MODEL_6291b837f3d04de393c0a4488f9b6594",
            "placeholder": "​",
            "style": "IPY_MODEL_8760db19be584e528aa22d8e427c5901",
            "value": " 6/6 [00:06&lt;00:00,  1.01s/it]"
          }
        },
        "b8371ffe36ca42a2b43074024018ed11": {
          "model_module": "@jupyter-widgets/base",
          "model_name": "LayoutModel",
          "model_module_version": "1.2.0",
          "state": {
            "_model_module": "@jupyter-widgets/base",
            "_model_module_version": "1.2.0",
            "_model_name": "LayoutModel",
            "_view_count": null,
            "_view_module": "@jupyter-widgets/base",
            "_view_module_version": "1.2.0",
            "_view_name": "LayoutView",
            "align_content": null,
            "align_items": null,
            "align_self": null,
            "border": null,
            "bottom": null,
            "display": "inline-flex",
            "flex": null,
            "flex_flow": "row wrap",
            "grid_area": null,
            "grid_auto_columns": null,
            "grid_auto_flow": null,
            "grid_auto_rows": null,
            "grid_column": null,
            "grid_gap": null,
            "grid_row": null,
            "grid_template_areas": null,
            "grid_template_columns": null,
            "grid_template_rows": null,
            "height": null,
            "justify_content": null,
            "justify_items": null,
            "left": null,
            "margin": null,
            "max_height": null,
            "max_width": null,
            "min_height": null,
            "min_width": null,
            "object_fit": null,
            "object_position": null,
            "order": null,
            "overflow": null,
            "overflow_x": null,
            "overflow_y": null,
            "padding": null,
            "right": null,
            "top": null,
            "visibility": null,
            "width": "1000px"
          }
        },
        "543585d02a1e4d90b97c0a792f2c5d3a": {
          "model_module": "@jupyter-widgets/base",
          "model_name": "LayoutModel",
          "model_module_version": "1.2.0",
          "state": {
            "_model_module": "@jupyter-widgets/base",
            "_model_module_version": "1.2.0",
            "_model_name": "LayoutModel",
            "_view_count": null,
            "_view_module": "@jupyter-widgets/base",
            "_view_module_version": "1.2.0",
            "_view_name": "LayoutView",
            "align_content": null,
            "align_items": null,
            "align_self": null,
            "border": null,
            "bottom": null,
            "display": null,
            "flex": null,
            "flex_flow": null,
            "grid_area": null,
            "grid_auto_columns": null,
            "grid_auto_flow": null,
            "grid_auto_rows": null,
            "grid_column": null,
            "grid_gap": null,
            "grid_row": null,
            "grid_template_areas": null,
            "grid_template_columns": null,
            "grid_template_rows": null,
            "height": null,
            "justify_content": null,
            "justify_items": null,
            "left": null,
            "margin": null,
            "max_height": null,
            "max_width": null,
            "min_height": null,
            "min_width": null,
            "object_fit": null,
            "object_position": null,
            "order": null,
            "overflow": null,
            "overflow_x": null,
            "overflow_y": null,
            "padding": null,
            "right": null,
            "top": null,
            "visibility": null,
            "width": null
          }
        },
        "7e919929102644cda39b9cbdf68e4090": {
          "model_module": "@jupyter-widgets/controls",
          "model_name": "DescriptionStyleModel",
          "model_module_version": "1.5.0",
          "state": {
            "_model_module": "@jupyter-widgets/controls",
            "_model_module_version": "1.5.0",
            "_model_name": "DescriptionStyleModel",
            "_view_count": null,
            "_view_module": "@jupyter-widgets/base",
            "_view_module_version": "1.2.0",
            "_view_name": "StyleView",
            "description_width": ""
          }
        },
        "13cc26923c304f32b543cde75390c28f": {
          "model_module": "@jupyter-widgets/base",
          "model_name": "LayoutModel",
          "model_module_version": "1.2.0",
          "state": {
            "_model_module": "@jupyter-widgets/base",
            "_model_module_version": "1.2.0",
            "_model_name": "LayoutModel",
            "_view_count": null,
            "_view_module": "@jupyter-widgets/base",
            "_view_module_version": "1.2.0",
            "_view_name": "LayoutView",
            "align_content": null,
            "align_items": null,
            "align_self": null,
            "border": null,
            "bottom": null,
            "display": null,
            "flex": "2",
            "flex_flow": null,
            "grid_area": null,
            "grid_auto_columns": null,
            "grid_auto_flow": null,
            "grid_auto_rows": null,
            "grid_column": null,
            "grid_gap": null,
            "grid_row": null,
            "grid_template_areas": null,
            "grid_template_columns": null,
            "grid_template_rows": null,
            "height": null,
            "justify_content": null,
            "justify_items": null,
            "left": null,
            "margin": null,
            "max_height": null,
            "max_width": null,
            "min_height": null,
            "min_width": null,
            "object_fit": null,
            "object_position": null,
            "order": null,
            "overflow": null,
            "overflow_x": null,
            "overflow_y": null,
            "padding": null,
            "right": null,
            "top": null,
            "visibility": null,
            "width": null
          }
        },
        "3f582622e44c464d973783b2292d0292": {
          "model_module": "@jupyter-widgets/controls",
          "model_name": "ProgressStyleModel",
          "model_module_version": "1.5.0",
          "state": {
            "_model_module": "@jupyter-widgets/controls",
            "_model_module_version": "1.5.0",
            "_model_name": "ProgressStyleModel",
            "_view_count": null,
            "_view_module": "@jupyter-widgets/base",
            "_view_module_version": "1.2.0",
            "_view_name": "StyleView",
            "bar_color": null,
            "description_width": ""
          }
        },
        "6291b837f3d04de393c0a4488f9b6594": {
          "model_module": "@jupyter-widgets/base",
          "model_name": "LayoutModel",
          "model_module_version": "1.2.0",
          "state": {
            "_model_module": "@jupyter-widgets/base",
            "_model_module_version": "1.2.0",
            "_model_name": "LayoutModel",
            "_view_count": null,
            "_view_module": "@jupyter-widgets/base",
            "_view_module_version": "1.2.0",
            "_view_name": "LayoutView",
            "align_content": null,
            "align_items": null,
            "align_self": null,
            "border": null,
            "bottom": null,
            "display": null,
            "flex": null,
            "flex_flow": null,
            "grid_area": null,
            "grid_auto_columns": null,
            "grid_auto_flow": null,
            "grid_auto_rows": null,
            "grid_column": null,
            "grid_gap": null,
            "grid_row": null,
            "grid_template_areas": null,
            "grid_template_columns": null,
            "grid_template_rows": null,
            "height": null,
            "justify_content": null,
            "justify_items": null,
            "left": null,
            "margin": null,
            "max_height": null,
            "max_width": null,
            "min_height": null,
            "min_width": null,
            "object_fit": null,
            "object_position": null,
            "order": null,
            "overflow": null,
            "overflow_x": null,
            "overflow_y": null,
            "padding": null,
            "right": null,
            "top": null,
            "visibility": null,
            "width": null
          }
        },
        "8760db19be584e528aa22d8e427c5901": {
          "model_module": "@jupyter-widgets/controls",
          "model_name": "DescriptionStyleModel",
          "model_module_version": "1.5.0",
          "state": {
            "_model_module": "@jupyter-widgets/controls",
            "_model_module_version": "1.5.0",
            "_model_name": "DescriptionStyleModel",
            "_view_count": null,
            "_view_module": "@jupyter-widgets/base",
            "_view_module_version": "1.2.0",
            "_view_name": "StyleView",
            "description_width": ""
          }
        },
        "e05e9a733ba8419cae7e8c9ab0fa089a": {
          "model_module": "@jupyter-widgets/controls",
          "model_name": "HBoxModel",
          "model_module_version": "1.5.0",
          "state": {
            "_dom_classes": [],
            "_model_module": "@jupyter-widgets/controls",
            "_model_module_version": "1.5.0",
            "_model_name": "HBoxModel",
            "_view_count": null,
            "_view_module": "@jupyter-widgets/controls",
            "_view_module_version": "1.5.0",
            "_view_name": "HBoxView",
            "box_style": "",
            "children": [
              "IPY_MODEL_2faa33b57faf44c7ab33bfbde3e443b6",
              "IPY_MODEL_47219b0fb91842a1a4e2743f2583d2f2",
              "IPY_MODEL_3b6fd6629b8f4eaab142e6d0e670ace9"
            ],
            "layout": "IPY_MODEL_a2508b2ec84943ef96e6defaba0e1f6a"
          }
        },
        "2faa33b57faf44c7ab33bfbde3e443b6": {
          "model_module": "@jupyter-widgets/controls",
          "model_name": "HTMLModel",
          "model_module_version": "1.5.0",
          "state": {
            "_dom_classes": [],
            "_model_module": "@jupyter-widgets/controls",
            "_model_module_version": "1.5.0",
            "_model_name": "HTMLModel",
            "_view_count": null,
            "_view_module": "@jupyter-widgets/controls",
            "_view_module_version": "1.5.0",
            "_view_name": "HTMLView",
            "description": "",
            "description_tooltip": null,
            "layout": "IPY_MODEL_187d0aecf9464bbe85a3721c693443e5",
            "placeholder": "​",
            "style": "IPY_MODEL_e5f21693898a452f82d1ba3b2bc6b2be",
            "value": "Цикл 1: 100%"
          }
        },
        "47219b0fb91842a1a4e2743f2583d2f2": {
          "model_module": "@jupyter-widgets/controls",
          "model_name": "FloatProgressModel",
          "model_module_version": "1.5.0",
          "state": {
            "_dom_classes": [],
            "_model_module": "@jupyter-widgets/controls",
            "_model_module_version": "1.5.0",
            "_model_name": "FloatProgressModel",
            "_view_count": null,
            "_view_module": "@jupyter-widgets/controls",
            "_view_module_version": "1.5.0",
            "_view_name": "ProgressView",
            "bar_style": "success",
            "description": "",
            "description_tooltip": null,
            "layout": "IPY_MODEL_dc827368482b4e54a1e87ea44132c773",
            "max": 5,
            "min": 0,
            "orientation": "horizontal",
            "style": "IPY_MODEL_adea1ac1ccc149d98977b4b88ed112df",
            "value": 5
          }
        },
        "3b6fd6629b8f4eaab142e6d0e670ace9": {
          "model_module": "@jupyter-widgets/controls",
          "model_name": "HTMLModel",
          "model_module_version": "1.5.0",
          "state": {
            "_dom_classes": [],
            "_model_module": "@jupyter-widgets/controls",
            "_model_module_version": "1.5.0",
            "_model_name": "HTMLModel",
            "_view_count": null,
            "_view_module": "@jupyter-widgets/controls",
            "_view_module_version": "1.5.0",
            "_view_name": "HTMLView",
            "description": "",
            "description_tooltip": null,
            "layout": "IPY_MODEL_75fc934787e14dd581bd841297229c61",
            "placeholder": "​",
            "style": "IPY_MODEL_d73c52fdf6ff4f7c96dbad27ca7fb916",
            "value": " 5/5 [00:12&lt;00:00,  2.55s/it]"
          }
        },
        "a2508b2ec84943ef96e6defaba0e1f6a": {
          "model_module": "@jupyter-widgets/base",
          "model_name": "LayoutModel",
          "model_module_version": "1.2.0",
          "state": {
            "_model_module": "@jupyter-widgets/base",
            "_model_module_version": "1.2.0",
            "_model_name": "LayoutModel",
            "_view_count": null,
            "_view_module": "@jupyter-widgets/base",
            "_view_module_version": "1.2.0",
            "_view_name": "LayoutView",
            "align_content": null,
            "align_items": null,
            "align_self": null,
            "border": null,
            "bottom": null,
            "display": null,
            "flex": null,
            "flex_flow": null,
            "grid_area": null,
            "grid_auto_columns": null,
            "grid_auto_flow": null,
            "grid_auto_rows": null,
            "grid_column": null,
            "grid_gap": null,
            "grid_row": null,
            "grid_template_areas": null,
            "grid_template_columns": null,
            "grid_template_rows": null,
            "height": null,
            "justify_content": null,
            "justify_items": null,
            "left": null,
            "margin": null,
            "max_height": null,
            "max_width": null,
            "min_height": null,
            "min_width": null,
            "object_fit": null,
            "object_position": null,
            "order": null,
            "overflow": null,
            "overflow_x": null,
            "overflow_y": null,
            "padding": null,
            "right": null,
            "top": null,
            "visibility": null,
            "width": null
          }
        },
        "187d0aecf9464bbe85a3721c693443e5": {
          "model_module": "@jupyter-widgets/base",
          "model_name": "LayoutModel",
          "model_module_version": "1.2.0",
          "state": {
            "_model_module": "@jupyter-widgets/base",
            "_model_module_version": "1.2.0",
            "_model_name": "LayoutModel",
            "_view_count": null,
            "_view_module": "@jupyter-widgets/base",
            "_view_module_version": "1.2.0",
            "_view_name": "LayoutView",
            "align_content": null,
            "align_items": null,
            "align_self": null,
            "border": null,
            "bottom": null,
            "display": null,
            "flex": null,
            "flex_flow": null,
            "grid_area": null,
            "grid_auto_columns": null,
            "grid_auto_flow": null,
            "grid_auto_rows": null,
            "grid_column": null,
            "grid_gap": null,
            "grid_row": null,
            "grid_template_areas": null,
            "grid_template_columns": null,
            "grid_template_rows": null,
            "height": null,
            "justify_content": null,
            "justify_items": null,
            "left": null,
            "margin": null,
            "max_height": null,
            "max_width": null,
            "min_height": null,
            "min_width": null,
            "object_fit": null,
            "object_position": null,
            "order": null,
            "overflow": null,
            "overflow_x": null,
            "overflow_y": null,
            "padding": null,
            "right": null,
            "top": null,
            "visibility": null,
            "width": null
          }
        },
        "e5f21693898a452f82d1ba3b2bc6b2be": {
          "model_module": "@jupyter-widgets/controls",
          "model_name": "DescriptionStyleModel",
          "model_module_version": "1.5.0",
          "state": {
            "_model_module": "@jupyter-widgets/controls",
            "_model_module_version": "1.5.0",
            "_model_name": "DescriptionStyleModel",
            "_view_count": null,
            "_view_module": "@jupyter-widgets/base",
            "_view_module_version": "1.2.0",
            "_view_name": "StyleView",
            "description_width": ""
          }
        },
        "dc827368482b4e54a1e87ea44132c773": {
          "model_module": "@jupyter-widgets/base",
          "model_name": "LayoutModel",
          "model_module_version": "1.2.0",
          "state": {
            "_model_module": "@jupyter-widgets/base",
            "_model_module_version": "1.2.0",
            "_model_name": "LayoutModel",
            "_view_count": null,
            "_view_module": "@jupyter-widgets/base",
            "_view_module_version": "1.2.0",
            "_view_name": "LayoutView",
            "align_content": null,
            "align_items": null,
            "align_self": null,
            "border": null,
            "bottom": null,
            "display": null,
            "flex": null,
            "flex_flow": null,
            "grid_area": null,
            "grid_auto_columns": null,
            "grid_auto_flow": null,
            "grid_auto_rows": null,
            "grid_column": null,
            "grid_gap": null,
            "grid_row": null,
            "grid_template_areas": null,
            "grid_template_columns": null,
            "grid_template_rows": null,
            "height": null,
            "justify_content": null,
            "justify_items": null,
            "left": null,
            "margin": null,
            "max_height": null,
            "max_width": null,
            "min_height": null,
            "min_width": null,
            "object_fit": null,
            "object_position": null,
            "order": null,
            "overflow": null,
            "overflow_x": null,
            "overflow_y": null,
            "padding": null,
            "right": null,
            "top": null,
            "visibility": null,
            "width": null
          }
        },
        "adea1ac1ccc149d98977b4b88ed112df": {
          "model_module": "@jupyter-widgets/controls",
          "model_name": "ProgressStyleModel",
          "model_module_version": "1.5.0",
          "state": {
            "_model_module": "@jupyter-widgets/controls",
            "_model_module_version": "1.5.0",
            "_model_name": "ProgressStyleModel",
            "_view_count": null,
            "_view_module": "@jupyter-widgets/base",
            "_view_module_version": "1.2.0",
            "_view_name": "StyleView",
            "bar_color": null,
            "description_width": ""
          }
        },
        "75fc934787e14dd581bd841297229c61": {
          "model_module": "@jupyter-widgets/base",
          "model_name": "LayoutModel",
          "model_module_version": "1.2.0",
          "state": {
            "_model_module": "@jupyter-widgets/base",
            "_model_module_version": "1.2.0",
            "_model_name": "LayoutModel",
            "_view_count": null,
            "_view_module": "@jupyter-widgets/base",
            "_view_module_version": "1.2.0",
            "_view_name": "LayoutView",
            "align_content": null,
            "align_items": null,
            "align_self": null,
            "border": null,
            "bottom": null,
            "display": null,
            "flex": null,
            "flex_flow": null,
            "grid_area": null,
            "grid_auto_columns": null,
            "grid_auto_flow": null,
            "grid_auto_rows": null,
            "grid_column": null,
            "grid_gap": null,
            "grid_row": null,
            "grid_template_areas": null,
            "grid_template_columns": null,
            "grid_template_rows": null,
            "height": null,
            "justify_content": null,
            "justify_items": null,
            "left": null,
            "margin": null,
            "max_height": null,
            "max_width": null,
            "min_height": null,
            "min_width": null,
            "object_fit": null,
            "object_position": null,
            "order": null,
            "overflow": null,
            "overflow_x": null,
            "overflow_y": null,
            "padding": null,
            "right": null,
            "top": null,
            "visibility": null,
            "width": null
          }
        },
        "d73c52fdf6ff4f7c96dbad27ca7fb916": {
          "model_module": "@jupyter-widgets/controls",
          "model_name": "DescriptionStyleModel",
          "model_module_version": "1.5.0",
          "state": {
            "_model_module": "@jupyter-widgets/controls",
            "_model_module_version": "1.5.0",
            "_model_name": "DescriptionStyleModel",
            "_view_count": null,
            "_view_module": "@jupyter-widgets/base",
            "_view_module_version": "1.2.0",
            "_view_name": "StyleView",
            "description_width": ""
          }
        },
        "54b3c74dedfc44fb9f3780774ba3360d": {
          "model_module": "@jupyter-widgets/controls",
          "model_name": "HBoxModel",
          "model_module_version": "1.5.0",
          "state": {
            "_dom_classes": [],
            "_model_module": "@jupyter-widgets/controls",
            "_model_module_version": "1.5.0",
            "_model_name": "HBoxModel",
            "_view_count": null,
            "_view_module": "@jupyter-widgets/controls",
            "_view_module_version": "1.5.0",
            "_view_name": "HBoxView",
            "box_style": "",
            "children": [
              "IPY_MODEL_7566476d3f6a487988a2764cb6f707a0",
              "IPY_MODEL_d325b9950f944b5b999ff99384dd7970",
              "IPY_MODEL_8759dfa99aa9468e94292edb2f273a78"
            ],
            "layout": "IPY_MODEL_70a84662dfff42e895006ef80802be1e"
          }
        },
        "7566476d3f6a487988a2764cb6f707a0": {
          "model_module": "@jupyter-widgets/controls",
          "model_name": "HTMLModel",
          "model_module_version": "1.5.0",
          "state": {
            "_dom_classes": [],
            "_model_module": "@jupyter-widgets/controls",
            "_model_module_version": "1.5.0",
            "_model_name": "HTMLModel",
            "_view_count": null,
            "_view_module": "@jupyter-widgets/controls",
            "_view_module_version": "1.5.0",
            "_view_name": "HTMLView",
            "description": "",
            "description_tooltip": null,
            "layout": "IPY_MODEL_692d2b66e8e845f5bb0884969254b75a",
            "placeholder": "​",
            "style": "IPY_MODEL_1521d97441e64e2489b93f8e9f11a534",
            "value": "Цикл 2: 100%"
          }
        },
        "d325b9950f944b5b999ff99384dd7970": {
          "model_module": "@jupyter-widgets/controls",
          "model_name": "FloatProgressModel",
          "model_module_version": "1.5.0",
          "state": {
            "_dom_classes": [],
            "_model_module": "@jupyter-widgets/controls",
            "_model_module_version": "1.5.0",
            "_model_name": "FloatProgressModel",
            "_view_count": null,
            "_view_module": "@jupyter-widgets/controls",
            "_view_module_version": "1.5.0",
            "_view_name": "ProgressView",
            "bar_style": "success",
            "description": "",
            "description_tooltip": null,
            "layout": "IPY_MODEL_4f794bfd85314f14b4f6df062a475f78",
            "max": 5,
            "min": 0,
            "orientation": "horizontal",
            "style": "IPY_MODEL_299c5d3c68c54d43a6958ece871a92e9",
            "value": 5
          }
        },
        "8759dfa99aa9468e94292edb2f273a78": {
          "model_module": "@jupyter-widgets/controls",
          "model_name": "HTMLModel",
          "model_module_version": "1.5.0",
          "state": {
            "_dom_classes": [],
            "_model_module": "@jupyter-widgets/controls",
            "_model_module_version": "1.5.0",
            "_model_name": "HTMLModel",
            "_view_count": null,
            "_view_module": "@jupyter-widgets/controls",
            "_view_module_version": "1.5.0",
            "_view_name": "HTMLView",
            "description": "",
            "description_tooltip": null,
            "layout": "IPY_MODEL_c74e7afa0ce74cff99f13a90fdebb126",
            "placeholder": "​",
            "style": "IPY_MODEL_abea218c3ae54a1ea9a3297af5f4cf7d",
            "value": " 5/5 [00:02&lt;00:00,  1.98it/s]"
          }
        },
        "70a84662dfff42e895006ef80802be1e": {
          "model_module": "@jupyter-widgets/base",
          "model_name": "LayoutModel",
          "model_module_version": "1.2.0",
          "state": {
            "_model_module": "@jupyter-widgets/base",
            "_model_module_version": "1.2.0",
            "_model_name": "LayoutModel",
            "_view_count": null,
            "_view_module": "@jupyter-widgets/base",
            "_view_module_version": "1.2.0",
            "_view_name": "LayoutView",
            "align_content": null,
            "align_items": null,
            "align_self": null,
            "border": null,
            "bottom": null,
            "display": null,
            "flex": null,
            "flex_flow": null,
            "grid_area": null,
            "grid_auto_columns": null,
            "grid_auto_flow": null,
            "grid_auto_rows": null,
            "grid_column": null,
            "grid_gap": null,
            "grid_row": null,
            "grid_template_areas": null,
            "grid_template_columns": null,
            "grid_template_rows": null,
            "height": null,
            "justify_content": null,
            "justify_items": null,
            "left": null,
            "margin": null,
            "max_height": null,
            "max_width": null,
            "min_height": null,
            "min_width": null,
            "object_fit": null,
            "object_position": null,
            "order": null,
            "overflow": null,
            "overflow_x": null,
            "overflow_y": null,
            "padding": null,
            "right": null,
            "top": null,
            "visibility": null,
            "width": null
          }
        },
        "692d2b66e8e845f5bb0884969254b75a": {
          "model_module": "@jupyter-widgets/base",
          "model_name": "LayoutModel",
          "model_module_version": "1.2.0",
          "state": {
            "_model_module": "@jupyter-widgets/base",
            "_model_module_version": "1.2.0",
            "_model_name": "LayoutModel",
            "_view_count": null,
            "_view_module": "@jupyter-widgets/base",
            "_view_module_version": "1.2.0",
            "_view_name": "LayoutView",
            "align_content": null,
            "align_items": null,
            "align_self": null,
            "border": null,
            "bottom": null,
            "display": null,
            "flex": null,
            "flex_flow": null,
            "grid_area": null,
            "grid_auto_columns": null,
            "grid_auto_flow": null,
            "grid_auto_rows": null,
            "grid_column": null,
            "grid_gap": null,
            "grid_row": null,
            "grid_template_areas": null,
            "grid_template_columns": null,
            "grid_template_rows": null,
            "height": null,
            "justify_content": null,
            "justify_items": null,
            "left": null,
            "margin": null,
            "max_height": null,
            "max_width": null,
            "min_height": null,
            "min_width": null,
            "object_fit": null,
            "object_position": null,
            "order": null,
            "overflow": null,
            "overflow_x": null,
            "overflow_y": null,
            "padding": null,
            "right": null,
            "top": null,
            "visibility": null,
            "width": null
          }
        },
        "1521d97441e64e2489b93f8e9f11a534": {
          "model_module": "@jupyter-widgets/controls",
          "model_name": "DescriptionStyleModel",
          "model_module_version": "1.5.0",
          "state": {
            "_model_module": "@jupyter-widgets/controls",
            "_model_module_version": "1.5.0",
            "_model_name": "DescriptionStyleModel",
            "_view_count": null,
            "_view_module": "@jupyter-widgets/base",
            "_view_module_version": "1.2.0",
            "_view_name": "StyleView",
            "description_width": ""
          }
        },
        "4f794bfd85314f14b4f6df062a475f78": {
          "model_module": "@jupyter-widgets/base",
          "model_name": "LayoutModel",
          "model_module_version": "1.2.0",
          "state": {
            "_model_module": "@jupyter-widgets/base",
            "_model_module_version": "1.2.0",
            "_model_name": "LayoutModel",
            "_view_count": null,
            "_view_module": "@jupyter-widgets/base",
            "_view_module_version": "1.2.0",
            "_view_name": "LayoutView",
            "align_content": null,
            "align_items": null,
            "align_self": null,
            "border": null,
            "bottom": null,
            "display": null,
            "flex": null,
            "flex_flow": null,
            "grid_area": null,
            "grid_auto_columns": null,
            "grid_auto_flow": null,
            "grid_auto_rows": null,
            "grid_column": null,
            "grid_gap": null,
            "grid_row": null,
            "grid_template_areas": null,
            "grid_template_columns": null,
            "grid_template_rows": null,
            "height": null,
            "justify_content": null,
            "justify_items": null,
            "left": null,
            "margin": null,
            "max_height": null,
            "max_width": null,
            "min_height": null,
            "min_width": null,
            "object_fit": null,
            "object_position": null,
            "order": null,
            "overflow": null,
            "overflow_x": null,
            "overflow_y": null,
            "padding": null,
            "right": null,
            "top": null,
            "visibility": null,
            "width": null
          }
        },
        "299c5d3c68c54d43a6958ece871a92e9": {
          "model_module": "@jupyter-widgets/controls",
          "model_name": "ProgressStyleModel",
          "model_module_version": "1.5.0",
          "state": {
            "_model_module": "@jupyter-widgets/controls",
            "_model_module_version": "1.5.0",
            "_model_name": "ProgressStyleModel",
            "_view_count": null,
            "_view_module": "@jupyter-widgets/base",
            "_view_module_version": "1.2.0",
            "_view_name": "StyleView",
            "bar_color": null,
            "description_width": ""
          }
        },
        "c74e7afa0ce74cff99f13a90fdebb126": {
          "model_module": "@jupyter-widgets/base",
          "model_name": "LayoutModel",
          "model_module_version": "1.2.0",
          "state": {
            "_model_module": "@jupyter-widgets/base",
            "_model_module_version": "1.2.0",
            "_model_name": "LayoutModel",
            "_view_count": null,
            "_view_module": "@jupyter-widgets/base",
            "_view_module_version": "1.2.0",
            "_view_name": "LayoutView",
            "align_content": null,
            "align_items": null,
            "align_self": null,
            "border": null,
            "bottom": null,
            "display": null,
            "flex": null,
            "flex_flow": null,
            "grid_area": null,
            "grid_auto_columns": null,
            "grid_auto_flow": null,
            "grid_auto_rows": null,
            "grid_column": null,
            "grid_gap": null,
            "grid_row": null,
            "grid_template_areas": null,
            "grid_template_columns": null,
            "grid_template_rows": null,
            "height": null,
            "justify_content": null,
            "justify_items": null,
            "left": null,
            "margin": null,
            "max_height": null,
            "max_width": null,
            "min_height": null,
            "min_width": null,
            "object_fit": null,
            "object_position": null,
            "order": null,
            "overflow": null,
            "overflow_x": null,
            "overflow_y": null,
            "padding": null,
            "right": null,
            "top": null,
            "visibility": null,
            "width": null
          }
        },
        "abea218c3ae54a1ea9a3297af5f4cf7d": {
          "model_module": "@jupyter-widgets/controls",
          "model_name": "DescriptionStyleModel",
          "model_module_version": "1.5.0",
          "state": {
            "_model_module": "@jupyter-widgets/controls",
            "_model_module_version": "1.5.0",
            "_model_name": "DescriptionStyleModel",
            "_view_count": null,
            "_view_module": "@jupyter-widgets/base",
            "_view_module_version": "1.2.0",
            "_view_name": "StyleView",
            "description_width": ""
          }
        },
        "49e312d12f8841ecbddcc030f4649c87": {
          "model_module": "@jupyter-widgets/controls",
          "model_name": "HBoxModel",
          "model_module_version": "1.5.0",
          "state": {
            "_dom_classes": [],
            "_model_module": "@jupyter-widgets/controls",
            "_model_module_version": "1.5.0",
            "_model_name": "HBoxModel",
            "_view_count": null,
            "_view_module": "@jupyter-widgets/controls",
            "_view_module_version": "1.5.0",
            "_view_name": "HBoxView",
            "box_style": "",
            "children": [
              "IPY_MODEL_4d55b79c4b39452b9432df3bdbd47a4d",
              "IPY_MODEL_2ef3d6ad38104054a0f24bf8199718e6",
              "IPY_MODEL_899f4cda64f4440bb5229efb6e16ad5b"
            ],
            "layout": "IPY_MODEL_1b49da87040c44018a3b741d9e08f1bd"
          }
        },
        "4d55b79c4b39452b9432df3bdbd47a4d": {
          "model_module": "@jupyter-widgets/controls",
          "model_name": "HTMLModel",
          "model_module_version": "1.5.0",
          "state": {
            "_dom_classes": [],
            "_model_module": "@jupyter-widgets/controls",
            "_model_module_version": "1.5.0",
            "_model_name": "HTMLModel",
            "_view_count": null,
            "_view_module": "@jupyter-widgets/controls",
            "_view_module_version": "1.5.0",
            "_view_name": "HTMLView",
            "description": "",
            "description_tooltip": null,
            "layout": "IPY_MODEL_4639fa1f21ac4f5088ff2da4d799064e",
            "placeholder": "​",
            "style": "IPY_MODEL_c15b745f04034a2fa9602a0d8034eb47",
            "value": "Цикл 2: 100%"
          }
        },
        "2ef3d6ad38104054a0f24bf8199718e6": {
          "model_module": "@jupyter-widgets/controls",
          "model_name": "FloatProgressModel",
          "model_module_version": "1.5.0",
          "state": {
            "_dom_classes": [],
            "_model_module": "@jupyter-widgets/controls",
            "_model_module_version": "1.5.0",
            "_model_name": "FloatProgressModel",
            "_view_count": null,
            "_view_module": "@jupyter-widgets/controls",
            "_view_module_version": "1.5.0",
            "_view_name": "ProgressView",
            "bar_style": "success",
            "description": "",
            "description_tooltip": null,
            "layout": "IPY_MODEL_040a5f71403b4b11bf2c369c74ffff9f",
            "max": 5,
            "min": 0,
            "orientation": "horizontal",
            "style": "IPY_MODEL_c4ebe3694af14263af6ad4d287fb8ebf",
            "value": 5
          }
        },
        "899f4cda64f4440bb5229efb6e16ad5b": {
          "model_module": "@jupyter-widgets/controls",
          "model_name": "HTMLModel",
          "model_module_version": "1.5.0",
          "state": {
            "_dom_classes": [],
            "_model_module": "@jupyter-widgets/controls",
            "_model_module_version": "1.5.0",
            "_model_name": "HTMLModel",
            "_view_count": null,
            "_view_module": "@jupyter-widgets/controls",
            "_view_module_version": "1.5.0",
            "_view_name": "HTMLView",
            "description": "",
            "description_tooltip": null,
            "layout": "IPY_MODEL_0fbc738753294a928166aa2fe8418d61",
            "placeholder": "​",
            "style": "IPY_MODEL_0834478815bd43718c8c223a2153cd08",
            "value": " 5/5 [00:02&lt;00:00,  1.98it/s]"
          }
        },
        "1b49da87040c44018a3b741d9e08f1bd": {
          "model_module": "@jupyter-widgets/base",
          "model_name": "LayoutModel",
          "model_module_version": "1.2.0",
          "state": {
            "_model_module": "@jupyter-widgets/base",
            "_model_module_version": "1.2.0",
            "_model_name": "LayoutModel",
            "_view_count": null,
            "_view_module": "@jupyter-widgets/base",
            "_view_module_version": "1.2.0",
            "_view_name": "LayoutView",
            "align_content": null,
            "align_items": null,
            "align_self": null,
            "border": null,
            "bottom": null,
            "display": null,
            "flex": null,
            "flex_flow": null,
            "grid_area": null,
            "grid_auto_columns": null,
            "grid_auto_flow": null,
            "grid_auto_rows": null,
            "grid_column": null,
            "grid_gap": null,
            "grid_row": null,
            "grid_template_areas": null,
            "grid_template_columns": null,
            "grid_template_rows": null,
            "height": null,
            "justify_content": null,
            "justify_items": null,
            "left": null,
            "margin": null,
            "max_height": null,
            "max_width": null,
            "min_height": null,
            "min_width": null,
            "object_fit": null,
            "object_position": null,
            "order": null,
            "overflow": null,
            "overflow_x": null,
            "overflow_y": null,
            "padding": null,
            "right": null,
            "top": null,
            "visibility": null,
            "width": null
          }
        },
        "4639fa1f21ac4f5088ff2da4d799064e": {
          "model_module": "@jupyter-widgets/base",
          "model_name": "LayoutModel",
          "model_module_version": "1.2.0",
          "state": {
            "_model_module": "@jupyter-widgets/base",
            "_model_module_version": "1.2.0",
            "_model_name": "LayoutModel",
            "_view_count": null,
            "_view_module": "@jupyter-widgets/base",
            "_view_module_version": "1.2.0",
            "_view_name": "LayoutView",
            "align_content": null,
            "align_items": null,
            "align_self": null,
            "border": null,
            "bottom": null,
            "display": null,
            "flex": null,
            "flex_flow": null,
            "grid_area": null,
            "grid_auto_columns": null,
            "grid_auto_flow": null,
            "grid_auto_rows": null,
            "grid_column": null,
            "grid_gap": null,
            "grid_row": null,
            "grid_template_areas": null,
            "grid_template_columns": null,
            "grid_template_rows": null,
            "height": null,
            "justify_content": null,
            "justify_items": null,
            "left": null,
            "margin": null,
            "max_height": null,
            "max_width": null,
            "min_height": null,
            "min_width": null,
            "object_fit": null,
            "object_position": null,
            "order": null,
            "overflow": null,
            "overflow_x": null,
            "overflow_y": null,
            "padding": null,
            "right": null,
            "top": null,
            "visibility": null,
            "width": null
          }
        },
        "c15b745f04034a2fa9602a0d8034eb47": {
          "model_module": "@jupyter-widgets/controls",
          "model_name": "DescriptionStyleModel",
          "model_module_version": "1.5.0",
          "state": {
            "_model_module": "@jupyter-widgets/controls",
            "_model_module_version": "1.5.0",
            "_model_name": "DescriptionStyleModel",
            "_view_count": null,
            "_view_module": "@jupyter-widgets/base",
            "_view_module_version": "1.2.0",
            "_view_name": "StyleView",
            "description_width": ""
          }
        },
        "040a5f71403b4b11bf2c369c74ffff9f": {
          "model_module": "@jupyter-widgets/base",
          "model_name": "LayoutModel",
          "model_module_version": "1.2.0",
          "state": {
            "_model_module": "@jupyter-widgets/base",
            "_model_module_version": "1.2.0",
            "_model_name": "LayoutModel",
            "_view_count": null,
            "_view_module": "@jupyter-widgets/base",
            "_view_module_version": "1.2.0",
            "_view_name": "LayoutView",
            "align_content": null,
            "align_items": null,
            "align_self": null,
            "border": null,
            "bottom": null,
            "display": null,
            "flex": null,
            "flex_flow": null,
            "grid_area": null,
            "grid_auto_columns": null,
            "grid_auto_flow": null,
            "grid_auto_rows": null,
            "grid_column": null,
            "grid_gap": null,
            "grid_row": null,
            "grid_template_areas": null,
            "grid_template_columns": null,
            "grid_template_rows": null,
            "height": null,
            "justify_content": null,
            "justify_items": null,
            "left": null,
            "margin": null,
            "max_height": null,
            "max_width": null,
            "min_height": null,
            "min_width": null,
            "object_fit": null,
            "object_position": null,
            "order": null,
            "overflow": null,
            "overflow_x": null,
            "overflow_y": null,
            "padding": null,
            "right": null,
            "top": null,
            "visibility": null,
            "width": null
          }
        },
        "c4ebe3694af14263af6ad4d287fb8ebf": {
          "model_module": "@jupyter-widgets/controls",
          "model_name": "ProgressStyleModel",
          "model_module_version": "1.5.0",
          "state": {
            "_model_module": "@jupyter-widgets/controls",
            "_model_module_version": "1.5.0",
            "_model_name": "ProgressStyleModel",
            "_view_count": null,
            "_view_module": "@jupyter-widgets/base",
            "_view_module_version": "1.2.0",
            "_view_name": "StyleView",
            "bar_color": null,
            "description_width": ""
          }
        },
        "0fbc738753294a928166aa2fe8418d61": {
          "model_module": "@jupyter-widgets/base",
          "model_name": "LayoutModel",
          "model_module_version": "1.2.0",
          "state": {
            "_model_module": "@jupyter-widgets/base",
            "_model_module_version": "1.2.0",
            "_model_name": "LayoutModel",
            "_view_count": null,
            "_view_module": "@jupyter-widgets/base",
            "_view_module_version": "1.2.0",
            "_view_name": "LayoutView",
            "align_content": null,
            "align_items": null,
            "align_self": null,
            "border": null,
            "bottom": null,
            "display": null,
            "flex": null,
            "flex_flow": null,
            "grid_area": null,
            "grid_auto_columns": null,
            "grid_auto_flow": null,
            "grid_auto_rows": null,
            "grid_column": null,
            "grid_gap": null,
            "grid_row": null,
            "grid_template_areas": null,
            "grid_template_columns": null,
            "grid_template_rows": null,
            "height": null,
            "justify_content": null,
            "justify_items": null,
            "left": null,
            "margin": null,
            "max_height": null,
            "max_width": null,
            "min_height": null,
            "min_width": null,
            "object_fit": null,
            "object_position": null,
            "order": null,
            "overflow": null,
            "overflow_x": null,
            "overflow_y": null,
            "padding": null,
            "right": null,
            "top": null,
            "visibility": null,
            "width": null
          }
        },
        "0834478815bd43718c8c223a2153cd08": {
          "model_module": "@jupyter-widgets/controls",
          "model_name": "DescriptionStyleModel",
          "model_module_version": "1.5.0",
          "state": {
            "_model_module": "@jupyter-widgets/controls",
            "_model_module_version": "1.5.0",
            "_model_name": "DescriptionStyleModel",
            "_view_count": null,
            "_view_module": "@jupyter-widgets/base",
            "_view_module_version": "1.2.0",
            "_view_name": "StyleView",
            "description_width": ""
          }
        },
        "dc70ad6227a9439e832351c38b263ef0": {
          "model_module": "@jupyter-widgets/controls",
          "model_name": "HBoxModel",
          "model_module_version": "1.5.0",
          "state": {
            "_dom_classes": [],
            "_model_module": "@jupyter-widgets/controls",
            "_model_module_version": "1.5.0",
            "_model_name": "HBoxModel",
            "_view_count": null,
            "_view_module": "@jupyter-widgets/controls",
            "_view_module_version": "1.5.0",
            "_view_name": "HBoxView",
            "box_style": "",
            "children": [
              "IPY_MODEL_9e0c2b34101e4697a8d1767bb0f6cf8d",
              "IPY_MODEL_1b993d5dda8b4e5babe2a25a66c6e64f",
              "IPY_MODEL_16237410204a4ad6873ed17c96806aea"
            ],
            "layout": "IPY_MODEL_1b0f85b512414f519197eb49b7438e8a"
          }
        },
        "9e0c2b34101e4697a8d1767bb0f6cf8d": {
          "model_module": "@jupyter-widgets/controls",
          "model_name": "HTMLModel",
          "model_module_version": "1.5.0",
          "state": {
            "_dom_classes": [],
            "_model_module": "@jupyter-widgets/controls",
            "_model_module_version": "1.5.0",
            "_model_name": "HTMLModel",
            "_view_count": null,
            "_view_module": "@jupyter-widgets/controls",
            "_view_module_version": "1.5.0",
            "_view_name": "HTMLView",
            "description": "",
            "description_tooltip": null,
            "layout": "IPY_MODEL_48c8b0dc59ae4cffb82dafd64f269214",
            "placeholder": "​",
            "style": "IPY_MODEL_87860308ab8f401fb202fdeaeb79019e",
            "value": "Цикл 2: 100%"
          }
        },
        "1b993d5dda8b4e5babe2a25a66c6e64f": {
          "model_module": "@jupyter-widgets/controls",
          "model_name": "FloatProgressModel",
          "model_module_version": "1.5.0",
          "state": {
            "_dom_classes": [],
            "_model_module": "@jupyter-widgets/controls",
            "_model_module_version": "1.5.0",
            "_model_name": "FloatProgressModel",
            "_view_count": null,
            "_view_module": "@jupyter-widgets/controls",
            "_view_module_version": "1.5.0",
            "_view_name": "ProgressView",
            "bar_style": "success",
            "description": "",
            "description_tooltip": null,
            "layout": "IPY_MODEL_26834798d8f445558b16cc03427d7408",
            "max": 5,
            "min": 0,
            "orientation": "horizontal",
            "style": "IPY_MODEL_c1df87bf0f67410ba907b661a1365dac",
            "value": 5
          }
        },
        "16237410204a4ad6873ed17c96806aea": {
          "model_module": "@jupyter-widgets/controls",
          "model_name": "HTMLModel",
          "model_module_version": "1.5.0",
          "state": {
            "_dom_classes": [],
            "_model_module": "@jupyter-widgets/controls",
            "_model_module_version": "1.5.0",
            "_model_name": "HTMLModel",
            "_view_count": null,
            "_view_module": "@jupyter-widgets/controls",
            "_view_module_version": "1.5.0",
            "_view_name": "HTMLView",
            "description": "",
            "description_tooltip": null,
            "layout": "IPY_MODEL_8f7920073eb34452936af28a5e5509d2",
            "placeholder": "​",
            "style": "IPY_MODEL_2f88f231e5c146f48ef1feeaa020a94c",
            "value": " 5/5 [00:02&lt;00:00,  1.98it/s]"
          }
        },
        "1b0f85b512414f519197eb49b7438e8a": {
          "model_module": "@jupyter-widgets/base",
          "model_name": "LayoutModel",
          "model_module_version": "1.2.0",
          "state": {
            "_model_module": "@jupyter-widgets/base",
            "_model_module_version": "1.2.0",
            "_model_name": "LayoutModel",
            "_view_count": null,
            "_view_module": "@jupyter-widgets/base",
            "_view_module_version": "1.2.0",
            "_view_name": "LayoutView",
            "align_content": null,
            "align_items": null,
            "align_self": null,
            "border": null,
            "bottom": null,
            "display": null,
            "flex": null,
            "flex_flow": null,
            "grid_area": null,
            "grid_auto_columns": null,
            "grid_auto_flow": null,
            "grid_auto_rows": null,
            "grid_column": null,
            "grid_gap": null,
            "grid_row": null,
            "grid_template_areas": null,
            "grid_template_columns": null,
            "grid_template_rows": null,
            "height": null,
            "justify_content": null,
            "justify_items": null,
            "left": null,
            "margin": null,
            "max_height": null,
            "max_width": null,
            "min_height": null,
            "min_width": null,
            "object_fit": null,
            "object_position": null,
            "order": null,
            "overflow": null,
            "overflow_x": null,
            "overflow_y": null,
            "padding": null,
            "right": null,
            "top": null,
            "visibility": null,
            "width": null
          }
        },
        "48c8b0dc59ae4cffb82dafd64f269214": {
          "model_module": "@jupyter-widgets/base",
          "model_name": "LayoutModel",
          "model_module_version": "1.2.0",
          "state": {
            "_model_module": "@jupyter-widgets/base",
            "_model_module_version": "1.2.0",
            "_model_name": "LayoutModel",
            "_view_count": null,
            "_view_module": "@jupyter-widgets/base",
            "_view_module_version": "1.2.0",
            "_view_name": "LayoutView",
            "align_content": null,
            "align_items": null,
            "align_self": null,
            "border": null,
            "bottom": null,
            "display": null,
            "flex": null,
            "flex_flow": null,
            "grid_area": null,
            "grid_auto_columns": null,
            "grid_auto_flow": null,
            "grid_auto_rows": null,
            "grid_column": null,
            "grid_gap": null,
            "grid_row": null,
            "grid_template_areas": null,
            "grid_template_columns": null,
            "grid_template_rows": null,
            "height": null,
            "justify_content": null,
            "justify_items": null,
            "left": null,
            "margin": null,
            "max_height": null,
            "max_width": null,
            "min_height": null,
            "min_width": null,
            "object_fit": null,
            "object_position": null,
            "order": null,
            "overflow": null,
            "overflow_x": null,
            "overflow_y": null,
            "padding": null,
            "right": null,
            "top": null,
            "visibility": null,
            "width": null
          }
        },
        "87860308ab8f401fb202fdeaeb79019e": {
          "model_module": "@jupyter-widgets/controls",
          "model_name": "DescriptionStyleModel",
          "model_module_version": "1.5.0",
          "state": {
            "_model_module": "@jupyter-widgets/controls",
            "_model_module_version": "1.5.0",
            "_model_name": "DescriptionStyleModel",
            "_view_count": null,
            "_view_module": "@jupyter-widgets/base",
            "_view_module_version": "1.2.0",
            "_view_name": "StyleView",
            "description_width": ""
          }
        },
        "26834798d8f445558b16cc03427d7408": {
          "model_module": "@jupyter-widgets/base",
          "model_name": "LayoutModel",
          "model_module_version": "1.2.0",
          "state": {
            "_model_module": "@jupyter-widgets/base",
            "_model_module_version": "1.2.0",
            "_model_name": "LayoutModel",
            "_view_count": null,
            "_view_module": "@jupyter-widgets/base",
            "_view_module_version": "1.2.0",
            "_view_name": "LayoutView",
            "align_content": null,
            "align_items": null,
            "align_self": null,
            "border": null,
            "bottom": null,
            "display": null,
            "flex": null,
            "flex_flow": null,
            "grid_area": null,
            "grid_auto_columns": null,
            "grid_auto_flow": null,
            "grid_auto_rows": null,
            "grid_column": null,
            "grid_gap": null,
            "grid_row": null,
            "grid_template_areas": null,
            "grid_template_columns": null,
            "grid_template_rows": null,
            "height": null,
            "justify_content": null,
            "justify_items": null,
            "left": null,
            "margin": null,
            "max_height": null,
            "max_width": null,
            "min_height": null,
            "min_width": null,
            "object_fit": null,
            "object_position": null,
            "order": null,
            "overflow": null,
            "overflow_x": null,
            "overflow_y": null,
            "padding": null,
            "right": null,
            "top": null,
            "visibility": null,
            "width": null
          }
        },
        "c1df87bf0f67410ba907b661a1365dac": {
          "model_module": "@jupyter-widgets/controls",
          "model_name": "ProgressStyleModel",
          "model_module_version": "1.5.0",
          "state": {
            "_model_module": "@jupyter-widgets/controls",
            "_model_module_version": "1.5.0",
            "_model_name": "ProgressStyleModel",
            "_view_count": null,
            "_view_module": "@jupyter-widgets/base",
            "_view_module_version": "1.2.0",
            "_view_name": "StyleView",
            "bar_color": null,
            "description_width": ""
          }
        },
        "8f7920073eb34452936af28a5e5509d2": {
          "model_module": "@jupyter-widgets/base",
          "model_name": "LayoutModel",
          "model_module_version": "1.2.0",
          "state": {
            "_model_module": "@jupyter-widgets/base",
            "_model_module_version": "1.2.0",
            "_model_name": "LayoutModel",
            "_view_count": null,
            "_view_module": "@jupyter-widgets/base",
            "_view_module_version": "1.2.0",
            "_view_name": "LayoutView",
            "align_content": null,
            "align_items": null,
            "align_self": null,
            "border": null,
            "bottom": null,
            "display": null,
            "flex": null,
            "flex_flow": null,
            "grid_area": null,
            "grid_auto_columns": null,
            "grid_auto_flow": null,
            "grid_auto_rows": null,
            "grid_column": null,
            "grid_gap": null,
            "grid_row": null,
            "grid_template_areas": null,
            "grid_template_columns": null,
            "grid_template_rows": null,
            "height": null,
            "justify_content": null,
            "justify_items": null,
            "left": null,
            "margin": null,
            "max_height": null,
            "max_width": null,
            "min_height": null,
            "min_width": null,
            "object_fit": null,
            "object_position": null,
            "order": null,
            "overflow": null,
            "overflow_x": null,
            "overflow_y": null,
            "padding": null,
            "right": null,
            "top": null,
            "visibility": null,
            "width": null
          }
        },
        "2f88f231e5c146f48ef1feeaa020a94c": {
          "model_module": "@jupyter-widgets/controls",
          "model_name": "DescriptionStyleModel",
          "model_module_version": "1.5.0",
          "state": {
            "_model_module": "@jupyter-widgets/controls",
            "_model_module_version": "1.5.0",
            "_model_name": "DescriptionStyleModel",
            "_view_count": null,
            "_view_module": "@jupyter-widgets/base",
            "_view_module_version": "1.2.0",
            "_view_name": "StyleView",
            "description_width": ""
          }
        },
        "22f433cafb3747dbb495c6b30b09b319": {
          "model_module": "@jupyter-widgets/controls",
          "model_name": "HBoxModel",
          "model_module_version": "1.5.0",
          "state": {
            "_dom_classes": [],
            "_model_module": "@jupyter-widgets/controls",
            "_model_module_version": "1.5.0",
            "_model_name": "HBoxModel",
            "_view_count": null,
            "_view_module": "@jupyter-widgets/controls",
            "_view_module_version": "1.5.0",
            "_view_name": "HBoxView",
            "box_style": "",
            "children": [
              "IPY_MODEL_2d9b8a9976734b76a643d4635cb7ccfb",
              "IPY_MODEL_804f2756eb5a4cd09b27593b2fefa97b",
              "IPY_MODEL_762aac5f69354a9f9d87848072949b76"
            ],
            "layout": "IPY_MODEL_60c4b70d965d49108babb3fb3268ad5b"
          }
        },
        "2d9b8a9976734b76a643d4635cb7ccfb": {
          "model_module": "@jupyter-widgets/controls",
          "model_name": "HTMLModel",
          "model_module_version": "1.5.0",
          "state": {
            "_dom_classes": [],
            "_model_module": "@jupyter-widgets/controls",
            "_model_module_version": "1.5.0",
            "_model_name": "HTMLModel",
            "_view_count": null,
            "_view_module": "@jupyter-widgets/controls",
            "_view_module_version": "1.5.0",
            "_view_name": "HTMLView",
            "description": "",
            "description_tooltip": null,
            "layout": "IPY_MODEL_e5b7b06e0cf44cf88c7e83a6a9efc426",
            "placeholder": "​",
            "style": "IPY_MODEL_62597ac1d97a4a1a8e3bc32c4f09d139",
            "value": "Цикл 2: 100%"
          }
        },
        "804f2756eb5a4cd09b27593b2fefa97b": {
          "model_module": "@jupyter-widgets/controls",
          "model_name": "FloatProgressModel",
          "model_module_version": "1.5.0",
          "state": {
            "_dom_classes": [],
            "_model_module": "@jupyter-widgets/controls",
            "_model_module_version": "1.5.0",
            "_model_name": "FloatProgressModel",
            "_view_count": null,
            "_view_module": "@jupyter-widgets/controls",
            "_view_module_version": "1.5.0",
            "_view_name": "ProgressView",
            "bar_style": "success",
            "description": "",
            "description_tooltip": null,
            "layout": "IPY_MODEL_91a4eb0bc4b94c3a98f14693296d6a08",
            "max": 5,
            "min": 0,
            "orientation": "horizontal",
            "style": "IPY_MODEL_56fe8dd5850841b2973dda685c4b3274",
            "value": 5
          }
        },
        "762aac5f69354a9f9d87848072949b76": {
          "model_module": "@jupyter-widgets/controls",
          "model_name": "HTMLModel",
          "model_module_version": "1.5.0",
          "state": {
            "_dom_classes": [],
            "_model_module": "@jupyter-widgets/controls",
            "_model_module_version": "1.5.0",
            "_model_name": "HTMLModel",
            "_view_count": null,
            "_view_module": "@jupyter-widgets/controls",
            "_view_module_version": "1.5.0",
            "_view_name": "HTMLView",
            "description": "",
            "description_tooltip": null,
            "layout": "IPY_MODEL_891e52a6a8e6420785d82cec34a148d2",
            "placeholder": "​",
            "style": "IPY_MODEL_23c90e6a65d241a5ba63177599ef2e7a",
            "value": " 5/5 [00:02&lt;00:00,  1.98it/s]"
          }
        },
        "60c4b70d965d49108babb3fb3268ad5b": {
          "model_module": "@jupyter-widgets/base",
          "model_name": "LayoutModel",
          "model_module_version": "1.2.0",
          "state": {
            "_model_module": "@jupyter-widgets/base",
            "_model_module_version": "1.2.0",
            "_model_name": "LayoutModel",
            "_view_count": null,
            "_view_module": "@jupyter-widgets/base",
            "_view_module_version": "1.2.0",
            "_view_name": "LayoutView",
            "align_content": null,
            "align_items": null,
            "align_self": null,
            "border": null,
            "bottom": null,
            "display": null,
            "flex": null,
            "flex_flow": null,
            "grid_area": null,
            "grid_auto_columns": null,
            "grid_auto_flow": null,
            "grid_auto_rows": null,
            "grid_column": null,
            "grid_gap": null,
            "grid_row": null,
            "grid_template_areas": null,
            "grid_template_columns": null,
            "grid_template_rows": null,
            "height": null,
            "justify_content": null,
            "justify_items": null,
            "left": null,
            "margin": null,
            "max_height": null,
            "max_width": null,
            "min_height": null,
            "min_width": null,
            "object_fit": null,
            "object_position": null,
            "order": null,
            "overflow": null,
            "overflow_x": null,
            "overflow_y": null,
            "padding": null,
            "right": null,
            "top": null,
            "visibility": null,
            "width": null
          }
        },
        "e5b7b06e0cf44cf88c7e83a6a9efc426": {
          "model_module": "@jupyter-widgets/base",
          "model_name": "LayoutModel",
          "model_module_version": "1.2.0",
          "state": {
            "_model_module": "@jupyter-widgets/base",
            "_model_module_version": "1.2.0",
            "_model_name": "LayoutModel",
            "_view_count": null,
            "_view_module": "@jupyter-widgets/base",
            "_view_module_version": "1.2.0",
            "_view_name": "LayoutView",
            "align_content": null,
            "align_items": null,
            "align_self": null,
            "border": null,
            "bottom": null,
            "display": null,
            "flex": null,
            "flex_flow": null,
            "grid_area": null,
            "grid_auto_columns": null,
            "grid_auto_flow": null,
            "grid_auto_rows": null,
            "grid_column": null,
            "grid_gap": null,
            "grid_row": null,
            "grid_template_areas": null,
            "grid_template_columns": null,
            "grid_template_rows": null,
            "height": null,
            "justify_content": null,
            "justify_items": null,
            "left": null,
            "margin": null,
            "max_height": null,
            "max_width": null,
            "min_height": null,
            "min_width": null,
            "object_fit": null,
            "object_position": null,
            "order": null,
            "overflow": null,
            "overflow_x": null,
            "overflow_y": null,
            "padding": null,
            "right": null,
            "top": null,
            "visibility": null,
            "width": null
          }
        },
        "62597ac1d97a4a1a8e3bc32c4f09d139": {
          "model_module": "@jupyter-widgets/controls",
          "model_name": "DescriptionStyleModel",
          "model_module_version": "1.5.0",
          "state": {
            "_model_module": "@jupyter-widgets/controls",
            "_model_module_version": "1.5.0",
            "_model_name": "DescriptionStyleModel",
            "_view_count": null,
            "_view_module": "@jupyter-widgets/base",
            "_view_module_version": "1.2.0",
            "_view_name": "StyleView",
            "description_width": ""
          }
        },
        "91a4eb0bc4b94c3a98f14693296d6a08": {
          "model_module": "@jupyter-widgets/base",
          "model_name": "LayoutModel",
          "model_module_version": "1.2.0",
          "state": {
            "_model_module": "@jupyter-widgets/base",
            "_model_module_version": "1.2.0",
            "_model_name": "LayoutModel",
            "_view_count": null,
            "_view_module": "@jupyter-widgets/base",
            "_view_module_version": "1.2.0",
            "_view_name": "LayoutView",
            "align_content": null,
            "align_items": null,
            "align_self": null,
            "border": null,
            "bottom": null,
            "display": null,
            "flex": null,
            "flex_flow": null,
            "grid_area": null,
            "grid_auto_columns": null,
            "grid_auto_flow": null,
            "grid_auto_rows": null,
            "grid_column": null,
            "grid_gap": null,
            "grid_row": null,
            "grid_template_areas": null,
            "grid_template_columns": null,
            "grid_template_rows": null,
            "height": null,
            "justify_content": null,
            "justify_items": null,
            "left": null,
            "margin": null,
            "max_height": null,
            "max_width": null,
            "min_height": null,
            "min_width": null,
            "object_fit": null,
            "object_position": null,
            "order": null,
            "overflow": null,
            "overflow_x": null,
            "overflow_y": null,
            "padding": null,
            "right": null,
            "top": null,
            "visibility": null,
            "width": null
          }
        },
        "56fe8dd5850841b2973dda685c4b3274": {
          "model_module": "@jupyter-widgets/controls",
          "model_name": "ProgressStyleModel",
          "model_module_version": "1.5.0",
          "state": {
            "_model_module": "@jupyter-widgets/controls",
            "_model_module_version": "1.5.0",
            "_model_name": "ProgressStyleModel",
            "_view_count": null,
            "_view_module": "@jupyter-widgets/base",
            "_view_module_version": "1.2.0",
            "_view_name": "StyleView",
            "bar_color": null,
            "description_width": ""
          }
        },
        "891e52a6a8e6420785d82cec34a148d2": {
          "model_module": "@jupyter-widgets/base",
          "model_name": "LayoutModel",
          "model_module_version": "1.2.0",
          "state": {
            "_model_module": "@jupyter-widgets/base",
            "_model_module_version": "1.2.0",
            "_model_name": "LayoutModel",
            "_view_count": null,
            "_view_module": "@jupyter-widgets/base",
            "_view_module_version": "1.2.0",
            "_view_name": "LayoutView",
            "align_content": null,
            "align_items": null,
            "align_self": null,
            "border": null,
            "bottom": null,
            "display": null,
            "flex": null,
            "flex_flow": null,
            "grid_area": null,
            "grid_auto_columns": null,
            "grid_auto_flow": null,
            "grid_auto_rows": null,
            "grid_column": null,
            "grid_gap": null,
            "grid_row": null,
            "grid_template_areas": null,
            "grid_template_columns": null,
            "grid_template_rows": null,
            "height": null,
            "justify_content": null,
            "justify_items": null,
            "left": null,
            "margin": null,
            "max_height": null,
            "max_width": null,
            "min_height": null,
            "min_width": null,
            "object_fit": null,
            "object_position": null,
            "order": null,
            "overflow": null,
            "overflow_x": null,
            "overflow_y": null,
            "padding": null,
            "right": null,
            "top": null,
            "visibility": null,
            "width": null
          }
        },
        "23c90e6a65d241a5ba63177599ef2e7a": {
          "model_module": "@jupyter-widgets/controls",
          "model_name": "DescriptionStyleModel",
          "model_module_version": "1.5.0",
          "state": {
            "_model_module": "@jupyter-widgets/controls",
            "_model_module_version": "1.5.0",
            "_model_name": "DescriptionStyleModel",
            "_view_count": null,
            "_view_module": "@jupyter-widgets/base",
            "_view_module_version": "1.2.0",
            "_view_name": "StyleView",
            "description_width": ""
          }
        },
        "ab3aace24a38427e8a2940c600c4a68a": {
          "model_module": "@jupyter-widgets/controls",
          "model_name": "HBoxModel",
          "model_module_version": "1.5.0",
          "state": {
            "_dom_classes": [],
            "_model_module": "@jupyter-widgets/controls",
            "_model_module_version": "1.5.0",
            "_model_name": "HBoxModel",
            "_view_count": null,
            "_view_module": "@jupyter-widgets/controls",
            "_view_module_version": "1.5.0",
            "_view_name": "HBoxView",
            "box_style": "",
            "children": [
              "IPY_MODEL_cf783d43714749e5a9925d2c038f1a1c",
              "IPY_MODEL_4267aa24a1b44b9bb188bac37409610d",
              "IPY_MODEL_08c2ff2ea4274c818486056924e8399e"
            ],
            "layout": "IPY_MODEL_c1b5a92f9feb4e3f95a9b79467124791"
          }
        },
        "cf783d43714749e5a9925d2c038f1a1c": {
          "model_module": "@jupyter-widgets/controls",
          "model_name": "HTMLModel",
          "model_module_version": "1.5.0",
          "state": {
            "_dom_classes": [],
            "_model_module": "@jupyter-widgets/controls",
            "_model_module_version": "1.5.0",
            "_model_name": "HTMLModel",
            "_view_count": null,
            "_view_module": "@jupyter-widgets/controls",
            "_view_module_version": "1.5.0",
            "_view_name": "HTMLView",
            "description": "",
            "description_tooltip": null,
            "layout": "IPY_MODEL_2f9cf14cda6f42eab9b7da6f970c62c1",
            "placeholder": "​",
            "style": "IPY_MODEL_bf51705944de47ebbb8365b481e6de77",
            "value": "Цикл 2: 100%"
          }
        },
        "4267aa24a1b44b9bb188bac37409610d": {
          "model_module": "@jupyter-widgets/controls",
          "model_name": "FloatProgressModel",
          "model_module_version": "1.5.0",
          "state": {
            "_dom_classes": [],
            "_model_module": "@jupyter-widgets/controls",
            "_model_module_version": "1.5.0",
            "_model_name": "FloatProgressModel",
            "_view_count": null,
            "_view_module": "@jupyter-widgets/controls",
            "_view_module_version": "1.5.0",
            "_view_name": "ProgressView",
            "bar_style": "success",
            "description": "",
            "description_tooltip": null,
            "layout": "IPY_MODEL_04cddb78fadf472dbf5a0a2b7f2cd80e",
            "max": 5,
            "min": 0,
            "orientation": "horizontal",
            "style": "IPY_MODEL_cc8cc31550db4fa9a730034df5e7c0a1",
            "value": 5
          }
        },
        "08c2ff2ea4274c818486056924e8399e": {
          "model_module": "@jupyter-widgets/controls",
          "model_name": "HTMLModel",
          "model_module_version": "1.5.0",
          "state": {
            "_dom_classes": [],
            "_model_module": "@jupyter-widgets/controls",
            "_model_module_version": "1.5.0",
            "_model_name": "HTMLModel",
            "_view_count": null,
            "_view_module": "@jupyter-widgets/controls",
            "_view_module_version": "1.5.0",
            "_view_name": "HTMLView",
            "description": "",
            "description_tooltip": null,
            "layout": "IPY_MODEL_eb8f15761466454fa0da9f86b252a461",
            "placeholder": "​",
            "style": "IPY_MODEL_4f97508ad490409e84c534c2fc93f46b",
            "value": " 5/5 [00:02&lt;00:00,  1.98it/s]"
          }
        },
        "c1b5a92f9feb4e3f95a9b79467124791": {
          "model_module": "@jupyter-widgets/base",
          "model_name": "LayoutModel",
          "model_module_version": "1.2.0",
          "state": {
            "_model_module": "@jupyter-widgets/base",
            "_model_module_version": "1.2.0",
            "_model_name": "LayoutModel",
            "_view_count": null,
            "_view_module": "@jupyter-widgets/base",
            "_view_module_version": "1.2.0",
            "_view_name": "LayoutView",
            "align_content": null,
            "align_items": null,
            "align_self": null,
            "border": null,
            "bottom": null,
            "display": null,
            "flex": null,
            "flex_flow": null,
            "grid_area": null,
            "grid_auto_columns": null,
            "grid_auto_flow": null,
            "grid_auto_rows": null,
            "grid_column": null,
            "grid_gap": null,
            "grid_row": null,
            "grid_template_areas": null,
            "grid_template_columns": null,
            "grid_template_rows": null,
            "height": null,
            "justify_content": null,
            "justify_items": null,
            "left": null,
            "margin": null,
            "max_height": null,
            "max_width": null,
            "min_height": null,
            "min_width": null,
            "object_fit": null,
            "object_position": null,
            "order": null,
            "overflow": null,
            "overflow_x": null,
            "overflow_y": null,
            "padding": null,
            "right": null,
            "top": null,
            "visibility": null,
            "width": null
          }
        },
        "2f9cf14cda6f42eab9b7da6f970c62c1": {
          "model_module": "@jupyter-widgets/base",
          "model_name": "LayoutModel",
          "model_module_version": "1.2.0",
          "state": {
            "_model_module": "@jupyter-widgets/base",
            "_model_module_version": "1.2.0",
            "_model_name": "LayoutModel",
            "_view_count": null,
            "_view_module": "@jupyter-widgets/base",
            "_view_module_version": "1.2.0",
            "_view_name": "LayoutView",
            "align_content": null,
            "align_items": null,
            "align_self": null,
            "border": null,
            "bottom": null,
            "display": null,
            "flex": null,
            "flex_flow": null,
            "grid_area": null,
            "grid_auto_columns": null,
            "grid_auto_flow": null,
            "grid_auto_rows": null,
            "grid_column": null,
            "grid_gap": null,
            "grid_row": null,
            "grid_template_areas": null,
            "grid_template_columns": null,
            "grid_template_rows": null,
            "height": null,
            "justify_content": null,
            "justify_items": null,
            "left": null,
            "margin": null,
            "max_height": null,
            "max_width": null,
            "min_height": null,
            "min_width": null,
            "object_fit": null,
            "object_position": null,
            "order": null,
            "overflow": null,
            "overflow_x": null,
            "overflow_y": null,
            "padding": null,
            "right": null,
            "top": null,
            "visibility": null,
            "width": null
          }
        },
        "bf51705944de47ebbb8365b481e6de77": {
          "model_module": "@jupyter-widgets/controls",
          "model_name": "DescriptionStyleModel",
          "model_module_version": "1.5.0",
          "state": {
            "_model_module": "@jupyter-widgets/controls",
            "_model_module_version": "1.5.0",
            "_model_name": "DescriptionStyleModel",
            "_view_count": null,
            "_view_module": "@jupyter-widgets/base",
            "_view_module_version": "1.2.0",
            "_view_name": "StyleView",
            "description_width": ""
          }
        },
        "04cddb78fadf472dbf5a0a2b7f2cd80e": {
          "model_module": "@jupyter-widgets/base",
          "model_name": "LayoutModel",
          "model_module_version": "1.2.0",
          "state": {
            "_model_module": "@jupyter-widgets/base",
            "_model_module_version": "1.2.0",
            "_model_name": "LayoutModel",
            "_view_count": null,
            "_view_module": "@jupyter-widgets/base",
            "_view_module_version": "1.2.0",
            "_view_name": "LayoutView",
            "align_content": null,
            "align_items": null,
            "align_self": null,
            "border": null,
            "bottom": null,
            "display": null,
            "flex": null,
            "flex_flow": null,
            "grid_area": null,
            "grid_auto_columns": null,
            "grid_auto_flow": null,
            "grid_auto_rows": null,
            "grid_column": null,
            "grid_gap": null,
            "grid_row": null,
            "grid_template_areas": null,
            "grid_template_columns": null,
            "grid_template_rows": null,
            "height": null,
            "justify_content": null,
            "justify_items": null,
            "left": null,
            "margin": null,
            "max_height": null,
            "max_width": null,
            "min_height": null,
            "min_width": null,
            "object_fit": null,
            "object_position": null,
            "order": null,
            "overflow": null,
            "overflow_x": null,
            "overflow_y": null,
            "padding": null,
            "right": null,
            "top": null,
            "visibility": null,
            "width": null
          }
        },
        "cc8cc31550db4fa9a730034df5e7c0a1": {
          "model_module": "@jupyter-widgets/controls",
          "model_name": "ProgressStyleModel",
          "model_module_version": "1.5.0",
          "state": {
            "_model_module": "@jupyter-widgets/controls",
            "_model_module_version": "1.5.0",
            "_model_name": "ProgressStyleModel",
            "_view_count": null,
            "_view_module": "@jupyter-widgets/base",
            "_view_module_version": "1.2.0",
            "_view_name": "StyleView",
            "bar_color": null,
            "description_width": ""
          }
        },
        "eb8f15761466454fa0da9f86b252a461": {
          "model_module": "@jupyter-widgets/base",
          "model_name": "LayoutModel",
          "model_module_version": "1.2.0",
          "state": {
            "_model_module": "@jupyter-widgets/base",
            "_model_module_version": "1.2.0",
            "_model_name": "LayoutModel",
            "_view_count": null,
            "_view_module": "@jupyter-widgets/base",
            "_view_module_version": "1.2.0",
            "_view_name": "LayoutView",
            "align_content": null,
            "align_items": null,
            "align_self": null,
            "border": null,
            "bottom": null,
            "display": null,
            "flex": null,
            "flex_flow": null,
            "grid_area": null,
            "grid_auto_columns": null,
            "grid_auto_flow": null,
            "grid_auto_rows": null,
            "grid_column": null,
            "grid_gap": null,
            "grid_row": null,
            "grid_template_areas": null,
            "grid_template_columns": null,
            "grid_template_rows": null,
            "height": null,
            "justify_content": null,
            "justify_items": null,
            "left": null,
            "margin": null,
            "max_height": null,
            "max_width": null,
            "min_height": null,
            "min_width": null,
            "object_fit": null,
            "object_position": null,
            "order": null,
            "overflow": null,
            "overflow_x": null,
            "overflow_y": null,
            "padding": null,
            "right": null,
            "top": null,
            "visibility": null,
            "width": null
          }
        },
        "4f97508ad490409e84c534c2fc93f46b": {
          "model_module": "@jupyter-widgets/controls",
          "model_name": "DescriptionStyleModel",
          "model_module_version": "1.5.0",
          "state": {
            "_model_module": "@jupyter-widgets/controls",
            "_model_module_version": "1.5.0",
            "_model_name": "DescriptionStyleModel",
            "_view_count": null,
            "_view_module": "@jupyter-widgets/base",
            "_view_module_version": "1.2.0",
            "_view_name": "StyleView",
            "description_width": ""
          }
        }
      }
    }
  },
  "cells": [
    {
      "cell_type": "markdown",
      "metadata": {
        "id": "F-ZHzH0rByGn"
      },
      "source": [
        "# **Лекция №4**\n",
        "##**Курс \"Прикладное программирование систем безопасности\"**  \n",
        "*Специальность \"Информационная безопасность автоматизированных систем\", 2(3) курс, 1 семестр*  \n",
        "\n",
        "Содержание:\n",
        "1.   Модуль os.\n",
        "2.   Работа с файлами.\n",
        "3.   Демонстрация процесса работы.\n",
        "4.   Аргументы командной строки."
      ]
    },
    {
      "cell_type": "markdown",
      "metadata": {
        "id": "sA11z6EJC-AR"
      },
      "source": [
        "##1. Модуль os"
      ]
    },
    {
      "cell_type": "markdown",
      "metadata": {
        "id": "Vv1bx-2dDcK2"
      },
      "source": [
        "В [документации](https://docs.python.org/3/library/os.html) данный модуль озаглавлен как __\"miscellaneous operating system interfaces\"__. Он содержит различный функционал для взаимодействия с операционной системой.  \n",
        "\n",
        "Поведение функций данного модуля (по идее) не должно зависеть от ОС и тем самым обеспечивать переносимость  программ. Однако на самом деле не все функции модуля поддерживаются всеми ОС.\n",
        "\n",
        "Рассмотрим некоторые из возможностей этого модуля."
      ]
    },
    {
      "cell_type": "code",
      "metadata": {
        "id": "7DK_Y3gmH29R"
      },
      "source": [
        "#импортируем модуль\n",
        "import os"
      ],
      "execution_count": null,
      "outputs": []
    },
    {
      "cell_type": "markdown",
      "metadata": {
        "id": "nR0mZdZTHzNB"
      },
      "source": [
        "###os.name, os.uname()"
      ]
    },
    {
      "cell_type": "markdown",
      "metadata": {
        "id": "2EVshU7rLs8k"
      },
      "source": [
        "__os.name__ - возвращает имя операционной системы,  \n",
        "__os.uname()__ - возвращает объект с атрибутами, описывающими текущую ОС."
      ]
    },
    {
      "cell_type": "code",
      "metadata": {
        "colab": {
          "base_uri": "https://localhost:8080/",
          "height": 35
        },
        "id": "gmh99mkCMC--",
        "outputId": "4b55bdd4-c589-4c0b-988c-06774dafcd5e"
      },
      "source": [
        "# как мы уже в курсе, в колабе мы работаем на unixовой виртуалке\n",
        "os.name"
      ],
      "execution_count": null,
      "outputs": [
        {
          "output_type": "execute_result",
          "data": {
            "text/plain": [
              "'posix'"
            ],
            "application/vnd.google.colaboratory.intrinsic+json": {
              "type": "string"
            }
          },
          "metadata": {},
          "execution_count": 2
        }
      ]
    },
    {
      "cell_type": "code",
      "metadata": {
        "colab": {
          "base_uri": "https://localhost:8080/"
        },
        "id": "lmfg_CjkMPRk",
        "outputId": "ee439e89-d98a-489d-924e-32c14735b026"
      },
      "source": [
        "# как можно выяснить из результатов выполнения этой функции, мы обитаем на smp-машине\n",
        "# что в целом тоже довольно очевидно, так как это простой и дешевый способ масштабирования\n",
        "# подробнее про SMP-архитектуру можно узнать в интернете, например, тут - https://kpfu.ru/portal/docs/F1799539540/SMP.pdf\n",
        "os.uname()"
      ],
      "execution_count": null,
      "outputs": [
        {
          "output_type": "execute_result",
          "data": {
            "text/plain": [
              "posix.uname_result(sysname='Linux', nodename='68bb4e4a088b', release='5.15.120+', version='#1 SMP Wed Aug 30 11:19:59 UTC 2023', machine='x86_64')"
            ]
          },
          "metadata": {},
          "execution_count": 3
        }
      ]
    },
    {
      "cell_type": "markdown",
      "metadata": {
        "id": "s9_FGcuqH4up"
      },
      "source": [
        "###os.environ, os.getenv()"
      ]
    },
    {
      "cell_type": "markdown",
      "metadata": {
        "id": "KTQWleq1OE8V"
      },
      "source": [
        "__os.environ__ - изменяемый словарь переменных окружения,  \n",
        "__os.getenv()__ - метод для доступа к отдельным его значениям."
      ]
    },
    {
      "cell_type": "code",
      "metadata": {
        "colab": {
          "base_uri": "https://localhost:8080/"
        },
        "id": "qwTH4HYVO1cB",
        "outputId": "7c3d042d-d412-4e38-ac08-e98e19d5f0b6"
      },
      "source": [
        "# посмотрим на набор переменных окружения в колабе\n",
        "os.environ"
      ],
      "execution_count": null,
      "outputs": [
        {
          "output_type": "execute_result",
          "data": {
            "text/plain": [
              "environ{'SHELL': '/bin/bash',\n",
              "        'NV_LIBCUBLAS_VERSION': '11.11.3.6-1',\n",
              "        'NVIDIA_VISIBLE_DEVICES': 'all',\n",
              "        'COLAB_JUPYTER_TRANSPORT': 'ipc',\n",
              "        'NV_NVML_DEV_VERSION': '11.8.86-1',\n",
              "        'NV_CUDNN_PACKAGE_NAME': 'libcudnn8',\n",
              "        'CGROUP_MEMORY_EVENTS': '/sys/fs/cgroup/memory.events /var/colab/cgroup/jupyter-children/memory.events',\n",
              "        'NV_LIBNCCL_DEV_PACKAGE': 'libnccl-dev=2.15.5-1+cuda11.8',\n",
              "        'NV_LIBNCCL_DEV_PACKAGE_VERSION': '2.15.5-1',\n",
              "        'VM_GCE_METADATA_HOST': '169.254.169.253',\n",
              "        'HOSTNAME': '68bb4e4a088b',\n",
              "        'LANGUAGE': 'en_US',\n",
              "        'TBE_RUNTIME_ADDR': '172.28.0.1:8011',\n",
              "        'GCE_METADATA_TIMEOUT': '3',\n",
              "        'NVIDIA_REQUIRE_CUDA': 'cuda>=11.8 brand=tesla,driver>=450,driver<451 brand=tesla,driver>=470,driver<471 brand=unknown,driver>=470,driver<471 brand=nvidia,driver>=470,driver<471 brand=nvidiartx,driver>=470,driver<471 brand=geforce,driver>=470,driver<471 brand=geforcertx,driver>=470,driver<471 brand=quadro,driver>=470,driver<471 brand=quadrortx,driver>=470,driver<471 brand=titan,driver>=470,driver<471 brand=titanrtx,driver>=470,driver<471 brand=tesla,driver>=510,driver<511 brand=unknown,driver>=510,driver<511 brand=nvidia,driver>=510,driver<511 brand=nvidiartx,driver>=510,driver<511 brand=geforce,driver>=510,driver<511 brand=geforcertx,driver>=510,driver<511 brand=quadro,driver>=510,driver<511 brand=quadrortx,driver>=510,driver<511 brand=titan,driver>=510,driver<511 brand=titanrtx,driver>=510,driver<511 brand=tesla,driver>=515,driver<516 brand=unknown,driver>=515,driver<516 brand=nvidia,driver>=515,driver<516 brand=nvidiartx,driver>=515,driver<516 brand=geforce,driver>=515,driver<516 brand=geforcertx,driver>=515,driver<516 brand=quadro,driver>=515,driver<516 brand=quadrortx,driver>=515,driver<516 brand=titan,driver>=515,driver<516 brand=titanrtx,driver>=515,driver<516',\n",
              "        'NV_LIBCUBLAS_DEV_PACKAGE': 'libcublas-dev-11-8=11.11.3.6-1',\n",
              "        'NV_NVTX_VERSION': '11.8.86-1',\n",
              "        'COLAB_JUPYTER_IP': '172.28.0.12',\n",
              "        'NV_CUDA_CUDART_DEV_VERSION': '11.8.89-1',\n",
              "        'NV_LIBCUSPARSE_VERSION': '11.7.5.86-1',\n",
              "        'COLAB_LANGUAGE_SERVER_PROXY_ROOT_URL': 'http://172.28.0.1:8013/',\n",
              "        'NV_LIBNPP_VERSION': '11.8.0.86-1',\n",
              "        'NCCL_VERSION': '2.15.5-1',\n",
              "        'KMP_LISTEN_PORT': '6000',\n",
              "        'TF_FORCE_GPU_ALLOW_GROWTH': 'true',\n",
              "        'ENV': '/root/.bashrc',\n",
              "        'PWD': '/',\n",
              "        'TBE_EPHEM_CREDS_ADDR': '172.28.0.1:8009',\n",
              "        'COLAB_LANGUAGE_SERVER_PROXY_REQUEST_TIMEOUT': '30s',\n",
              "        'TBE_CREDS_ADDR': '172.28.0.1:8008',\n",
              "        'NV_CUDNN_PACKAGE': 'libcudnn8=8.9.0.131-1+cuda11.8',\n",
              "        'NVIDIA_DRIVER_CAPABILITIES': 'compute,utility',\n",
              "        'COLAB_JUPYTER_TOKEN': '',\n",
              "        'LAST_FORCED_REBUILD': '20230825',\n",
              "        'NV_NVPROF_DEV_PACKAGE': 'cuda-nvprof-11-8=11.8.87-1',\n",
              "        'NV_LIBNPP_PACKAGE': 'libnpp-11-8=11.8.0.86-1',\n",
              "        'NV_LIBNCCL_DEV_PACKAGE_NAME': 'libnccl-dev',\n",
              "        'TCLLIBPATH': '/usr/share/tcltk/tcllib1.20',\n",
              "        'NV_LIBCUBLAS_DEV_VERSION': '11.11.3.6-1',\n",
              "        'NVIDIA_PRODUCT_NAME': 'CUDA',\n",
              "        'COLAB_KERNEL_MANAGER_PROXY_HOST': '172.28.0.12',\n",
              "        'NV_LIBCUBLAS_DEV_PACKAGE_NAME': 'libcublas-dev-11-8',\n",
              "        'NV_CUDA_CUDART_VERSION': '11.8.89-1',\n",
              "        'HOME': '/root',\n",
              "        'LANG': 'en_US.UTF-8',\n",
              "        'CUDA_VERSION': '11.8.0',\n",
              "        'CLOUDSDK_CONFIG': '/content/.config',\n",
              "        'NV_LIBCUBLAS_PACKAGE': 'libcublas-11-8=11.11.3.6-1',\n",
              "        'NV_CUDA_NSIGHT_COMPUTE_DEV_PACKAGE': 'cuda-nsight-compute-11-8=11.8.0-1',\n",
              "        'COLAB_RELEASE_TAG': 'release-colab_20230921-060057_RC00',\n",
              "        'KMP_TARGET_PORT': '9000',\n",
              "        'KMP_EXTRA_ARGS': '--logtostderr --listen_host=172.28.0.12 --target_host=172.28.0.12 --tunnel_background_save_url=https://colab.research.google.com/tun/m/cc48301118ce562b961b3c22d803539adc1e0c19/m-s-urt63ssnx94y --tunnel_background_save_delay=10s --tunnel_periodic_background_save_frequency=30m0s --enable_output_coalescing=true --output_coalescing_required=true',\n",
              "        'NV_LIBNPP_DEV_PACKAGE': 'libnpp-dev-11-8=11.8.0.86-1',\n",
              "        'NV_LIBCUBLAS_PACKAGE_NAME': 'libcublas-11-8',\n",
              "        'COLAB_KERNEL_MANAGER_PROXY_PORT': '6000',\n",
              "        'CLOUDSDK_PYTHON': 'python3',\n",
              "        'NV_LIBNPP_DEV_VERSION': '11.8.0.86-1',\n",
              "        'NO_GCE_CHECK': 'False',\n",
              "        'PYTHONPATH': '/env/python',\n",
              "        'NV_LIBCUSPARSE_DEV_VERSION': '11.7.5.86-1',\n",
              "        'LIBRARY_PATH': '/usr/local/cuda/lib64/stubs',\n",
              "        'NV_CUDNN_VERSION': '8.9.0.131',\n",
              "        'SHLVL': '0',\n",
              "        'NV_CUDA_LIB_VERSION': '11.8.0-1',\n",
              "        'COLAB_LANGUAGE_SERVER_PROXY': '/usr/colab/bin/language_service',\n",
              "        'NVARCH': 'x86_64',\n",
              "        'NV_CUDNN_PACKAGE_DEV': 'libcudnn8-dev=8.9.0.131-1+cuda11.8',\n",
              "        'NV_CUDA_COMPAT_PACKAGE': 'cuda-compat-11-8',\n",
              "        'NV_LIBNCCL_PACKAGE': 'libnccl2=2.15.5-1+cuda11.8',\n",
              "        'LD_LIBRARY_PATH': '/usr/local/nvidia/lib:/usr/local/nvidia/lib64',\n",
              "        'COLAB_GPU': '',\n",
              "        'NV_CUDA_NSIGHT_COMPUTE_VERSION': '11.8.0-1',\n",
              "        'GCS_READ_CACHE_BLOCK_SIZE_MB': '16',\n",
              "        'NV_NVPROF_VERSION': '11.8.87-1',\n",
              "        'LC_ALL': 'en_US.UTF-8',\n",
              "        'COLAB_FILE_HANDLER_ADDR': 'localhost:3453',\n",
              "        'PATH': '/opt/bin:/usr/local/nvidia/bin:/usr/local/cuda/bin:/usr/local/sbin:/usr/local/bin:/usr/sbin:/usr/bin:/sbin:/bin:/tools/node/bin:/tools/google-cloud-sdk/bin',\n",
              "        'NV_LIBNCCL_PACKAGE_NAME': 'libnccl2',\n",
              "        'COLAB_DEBUG_ADAPTER_MUX_PATH': '/usr/local/bin/dap_multiplexer',\n",
              "        'NV_LIBNCCL_PACKAGE_VERSION': '2.15.5-1',\n",
              "        'PYTHONWARNINGS': 'ignore:::pip._internal.cli.base_command',\n",
              "        'DEBIAN_FRONTEND': 'noninteractive',\n",
              "        'COLAB_BACKEND_VERSION': 'next',\n",
              "        'OLDPWD': '/',\n",
              "        'JPY_PARENT_PID': '79',\n",
              "        'TERM': 'xterm-color',\n",
              "        'CLICOLOR': '1',\n",
              "        'PAGER': 'cat',\n",
              "        'GIT_PAGER': 'cat',\n",
              "        'MPLBACKEND': 'module://ipykernel.pylab.backend_inline',\n",
              "        'ENABLE_DIRECTORYPREFETCHER': '1',\n",
              "        'USE_AUTH_EPHEM': '1',\n",
              "        'PYDEVD_USE_FRAME_EVAL': 'NO'}"
            ]
          },
          "metadata": {},
          "execution_count": 4
        }
      ]
    },
    {
      "cell_type": "code",
      "metadata": {
        "colab": {
          "base_uri": "https://localhost:8080/",
          "height": 375
        },
        "id": "-k7wHqHgS390",
        "outputId": "1e9396e7-0dd7-4be9-d7a1-93e11bb6b0de"
      },
      "source": [
        "# по ключам можно получить доступ к отдельным значениям обычными словарными методами\n",
        "print(os.environ['CUDA_VERSION']) # как видно, в колабе есть возможность использовать графические ускорители для расчетов\n",
        "print(os.environ['CUDNN_VERSION']) # и даже обучать при их помощи нейросети"
      ],
      "execution_count": null,
      "outputs": [
        {
          "output_type": "stream",
          "name": "stdout",
          "text": [
            "11.8.0\n"
          ]
        },
        {
          "output_type": "error",
          "ename": "KeyError",
          "evalue": "ignored",
          "traceback": [
            "\u001b[0;31m---------------------------------------------------------------------------\u001b[0m",
            "\u001b[0;31mKeyError\u001b[0m                                  Traceback (most recent call last)",
            "\u001b[0;32m<ipython-input-5-2c21c442a5c7>\u001b[0m in \u001b[0;36m<cell line: 3>\u001b[0;34m()\u001b[0m\n\u001b[1;32m      1\u001b[0m \u001b[0;31m# по ключам можно получить доступ к отдельным значениям обычными словарными методами\u001b[0m\u001b[0;34m\u001b[0m\u001b[0;34m\u001b[0m\u001b[0m\n\u001b[1;32m      2\u001b[0m \u001b[0mprint\u001b[0m\u001b[0;34m(\u001b[0m\u001b[0mos\u001b[0m\u001b[0;34m.\u001b[0m\u001b[0menviron\u001b[0m\u001b[0;34m[\u001b[0m\u001b[0;34m'CUDA_VERSION'\u001b[0m\u001b[0;34m]\u001b[0m\u001b[0;34m)\u001b[0m \u001b[0;31m# как видно, в колабе есть возможность использовать графические ускорители для расчетов\u001b[0m\u001b[0;34m\u001b[0m\u001b[0;34m\u001b[0m\u001b[0m\n\u001b[0;32m----> 3\u001b[0;31m \u001b[0mprint\u001b[0m\u001b[0;34m(\u001b[0m\u001b[0mos\u001b[0m\u001b[0;34m.\u001b[0m\u001b[0menviron\u001b[0m\u001b[0;34m[\u001b[0m\u001b[0;34m'CUDNN_VERSION'\u001b[0m\u001b[0;34m]\u001b[0m\u001b[0;34m)\u001b[0m \u001b[0;31m# и даже обучать при их помощи нейросети\u001b[0m\u001b[0;34m\u001b[0m\u001b[0;34m\u001b[0m\u001b[0m\n\u001b[0m",
            "\u001b[0;32m/usr/lib/python3.10/os.py\u001b[0m in \u001b[0;36m__getitem__\u001b[0;34m(self, key)\u001b[0m\n\u001b[1;32m    678\u001b[0m         \u001b[0;32mexcept\u001b[0m \u001b[0mKeyError\u001b[0m\u001b[0;34m:\u001b[0m\u001b[0;34m\u001b[0m\u001b[0;34m\u001b[0m\u001b[0m\n\u001b[1;32m    679\u001b[0m             \u001b[0;31m# raise KeyError with the original key value\u001b[0m\u001b[0;34m\u001b[0m\u001b[0;34m\u001b[0m\u001b[0m\n\u001b[0;32m--> 680\u001b[0;31m             \u001b[0;32mraise\u001b[0m \u001b[0mKeyError\u001b[0m\u001b[0;34m(\u001b[0m\u001b[0mkey\u001b[0m\u001b[0;34m)\u001b[0m \u001b[0;32mfrom\u001b[0m \u001b[0;32mNone\u001b[0m\u001b[0;34m\u001b[0m\u001b[0;34m\u001b[0m\u001b[0m\n\u001b[0m\u001b[1;32m    681\u001b[0m         \u001b[0;32mreturn\u001b[0m \u001b[0mself\u001b[0m\u001b[0;34m.\u001b[0m\u001b[0mdecodevalue\u001b[0m\u001b[0;34m(\u001b[0m\u001b[0mvalue\u001b[0m\u001b[0;34m)\u001b[0m\u001b[0;34m\u001b[0m\u001b[0;34m\u001b[0m\u001b[0m\n\u001b[1;32m    682\u001b[0m \u001b[0;34m\u001b[0m\u001b[0m\n",
            "\u001b[0;31mKeyError\u001b[0m: 'CUDNN_VERSION'"
          ]
        }
      ]
    },
    {
      "cell_type": "code",
      "metadata": {
        "colab": {
          "base_uri": "https://localhost:8080/"
        },
        "id": "DRe-b8FiVbC5",
        "outputId": "e98af312-da6c-4519-bea3-7753500b6e5e"
      },
      "source": [
        "# либо можно воспользоваться отдельным методом для получения значения\n",
        "print(os.getenv('CUDA_VERSION'))\n",
        "print(os.getenv('CUDNN_VERSION'))\n"
      ],
      "execution_count": null,
      "outputs": [
        {
          "output_type": "stream",
          "name": "stdout",
          "text": [
            "11.1.1\n",
            "None\n"
          ]
        }
      ]
    },
    {
      "cell_type": "code",
      "metadata": {
        "colab": {
          "base_uri": "https://localhost:8080/"
        },
        "id": "t3YaLRa0XcIO",
        "outputId": "887bd940-5946-48d5-961f-d5e32d12cb64"
      },
      "source": [
        "# словарь изменяемый, так что добавлять в него значения и изменять их можно\n",
        "os.environ['my_env']='i like cats'\n",
        "print(os.getenv('my_env'))\n",
        "os.environ['my_env']='i like dogs'\n",
        "print(os.getenv('my_env'))"
      ],
      "execution_count": null,
      "outputs": [
        {
          "output_type": "stream",
          "name": "stdout",
          "text": [
            "i like cats\n",
            "i like dogs\n"
          ]
        }
      ]
    },
    {
      "cell_type": "code",
      "metadata": {
        "colab": {
          "base_uri": "https://localhost:8080/"
        },
        "id": "8HQebkOlYlwN",
        "outputId": "88381e23-af18-4e29-f037-07b781d7a331"
      },
      "source": [
        "# как и удалять\n",
        "del os.environ['my_env']\n",
        "print(os.getenv('my_env'))\n",
        "# тут видно преимущество использования отдельного метода для получения значения\n",
        "try:\n",
        "  print(os.environ['my_env'])\n",
        "except Exception as e:\n",
        "  print(f'{type(e)} : {e}')\n"
      ],
      "execution_count": null,
      "outputs": [
        {
          "output_type": "stream",
          "name": "stdout",
          "text": [
            "None\n",
            "<class 'KeyError'> : 'my_env'\n"
          ]
        }
      ]
    },
    {
      "cell_type": "markdown",
      "metadata": {
        "id": "2z0MmIdHIDgv"
      },
      "source": [
        "###os.chdir(), os.getcwd()"
      ]
    },
    {
      "cell_type": "markdown",
      "metadata": {
        "id": "-u6qdasqZ_KD"
      },
      "source": [
        "__os.chdir()__ - возвращает текущую рабочую директорию,  \n",
        "__os.getcwd()__ - позволяет изменить текущую рабочую директорию."
      ]
    },
    {
      "cell_type": "code",
      "metadata": {
        "colab": {
          "base_uri": "https://localhost:8080/",
          "height": 35
        },
        "id": "szwy6lhtd9Cm",
        "outputId": "8a4b64a3-46c9-49ed-c9e9-12199e5f7f57"
      },
      "source": [
        "# посмотрим, в какой директории работаем в данный момент\n",
        "os.getcwd()"
      ],
      "execution_count": null,
      "outputs": [
        {
          "output_type": "execute_result",
          "data": {
            "text/plain": [
              "'/content'"
            ],
            "application/vnd.google.colaboratory.intrinsic+json": {
              "type": "string"
            }
          },
          "metadata": {},
          "execution_count": 14
        }
      ]
    },
    {
      "cell_type": "code",
      "metadata": {
        "colab": {
          "base_uri": "https://localhost:8080/"
        },
        "id": "2PNHFqlaeV1y",
        "outputId": "922c97a4-04db-4070-a1bf-0004cedca10a"
      },
      "source": [
        "# изменим рабочую директорию\n",
        "os.chdir(\"/content/sample_data\")\n",
        "print(os.getcwd())"
      ],
      "execution_count": null,
      "outputs": [
        {
          "output_type": "stream",
          "name": "stdout",
          "text": [
            "/content/sample_data\n"
          ]
        }
      ]
    },
    {
      "cell_type": "markdown",
      "metadata": {
        "id": "o1ExRgqZI2xk"
      },
      "source": [
        "###os.mkdir(), os.makedirs()"
      ]
    },
    {
      "cell_type": "markdown",
      "metadata": {
        "id": "6xoF-5MkgArp"
      },
      "source": [
        "__os.mkdir()__ - создает новую директорию по указанному пути,  \n",
        "__os.makedirs()__ - создает новую директорию по указанному пути с возможностью создания промежуточных директорий, если их не было."
      ]
    },
    {
      "cell_type": "code",
      "metadata": {
        "id": "whSx1-B7gA9J"
      },
      "source": [
        "# создадим новую директорию\n",
        "os.mkdir(\"new folder\") # в текущей рабочей директории, раз полный путь мы не указали"
      ],
      "execution_count": null,
      "outputs": []
    },
    {
      "cell_type": "code",
      "metadata": {
        "colab": {
          "base_uri": "https://localhost:8080/"
        },
        "id": "aOeHTWLpgXzH",
        "outputId": "c699df0d-34df-4342-900f-e9e4727da62f"
      },
      "source": [
        "# создадим новую директорию внутри новой директории внутри новой директории\n",
        "try:\n",
        "  os.mkdir(\"new0/new1/new2\") # этот метод на такое не способен\n",
        "except Exception as e:\n",
        "  print(f'{type(e)} : {e}')\n",
        "\n",
        "os.makedirs(\"new0/new1/new2\") # зато может этот"
      ],
      "execution_count": null,
      "outputs": [
        {
          "output_type": "stream",
          "name": "stdout",
          "text": [
            "<class 'FileNotFoundError'> : [Errno 2] No such file or directory: 'new0/new1/new2'\n"
          ]
        }
      ]
    },
    {
      "cell_type": "markdown",
      "metadata": {
        "id": "mQOD1y0QI6uz"
      },
      "source": [
        "###os.remove(), os.rmdir()"
      ]
    },
    {
      "cell_type": "markdown",
      "source": [],
      "metadata": {
        "id": "IR9UAP9e-YJo"
      }
    },
    {
      "cell_type": "markdown",
      "metadata": {
        "id": "RPfoKOOLgAPR"
      },
      "source": [
        "__os.remove()__ - удаляет указанный файл,  \n",
        "__os.rmdir()__ - удаляет указанную директорию."
      ]
    },
    {
      "cell_type": "code",
      "metadata": {
        "id": "7fH9g1Djf4IS"
      },
      "source": [
        "# давайте удалим какой-нибудь файл, благо в колабе есть демо-файлы\n",
        "os.remove(\"mnist_test.csv\")"
      ],
      "execution_count": null,
      "outputs": []
    },
    {
      "cell_type": "code",
      "metadata": {
        "id": "A2LwoWablNTv"
      },
      "source": [
        "# теперь удалим всю папку\n",
        "os.rmdir(\"new folder\")"
      ],
      "execution_count": null,
      "outputs": []
    },
    {
      "cell_type": "code",
      "metadata": {
        "colab": {
          "base_uri": "https://localhost:8080/"
        },
        "id": "pfN_gOuPmik6",
        "outputId": "0e4e01da-cbb4-462c-cb48-21cb883da227"
      },
      "source": [
        "# успешно удалить можно только пустую директорию\n",
        "try:\n",
        "  os.rmdir(\"new0\")\n",
        "except Exception as e:\n",
        "  print(f'{type(e)} : {e}')"
      ],
      "execution_count": null,
      "outputs": [
        {
          "output_type": "stream",
          "name": "stdout",
          "text": [
            "<class 'OSError'> : [Errno 39] Directory not empty: 'new0'\n"
          ]
        }
      ]
    },
    {
      "cell_type": "markdown",
      "metadata": {
        "id": "3Zxrx1sIJJ5L"
      },
      "source": [
        "###os.rename()"
      ]
    },
    {
      "cell_type": "markdown",
      "metadata": {
        "id": "w_hqt07hpkhE"
      },
      "source": [
        "__os.rename()__ - переименовыввает файл или папку."
      ]
    },
    {
      "cell_type": "code",
      "metadata": {
        "id": "eqS6odREpskq"
      },
      "source": [
        "# преименуем файл\n",
        "os.rename(\"mnist_train_small.csv\",\"mnist.csv\")"
      ],
      "execution_count": null,
      "outputs": []
    },
    {
      "cell_type": "code",
      "metadata": {
        "id": "LnOg4jyLpsq5"
      },
      "source": [
        "# переименуем папку\n",
        "os.rename(\"new0\",\"old0\")"
      ],
      "execution_count": null,
      "outputs": []
    },
    {
      "cell_type": "markdown",
      "metadata": {
        "id": "KYCU6EB2JOqT"
      },
      "source": [
        "###os.startfile()"
      ]
    },
    {
      "cell_type": "markdown",
      "metadata": {
        "id": "IWhQRVEjqFqR"
      },
      "source": [
        "__os.startfile()__ - позволяет запустить файл в привязанном к его расширению приложении, работает только в Windows."
      ]
    },
    {
      "cell_type": "code",
      "metadata": {
        "colab": {
          "base_uri": "https://localhost:8080/"
        },
        "id": "DmPQwEG-qF8I",
        "outputId": "3ffa97ea-c520-4758-e7e0-c2923dc6ec5a"
      },
      "source": [
        "# откроем что-нибудь\n",
        "try:\n",
        "  os.startfile(\"README.md\") # как видно, мы тут не в Windows работаем\n",
        "except Exception as e:\n",
        "  print(f'{type(e)} : {e}')"
      ],
      "execution_count": null,
      "outputs": [
        {
          "output_type": "stream",
          "name": "stdout",
          "text": [
            "<class 'AttributeError'> : module 'os' has no attribute 'startfile'\n"
          ]
        }
      ]
    },
    {
      "cell_type": "code",
      "metadata": {
        "id": "N6p1eGqbrdYT"
      },
      "source": [
        "# в колабе можно воспользоваться cell magic\n",
        "%pycat README.md"
      ],
      "execution_count": null,
      "outputs": []
    },
    {
      "cell_type": "markdown",
      "metadata": {
        "id": "Jug5z4ONJP86"
      },
      "source": [
        "###os.walk()"
      ]
    },
    {
      "cell_type": "markdown",
      "metadata": {
        "id": "jNzsldGGwGBG"
      },
      "source": [
        "__os.walk()__ - производит генерацию имён файлов в дереве каталогов; для каждого каталога возвращает кортеж (путь к каталогу, список каталогов, список файлов в них)."
      ]
    },
    {
      "cell_type": "code",
      "metadata": {
        "colab": {
          "base_uri": "https://localhost:8080/"
        },
        "id": "YiLwJQh_wGIe",
        "outputId": "5ba100b7-b6d0-41f4-ac2e-1e108bc432ed"
      },
      "source": [
        "# это позволяет производить итерацию по каталогам, продкаталогам или файлам\n",
        "os.chdir(\"/content\")\n",
        "# выведем все каталоги, имеющиеся в рабочей директории\n",
        "for root, dirs, files in os.walk(os.getcwd()):\n",
        "    print(root, dirs, files)"
      ],
      "execution_count": null,
      "outputs": [
        {
          "output_type": "stream",
          "name": "stdout",
          "text": [
            "/content ['.config', 'sample_data'] []\n",
            "/content/.config ['configurations', 'logs'] ['.last_survey_prompt.yaml', '.last_opt_in_prompt.yaml', 'config_sentinel', 'active_config', '.last_update_check.json', 'gce']\n",
            "/content/.config/configurations [] ['config_default']\n",
            "/content/.config/logs ['2022.09.26'] []\n",
            "/content/.config/logs/2022.09.26 [] ['13.44.43.065608.log', '13.43.53.411838.log', '13.44.51.979721.log', '13.44.20.618810.log', '13.45.16.034312.log', '13.45.15.211900.log']\n",
            "/content/sample_data [] ['README.md', 'anscombe.json', 'mnist_test.csv', 'california_housing_train.csv', 'california_housing_test.csv', 'mnist_train_small.csv']\n"
          ]
        }
      ]
    },
    {
      "cell_type": "markdown",
      "metadata": {
        "id": "Yz3HO7V-Jrmf"
      },
      "source": [
        "###os.system()"
      ]
    },
    {
      "cell_type": "markdown",
      "metadata": {
        "id": "oDwJk65Lyean"
      },
      "source": [
        "__os.system()__ - исполняет строку как системную команду и возвращает код ее завершения."
      ]
    },
    {
      "cell_type": "code",
      "metadata": {
        "colab": {
          "base_uri": "https://localhost:8080/"
        },
        "id": "bnzcVFmJyekl",
        "outputId": "ab202924-a07f-489a-c863-5ada739a2373"
      },
      "source": [
        "# как можно догадаться, имя для метода os, создающего директорию, вдохновлено bash-командой\n",
        "os.system(\"mkdir new_dir\") # 0 == успех"
      ],
      "execution_count": null,
      "outputs": [
        {
          "output_type": "execute_result",
          "data": {
            "text/plain": [
              "0"
            ]
          },
          "metadata": {},
          "execution_count": 121
        }
      ]
    },
    {
      "cell_type": "code",
      "metadata": {
        "colab": {
          "base_uri": "https://localhost:8080/"
        },
        "id": "bZtzVe0Sz7yP",
        "outputId": "95e4098c-8ea4-4018-c5ce-776c6593f5bd"
      },
      "source": [
        "# аналог os.makedirs можно реализовать при помощи флага -p\n",
        "# при нем создаются недостающие директории\n",
        "os.system(\"mkdir -p new_dir0/new_dir1/new_dir2\")"
      ],
      "execution_count": null,
      "outputs": [
        {
          "output_type": "execute_result",
          "data": {
            "text/plain": [
              "0"
            ]
          },
          "metadata": {},
          "execution_count": 122
        }
      ]
    },
    {
      "cell_type": "code",
      "metadata": {
        "colab": {
          "base_uri": "https://localhost:8080/"
        },
        "id": "C7T0ICMnykMM",
        "outputId": "bc5302cf-c623-47ee-9099-c0ff31fea7fc"
      },
      "source": [
        "# как можно догадаться, имя для метода os, удаляющего директорию, вдохновлено bash-командой\n",
        "os.system(\"rmdir new_dir\")"
      ],
      "execution_count": null,
      "outputs": [
        {
          "output_type": "execute_result",
          "data": {
            "text/plain": [
              "0"
            ]
          },
          "metadata": {},
          "execution_count": 123
        }
      ]
    },
    {
      "cell_type": "code",
      "metadata": {
        "id": "ttVaNw52zz0v"
      },
      "source": [
        "# в колабе можно при помощи ! исполнять команды операционной системы и без вызова os.system()\n",
        "!mkdir new_dir"
      ],
      "execution_count": null,
      "outputs": []
    },
    {
      "cell_type": "code",
      "metadata": {
        "id": "BQQARzxkzz3i"
      },
      "source": [
        "# кстати, в колабе при удалении директории через меню файлов осуществляется аналогичный вызов\n",
        "# потому что удалить непустую папку он не даст\n",
        "!rmdir new_dir"
      ],
      "execution_count": null,
      "outputs": []
    },
    {
      "cell_type": "code",
      "metadata": {
        "colab": {
          "base_uri": "https://localhost:8080/"
        },
        "id": "bWfihI9-1usX",
        "outputId": "3b21e016-6430-49b2-958a-ffa9ccfa2b21"
      },
      "source": [
        "# код завершения вовзращен не будет, но если что-то пойдет не так, то будет выведено полное сообщение об ошибке\n",
        "!rmdir non_existing_folder"
      ],
      "execution_count": null,
      "outputs": [
        {
          "output_type": "stream",
          "name": "stdout",
          "text": [
            "rmdir: failed to remove 'non_existing_folder': No such file or directory\n"
          ]
        }
      ]
    },
    {
      "cell_type": "markdown",
      "metadata": {
        "id": "fV0_8zvxJwaX"
      },
      "source": [
        "###os.urandom()"
      ]
    },
    {
      "cell_type": "markdown",
      "metadata": {
        "id": "tiV1ZExp2Ug-"
      },
      "source": [
        "__os.urandom()__ -  возвращает указанное число случайных байт."
      ]
    },
    {
      "cell_type": "code",
      "metadata": {
        "colab": {
          "base_uri": "https://localhost:8080/"
        },
        "id": "tsyuf0Xx2Upt",
        "outputId": "5fa9c7b7-4443-4671-846c-98d5854eef73"
      },
      "source": [
        "# такое может понадобиться для реализации криптографических систем\n",
        "# как, например, в 3й лабораторной по основам информационной безопасности\n",
        "os.urandom(10)"
      ],
      "execution_count": null,
      "outputs": [
        {
          "output_type": "execute_result",
          "data": {
            "text/plain": [
              "b'\\xad\\x91\\xc4l\\xd4\\xf5\\xa5\\xc1\\r\\xac'"
            ]
          },
          "metadata": {},
          "execution_count": 18
        }
      ]
    },
    {
      "cell_type": "markdown",
      "metadata": {
        "id": "2Po-wmvaBdZi"
      },
      "source": [
        "###os.stat()"
      ]
    },
    {
      "cell_type": "markdown",
      "metadata": {
        "id": "w8YVMi3SBgaB"
      },
      "source": [
        "__os.stat()__ - возвращает набор метаданных файла."
      ]
    },
    {
      "cell_type": "code",
      "metadata": {
        "colab": {
          "base_uri": "https://localhost:8080/"
        },
        "id": "oOTbH3nSBivx",
        "outputId": "95aafb83-a78d-4f9a-f7cb-cc8b7fc9b3ad"
      },
      "source": [
        "os.stat('/content/sample_data/README.md')"
      ],
      "execution_count": null,
      "outputs": [
        {
          "output_type": "execute_result",
          "data": {
            "text/plain": [
              "os.stat_result(st_mode=33261, st_ino=2621455, st_dev=44, st_nlink=1, st_uid=0, st_gid=0, st_size=930, st_atime=946713600, st_mtime=946713600, st_ctime=1664932206)"
            ]
          },
          "metadata": {},
          "execution_count": 19
        }
      ]
    },
    {
      "cell_type": "markdown",
      "metadata": {
        "id": "4k6Rgqz8CM0j"
      },
      "source": [
        "Выведенные в этом примере метаданные:\n",
        "*  st_mode: режим доступа к файлу,\n",
        "*  st_ino: идентификатор файла,\n",
        "*  st_dev: идентификатор устройства, на котором лежит файла,\n",
        "*  st_nlink: счетчик ссылок на файла,\n",
        "*  st_uid: идентификатор владельца файла,\n",
        "*  st_gid: идентификатор группы владельца файла,\n",
        "*  st_size: размер файла,\n",
        "*  st_atime: время последнего доступа к файлу от начала эпохи в секундах,\n",
        "*  st_mtime: время последнего изменения файла от начала эпохи в секундах,\n",
        "*  st_ctime: время последнего изменения метаданных от начала эпохи в секундах.\n",
        "\n",
        "\n",
        "\n"
      ]
    },
    {
      "cell_type": "markdown",
      "metadata": {
        "id": "WjTgFA2lJVvy"
      },
      "source": [
        "###os.path"
      ]
    },
    {
      "cell_type": "markdown",
      "metadata": {
        "id": "bKBQXSO_4k3t"
      },
      "source": [
        "Модуль os.path содержит набор функций для манипуляции путями к файлам и директориям.\n",
        "Рассмотрим подробнее, что он умеет."
      ]
    },
    {
      "cell_type": "markdown",
      "metadata": {
        "id": "ZYo9nYdNrJ7s"
      },
      "source": [
        "####os.path.join()"
      ]
    },
    {
      "cell_type": "markdown",
      "metadata": {
        "id": "FR1Lzw-W5-dB"
      },
      "source": [
        "__os.path.join()__ - конкатериует части пути к файлу или директории, добавляя обратные слеши, если в этом есть необходимость."
      ]
    },
    {
      "cell_type": "code",
      "metadata": {
        "colab": {
          "base_uri": "https://localhost:8080/",
          "height": 35
        },
        "id": "wL8CfJmm5dyx",
        "outputId": "ab5baf8f-3165-4bde-cac7-84c3eace6348"
      },
      "source": [
        "# как видно, необходимый / был добавлен\n",
        "os.path.join(r'/content/sample_data','README.md')"
      ],
      "execution_count": null,
      "outputs": [
        {
          "output_type": "execute_result",
          "data": {
            "text/plain": [
              "'/content/sample_data/README.md'"
            ],
            "application/vnd.google.colaboratory.intrinsic+json": {
              "type": "string"
            }
          },
          "metadata": {},
          "execution_count": 10
        }
      ]
    },
    {
      "cell_type": "code",
      "source": [
        "os.path.join('/content', 'sample_data', 'README.md')"
      ],
      "metadata": {
        "colab": {
          "base_uri": "https://localhost:8080/",
          "height": 35
        },
        "id": "nrgz67eg9b4E",
        "outputId": "2f142569-2da1-48ba-9c8f-7c9d000a1eac"
      },
      "execution_count": null,
      "outputs": [
        {
          "output_type": "execute_result",
          "data": {
            "text/plain": [
              "'/content/sample_data/README.md'"
            ],
            "application/vnd.google.colaboratory.intrinsic+json": {
              "type": "string"
            }
          },
          "metadata": {},
          "execution_count": 7
        }
      ]
    },
    {
      "cell_type": "code",
      "metadata": {
        "colab": {
          "base_uri": "https://localhost:8080/",
          "height": 35
        },
        "id": "7ytkznT16dLW",
        "outputId": "f016ef3a-a3b2-4c5c-8841-cd24f4b7c76b"
      },
      "source": [
        "# наличие / в начале второго аргумента сигнализирует о том, что используется абсолютный путь\n",
        "# так что с ним нужно быть аккуратным\n",
        "os.path.join('/content/sample_data','/README.md')"
      ],
      "execution_count": null,
      "outputs": [
        {
          "output_type": "execute_result",
          "data": {
            "text/plain": [
              "'/README.md'"
            ],
            "application/vnd.google.colaboratory.intrinsic+json": {
              "type": "string"
            }
          },
          "metadata": {},
          "execution_count": 11
        }
      ]
    },
    {
      "cell_type": "markdown",
      "metadata": {
        "id": "iNSpD0yZrLTR"
      },
      "source": [
        "####os.path.expanduser()"
      ]
    },
    {
      "cell_type": "markdown",
      "metadata": {
        "id": "WvC8a-tz69c7"
      },
      "source": [
        "__os.path.expanduser()__ - возвращает аргумент с начальным компонентом пути $\\sim$, замененным домашним каталогом этого пользователя. Если расширение пути завершается неудачно или путь не начинается с тильды $\\sim$, то путь возвращается без изменений."
      ]
    },
    {
      "cell_type": "code",
      "metadata": {
        "colab": {
          "base_uri": "https://localhost:8080/",
          "height": 36
        },
        "id": "jYq1GYVx69jz",
        "outputId": "c7b2791c-795a-4efc-9ebb-12fb36cdbd29"
      },
      "source": [
        "# найдем домашний каталог своего пользователя в колабе\n",
        "os.path.expanduser('~') # мы тут рут"
      ],
      "execution_count": null,
      "outputs": [
        {
          "output_type": "execute_result",
          "data": {
            "application/vnd.google.colaboratory.intrinsic+json": {
              "type": "string"
            },
            "text/plain": [
              "'/root'"
            ]
          },
          "metadata": {},
          "execution_count": 154
        }
      ]
    },
    {
      "cell_type": "code",
      "metadata": {
        "colab": {
          "base_uri": "https://localhost:8080/",
          "height": 36
        },
        "id": "mTHkqeTW7OdD",
        "outputId": "daa61afb-5b6d-4b81-ff11-d8aff9c00c3f"
      },
      "source": [
        "# подадим в качестве аргумента что-то другое\n",
        "os.path.expanduser('something/else/than/tilde') # ничего не изменилось"
      ],
      "execution_count": null,
      "outputs": [
        {
          "output_type": "execute_result",
          "data": {
            "application/vnd.google.colaboratory.intrinsic+json": {
              "type": "string"
            },
            "text/plain": [
              "'something/else/than/tilde'"
            ]
          },
          "metadata": {},
          "execution_count": 153
        }
      ]
    },
    {
      "cell_type": "code",
      "metadata": {
        "colab": {
          "base_uri": "https://localhost:8080/",
          "height": 36
        },
        "id": "qrUyS56b-U0V",
        "outputId": "9482c6e4-764e-437b-dc48-d658bd3e355e"
      },
      "source": [
        "# этот метод может понадобиться для получения абсолютного пути к чему-либо в пользовательском каталоге\n",
        "os.path.expanduser('~/file/in/my/home/folder.txt')"
      ],
      "execution_count": null,
      "outputs": [
        {
          "output_type": "execute_result",
          "data": {
            "application/vnd.google.colaboratory.intrinsic+json": {
              "type": "string"
            },
            "text/plain": [
              "'/root/file/in/my/home/folder.txt'"
            ]
          },
          "metadata": {},
          "execution_count": 155
        }
      ]
    },
    {
      "cell_type": "markdown",
      "metadata": {
        "id": "LRIuuI-UrMHK"
      },
      "source": [
        "####os.path.split()"
      ]
    },
    {
      "cell_type": "markdown",
      "metadata": {
        "id": "oQpABD1X8Z8N"
      },
      "source": [
        "__os.path.split()__ - делит полные пути к файлам и директориям на их имя и путь к ним."
      ]
    },
    {
      "cell_type": "code",
      "metadata": {
        "colab": {
          "base_uri": "https://localhost:8080/"
        },
        "id": "V0KeRzSH8jKE",
        "outputId": "f5935ed6-97aa-4c8c-9980-17c23a44b89e"
      },
      "source": [
        "# разделим путь к файлу\n",
        "os.path.split('/content/sample_data/README.md')"
      ],
      "execution_count": null,
      "outputs": [
        {
          "output_type": "execute_result",
          "data": {
            "text/plain": [
              "('/content/sample_data', 'README.md')"
            ]
          },
          "metadata": {},
          "execution_count": 22
        }
      ]
    },
    {
      "cell_type": "code",
      "metadata": {
        "colab": {
          "base_uri": "https://localhost:8080/"
        },
        "id": "zvSdf2lb9VD5",
        "outputId": "dd453a66-d888-40ee-85f1-418e8978488d"
      },
      "source": [
        "# разделим путь к директории\n",
        "os.path.split('/content/sample_data/old0/new1/new2')"
      ],
      "execution_count": null,
      "outputs": [
        {
          "output_type": "execute_result",
          "data": {
            "text/plain": [
              "('/content/sample_data/old0/new1', 'new2')"
            ]
          },
          "metadata": {},
          "execution_count": 23
        }
      ]
    },
    {
      "cell_type": "code",
      "metadata": {
        "colab": {
          "base_uri": "https://localhost:8080/"
        },
        "id": "Gnx8HpCf_awA",
        "outputId": "08d29d82-b44c-4925-ef39-17147a3c5795"
      },
      "source": [
        "# по сути это довольно примитивная регулярка для поиска последнего обратного слеша в строке\n",
        "os.path.split('С:\\\\content\\\\sample_data\\\\old0\\\\new1\\\\new2')\n",
        "# потому что с путями в виндовом виде она не работает"
      ],
      "execution_count": null,
      "outputs": [
        {
          "output_type": "execute_result",
          "data": {
            "text/plain": [
              "('', 'С:\\\\content\\\\sample_data\\\\old0\\\\new1\\\\new2')"
            ]
          },
          "metadata": {},
          "execution_count": 24
        }
      ]
    },
    {
      "cell_type": "markdown",
      "metadata": {
        "id": "JbORSSsArMti"
      },
      "source": [
        "####os.path.splitext()"
      ]
    },
    {
      "cell_type": "markdown",
      "metadata": {
        "id": "LFUSDhIF-zRU"
      },
      "source": [
        "__os.path.splitext()__ - отделяет от пути к файлу его расширение.\n",
        "\n"
      ]
    },
    {
      "cell_type": "code",
      "metadata": {
        "colab": {
          "base_uri": "https://localhost:8080/"
        },
        "id": "bvfrQIAZ-zbc",
        "outputId": "e3452149-d586-4432-a9d4-5eea2c509061"
      },
      "source": [
        "os.path.splitext('/content/sample_data/README.md')"
      ],
      "execution_count": null,
      "outputs": [
        {
          "output_type": "execute_result",
          "data": {
            "text/plain": [
              "('/content/sample_data/README', '.md')"
            ]
          },
          "metadata": {},
          "execution_count": 156
        }
      ]
    },
    {
      "cell_type": "code",
      "metadata": {
        "colab": {
          "base_uri": "https://localhost:8080/"
        },
        "id": "CQy0_yB5-8GL",
        "outputId": "0c2be7ba-df20-42ed-d022-faf6afaded64"
      },
      "source": [
        "# у директории второй элемент кортежа будет пустой строкой\n",
        "os.path.splitext('/content/sample_data/old0/new1/new2')"
      ],
      "execution_count": null,
      "outputs": [
        {
          "output_type": "execute_result",
          "data": {
            "text/plain": [
              "('/content/sample_data/old0/new1/new2', '')"
            ]
          },
          "metadata": {},
          "execution_count": 164
        }
      ]
    },
    {
      "cell_type": "code",
      "metadata": {
        "colab": {
          "base_uri": "https://localhost:8080/"
        },
        "id": "fm1SdLLz_GlC",
        "outputId": "3b960a28-c706-4758-e35e-27487db505b5"
      },
      "source": [
        "# по сути это регулярка для поиска последней точки в строке\n",
        "os.path.splitext('D:\\\\content\\\\sample_dat.a\\\\REA.DME.md')"
      ],
      "execution_count": null,
      "outputs": [
        {
          "output_type": "execute_result",
          "data": {
            "text/plain": [
              "('D:\\\\content\\\\sample_dat.a\\\\REA.DME', '.md')"
            ]
          },
          "metadata": {},
          "execution_count": 162
        }
      ]
    },
    {
      "cell_type": "markdown",
      "metadata": {
        "id": "y17vgPpbrNbc"
      },
      "source": [
        "####os.path.getsize()"
      ]
    },
    {
      "cell_type": "markdown",
      "metadata": {
        "id": "6oKI0COgCj29"
      },
      "source": [
        "__os.path.getsize()__ - возвращает размер файла или директории в байтах."
      ]
    },
    {
      "cell_type": "code",
      "metadata": {
        "colab": {
          "base_uri": "https://localhost:8080/"
        },
        "id": "YJiR2gB1CjI_",
        "outputId": "a49aa173-d325-42a3-8a38-231872419427"
      },
      "source": [
        "os.path.getsize('/content/sample_data/README.md')"
      ],
      "execution_count": null,
      "outputs": [
        {
          "output_type": "execute_result",
          "data": {
            "text/plain": [
              "930"
            ]
          },
          "metadata": {},
          "execution_count": 166
        }
      ]
    },
    {
      "cell_type": "code",
      "metadata": {
        "colab": {
          "base_uri": "https://localhost:8080/"
        },
        "id": "IDS8ECFpCyMF",
        "outputId": "cd7f5767-460a-4456-a1de-595fcaf3baaa"
      },
      "source": [
        "os.path.getsize('/content/sample_data/')"
      ],
      "execution_count": null,
      "outputs": [
        {
          "output_type": "execute_result",
          "data": {
            "text/plain": [
              "4096"
            ]
          },
          "metadata": {},
          "execution_count": 167
        }
      ]
    },
    {
      "cell_type": "markdown",
      "metadata": {
        "id": "CrKxJmNgrORy"
      },
      "source": [
        "####os.path.realpath()"
      ]
    },
    {
      "cell_type": "markdown",
      "metadata": {
        "id": "IvAyF3KwFaNi"
      },
      "source": [
        "__os.path.realpath()__ - формирует абсолютный путь к файлу или директории."
      ]
    },
    {
      "cell_type": "code",
      "metadata": {
        "colab": {
          "base_uri": "https://localhost:8080/",
          "height": 36
        },
        "id": "UEQbyT6AFaW6",
        "outputId": "59a57a2c-80d0-44fa-c0b4-c0bd922c43de"
      },
      "source": [
        "os.path.realpath('sample_data/README.md')"
      ],
      "execution_count": null,
      "outputs": [
        {
          "output_type": "execute_result",
          "data": {
            "application/vnd.google.colaboratory.intrinsic+json": {
              "type": "string"
            },
            "text/plain": [
              "'/content/sample_data/README.md'"
            ]
          },
          "metadata": {},
          "execution_count": 169
        }
      ]
    },
    {
      "cell_type": "code",
      "metadata": {
        "colab": {
          "base_uri": "https://localhost:8080/",
          "height": 36
        },
        "id": "FjwOYD-tFlS6",
        "outputId": "496d7811-67a5-438d-846c-b570e1488e3d"
      },
      "source": [
        "# по сути просто подставляет к пути текущую рабочую директорию\n",
        "os.path.realpath('README.md')"
      ],
      "execution_count": null,
      "outputs": [
        {
          "output_type": "execute_result",
          "data": {
            "application/vnd.google.colaboratory.intrinsic+json": {
              "type": "string"
            },
            "text/plain": [
              "'/content/README.md'"
            ]
          },
          "metadata": {},
          "execution_count": 170
        }
      ]
    },
    {
      "cell_type": "markdown",
      "metadata": {
        "id": "iqr6V3wwyHpi"
      },
      "source": [
        "####os.path.expandvars()"
      ]
    },
    {
      "cell_type": "markdown",
      "metadata": {
        "id": "A8R_wu5vyWCI"
      },
      "source": [
        "__os.path.expandvars()__ - вставляет значение переменной окружения в путь."
      ]
    },
    {
      "cell_type": "code",
      "metadata": {
        "colab": {
          "base_uri": "https://localhost:8080/"
        },
        "id": "NC-Tfk89yWPc",
        "outputId": "499f1442-c613-41b3-f260-89d8421d0012"
      },
      "source": [
        "print(os.getenv('PAGER'))\n",
        "print(os.path.expandvars('/home/users/$PAGER.py')) #имя переменной пишется с префиксом $"
      ],
      "execution_count": null,
      "outputs": [
        {
          "output_type": "stream",
          "name": "stdout",
          "text": [
            "cat\n",
            "/home/users/cat.py\n"
          ]
        }
      ]
    },
    {
      "cell_type": "code",
      "source": [
        "os.path.exists(r\"/content/sample_data\")"
      ],
      "metadata": {
        "colab": {
          "base_uri": "https://localhost:8080/"
        },
        "id": "TrXpicgY-vhn",
        "outputId": "37c55515-4504-4bf2-ea2d-19a84176ac27"
      },
      "execution_count": null,
      "outputs": [
        {
          "output_type": "execute_result",
          "data": {
            "text/plain": [
              "True"
            ]
          },
          "metadata": {},
          "execution_count": 25
        }
      ]
    },
    {
      "cell_type": "markdown",
      "metadata": {
        "id": "LhK_3-os_u1b"
      },
      "source": [
        "##2. Работа с файлами"
      ]
    },
    {
      "cell_type": "markdown",
      "metadata": {
        "id": "joeJgCXND0Oc"
      },
      "source": [
        "###Открытие и закрытие файлов"
      ]
    },
    {
      "cell_type": "markdown",
      "metadata": {
        "id": "ob3rDtwx_0Ze"
      },
      "source": [
        "Для открытия файла используется метод __open()__, для закрытия - __close()__."
      ]
    },
    {
      "cell_type": "code",
      "metadata": {
        "id": "gBLbffYb_0iB"
      },
      "source": [
        "f = open('sample_data/README.md', mode='r', encoding='utf-8')\n",
        "f.close()"
      ],
      "execution_count": null,
      "outputs": []
    },
    {
      "cell_type": "markdown",
      "metadata": {
        "id": "MvQymsmYBY5_"
      },
      "source": [
        "Режимы работы с файлом:\n",
        "*   __r__ - чтение; указатель на начале файла; вызывается по умолчанию,\n",
        "*   __r+__ - одновременные чтение и запись; указатель на начале файла,\n",
        "*   __rb__ - чтение в бинарном формате; указатель на начале файла,\n",
        "*   __rb+__ - одновременные чтение и запись в бинарном формате; указатель на начале файла,\n",
        "*   __w__ - запись; перезаписывает файл, если он есть; создает новый файл, если его нет,\n",
        "*   __wb__ - запись в бинарном формате; перезаписывает файл, если он есть; создает новый файл, если его нет,\n",
        "*   __w+__ - одновременные чтение и запись; перезаписывает файл, если он есть; создает новый файл, если его нет,\n",
        "*   __a__ - добавление; указатель на конце файла, если файл есть; создает новый файл, если его нет,\n",
        "*   __ab__ - добавление в бинарном формате; указатель на конце файла, если файл есть; создает новый файл, если его нет,\n",
        "*   __a+__ - одновременные чтение и добавление; указатель на конце файла, если файл есть, создает новый файл, если его нет,\n",
        "*   __ab+__ - одновременные чтение и добавление в бинарном формате; указатель на конце файла, если файл есть; создает новый файл, если его нет."
      ]
    },
    {
      "cell_type": "code",
      "metadata": {
        "id": "8-eJcWSHEAn2",
        "colab": {
          "base_uri": "https://localhost:8080/",
          "height": 240
        },
        "outputId": "7c14403d-660f-4481-fb90-5657dcefaf29"
      },
      "source": [
        "# чтобы работать с файлом безопасно, можно воспользоваться методами обработки исключений, которые были на прошлой лекции\n",
        "try:\n",
        "  f = open('sample_data/README1.md', mode='r', encoding='utf-8')\n",
        "  # тут вытворяем с файлом всякое\n",
        "  print(1)\n",
        "finally:\n",
        "  f.close()"
      ],
      "execution_count": null,
      "outputs": [
        {
          "output_type": "error",
          "ename": "FileNotFoundError",
          "evalue": "ignored",
          "traceback": [
            "\u001b[0;31m---------------------------------------------------------------------------\u001b[0m",
            "\u001b[0;31mFileNotFoundError\u001b[0m                         Traceback (most recent call last)",
            "\u001b[0;32m<ipython-input-33-50375d796d10>\u001b[0m in \u001b[0;36m<module>\u001b[0;34m\u001b[0m\n\u001b[1;32m      1\u001b[0m \u001b[0;31m# чтобы работать с файлом безопасно, можно воспользоваться методами обработки исключений, которые были на прошлой лекции\u001b[0m\u001b[0;34m\u001b[0m\u001b[0;34m\u001b[0m\u001b[0;34m\u001b[0m\u001b[0m\n\u001b[1;32m      2\u001b[0m \u001b[0;32mtry\u001b[0m\u001b[0;34m:\u001b[0m\u001b[0;34m\u001b[0m\u001b[0;34m\u001b[0m\u001b[0m\n\u001b[0;32m----> 3\u001b[0;31m   \u001b[0mf\u001b[0m \u001b[0;34m=\u001b[0m \u001b[0mopen\u001b[0m\u001b[0;34m(\u001b[0m\u001b[0;34m'sample_data/README1.md'\u001b[0m\u001b[0;34m,\u001b[0m \u001b[0mmode\u001b[0m\u001b[0;34m=\u001b[0m\u001b[0;34m'r'\u001b[0m\u001b[0;34m,\u001b[0m \u001b[0mencoding\u001b[0m\u001b[0;34m=\u001b[0m\u001b[0;34m'utf-8'\u001b[0m\u001b[0;34m)\u001b[0m\u001b[0;34m\u001b[0m\u001b[0;34m\u001b[0m\u001b[0m\n\u001b[0m\u001b[1;32m      4\u001b[0m   \u001b[0;31m# тут вытворяем с файлом всякое\u001b[0m\u001b[0;34m\u001b[0m\u001b[0;34m\u001b[0m\u001b[0;34m\u001b[0m\u001b[0m\n\u001b[1;32m      5\u001b[0m   \u001b[0mprint\u001b[0m\u001b[0;34m(\u001b[0m\u001b[0;36m1\u001b[0m\u001b[0;34m)\u001b[0m\u001b[0;34m\u001b[0m\u001b[0;34m\u001b[0m\u001b[0m\n",
            "\u001b[0;31mFileNotFoundError\u001b[0m: [Errno 2] No such file or directory: 'sample_data/README1.md'"
          ]
        }
      ]
    },
    {
      "cell_type": "code",
      "metadata": {
        "id": "FqiepTClEnCq",
        "colab": {
          "base_uri": "https://localhost:8080/"
        },
        "outputId": "d2472ddf-6b58-4378-9919-332913f84882"
      },
      "source": [
        "# можно воспользоваться следующей конструкцией, чтобы не закрывать файл в явном виде\n",
        "with open('sample_data/README.md', encoding = 'utf-8') as f: #если открываем файл на чтение, можно mode не уазывать\n",
        "  # тут вытворяем с файлом всякое и не переживаем, что забыли его закрыть\n",
        "  print(1)\n",
        "  pass"
      ],
      "execution_count": null,
      "outputs": [
        {
          "output_type": "stream",
          "name": "stdout",
          "text": [
            "1\n"
          ]
        }
      ]
    },
    {
      "cell_type": "markdown",
      "metadata": {
        "id": "m0AArO1VD67G"
      },
      "source": [
        "###Запись и чтение"
      ]
    },
    {
      "cell_type": "markdown",
      "metadata": {
        "id": "WxcHgBCEHkP0"
      },
      "source": [
        "При помощи __write()__ можно записать в файл строковую переменную."
      ]
    },
    {
      "cell_type": "code",
      "metadata": {
        "colab": {
          "base_uri": "https://localhost:8080/"
        },
        "id": "sZmoVffkE_1-",
        "outputId": "1795a5cf-0b7d-4aa1-af34-476a0e378082"
      },
      "source": [
        "with open('test0.txt',mode = 'w', encoding = 'utf-8') as f: # не забываем про кодировку, если хотим увидеть родную речь\n",
        "  f.write('запишем строку в файл')\n",
        "  f.write('запишем еще одну')\n",
        "  f.write('чтобы записать данные с новой строки\\n')\n",
        "  f.write('не забываем про символ перевода строки')\n",
        "  try:\n",
        "    f.write(69.42)\n",
        "  except Exception as e:\n",
        "    print(f'{type(e)} : {e}') # убеждаемся, что при помощи этого метода можем писать только строковые переменные\n",
        "  f.write(str(69.42)) # приводим типы"
      ],
      "execution_count": null,
      "outputs": [
        {
          "output_type": "stream",
          "name": "stdout",
          "text": [
            "<class 'TypeError'> : write() argument must be str, not float\n"
          ]
        }
      ]
    },
    {
      "cell_type": "code",
      "metadata": {
        "id": "00zZOhSaD9uD"
      },
      "source": [
        "%pycat test0.txt"
      ],
      "execution_count": null,
      "outputs": []
    },
    {
      "cell_type": "markdown",
      "metadata": {
        "id": "IxNwSV5qJEh1"
      },
      "source": [
        "При помощи __writelines()__ можно записать в файл список строковых переменных."
      ]
    },
    {
      "cell_type": "code",
      "metadata": {
        "id": "WHZI_BQZGMGk"
      },
      "source": [
        "lines = [\n",
        "         '\\nзапишем строку в файл\\n',\n",
        "         'запишем еще одну\\n',\n",
        "         'никто за нас символ переноса строки\\n',\n",
        "         'ставить не будет\\n'\n",
        "        ]\n",
        "with open('test0.txt',mode = 'a', encoding = 'utf-8') as f:\n",
        "  f.writelines(lines)\n"
      ],
      "execution_count": null,
      "outputs": []
    },
    {
      "cell_type": "code",
      "metadata": {
        "id": "kxvLRDgkGoOx"
      },
      "source": [
        "%pycat test0.txt"
      ],
      "execution_count": null,
      "outputs": []
    },
    {
      "cell_type": "markdown",
      "metadata": {
        "id": "afGMI0s7JeFl"
      },
      "source": [
        "При помощи __writable()__ можно проверить, есть ли возможность записать что-то в открытый файл, при помощи __readable()__ - есть ли возможность прочесть."
      ]
    },
    {
      "cell_type": "code",
      "metadata": {
        "colab": {
          "base_uri": "https://localhost:8080/"
        },
        "id": "DjMgMip0HEGn",
        "outputId": "b8e56d71-fee5-4392-dff4-1ff6e71f407c"
      },
      "source": [
        "def check_mode_capabilities(f):\n",
        "  print(f'mode=\\'{f.mode}\\' : writable={f.writable()}, readable={f.readable()}')\n",
        "\n",
        "f0 = open('sample_data/README.md', mode='r', encoding='utf-8')\n",
        "check_mode_capabilities(f0)\n",
        "f0.close()\n",
        "f1 = open('sample_data/README.md', mode='r+', encoding='utf-8')\n",
        "check_mode_capabilities(f1)\n",
        "f1.close()\n",
        "f2 = open('sample_data/README.md', mode='w', encoding='utf-8')\n",
        "#заметим, что тут файл открыт для перезаписи, а значит все, что в нем было раньше, мы потеряли\n",
        "check_mode_capabilities(f2)\n",
        "f2.close()"
      ],
      "execution_count": null,
      "outputs": [
        {
          "output_type": "stream",
          "name": "stdout",
          "text": [
            "mode='r' : writable=False, readable=True\n",
            "mode='r+' : writable=True, readable=True\n",
            "mode='w' : writable=True, readable=False\n"
          ]
        }
      ]
    },
    {
      "cell_type": "markdown",
      "metadata": {
        "id": "KHvgcfG7Nj1c"
      },
      "source": [
        "При помощи __read()__ можно считать определенное количество символов файла, или весь файл целиком, если в качестве аргумента указать отрицательное значение (или ничего)."
      ]
    },
    {
      "cell_type": "code",
      "metadata": {
        "colab": {
          "base_uri": "https://localhost:8080/"
        },
        "id": "TpvmcGWSN0-6",
        "outputId": "8b09a58b-d188-4f03-9038-e45e32abc9bf"
      },
      "source": [
        "with open('test0.txt',mode = 'r', encoding = 'utf-8') as f:\n",
        "  first_10_chars = f.read(10) # это именно число символов, а не байт, т.к. utf-8 использует от 1 до 4 байт на хранение символа\n",
        "  next_10_chars = f.read(10)\n",
        "with open('test0.txt',mode = 'r', encoding = 'utf-8') as f:\n",
        "  everything = f.read()\n",
        "\n",
        "print(f'{first_10_chars} - {len(first_10_chars)} символов, {len(first_10_chars.encode(\"utf-8\"))} байт\\n')\n",
        "print(f'{next_10_chars} - {len(next_10_chars)} символов, {len(next_10_chars.encode(\"utf-8\"))} байт\\n')\n",
        "print(everything)"
      ],
      "execution_count": null,
      "outputs": [
        {
          "output_type": "stream",
          "name": "stdout",
          "text": [
            "запишем ст - 10 символов, 19 байт\n",
            "\n",
            "року в фай - 10 символов, 18 байт\n",
            "\n",
            "запишем строку в файлзапишем еще однучтобы записать данные с новой строки\n",
            "не забываем про символ перевода строки69.42\n"
          ]
        }
      ]
    },
    {
      "cell_type": "markdown",
      "metadata": {
        "id": "Qp-THjxyQj-O"
      },
      "source": [
        "__readline()__ считывает одну строку целиком, либо ее часть вплоть до указанного числа символов."
      ]
    },
    {
      "cell_type": "code",
      "metadata": {
        "colab": {
          "base_uri": "https://localhost:8080/"
        },
        "id": "GlR4PIXnQhg_",
        "outputId": "2745132e-eae4-4af7-85a7-0163b7ffeedc"
      },
      "source": [
        "with open('test0.txt',mode = 'r', encoding = 'utf-8') as f:\n",
        "  line_with_a_limit= f.readline(50)\n",
        "with open('test0.txt',mode = 'r', encoding = 'utf-8') as f:\n",
        "  line_with_no_limit= f.readline()\n",
        "with open('test0.txt',mode = 'r', encoding = 'utf-8') as f:\n",
        "  line_less_than_limit= f.readline(100)\n",
        "\n",
        "print(f'{line_with_a_limit} - {len(line_with_a_limit)} символов, {len(line_with_a_limit.encode(\"utf-8\"))} байт\\n')\n",
        "print(f'{line_with_no_limit} - {len(line_with_no_limit)} символов,{len(line_with_no_limit.encode(\"utf-8\"))} байт\\n')\n",
        "print(f'{line_less_than_limit} - {len(line_less_than_limit)} символов,{len(line_less_than_limit.encode(\"utf-8\"))} байт\\n')"
      ],
      "execution_count": null,
      "outputs": [
        {
          "output_type": "stream",
          "name": "stdout",
          "text": [
            "запишем строку в файлзапишем еще однучтобы записат - 50 символов, 94 байт\n",
            "\n",
            "запишем строку в файлзапишем еще однучтобы записать данные с новой строки\n",
            " - 74 символов,137 байт\n",
            "\n",
            "запишем строку в файлзапишем еще однучтобы записать данные с новой строки\n",
            " - 74 символов,137 байт\n",
            "\n"
          ]
        }
      ]
    },
    {
      "cell_type": "markdown",
      "metadata": {
        "id": "AejIrFD0X0BR"
      },
      "source": [
        "__readlines()__ либо считывает весь файл целиком как список строк, либо считывает строки до тех пор, пока не достигнет лимита."
      ]
    },
    {
      "cell_type": "code",
      "metadata": {
        "colab": {
          "base_uri": "https://localhost:8080/"
        },
        "id": "EwTtwTEkYC5i",
        "outputId": "934bba6c-3c92-44bf-f1d5-e5c203137b58"
      },
      "source": [
        "with open('test0.txt',mode = 'r', encoding = 'utf-8') as f:\n",
        "  lines_no_limit= f.readlines()\n",
        "with open('test0.txt',mode = 'r', encoding = 'utf-8') as f:\n",
        "  lines_with_limit= f.readlines(75)\n",
        "\n",
        "print(f'{lines_no_limit}\\n')\n",
        "length=0\n",
        "for st in lines_with_limit:\n",
        "  length += len(st)\n",
        "print(f'{lines_with_limit} - {length} символов\\n') # если лимит превышен на какой-то из строк, она все равно считается до конца"
      ],
      "execution_count": null,
      "outputs": [
        {
          "output_type": "stream",
          "name": "stdout",
          "text": [
            "['запишем строку в файлзапишем еще однучтобы записать данные с новой строки\\n', 'не забываем про символ перевода строки69.42']\n",
            "\n",
            "['запишем строку в файлзапишем еще однучтобы записать данные с новой строки\\n', 'не забываем про символ перевода строки69.42'] - 117 символов\n",
            "\n"
          ]
        }
      ]
    },
    {
      "cell_type": "markdown",
      "metadata": {
        "id": "VcICuoyKZueP"
      },
      "source": [
        "__tell()__ возвращает текущее смещение указателя."
      ]
    },
    {
      "cell_type": "code",
      "metadata": {
        "colab": {
          "base_uri": "https://localhost:8080/"
        },
        "id": "K8FbSlsiZWIp",
        "outputId": "36226e0b-090c-4dc9-be58-e80ddada73d6"
      },
      "source": [
        "with open('test0.txt',mode = 'r', encoding = 'utf-8') as f:\n",
        "  print(f'прочитано {f.tell()} байт')\n",
        "  f.read(50)\n",
        "  print(f'прочитано {f.tell()} байт')"
      ],
      "execution_count": null,
      "outputs": [
        {
          "output_type": "stream",
          "name": "stdout",
          "text": [
            "прочитано 0 байт\n",
            "прочитано 94 байт\n"
          ]
        }
      ]
    },
    {
      "cell_type": "markdown",
      "metadata": {
        "id": "6O6Hb7vAbSJT"
      },
      "source": [
        "Также можно считать все строки в список просто итерируя по строкам файла:"
      ]
    },
    {
      "cell_type": "code",
      "metadata": {
        "colab": {
          "base_uri": "https://localhost:8080/"
        },
        "id": "SKCspoe3ah-o",
        "outputId": "953900f6-0c7d-43fa-c500-818451eb42cd"
      },
      "source": [
        "with open('test0.txt',mode = 'r', encoding = 'utf-8') as f:\n",
        "  l = [line.strip() for line in f] # при помощи strip() можно избавиться от символов, которые в строке нам не нужны\n",
        "                                   # в этом случае - символ конца строки\n",
        "print(l)"
      ],
      "execution_count": null,
      "outputs": [
        {
          "output_type": "stream",
          "name": "stdout",
          "text": [
            "['запишем строку в файлзапишем еще однучтобы записать данные с новой строки', 'не забываем про символ перевода строки69.42', 'запишем строку в файл', 'запишем еще одну', 'никто за нас символ переноса строки', 'ставить не будет']\n"
          ]
        }
      ]
    },
    {
      "cell_type": "markdown",
      "metadata": {
        "id": "xbJOhWqKcBR_"
      },
      "source": [
        "##3. Демонстрация процесса работы"
      ]
    },
    {
      "cell_type": "markdown",
      "metadata": {
        "id": "1CG2pu6ouiDd"
      },
      "source": [
        "###tqdm"
      ]
    },
    {
      "cell_type": "markdown",
      "metadata": {
        "id": "bljEJPFcudYw"
      },
      "source": [
        "__tqdm__ -  библиотека, позволяющая демонстрировать прогресс бар в консольных python приложениях."
      ]
    },
    {
      "cell_type": "code",
      "metadata": {
        "colab": {
          "base_uri": "https://localhost:8080/"
        },
        "id": "JBOAgXYvu7Jc",
        "outputId": "8deb09b4-da94-44c7-b27b-a459f54afd98"
      },
      "source": [
        "# устанавливаем пакет\n",
        "!pip install tqdm"
      ],
      "execution_count": null,
      "outputs": [
        {
          "output_type": "stream",
          "name": "stdout",
          "text": [
            "Requirement already satisfied: tqdm in /usr/local/lib/python3.10/dist-packages (4.66.1)\n"
          ]
        }
      ]
    },
    {
      "cell_type": "markdown",
      "metadata": {
        "id": "dP1khp4d9sLi"
      },
      "source": [
        "###Демонстрация прогресс бара"
      ]
    },
    {
      "cell_type": "code",
      "metadata": {
        "colab": {
          "base_uri": "https://localhost:8080/"
        },
        "id": "-ROFe40_wE9_",
        "outputId": "1242d397-cd54-4917-ec2b-b8c38d3bc056"
      },
      "source": [
        "# выведем прогресс бар работы в цикле\n",
        "import tqdm\n",
        "from time import sleep\n",
        "\n",
        "for i in tqdm.tqdm(range(9)):\n",
        "    sleep(0.5) # в цикле ничего делать не будем"
      ],
      "execution_count": null,
      "outputs": [
        {
          "output_type": "stream",
          "name": "stderr",
          "text": [
            "100%|██████████| 9/9 [00:04<00:00,  1.99it/s]\n"
          ]
        }
      ]
    },
    {
      "cell_type": "code",
      "metadata": {
        "colab": {
          "base_uri": "https://localhost:8080/"
        },
        "id": "LU5Up4ebxaWi",
        "outputId": "f28fc491-f0dd-42e4-9b67-a8905697c19a"
      },
      "source": [
        "# итерировать можно и по спискам\n",
        "from tqdm import tqdm\n",
        "list_of_chars = ['a','b','c','d','e','f']\n",
        "for i in tqdm(list_of_chars):\n",
        "   sleep(1)"
      ],
      "execution_count": null,
      "outputs": [
        {
          "output_type": "stream",
          "name": "stderr",
          "text": [
            "100%|██████████| 6/6 [00:06<00:00,  1.00s/it]\n"
          ]
        }
      ]
    },
    {
      "cell_type": "code",
      "metadata": {
        "colab": {
          "base_uri": "https://localhost:8080/"
        },
        "id": "KDHX1Bdmzrlp",
        "outputId": "135d9d23-7b57-492e-e5ad-3e058e190ab9"
      },
      "source": [
        "# в библиотеке есть свой аналог range для вывода прогресс бара\n",
        "from tqdm import trange\n",
        "\n",
        "for i in trange(10):\n",
        "  sleep(i/10)"
      ],
      "execution_count": null,
      "outputs": [
        {
          "output_type": "stream",
          "name": "stderr",
          "text": [
            "100%|██████████| 10/10 [00:04<00:00,  2.21it/s]\n"
          ]
        }
      ]
    },
    {
      "cell_type": "code",
      "metadata": {
        "colab": {
          "base_uri": "https://localhost:8080/"
        },
        "id": "XevoOzNX3db9",
        "outputId": "4f98a71d-a36b-42aa-98a4-de6b1fae6457"
      },
      "source": [
        "# можно использовать конструкуцию with\n",
        "with tqdm(range(100)) as pbar:\n",
        "  for i in range(5):\n",
        "    sleep(0.5)\n",
        "    pbar.update(20)"
      ],
      "execution_count": null,
      "outputs": [
        {
          "output_type": "stream",
          "name": "stderr",
          "text": [
            "200it [00:02, 79.68it/s]\n"
          ]
        }
      ]
    },
    {
      "cell_type": "code",
      "source": [
        "with tqdm(range(100)) as pbar:\n",
        "  for i in range(10):\n",
        "    for j in range(10):\n",
        "      sleep(0.5)\n",
        "      pbar.update(1)"
      ],
      "metadata": {
        "colab": {
          "base_uri": "https://localhost:8080/"
        },
        "id": "QjoZB-OYCDJq",
        "outputId": "a80f84e9-8931-4be6-a065-2099f016000e"
      },
      "execution_count": null,
      "outputs": [
        {
          "output_type": "stream",
          "name": "stderr",
          "text": [
            "100%|██████████| 100/100 [00:50<00:00,  1.99it/s]\n"
          ]
        }
      ]
    },
    {
      "cell_type": "markdown",
      "metadata": {
        "id": "OiBcL6np93KZ"
      },
      "source": [
        "###Кастомизация прогресс бара"
      ]
    },
    {
      "cell_type": "code",
      "metadata": {
        "colab": {
          "base_uri": "https://localhost:8080/"
        },
        "id": "oKinKok_1xjZ",
        "outputId": "9735388d-da70-4ae6-801e-fca3c41f25e4"
      },
      "source": [
        "# прогресс бар можно кастомизировать\n",
        "for i in tqdm(range(12), desc=\"Что-то делаем\"):\n",
        "  sleep(0.4)"
      ],
      "execution_count": null,
      "outputs": [
        {
          "output_type": "stream",
          "name": "stderr",
          "text": [
            "Что-то делаем: 100%|██████████| 12/12 [00:04<00:00,  2.49it/s]\n"
          ]
        }
      ]
    },
    {
      "cell_type": "code",
      "metadata": {
        "colab": {
          "base_uri": "https://localhost:8080/"
        },
        "id": "01Ptfab923kb",
        "outputId": "a91229af-fc7a-401b-ae98-5f0cc428a2c2"
      },
      "source": [
        "# описание можно изменять динамически\n",
        "pbar = tqdm(list_of_chars)\n",
        "for char in pbar:\n",
        "    sleep(0.7)\n",
        "    pbar.set_description(f'Обрабатываем букву {char}')"
      ],
      "execution_count": null,
      "outputs": [
        {
          "output_type": "stream",
          "name": "stderr",
          "text": [
            "Обрабатываем букву f: 100%|██████████| 6/6 [00:04<00:00,  1.42it/s]\n"
          ]
        }
      ]
    },
    {
      "cell_type": "code",
      "metadata": {
        "colab": {
          "base_uri": "https://localhost:8080/"
        },
        "id": "sS1w5iA54rnP",
        "outputId": "b111aafb-4ea8-480b-8e77-83e9b34445ee"
      },
      "source": [
        "# при помощи ncols можно изменять длину прогресс бара  от оооооооооочень длинного до вывода только процентов\n",
        "for i in tqdm(range(10000000), ncols=150):\n",
        "    pass\n",
        "for i in tqdm(range(10000000), ncols=4):\n",
        "    pass"
      ],
      "execution_count": null,
      "outputs": [
        {
          "output_type": "stream",
          "name": "stderr",
          "text": [
            "100%|████████████████████████████████████████████████████████████████████████████████████████████████| 10000000/10000000 [00:02<00:00, 4131294.33it/s]\n",
            "100%\n"
          ]
        }
      ]
    },
    {
      "cell_type": "code",
      "metadata": {
        "colab": {
          "base_uri": "https://localhost:8080/"
        },
        "id": "5ot3ITzr5TVK",
        "outputId": "e382d38b-0f3e-43f0-f1ca-7a1c65345e93"
      },
      "source": [
        "# можно менять цвет полоски\n",
        "for i in tqdm(range(100), colour='green'):\n",
        "    sleep(0.05)"
      ],
      "execution_count": null,
      "outputs": [
        {
          "output_type": "stream",
          "name": "stderr",
          "text": [
            "100%|\u001b[32m██████████\u001b[0m| 100/100 [00:05<00:00, 19.71it/s]\n"
          ]
        }
      ]
    },
    {
      "cell_type": "code",
      "metadata": {
        "id": "YuFbcuj55xZy",
        "colab": {
          "base_uri": "https://localhost:8080/"
        },
        "outputId": "4c403562-ee05-4337-8621-c69329b828aa"
      },
      "source": [
        "# демонстрацию прогресса можно выводить и по нескольким циклам одновременно\n",
        "for i in tqdm(range(3), colour='green',desc='Внешний          цикл'):\n",
        "  for j in tqdm(range(3), colour='blue',desc='Первый вложенный цикл'):\n",
        "    for k in tqdm(range(3), colour='yellow',desc='Второй вложенный цикл'):\n",
        "      sleep(0.2)"
      ],
      "execution_count": null,
      "outputs": [
        {
          "output_type": "stream",
          "name": "stderr",
          "text": [
            "Внешний          цикл:   0%|\u001b[32m          \u001b[0m| 0/3 [00:00<?, ?it/s]\n",
            "Первый вложенный цикл:   0%|\u001b[34m          \u001b[0m| 0/3 [00:00<?, ?it/s]\u001b[A\n",
            "\n",
            "Второй вложенный цикл:   0%|\u001b[33m          \u001b[0m| 0/3 [00:00<?, ?it/s]\u001b[A\u001b[A\n",
            "\n",
            "Второй вложенный цикл:  33%|\u001b[33m███▎      \u001b[0m| 1/3 [00:00<00:00,  4.99it/s]\u001b[A\u001b[A\n",
            "\n",
            "Второй вложенный цикл:  67%|\u001b[33m██████▋   \u001b[0m| 2/3 [00:00<00:00,  4.96it/s]\u001b[A\u001b[A\n",
            "\n",
            "Второй вложенный цикл: 100%|\u001b[33m██████████\u001b[0m| 3/3 [00:00<00:00,  4.93it/s]\n",
            "\n",
            "Первый вложенный цикл:  33%|\u001b[34m███▎      \u001b[0m| 1/3 [00:00<00:01,  1.63it/s]\u001b[A\n",
            "\n",
            "Второй вложенный цикл:   0%|\u001b[33m          \u001b[0m| 0/3 [00:00<?, ?it/s]\u001b[A\u001b[A\n",
            "\n",
            "Второй вложенный цикл:  33%|\u001b[33m███▎      \u001b[0m| 1/3 [00:00<00:00,  5.00it/s]\u001b[A\u001b[A\n",
            "\n",
            "Второй вложенный цикл:  67%|\u001b[33m██████▋   \u001b[0m| 2/3 [00:00<00:00,  4.95it/s]\u001b[A\u001b[A\n",
            "\n",
            "Второй вложенный цикл: 100%|\u001b[33m██████████\u001b[0m| 3/3 [00:00<00:00,  4.89it/s]\n",
            "\n",
            "Первый вложенный цикл:  67%|\u001b[34m██████▋   \u001b[0m| 2/3 [00:01<00:00,  1.62it/s]\u001b[A\n",
            "\n",
            "Второй вложенный цикл:   0%|\u001b[33m          \u001b[0m| 0/3 [00:00<?, ?it/s]\u001b[A\u001b[A\n",
            "\n",
            "Второй вложенный цикл:  33%|\u001b[33m███▎      \u001b[0m| 1/3 [00:00<00:00,  5.00it/s]\u001b[A\u001b[A\n",
            "\n",
            "Второй вложенный цикл:  67%|\u001b[33m██████▋   \u001b[0m| 2/3 [00:00<00:00,  4.95it/s]\u001b[A\u001b[A\n",
            "\n",
            "Второй вложенный цикл: 100%|\u001b[33m██████████\u001b[0m| 3/3 [00:00<00:00,  4.93it/s]\n",
            "\n",
            "Первый вложенный цикл: 100%|\u001b[34m██████████\u001b[0m| 3/3 [00:01<00:00,  1.61it/s]\n",
            "Внешний          цикл:  33%|\u001b[32m███▎      \u001b[0m| 1/3 [00:01<00:03,  1.87s/it]\n",
            "Первый вложенный цикл:   0%|\u001b[34m          \u001b[0m| 0/3 [00:00<?, ?it/s]\u001b[A\n",
            "\n",
            "Второй вложенный цикл:   0%|\u001b[33m          \u001b[0m| 0/3 [00:00<?, ?it/s]\u001b[A\u001b[A\n",
            "\n",
            "Второй вложенный цикл:  33%|\u001b[33m███▎      \u001b[0m| 1/3 [00:00<00:00,  4.99it/s]\u001b[A\u001b[A\n",
            "\n",
            "Второй вложенный цикл:  67%|\u001b[33m██████▋   \u001b[0m| 2/3 [00:00<00:00,  4.91it/s]\u001b[A\u001b[A\n",
            "\n",
            "Второй вложенный цикл: 100%|\u001b[33m██████████\u001b[0m| 3/3 [00:00<00:00,  4.87it/s]\n",
            "\n",
            "Первый вложенный цикл:  33%|\u001b[34m███▎      \u001b[0m| 1/3 [00:00<00:01,  1.60it/s]\u001b[A\n",
            "\n",
            "Второй вложенный цикл:   0%|\u001b[33m          \u001b[0m| 0/3 [00:00<?, ?it/s]\u001b[A\u001b[A\n",
            "\n",
            "Второй вложенный цикл:  33%|\u001b[33m███▎      \u001b[0m| 1/3 [00:00<00:00,  4.99it/s]\u001b[A\u001b[A\n",
            "\n",
            "Второй вложенный цикл:  67%|\u001b[33m██████▋   \u001b[0m| 2/3 [00:00<00:00,  4.91it/s]\u001b[A\u001b[A\n",
            "\n",
            "Второй вложенный цикл: 100%|\u001b[33m██████████\u001b[0m| 3/3 [00:00<00:00,  4.89it/s]\n",
            "\n",
            "Первый вложенный цикл:  67%|\u001b[34m██████▋   \u001b[0m| 2/3 [00:01<00:00,  1.58it/s]\u001b[A\n",
            "\n",
            "Второй вложенный цикл:   0%|\u001b[33m          \u001b[0m| 0/3 [00:00<?, ?it/s]\u001b[A\u001b[A\n",
            "\n",
            "Второй вложенный цикл:  33%|\u001b[33m███▎      \u001b[0m| 1/3 [00:00<00:00,  4.99it/s]\u001b[A\u001b[A\n",
            "\n",
            "Второй вложенный цикл:  67%|\u001b[33m██████▋   \u001b[0m| 2/3 [00:00<00:00,  4.94it/s]\u001b[A\u001b[A\n",
            "\n",
            "Второй вложенный цикл: 100%|\u001b[33m██████████\u001b[0m| 3/3 [00:00<00:00,  4.91it/s]\n",
            "\n",
            "Первый вложенный цикл: 100%|\u001b[34m██████████\u001b[0m| 3/3 [00:01<00:00,  1.59it/s]\n",
            "Внешний          цикл:  67%|\u001b[32m██████▋   \u001b[0m| 2/3 [00:03<00:01,  1.88s/it]\n",
            "Первый вложенный цикл:   0%|\u001b[34m          \u001b[0m| 0/3 [00:00<?, ?it/s]\u001b[A\n",
            "\n",
            "Второй вложенный цикл:   0%|\u001b[33m          \u001b[0m| 0/3 [00:00<?, ?it/s]\u001b[A\u001b[A\n",
            "\n",
            "Второй вложенный цикл:  33%|\u001b[33m███▎      \u001b[0m| 1/3 [00:00<00:00,  4.99it/s]\u001b[A\u001b[A\n",
            "\n",
            "Второй вложенный цикл:  67%|\u001b[33m██████▋   \u001b[0m| 2/3 [00:00<00:00,  4.92it/s]\u001b[A\u001b[A\n",
            "\n",
            "Второй вложенный цикл: 100%|\u001b[33m██████████\u001b[0m| 3/3 [00:00<00:00,  4.89it/s]\n",
            "\n",
            "Первый вложенный цикл:  33%|\u001b[34m███▎      \u001b[0m| 1/3 [00:00<00:01,  1.61it/s]\u001b[A\n",
            "\n",
            "Второй вложенный цикл:   0%|\u001b[33m          \u001b[0m| 0/3 [00:00<?, ?it/s]\u001b[A\u001b[A\n",
            "\n",
            "Второй вложенный цикл:  33%|\u001b[33m███▎      \u001b[0m| 1/3 [00:00<00:00,  4.99it/s]\u001b[A\u001b[A\n",
            "\n",
            "Второй вложенный цикл:  67%|\u001b[33m██████▋   \u001b[0m| 2/3 [00:00<00:00,  4.96it/s]\u001b[A\u001b[A\n",
            "\n",
            "Второй вложенный цикл: 100%|\u001b[33m██████████\u001b[0m| 3/3 [00:00<00:00,  4.91it/s]\n",
            "\n",
            "Первый вложенный цикл:  67%|\u001b[34m██████▋   \u001b[0m| 2/3 [00:01<00:00,  1.61it/s]\u001b[A\n",
            "\n",
            "Второй вложенный цикл:   0%|\u001b[33m          \u001b[0m| 0/3 [00:00<?, ?it/s]\u001b[A\u001b[A\n",
            "\n",
            "Второй вложенный цикл:  33%|\u001b[33m███▎      \u001b[0m| 1/3 [00:00<00:00,  4.99it/s]\u001b[A\u001b[A\n",
            "\n",
            "Второй вложенный цикл:  67%|\u001b[33m██████▋   \u001b[0m| 2/3 [00:00<00:00,  4.95it/s]\u001b[A\u001b[A\n",
            "\n",
            "Второй вложенный цикл: 100%|\u001b[33m██████████\u001b[0m| 3/3 [00:00<00:00,  4.92it/s]\n",
            "\n",
            "Первый вложенный цикл: 100%|\u001b[34m██████████\u001b[0m| 3/3 [00:01<00:00,  1.60it/s]\n",
            "Внешний          цикл: 100%|\u001b[32m██████████\u001b[0m| 3/3 [00:05<00:00,  1.88s/it]\n"
          ]
        }
      ]
    },
    {
      "cell_type": "markdown",
      "metadata": {
        "id": "bHUJFvzw7ROU"
      },
      "source": [
        "###tqdm.notebook"
      ]
    },
    {
      "cell_type": "markdown",
      "metadata": {
        "id": "575gEtzr7WMz"
      },
      "source": [
        "__tqdm_notebook__ представляет из себя прогресс бар с автоматически меняющейся цветовой гаммой. Он красный если цикл прерван, синий, если цикл в процессе и зеленый, если цикл успешно завершился."
      ]
    },
    {
      "cell_type": "code",
      "metadata": {
        "colab": {
          "base_uri": "https://localhost:8080/",
          "height": 69,
          "referenced_widgets": [
            "0e494cbf6214470489baf4bfe41b5fcf",
            "b72b275c194e4564a491d1a79ae88680",
            "0674c12c11ef4427a125881ee442950e",
            "2df6bf8d643b4a8ea4be41a1d530be27",
            "b8371ffe36ca42a2b43074024018ed11",
            "543585d02a1e4d90b97c0a792f2c5d3a",
            "7e919929102644cda39b9cbdf68e4090",
            "13cc26923c304f32b543cde75390c28f",
            "3f582622e44c464d973783b2292d0292",
            "6291b837f3d04de393c0a4488f9b6594",
            "8760db19be584e528aa22d8e427c5901"
          ]
        },
        "id": "J88BzJox75tZ",
        "outputId": "25198d8d-556a-47f4-b953-cbc39ced0f50"
      },
      "source": [
        "from tqdm.notebook import tqdm_notebook\n",
        "\n",
        "pbar =  tqdm_notebook(list_of_chars, desc='Кастомизировать можно аналогично tqdm',ncols=1000)\n",
        "\n",
        "for char in pbar:\n",
        "    sleep(1)\n",
        "    pbar.set_description(f'Обрабатываем букву {char}')"
      ],
      "execution_count": null,
      "outputs": [
        {
          "output_type": "display_data",
          "data": {
            "text/plain": [
              "Кастомизировать можно аналогично tqdm:   0%|                                                                  …"
            ],
            "application/vnd.jupyter.widget-view+json": {
              "version_major": 2,
              "version_minor": 0,
              "model_id": "0e494cbf6214470489baf4bfe41b5fcf"
            }
          },
          "metadata": {}
        }
      ]
    },
    {
      "cell_type": "code",
      "metadata": {
        "colab": {
          "base_uri": "https://localhost:8080/",
          "height": 209,
          "referenced_widgets": [
            "e05e9a733ba8419cae7e8c9ab0fa089a",
            "2faa33b57faf44c7ab33bfbde3e443b6",
            "47219b0fb91842a1a4e2743f2583d2f2",
            "3b6fd6629b8f4eaab142e6d0e670ace9",
            "a2508b2ec84943ef96e6defaba0e1f6a",
            "187d0aecf9464bbe85a3721c693443e5",
            "e5f21693898a452f82d1ba3b2bc6b2be",
            "dc827368482b4e54a1e87ea44132c773",
            "adea1ac1ccc149d98977b4b88ed112df",
            "75fc934787e14dd581bd841297229c61",
            "d73c52fdf6ff4f7c96dbad27ca7fb916",
            "54b3c74dedfc44fb9f3780774ba3360d",
            "7566476d3f6a487988a2764cb6f707a0",
            "d325b9950f944b5b999ff99384dd7970",
            "8759dfa99aa9468e94292edb2f273a78",
            "70a84662dfff42e895006ef80802be1e",
            "692d2b66e8e845f5bb0884969254b75a",
            "1521d97441e64e2489b93f8e9f11a534",
            "4f794bfd85314f14b4f6df062a475f78",
            "299c5d3c68c54d43a6958ece871a92e9",
            "c74e7afa0ce74cff99f13a90fdebb126",
            "abea218c3ae54a1ea9a3297af5f4cf7d",
            "49e312d12f8841ecbddcc030f4649c87",
            "4d55b79c4b39452b9432df3bdbd47a4d",
            "2ef3d6ad38104054a0f24bf8199718e6",
            "899f4cda64f4440bb5229efb6e16ad5b",
            "1b49da87040c44018a3b741d9e08f1bd",
            "4639fa1f21ac4f5088ff2da4d799064e",
            "c15b745f04034a2fa9602a0d8034eb47",
            "040a5f71403b4b11bf2c369c74ffff9f",
            "c4ebe3694af14263af6ad4d287fb8ebf",
            "0fbc738753294a928166aa2fe8418d61",
            "0834478815bd43718c8c223a2153cd08",
            "dc70ad6227a9439e832351c38b263ef0",
            "9e0c2b34101e4697a8d1767bb0f6cf8d",
            "1b993d5dda8b4e5babe2a25a66c6e64f",
            "16237410204a4ad6873ed17c96806aea",
            "1b0f85b512414f519197eb49b7438e8a",
            "48c8b0dc59ae4cffb82dafd64f269214",
            "87860308ab8f401fb202fdeaeb79019e",
            "26834798d8f445558b16cc03427d7408",
            "c1df87bf0f67410ba907b661a1365dac",
            "8f7920073eb34452936af28a5e5509d2",
            "2f88f231e5c146f48ef1feeaa020a94c",
            "22f433cafb3747dbb495c6b30b09b319",
            "2d9b8a9976734b76a643d4635cb7ccfb",
            "804f2756eb5a4cd09b27593b2fefa97b",
            "762aac5f69354a9f9d87848072949b76",
            "60c4b70d965d49108babb3fb3268ad5b",
            "e5b7b06e0cf44cf88c7e83a6a9efc426",
            "62597ac1d97a4a1a8e3bc32c4f09d139",
            "91a4eb0bc4b94c3a98f14693296d6a08",
            "56fe8dd5850841b2973dda685c4b3274",
            "891e52a6a8e6420785d82cec34a148d2",
            "23c90e6a65d241a5ba63177599ef2e7a",
            "ab3aace24a38427e8a2940c600c4a68a",
            "cf783d43714749e5a9925d2c038f1a1c",
            "4267aa24a1b44b9bb188bac37409610d",
            "08c2ff2ea4274c818486056924e8399e",
            "c1b5a92f9feb4e3f95a9b79467124791",
            "2f9cf14cda6f42eab9b7da6f970c62c1",
            "bf51705944de47ebbb8365b481e6de77",
            "04cddb78fadf472dbf5a0a2b7f2cd80e",
            "cc8cc31550db4fa9a730034df5e7c0a1",
            "eb8f15761466454fa0da9f86b252a461",
            "4f97508ad490409e84c534c2fc93f46b"
          ]
        },
        "id": "PRdJgvQLAAV0",
        "outputId": "749fb64a-4c96-45c8-db82-c4e77da93436"
      },
      "source": [
        "# аналогично работает для вложенных циклов\n",
        "for i in tqdm_notebook(range(5), desc='Цикл 1'): # при этом первы йцикл не будет выводиться кусками\n",
        "  for j in tqdm_notebook(range(5), desc='Цикл 2'):\n",
        "    sleep(0.5)\n"
      ],
      "execution_count": null,
      "outputs": [
        {
          "output_type": "display_data",
          "data": {
            "text/plain": [
              "Цикл 1:   0%|          | 0/5 [00:00<?, ?it/s]"
            ],
            "application/vnd.jupyter.widget-view+json": {
              "version_major": 2,
              "version_minor": 0,
              "model_id": "e05e9a733ba8419cae7e8c9ab0fa089a"
            }
          },
          "metadata": {}
        },
        {
          "output_type": "display_data",
          "data": {
            "text/plain": [
              "Цикл 2:   0%|          | 0/5 [00:00<?, ?it/s]"
            ],
            "application/vnd.jupyter.widget-view+json": {
              "version_major": 2,
              "version_minor": 0,
              "model_id": "54b3c74dedfc44fb9f3780774ba3360d"
            }
          },
          "metadata": {}
        },
        {
          "output_type": "display_data",
          "data": {
            "text/plain": [
              "Цикл 2:   0%|          | 0/5 [00:00<?, ?it/s]"
            ],
            "application/vnd.jupyter.widget-view+json": {
              "version_major": 2,
              "version_minor": 0,
              "model_id": "49e312d12f8841ecbddcc030f4649c87"
            }
          },
          "metadata": {}
        },
        {
          "output_type": "display_data",
          "data": {
            "text/plain": [
              "Цикл 2:   0%|          | 0/5 [00:00<?, ?it/s]"
            ],
            "application/vnd.jupyter.widget-view+json": {
              "version_major": 2,
              "version_minor": 0,
              "model_id": "dc70ad6227a9439e832351c38b263ef0"
            }
          },
          "metadata": {}
        },
        {
          "output_type": "display_data",
          "data": {
            "text/plain": [
              "Цикл 2:   0%|          | 0/5 [00:00<?, ?it/s]"
            ],
            "application/vnd.jupyter.widget-view+json": {
              "version_major": 2,
              "version_minor": 0,
              "model_id": "22f433cafb3747dbb495c6b30b09b319"
            }
          },
          "metadata": {}
        },
        {
          "output_type": "display_data",
          "data": {
            "text/plain": [
              "Цикл 2:   0%|          | 0/5 [00:00<?, ?it/s]"
            ],
            "application/vnd.jupyter.widget-view+json": {
              "version_major": 2,
              "version_minor": 0,
              "model_id": "ab3aace24a38427e8a2940c600c4a68a"
            }
          },
          "metadata": {}
        }
      ]
    },
    {
      "cell_type": "markdown",
      "metadata": {
        "id": "54_MXQwoNCRO"
      },
      "source": [
        "##4. Аргументы командной строки"
      ]
    },
    {
      "cell_type": "markdown",
      "metadata": {
        "id": "Phq9Tme5NZEX"
      },
      "source": [
        "###sys.argv"
      ]
    },
    {
      "cell_type": "markdown",
      "metadata": {
        "id": "VW3EKQ0YSbhw"
      },
      "source": [
        "Для примитивного случая - когда параметры неименованные и идут в строгом порядке - можно воспользоваться парсером из пакета __sys__."
      ]
    },
    {
      "cell_type": "code",
      "metadata": {
        "colab": {
          "base_uri": "https://localhost:8080/"
        },
        "id": "6eXhLubzQDw5",
        "outputId": "78db454c-3550-4843-ea39-5408e6d4d838"
      },
      "source": [
        "%%writefile samplesys.py\n",
        "# импортируем\n",
        "import sys\n",
        "\n",
        "print(f'sys.argv[0]={sys.argv[0]}') # первым параметром всегда идет имя запускаемого файла\n",
        "if len(sys.argv) == 1:\n",
        "  print('нет параметров')\n",
        "else:\n",
        "  print(f'передано {len(sys.argv)-1} параметров: {sys.argv[1:]}') # дальше к параметрам можно обращаться по индексам"
      ],
      "execution_count": null,
      "outputs": [
        {
          "output_type": "stream",
          "name": "stdout",
          "text": [
            "Writing samplesys.py\n"
          ]
        }
      ]
    },
    {
      "cell_type": "code",
      "metadata": {
        "colab": {
          "base_uri": "https://localhost:8080/"
        },
        "id": "Sr4SasXxRPN7",
        "outputId": "b8bf8a71-0fef-44fa-d2f9-e9bb93a00f7e"
      },
      "source": [
        "!python samplesys.py"
      ],
      "execution_count": null,
      "outputs": [
        {
          "output_type": "stream",
          "name": "stdout",
          "text": [
            "sys.argv[0]=samplesys.py\n",
            "нет параметров\n"
          ]
        }
      ]
    },
    {
      "cell_type": "code",
      "metadata": {
        "colab": {
          "base_uri": "https://localhost:8080/"
        },
        "id": "2OQFMWPbR_ks",
        "outputId": "848ae80f-fb2a-45b3-bf82-75799c1c56eb"
      },
      "source": [
        "!python samplesys.py parameter 420"
      ],
      "execution_count": null,
      "outputs": [
        {
          "output_type": "stream",
          "name": "stdout",
          "text": [
            "sys.argv[0]=samplesys.py\n",
            "передано 2 параметров: ['parameter', '420']\n"
          ]
        }
      ]
    },
    {
      "cell_type": "markdown",
      "metadata": {
        "id": "iU9eW7QFOKqQ"
      },
      "source": [
        "###argparse"
      ]
    },
    {
      "cell_type": "markdown",
      "metadata": {
        "id": "Em_Rn8a7TahZ"
      },
      "source": [
        "Для более сложных случаев - например, для использования именованных параметров, которые могут быть как обязательными, так и нет, - существует пакет __argparse__."
      ]
    },
    {
      "cell_type": "code",
      "metadata": {
        "colab": {
          "base_uri": "https://localhost:8080/",
          "height": 187
        },
        "id": "-3AEWX_6VqYA",
        "outputId": "e29af07e-bcc7-42ad-8c01-bab53c8fa673"
      },
      "source": [
        "!pip install argparse"
      ],
      "execution_count": null,
      "outputs": [
        {
          "output_type": "stream",
          "name": "stdout",
          "text": [
            "Collecting argparse\n",
            "  Downloading argparse-1.4.0-py2.py3-none-any.whl (23 kB)\n",
            "Installing collected packages: argparse\n",
            "Successfully installed argparse-1.4.0\n"
          ]
        },
        {
          "output_type": "display_data",
          "data": {
            "application/vnd.colab-display-data+json": {
              "pip_warning": {
                "packages": [
                  "argparse"
                ]
              }
            }
          },
          "metadata": {}
        }
      ]
    },
    {
      "cell_type": "code",
      "metadata": {
        "colab": {
          "base_uri": "https://localhost:8080/"
        },
        "id": "CsTuMhGiW8vC",
        "outputId": "36064eb2-e53b-49bc-d2d6-951c388a71a1"
      },
      "source": [
        "%%writefile sampleargparse.py\n",
        "import argparse\n",
        "# опциональные аргументы\n",
        "parser = argparse.ArgumentParser(description ='Пример использования argrapse для разбора аргументов командной строки')\n",
        "parser.add_argument('-i','--integerarg',type=int, default=1, help='Это целочисленный аргумент, у которого имеется значение по умолчанию')\n",
        "parser.add_argument('-s','--stringarg',type=str, choices=['говори','python','круто'], help='Это обязательный строковый аргумент,\\\n",
        "                    значение которого должно попадать в указанный список',required=True)\n",
        "group = parser.add_mutually_exclusive_group(required = True)\n",
        "group.add_argument('-t','--truearg',action='store_true', help='Это аргумент взаимоисключающей группы,\\\n",
        "                   его нельзя передавать вместе с -f, он хранит в себе булевое значение True')\n",
        "group.add_argument('-f','--falsearg',action='store_false', help='Это аргумент взаимоисключающей группы,\\\n",
        "                   его нельзя передавать вместе с -t, он хранит в себе булевое значение False')\n",
        "# позиционные аргументы\n",
        "parser.add_argument('req0',type=str,help='Это обязательный строковый позиционный аргумент, в вызове всегда будет идти после опциональных')\n",
        "parser.add_argument('req1',type=float,help='Это обязательный вещественный позиционный аргумент, в вызове всегда будет идти после опциональных')\n",
        "# рекомендуется вместо позиционных аргументов использовать required=True опциональные аргументы\n",
        "# причины очевидны - так удобнее работать пользователю\n",
        "\n",
        "args = parser.parse_args()\n",
        "print(args.req0)\n",
        "print(args.req1)\n",
        "print(args.integerarg)\n",
        "print(args.stringarg)\n",
        "if args.truearg is not None:\n",
        "  print(args.truearg)\n",
        "else:\n",
        "  print(args.falsearg)\n"
      ],
      "execution_count": null,
      "outputs": [
        {
          "output_type": "stream",
          "name": "stdout",
          "text": [
            "Writing sampleargparse.py\n"
          ]
        }
      ]
    },
    {
      "cell_type": "code",
      "metadata": {
        "colab": {
          "base_uri": "https://localhost:8080/"
        },
        "id": "pJFIMW_QfU2Q",
        "outputId": "7cea0b2f-a5e4-4513-d0c4-3d77ec70f6f5"
      },
      "source": [
        "# позиционные аргументы указываются после опциональных в порядке их описания в коде\n",
        "!python sampleargparse.py --stringarg=python --truearg 'обязательный аргумент' 4.20"
      ],
      "execution_count": null,
      "outputs": [
        {
          "output_type": "stream",
          "name": "stdout",
          "text": [
            "обязательный аргумент\n",
            "4.2\n",
            "1\n",
            "python\n",
            "True\n"
          ]
        }
      ]
    },
    {
      "cell_type": "code",
      "metadata": {
        "colab": {
          "base_uri": "https://localhost:8080/"
        },
        "id": "GXqurKdvf_M-",
        "outputId": "70093a95-26db-40e8-a4e5-603c511ae048"
      },
      "source": [
        "# иначе получим ошибку несоответствия типов\n",
        "!python sampleargparse.py --stringarg=python --truearg  4.20 'обязательный аргумент'"
      ],
      "execution_count": null,
      "outputs": [
        {
          "output_type": "stream",
          "name": "stdout",
          "text": [
            "usage: sampleargparse.py\n",
            "       [-h]\n",
            "       [-i INTEGERARG]\n",
            "       -s\n",
            "       {говори,python,круто}\n",
            "       (-t | -f)\n",
            "       req0\n",
            "       req1\n",
            "sampleargparse.py: error: argument req1: invalid float value: 'обязательный аргумент'\n"
          ]
        }
      ]
    },
    {
      "cell_type": "code",
      "metadata": {
        "colab": {
          "base_uri": "https://localhost:8080/"
        },
        "id": "gXBq2ZbCbcSC",
        "outputId": "8af37cd6-34ff-481c-d6de-65585af488a1"
      },
      "source": [
        "# можно указывать как полные имена опциональных аргументов\n",
        "!python sampleargparse.py --stringarg=python --truearg 'обязательный аргумент' 4.20"
      ],
      "execution_count": null,
      "outputs": [
        {
          "output_type": "stream",
          "name": "stdout",
          "text": [
            "обязательный аргумент\n",
            "4.2\n",
            "1\n",
            "python\n",
            "True\n"
          ]
        }
      ]
    },
    {
      "cell_type": "code",
      "metadata": {
        "colab": {
          "base_uri": "https://localhost:8080/"
        },
        "id": "tRlgbGPgcJCt",
        "outputId": "3b9c6eec-8f2e-445a-892f-24ad76b9c4d1"
      },
      "source": [
        "# так и сокращенные\n",
        "!python sampleargparse.py -s=python -t 'обязательный аргумент' 4.20"
      ],
      "execution_count": null,
      "outputs": [
        {
          "output_type": "stream",
          "name": "stdout",
          "text": [
            "обязательный аргумент\n",
            "4.2\n",
            "1\n",
            "python\n",
            "True\n"
          ]
        }
      ]
    },
    {
      "cell_type": "code",
      "metadata": {
        "colab": {
          "base_uri": "https://localhost:8080/"
        },
        "id": "pn2HAknXdvnz",
        "outputId": "e94529aa-3c9f-42ec-ed32-c2361b710a1c"
      },
      "source": [
        "# прочесть описания аргументов можно вызвав приложение с параметром -h или --help\n",
        "!python sampleargparse.py --help"
      ],
      "execution_count": null,
      "outputs": [
        {
          "output_type": "stream",
          "name": "stdout",
          "text": [
            "usage: sampleargparse.py\n",
            "       [-h]\n",
            "       [-i INTEGERARG]\n",
            "       -s\n",
            "       {говори,python,круто}\n",
            "       (-t | -f)\n",
            "       req0\n",
            "       req1\n",
            "\n",
            "Пример испо\n",
            "льзования\n",
            "argrapse\n",
            "для разбора\n",
            "аргументов\n",
            "командной\n",
            "строки\n",
            "\n",
            "positional arguments:\n",
            "  req0\n",
            "    Это обязате\n",
            "    льный\n",
            "    строковый\n",
            "    позиционный\n",
            "    аргумент, в\n",
            "    вызове\n",
            "    всегда\n",
            "    будет идти\n",
            "    после опцио\n",
            "    нальных\n",
            "  req1\n",
            "    Это обязате\n",
            "    льный вещес\n",
            "    твенный\n",
            "    позиционный\n",
            "    аргумент, в\n",
            "    вызове\n",
            "    всегда\n",
            "    будет идти\n",
            "    после опцио\n",
            "    нальных\n",
            "\n",
            "options:\n",
            "  -h, --help\n",
            "    show this\n",
            "    help\n",
            "    message and\n",
            "    exit\n",
            "  -i INTEGERARG, --integerarg INTEGERARG\n",
            "    Это целочис\n",
            "    ленный\n",
            "    аргумент, у\n",
            "    которого\n",
            "    имеется\n",
            "    значение по\n",
            "    умолчанию\n",
            "  -s {говори,python,круто}, --stringarg {говори,python,круто}\n",
            "    Это обязате\n",
            "    льный\n",
            "    строковый\n",
            "    аргумент,\n",
            "    значение\n",
            "    которого\n",
            "    должно\n",
            "    попадать в\n",
            "    указанный\n",
            "    список\n",
            "  -t, --truearg\n",
            "    Это\n",
            "    аргумент вз\n",
            "    аимоисключа\n",
            "    ющей\n",
            "    группы, его\n",
            "    нельзя\n",
            "    передавать\n",
            "    вместе с\n",
            "    -f, он\n",
            "    хранит в\n",
            "    себе\n",
            "    булевое\n",
            "    значение\n",
            "    True\n",
            "  -f, --falsearg\n",
            "    Это\n",
            "    аргумент вз\n",
            "    аимоисключа\n",
            "    ющей\n",
            "    группы, его\n",
            "    нельзя\n",
            "    передавать\n",
            "    вместе с\n",
            "    -t, он\n",
            "    хранит в\n",
            "    себе\n",
            "    булевое\n",
            "    значение\n",
            "    False\n"
          ]
        }
      ]
    },
    {
      "cell_type": "code",
      "metadata": {
        "colab": {
          "base_uri": "https://localhost:8080/"
        },
        "id": "ZjR03-uTdbJs",
        "outputId": "cf13e30b-ec6a-4887-c375-fda058028352"
      },
      "source": [
        "# опциональные аргументы можно указывать в произвольном порядке\n",
        "!python sampleargparse.py  -t -s=python -i=69 'обязательный аргумент' 4.20"
      ],
      "execution_count": null,
      "outputs": [
        {
          "output_type": "stream",
          "name": "stdout",
          "text": [
            "обязательный аргумент\n",
            "4.2\n",
            "69\n",
            "python\n",
            "True\n"
          ]
        }
      ]
    },
    {
      "cell_type": "code",
      "metadata": {
        "colab": {
          "base_uri": "https://localhost:8080/"
        },
        "id": "7U_kJbj3cpuB",
        "outputId": "a0a6ba56-12d8-4633-9c4f-bc2f7cd2d23a"
      },
      "source": [
        "# если указать значение не из списка для -s, выведется ошибка\n",
        "!python sampleargparse.py -t -s=жабаскрипт 'обязательный аргумент' 4.20"
      ],
      "execution_count": null,
      "outputs": [
        {
          "output_type": "stream",
          "name": "stdout",
          "text": [
            "usage: sampleargparse.py [-h] [-i INTEGERARG] -s {говори,python,круто}\n",
            "                         (-t | -f)\n",
            "                         req0 req1\n",
            "sampleargparse.py: error: argument -s/--stringarg: invalid choice: 'жабаскрипт' (choose from 'говори', 'python', 'круто')\n"
          ]
        }
      ]
    },
    {
      "cell_type": "code",
      "metadata": {
        "colab": {
          "base_uri": "https://localhost:8080/"
        },
        "id": "qLjbktX3cSFV",
        "outputId": "b953e40d-c97c-4de2-eed8-e1ec7047b7f1"
      },
      "source": [
        "# если не указать  опциональные аргументы, у которых есть required, выведется ошибка\n",
        "!python sampleargparse.py 'обязательный аргумент' 4.20"
      ],
      "execution_count": null,
      "outputs": [
        {
          "output_type": "stream",
          "name": "stdout",
          "text": [
            "usage: sampleargparse.py [-h] [-i INTEGERARG] -s {говори,python,круто}\n",
            "                         (-t | -f)\n",
            "                         req0 req1\n",
            "sampleargparse.py: error: the following arguments are required: -s/--stringarg\n"
          ]
        }
      ]
    },
    {
      "cell_type": "code",
      "metadata": {
        "colab": {
          "base_uri": "https://localhost:8080/"
        },
        "id": "ac1SUxvccc2z",
        "outputId": "e8f10f39-250f-4000-ffc3-192c7f287196"
      },
      "source": [
        "# если указать взаимоисключающие аргументы, выведется ошибка\n",
        "!python sampleargparse.py -s=python -t -f 'обязательный аргумент' 4.20"
      ],
      "execution_count": null,
      "outputs": [
        {
          "output_type": "stream",
          "name": "stdout",
          "text": [
            "usage: sampleargparse.py [-h] [-i INTEGERARG] -s {говори,python,круто}\n",
            "                         (-t | -f)\n",
            "                         req0 req1\n",
            "sampleargparse.py: error: argument -f/--falsearg: not allowed with argument -t/--truearg\n"
          ]
        }
      ]
    },
    {
      "cell_type": "code",
      "source": [
        "%%writefile sampleargparse.py\n",
        "\n",
        "import argparse\n",
        "\n",
        "parser = argparse.ArgumentParser()\n",
        "parser.add_argument('-f','--find',type=str, required=True)\n",
        "parser.add_argument('-c','--count',type=int, required=True)\n",
        "args = parser.parse_args()\n",
        "\n",
        "def actions(count, find):\n",
        "  for i in range(count):\n",
        "    print(find)\n",
        "\n",
        "\n",
        "actions(args.count, args.find)"
      ],
      "metadata": {
        "colab": {
          "base_uri": "https://localhost:8080/"
        },
        "id": "0ZBP9bsvGLEM",
        "outputId": "75280c44-94d2-449b-caa8-ace43247826f"
      },
      "execution_count": null,
      "outputs": [
        {
          "output_type": "stream",
          "name": "stdout",
          "text": [
            "Overwriting sampleargparse.py\n"
          ]
        }
      ]
    },
    {
      "cell_type": "code",
      "source": [
        "!python sampleargparse.py -f caat -c 20"
      ],
      "metadata": {
        "colab": {
          "base_uri": "https://localhost:8080/"
        },
        "id": "NhPtF-VCGOTI",
        "outputId": "da3e04ef-d1bd-4807-de33-a0f477839b3f"
      },
      "execution_count": null,
      "outputs": [
        {
          "output_type": "stream",
          "name": "stdout",
          "text": [
            "caat\n",
            "caat\n",
            "caat\n",
            "caat\n",
            "caat\n",
            "caat\n",
            "caat\n",
            "caat\n",
            "caat\n",
            "caat\n",
            "caat\n",
            "caat\n",
            "caat\n",
            "caat\n",
            "caat\n",
            "caat\n",
            "caat\n",
            "caat\n",
            "caat\n",
            "caat\n"
          ]
        }
      ]
    },
    {
      "cell_type": "code",
      "source": [
        "var = 10\n",
        "for i in range(0,2,1):\n",
        "  var+=i\n",
        "print(var)"
      ],
      "metadata": {
        "colab": {
          "base_uri": "https://localhost:8080/"
        },
        "id": "UlZGSxb6Jgfk",
        "outputId": "0450d240-f7ae-4903-844b-eb5d50e93f6e"
      },
      "execution_count": null,
      "outputs": [
        {
          "output_type": "stream",
          "name": "stdout",
          "text": [
            "11\n"
          ]
        }
      ]
    },
    {
      "cell_type": "code",
      "source": [],
      "metadata": {
        "id": "i22XAjXRKIFT"
      },
      "execution_count": null,
      "outputs": []
    }
  ]
}