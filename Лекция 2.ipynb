{
  "nbformat": 4,
  "nbformat_minor": 0,
  "metadata": {
    "colab": {
      "provenance": [],
      "collapsed_sections": [
        "4617HPjCunpA",
        "QMYESYrAvi-3",
        "ZrEYv6ODv3jq",
        "QkaXHGTLwqCb",
        "YpmQjmBTw27v",
        "d_6_mTCHw3bX",
        "2TCHRAfNys4V",
        "Cz7atIpKyt7q",
        "nsH4-JAIyuZU",
        "YOBsqr3Lznaz",
        "S3cHmlUGz5N5",
        "sySpEdKv0HqV",
        "7JupRTUz0-5F",
        "HIaa8aoo1fLb",
        "Oe9EQc0a1vDD",
        "aZwb3ncv2cDb",
        "RIB1ZEvzZstV",
        "cpv4yJMiZstV",
        "Tk6ZgSmdZstW",
        "xSnpRhvtZstW",
        "cb2D8CS_ZstW",
        "dPm7WRgVZstW",
        "qGIF3sp2ZstX",
        "2n5wQKX9ZstX",
        "MKNN03EKE3D_",
        "Z-BAqBNDZstX",
        "J0N6z1LU3WQs",
        "QaAL0A0K3tVa",
        "Ru-Fy5jY30PD",
        "lYsauIEH37ON",
        "zYwGbM5l3986",
        "miTiLjD54aRG",
        "8TXpW_5N6Ddt",
        "bOC6GxmTB5XT",
        "KtYl8kXIB_G5",
        "R_bVzTeCC31V"
      ]
    },
    "kernelspec": {
      "name": "python3",
      "display_name": "Python 3"
    },
    "language_info": {
      "name": "python"
    }
  },
  "cells": [
    {
      "cell_type": "markdown",
      "metadata": {
        "id": "ac_mKFVWGhgS"
      },
      "source": [
        "#Прикладное программирование\n",
        "[Презентация](https://docs.google.com/presentation/d/1fO-qWBuaj-F7LrmfF0McHnAuLtacrQLO4m7tkRpm1xs/edit?usp=sharing)\n",
        "##Лекция 2\n",
        "- Работа с GitHub в среде разработки Pycharm\n",
        "- Venv\n",
        "- Jupyter Lab\n",
        "- Conda\n",
        "- Списки\n",
        "- Словари\n",
        "- Кортежи\n",
        "- Регулярные выражения\n",
        "- Функции\n",
        "- Области видимости переменных\n",
        "- Lambda-функции\n",
        "- Функции enumerater, zip, map, filter\n"
      ]
    },
    {
      "cell_type": "markdown",
      "metadata": {
        "id": "WFTeIs61DXws"
      },
      "source": [
        "#Список\n",
        "\n",
        "Список (list) представляет тип данных, который хранит набор или последовательность элементов. Для создания списка в квадратных скобках ([]) через запятую перечисляются все его элементы. Во многих языках программирования есть аналогичная структура данных, которая называется массив. Например, определим список чисел:"
      ]
    },
    {
      "cell_type": "code",
      "metadata": {
        "colab": {
          "base_uri": "https://localhost:8080/"
        },
        "id": "TLpsL_xeCCxN",
        "outputId": "7e3f9c30-5d96-4930-f929-a609805454cb"
      },
      "source": [
        "numbers = [1, 2, 3, 4, 5]\n",
        "print(numbers)"
      ],
      "execution_count": null,
      "outputs": [
        {
          "output_type": "stream",
          "name": "stdout",
          "text": [
            "[1, 2, 3, 4, 5]\n"
          ]
        }
      ]
    },
    {
      "cell_type": "markdown",
      "metadata": {
        "id": "9mHsTAJdCUDy"
      },
      "source": [
        "Также для создания списка можно использовать конструктор list():"
      ]
    },
    {
      "cell_type": "code",
      "metadata": {
        "colab": {
          "base_uri": "https://localhost:8080/"
        },
        "id": "C9bq1pArCFJt",
        "outputId": "6f56bfb9-57c2-40c9-b214-99925ab7fda2"
      },
      "source": [
        "numbers1 = []\n",
        "numbers2 = list()\n",
        "print(numbers1)\n",
        "print(numbers2)"
      ],
      "execution_count": null,
      "outputs": [
        {
          "output_type": "stream",
          "name": "stdout",
          "text": [
            "[]\n",
            "[]\n"
          ]
        }
      ]
    },
    {
      "cell_type": "markdown",
      "metadata": {
        "id": "Rk634aIyCVGZ"
      },
      "source": [
        "Оба этих определения списка аналогичны - они создают пустой список.\n",
        "\n",
        "Конструктор list для создания списока может принимать другой список:"
      ]
    },
    {
      "cell_type": "code",
      "metadata": {
        "colab": {
          "base_uri": "https://localhost:8080/"
        },
        "id": "gtYB2FUSCIJ0",
        "outputId": "ae48e630-c6db-4f84-b817-99a4c2b0d3af"
      },
      "source": [
        "numbers = [1, 2, 3, 4, 5, 6, 7, 8, 9]\n",
        "numbers2 = list(numbers)\n",
        "print(numbers2)"
      ],
      "execution_count": null,
      "outputs": [
        {
          "output_type": "stream",
          "name": "stdout",
          "text": [
            "[1, 2, 3, 4, 5, 6, 7, 8, 9]\n"
          ]
        }
      ]
    },
    {
      "cell_type": "markdown",
      "metadata": {
        "id": "QODZjUmTCeB1"
      },
      "source": [
        "Для обращения к элементам списка надо использовать индексы, которые представляют номер элемента в списка. Индексы начинаются с нуля. То есть второй элемент будет иметь индекс 1. Для обращения к элементам с конца можно использовать отрицательные индексы, начиная с -1. То есть у последнего элемента будет индекс -1, у предпоследнего - -2 и так далее."
      ]
    },
    {
      "cell_type": "code",
      "metadata": {
        "colab": {
          "base_uri": "https://localhost:8080/"
        },
        "id": "s0hE3XqXCJYt",
        "outputId": "398b6ecd-7a3f-4702-f2c9-0b38408290d2"
      },
      "source": [
        "numbers = [1, 2, 3, 4, 5]\n",
        "print(numbers[0])   # 1\n",
        "print(numbers[2])   # 3\n",
        "print(numbers[-3])  # 3\n",
        "\n",
        "numbers[0] = 125  # изменяем первый элемент списка\n",
        "print(numbers[0])   # 125"
      ],
      "execution_count": null,
      "outputs": [
        {
          "output_type": "stream",
          "name": "stdout",
          "text": [
            "1\n",
            "3\n",
            "3\n",
            "125\n"
          ]
        }
      ]
    },
    {
      "cell_type": "markdown",
      "metadata": {
        "id": "NgGt4UPouAxu"
      },
      "source": [
        "Если необходимо создать список, в котором повторяется одно и то же значение несколько раз, то можно использовать следующий способ. Например, определим список из шести пятерок:"
      ]
    },
    {
      "cell_type": "code",
      "metadata": {
        "id": "HfRUWCfJuCXz",
        "colab": {
          "base_uri": "https://localhost:8080/"
        },
        "outputId": "5fa87796-39fe-475e-a03c-09277f55f38b"
      },
      "source": [
        "numbers = [5] * 6  # [5, 5, 5, 5, 5, 5]\n",
        "print(numbers)"
      ],
      "execution_count": null,
      "outputs": [
        {
          "output_type": "stream",
          "name": "stdout",
          "text": [
            "[5, 5, 5, 5, 5, 5]\n"
          ]
        }
      ]
    },
    {
      "cell_type": "markdown",
      "metadata": {
        "id": "R6ded9_KuFLA"
      },
      "source": [
        "Кроме того, если нам необходим последовательный список чисел, то для его создания удобно использовать функцию range, которая имеет три формы:\n",
        "\n",
        "range(end): создается набор чисел от 0 до числа end\n",
        "\n",
        "range(start, end): создается набор чисел от числа start до числа end\n",
        "\n",
        "range(start, end, step): создается набор чисел от числа start до числа end с шагом step"
      ]
    },
    {
      "cell_type": "code",
      "metadata": {
        "id": "jG6r1sDPuIpD"
      },
      "source": [
        "numbers = list(range(10))\n",
        "print(numbers)      # [0, 1, 2, 3, 4, 5, 6, 7, 8, 9]\n",
        "numbers = list(range(2, 10))\n",
        "print(numbers)      # [2, 3, 4, 5, 6, 7, 8, 9]\n",
        "numbers = list(range(10, 2, -2))\n",
        "print(numbers)      # [10, 8, 6, 4]"
      ],
      "execution_count": null,
      "outputs": []
    },
    {
      "cell_type": "markdown",
      "metadata": {
        "id": "oIyaDEK6uKHE"
      },
      "source": [
        "Например, следующие два определения списка будут аналогичны, но за счет функции range мы сокращаем объем кода:"
      ]
    },
    {
      "cell_type": "code",
      "metadata": {
        "id": "CfQN8zpPuLyB"
      },
      "source": [
        "numbers = [1, 2, 3, 4, 5, 6, 7, 8, 9]\n",
        "numbers2 = list(range(1, 10))"
      ],
      "execution_count": null,
      "outputs": []
    },
    {
      "cell_type": "markdown",
      "metadata": {
        "id": "QbyaraGOuPMx"
      },
      "source": [
        "Список необязательно должен содержать только однотипные объекты. Мы можем поместить в один и тот же список одновременно строки, числа, объекты других типов данных:"
      ]
    },
    {
      "cell_type": "code",
      "metadata": {
        "id": "wVfftqKRuQ8z",
        "colab": {
          "base_uri": "https://localhost:8080/"
        },
        "outputId": "ed986e3d-a332-4b4a-b2c7-ae4b09cd5712"
      },
      "source": [
        "objects = [1, 2.6, \"Hello\", True]\n",
        "print(objects)"
      ],
      "execution_count": null,
      "outputs": [
        {
          "output_type": "stream",
          "name": "stdout",
          "text": [
            "[1, 2.6, 'Hello', True]\n"
          ]
        }
      ]
    },
    {
      "cell_type": "markdown",
      "metadata": {
        "id": "bJ6IVSlmuSg3"
      },
      "source": [
        "##Перебор элементов\n",
        "Для перебора элементов можно использовать как цикл for, так и цикл while.\n",
        "\n",
        "Перебор с помощью цикла for:"
      ]
    },
    {
      "cell_type": "code",
      "metadata": {
        "id": "m7sgTq0yuTlQ",
        "colab": {
          "base_uri": "https://localhost:8080/"
        },
        "outputId": "ee3751f2-2f7e-4f7e-e501-2b756b0157af"
      },
      "source": [
        "companies = [\"Microsoft\", \"Google\", \"Oracle\", \"Apple\"]\n",
        "for item in companies:\n",
        "    print(item)"
      ],
      "execution_count": null,
      "outputs": [
        {
          "output_type": "stream",
          "name": "stdout",
          "text": [
            "Microsoft\n",
            "Google\n",
            "Oracle\n",
            "Apple\n"
          ]
        }
      ]
    },
    {
      "cell_type": "code",
      "source": [
        "result = []\n",
        "for item in companies:\n",
        "  if not len(item) == 6:\n",
        "    result.append(item)\n",
        "companies=result"
      ],
      "metadata": {
        "id": "5kuKziTY6qkU"
      },
      "execution_count": null,
      "outputs": []
    },
    {
      "cell_type": "markdown",
      "metadata": {
        "id": "g8hYQX8huZKO"
      },
      "source": [
        "Здесь вместо функции range мы сразу можем подставить имеющийся список companies.\n",
        "\n",
        "Перебор с помощью цикла while:"
      ]
    },
    {
      "cell_type": "code",
      "metadata": {
        "id": "4PxCO2ayucah",
        "colab": {
          "base_uri": "https://localhost:8080/"
        },
        "outputId": "9317504f-c2c2-483c-ccec-5179980453f6"
      },
      "source": [
        "companies = [\"Microsoft\", \"Google\", \"Oracle\", \"Apple\"]\n",
        "i = 0\n",
        "while i < len(companies):\n",
        "    print(companies[i])\n",
        "    i += 1"
      ],
      "execution_count": null,
      "outputs": [
        {
          "output_type": "stream",
          "name": "stdout",
          "text": [
            "Microsoft\n",
            "Google\n",
            "Oracle\n",
            "Apple\n"
          ]
        }
      ]
    },
    {
      "cell_type": "markdown",
      "metadata": {
        "id": "Uj2ML8cuue4I"
      },
      "source": [
        "Для перебора с помощью функции len() получаем длину списка. С помощью счетчика i выводит по элементу, пока значение счетчика не станет равно длине списка."
      ]
    },
    {
      "cell_type": "markdown",
      "metadata": {
        "id": "xyZqDzXhugjV"
      },
      "source": [
        "##Сравнение списков\n",
        "Два списка считаются равными, если они содержат один и тот же набор элементов:"
      ]
    },
    {
      "cell_type": "code",
      "metadata": {
        "id": "DbCRbPzwujL6",
        "colab": {
          "base_uri": "https://localhost:8080/"
        },
        "outputId": "bb7d9f4c-5533-4acb-8931-91e0ae6ea232"
      },
      "source": [
        "numbers = [1, 2, 3, 4, 5, 6, 7, 8, 9]\n",
        "numbers2 = list(range(1,10))\n",
        "if numbers == numbers2:\n",
        "    print(\"numbers equal to numbers2\")\n",
        "else:\n",
        "    print(\"numbers is not equal to numbers2\")"
      ],
      "execution_count": null,
      "outputs": [
        {
          "output_type": "stream",
          "name": "stdout",
          "text": [
            "numbers equal to numbers2\n"
          ]
        }
      ]
    },
    {
      "cell_type": "markdown",
      "metadata": {
        "id": "DRlJKPrLulDo"
      },
      "source": [
        "В данном случае оба списка будут равны."
      ]
    },
    {
      "cell_type": "markdown",
      "metadata": {
        "id": "4617HPjCunpA"
      },
      "source": [
        "## Методы и функции работы со списками\n",
        "Для управления элементами списки имеют целый ряд методов. Некоторые из них:\n",
        "\n",
        "- append(item): добавляет элемент item в конец списка\n",
        "\n",
        "- insert(index, item): добавляет элемент item в список по индексу index\n",
        "\n",
        "- remove(item): удаляет элемент item. Удаляется только первое вхождение элемента. Если элемент не найден, генерирует исключение ValueError\n",
        "\n",
        "- clear(): удаление всех элементов из списка\n",
        "\n",
        "- index(item): возвращает индекс элемента item. Если элемент не найден, генерирует исключение ValueError\n",
        "\n",
        "- pop([index]): удаляет и возвращает элемент по индексу index. Если индекс не передан, то просто удаляет последний элемент.\n",
        "\n",
        "- count(item): возвращает количество вхождений элемента item в список\n",
        "\n",
        "- sort([key]): сортирует элементы. По умолчанию сортирует по возрастанию. Но с помощью параметра key мы можем передать функцию сортировки.\n",
        "\n",
        "- reverse(): расставляет все элементы в списке в обратном порядке\n",
        "\n",
        "Кроме того, Python предоставляет ряд встроенных функций для работы со списками:\n",
        "\n",
        "- len(list): возвращает длину списка\n",
        "\n",
        "- sorted(list, [key]): возвращает отсортированный список\n",
        "\n",
        "- min(list): возвращает наименьший элемент списка\n",
        "\n",
        "- max(list): возвращает наибольший элемент списка"
      ]
    },
    {
      "cell_type": "markdown",
      "metadata": {
        "id": "nqsosvDeupPU"
      },
      "source": [
        "##Добавление и удаление элементов\n",
        "Для добавления элемента применяются методы append() и insert, а для удаления - методы remove(), pop() и clear().\n",
        "\n",
        "Использование методов:"
      ]
    },
    {
      "cell_type": "code",
      "metadata": {
        "id": "YsXIy5-HurPJ",
        "colab": {
          "base_uri": "https://localhost:8080/"
        },
        "outputId": "15f90450-241c-44d5-9bc4-36e84315c9ad"
      },
      "source": [
        "users = [\"Tom\", \"Bob\"]\n",
        "print(users)\n",
        "# добавляем в конец списка\n",
        "users.append(\"Alice\")  # [\"Tom\", \"Bob\", \"Alice\"]\n",
        "print(users)\n",
        "# добавляем на вторую позицию\n",
        "users.insert(1, \"Bill\")          # [\"Tom\", \"Bill\", \"Bob\", \"Alice\"]\n",
        "print(users)\n",
        "# получаем индекс элемента\n",
        "i = users.index(\"Tom\")\n",
        "# удаляем по этому индексу\n",
        "removed_item = users.pop(i)            # [\"Bill\", \"Bob\", \"Alice\"]\n",
        "\n",
        "last_user = users[-1]\n",
        "# удаляем последний элемент\n",
        "users.remove(last_user)           # [\"Bill\", \"Bob\"]\n",
        "\n",
        "print(users)\n",
        "\n",
        "# удаляем все элементы\n",
        "users.clear()"
      ],
      "execution_count": null,
      "outputs": [
        {
          "output_type": "stream",
          "name": "stdout",
          "text": [
            "['Tom', 'Bob']\n",
            "['Tom', 'Bob', 'Alice']\n",
            "['Tom', 'Bill', 'Bob', 'Alice']\n",
            "['Bill', 'Bob']\n"
          ]
        }
      ]
    },
    {
      "cell_type": "markdown",
      "metadata": {
        "id": "lh7W-tOsutea"
      },
      "source": [
        "##Проверка наличия элемента\n",
        "Если определенный элемент не найден, то методы remove и index генерируют исключение. Чтобы избежать подобной ситуации, перед операцией с элементом можно проверять его наличие с помощью ключевого слова in:"
      ]
    },
    {
      "cell_type": "code",
      "metadata": {
        "id": "28n0mYwXuuqT",
        "colab": {
          "base_uri": "https://localhost:8080/"
        },
        "outputId": "2bb41907-1f46-4610-e0ab-85f171ddbb8d"
      },
      "source": [
        "companies = [\"Microsoft\", \"Google\", \"Oracle\", \"Apple\"]\n",
        "item = \"Oracle\"  # элемент для удаления\n",
        "if item in companies:\n",
        "    companies.remove(item)\n",
        "\n",
        "print(companies)"
      ],
      "execution_count": null,
      "outputs": [
        {
          "output_type": "stream",
          "name": "stdout",
          "text": [
            "['Microsoft', 'Google', 'Apple']\n"
          ]
        }
      ]
    },
    {
      "cell_type": "markdown",
      "metadata": {
        "id": "j_TlcijnuxhL"
      },
      "source": [
        "Выражение item in companies возвращает True, если элемент item имеется в списке companies. Поэтому конструкция if item in companies может выполнить последующий блок инструкций в зависимости от наличия элемента в списке.\n",
        "\n",
        "Подсчет вхождений\n",
        "Если необходимо узнать, сколько раз в списке присутствует тот или иной элемент, то можно применить метод count():"
      ]
    },
    {
      "cell_type": "code",
      "metadata": {
        "id": "KMvwW7Kbuzwp"
      },
      "source": [
        "users = [\"Tom\", \"Bob\", \"Alice\", \"Tom\", \"Bill\", \"Tom\"]\n",
        "\n",
        "users_count = users.count(\"Tom\")\n",
        "print(users_count)      # 3"
      ],
      "execution_count": null,
      "outputs": []
    },
    {
      "cell_type": "markdown",
      "metadata": {
        "id": "2bV6Tu6mu1oZ"
      },
      "source": [
        "##Сортировка\n",
        "Для сортировки по возрастанию применяется метод sort():"
      ]
    },
    {
      "cell_type": "code",
      "metadata": {
        "id": "QJKNDMz1D_a8",
        "colab": {
          "base_uri": "https://localhost:8080/"
        },
        "outputId": "aad80eab-fafb-4b9b-8871-2acd225f1ac2"
      },
      "source": [
        "users = [\"Tom\", \"Bob\", \"Alice\", \"Sam\", \"bill\"]\n",
        "\n",
        "users.sort()\n",
        "print(users)      # [\"Alice\", \"Bill\", \"Bob\", \"Sam\", \"Tom\"]"
      ],
      "execution_count": null,
      "outputs": [
        {
          "output_type": "stream",
          "name": "stdout",
          "text": [
            "['Alice', 'Bob', 'Sam', 'Tom', 'bill']\n"
          ]
        }
      ]
    },
    {
      "cell_type": "markdown",
      "metadata": {
        "id": "q3MgCbgmu5d_"
      },
      "source": [
        "Если необходимо отсортировать данные в обратном порядке, то мы можем после сортировки применить метод reverse():"
      ]
    },
    {
      "cell_type": "code",
      "metadata": {
        "id": "I2E6eEacu7WY"
      },
      "source": [
        "users = [\"Tom\", \"Bob\", \"Alice\", \"Sam\", \"Bill\"]\n",
        "\n",
        "users.sort()\n",
        "users.reverse()\n",
        "print(users)      # [\"Tom\", \"Sam\", \"Bob\", \"Bill\", \"Alice\"]"
      ],
      "execution_count": null,
      "outputs": []
    },
    {
      "cell_type": "markdown",
      "metadata": {
        "id": "fvAN67-Xu9A0"
      },
      "source": [
        "При сортировке фактически сравниваются два объекта, и который из них \"меньше\", ставится перед тем, который \"больше\". Понятия \"больше\" и \"меньше\" довольно условны. И если для чисел все просто - числа расставляются в порядке возрастания, то для строк и других объектов ситуация сложнее. В частности, строки оцениваются по первым символам. Если первые символы равны, оцениваются вторые символы и так далее. При чем цифровой символ считается \"меньше\", чем алфавитный заглавный символ, а заглавный символ считается меньше, чем строчный. Подробнее про сравнение строк описывалось в статье Операции со строками.\n",
        "\n",
        "Таким образом, если в списке сочетаются строки с верхним и нижним регистром, то мы можем получить не совсем корректные результаты, так как для нас строка \"bob\" должна стоять до строки \"Tom\". И чтобы изменить стандартное поведение сортировки, мы можем передать в метод sort() в качестве параметра функцию:"
      ]
    },
    {
      "cell_type": "code",
      "metadata": {
        "id": "ay6u0CnRvAVK",
        "colab": {
          "base_uri": "https://localhost:8080/"
        },
        "outputId": "e9e47867-5597-416c-9ea2-8c2bd747f328"
      },
      "source": [
        "users = [\"Tom\", \"bob\", \"alice\", \"Sam\", \"Bill\"]\n",
        "users.sort()\n",
        "print(users)\n",
        "\n",
        "\n",
        "users.sort(key=str.lower)\n",
        "print(users)      # [\"alice\", \"Bill\", \"bob\", \"Sam\", \"Tom\"]"
      ],
      "execution_count": null,
      "outputs": [
        {
          "output_type": "stream",
          "name": "stdout",
          "text": [
            "['Bill', 'Sam', 'Tom', 'alice', 'bob']\n",
            "['alice', 'Bill', 'bob', 'Sam', 'Tom']\n"
          ]
        }
      ]
    },
    {
      "cell_type": "markdown",
      "metadata": {
        "id": "MxbW6U7EvEGi"
      },
      "source": [
        "Кроме метода sort мы можем использовать встроенную функцию sorted, которая имеет две формы:\n",
        "\n",
        "sorted(list): сортирует список list\n",
        "\n",
        "sorted(list, key): сортирует список list, применяя к элементам функцию key"
      ]
    },
    {
      "cell_type": "code",
      "metadata": {
        "id": "QhKiH-ixvG7g"
      },
      "source": [
        "users = [\"Tom\", \"bob\", \"alice\", \"Sam\", \"Bill\"]\n",
        "\n",
        "sorted_users = sorted(users, key=str.lower)\n",
        "print(sorted_users)      # [\"alice\", \"Bill\", \"bob\", \"Sam\", \"Tom\"]"
      ],
      "execution_count": null,
      "outputs": []
    },
    {
      "cell_type": "markdown",
      "metadata": {
        "id": "LfTJI1vbvJla"
      },
      "source": [
        "При использовании этой функции следует учитывать, что эта функция не изменяет сортируемый список, а все отсортированные элементы она помещает в новый список, который возвращается в качестве результата."
      ]
    },
    {
      "cell_type": "markdown",
      "metadata": {
        "id": "dKn1TwEDvMIT"
      },
      "source": [
        "##Минимальное и максимальное значения\n",
        "Встроенные функции Python min() и max() позволяют найти минимальное и максимальное значения соответственно:"
      ]
    },
    {
      "cell_type": "code",
      "metadata": {
        "id": "5Md6-zUavOAX",
        "colab": {
          "base_uri": "https://localhost:8080/"
        },
        "outputId": "9e0fdac9-1ea7-4475-c158-168fdd1fef03"
      },
      "source": [
        "numbers = [9, 21, 12, 1, 3, 15, 18]\n",
        "print(min(numbers))     # 1\n",
        "print(max(numbers))     # 21"
      ],
      "execution_count": null,
      "outputs": [
        {
          "output_type": "stream",
          "name": "stdout",
          "text": [
            "1\n",
            "21\n"
          ]
        }
      ]
    },
    {
      "cell_type": "markdown",
      "metadata": {
        "id": "jmcVuGNgvS3f"
      },
      "source": [
        "##Копирование списков\n",
        "При копировании списков следует учитывать, что списки представляют изменяемый (mutable) тип, поэтому если обе переменных будут указывать на один и тот же список, то изменение одной переменной, затронет и другую переменную:"
      ]
    },
    {
      "cell_type": "code",
      "metadata": {
        "id": "5NlcV3wfvThi",
        "colab": {
          "base_uri": "https://localhost:8080/"
        },
        "outputId": "667eaf8e-418d-47c3-d56c-853457a1cec5"
      },
      "source": [
        "users1 = [\"Tom\", \"Bob\", \"Alice\"]\n",
        "users2 = users1\n",
        "users2.append(\"Sam\")\n",
        "# users1 и users2 указывают на один и тот же список\n",
        "print(users1)   # [\"Tom\", \"Bob\", \"Alice\", \"Sam\"]\n",
        "print(users2)   # [\"Tom\", \"Bob\", \"Alice\", \"Sam\"]"
      ],
      "execution_count": null,
      "outputs": [
        {
          "output_type": "stream",
          "name": "stdout",
          "text": [
            "['Tom', 'Bob', 'Alice', 'Sam']\n",
            "['Tom', 'Bob', 'Alice', 'Sam']\n"
          ]
        }
      ]
    },
    {
      "cell_type": "code",
      "metadata": {
        "colab": {
          "base_uri": "https://localhost:8080/"
        },
        "id": "FOjcxbGHty7K",
        "outputId": "8541f6a5-c561-486b-89d6-debeb3480917"
      },
      "source": [
        "users1 = [\"Tom\", \"Bob\", \"Alice\"]\n",
        "users2 = list(users1)\n",
        "users2.append(\"Sam\")\n",
        "print(users1)\n",
        "print(users2)"
      ],
      "execution_count": null,
      "outputs": [
        {
          "output_type": "stream",
          "name": "stdout",
          "text": [
            "['Tom', 'Bob', 'Alice']\n",
            "['Tom', 'Bob', 'Alice', 'Sam']\n"
          ]
        }
      ]
    },
    {
      "cell_type": "markdown",
      "metadata": {
        "id": "nI4AGs4xvalj"
      },
      "source": [
        "Это так называемое \"поверхностное копирование\" (shallow copy). И, как правило, такое поведение нежелательное. И чтобы происходило копирование элементов, но при этом переменные указывали на разные списки, необходимо выполнить глубокое копирование (deep copy). Для этого можно использовать метод deepcopy(), который определен во встроенном модуле copy:"
      ]
    },
    {
      "cell_type": "code",
      "metadata": {
        "id": "JA5eMaK_veGF",
        "colab": {
          "base_uri": "https://localhost:8080/"
        },
        "outputId": "51eb4a7e-89f8-4f24-cd7d-54ff07ac3aef"
      },
      "source": [
        "import copy\n",
        "\n",
        "users1 = [\"Tom\", \"Bob\", \"Alice\"]\n",
        "users2 = copy.deepcopy(users1)\n",
        "users2.append(\"Sam\")\n",
        "# пееменные users1 и users2 указывают на разные списки\n",
        "print(users1)   # [\"Tom\", \"Bob\", \"Alice\"]\n",
        "print(users2)   # [\"Tom\", \"Bob\", \"Alice\", \"Sam\"]"
      ],
      "execution_count": null,
      "outputs": [
        {
          "output_type": "stream",
          "name": "stdout",
          "text": [
            "['Tom', 'Bob', 'Alice']\n",
            "['Tom', 'Bob', 'Alice', 'Sam']\n"
          ]
        }
      ]
    },
    {
      "cell_type": "markdown",
      "metadata": {
        "id": "aDWgzh8FvgjE"
      },
      "source": [
        "##Копирование части списка\n",
        "Если необходимо скопировать не весь список, а только его какую-то определенную часть, то мы можем применять специальный синтаксис. который может принимать следующие формы:\n",
        "\n",
        "list[:end]: через параметр end передается индекс элемента, до которого нужно копировать список\n",
        "\n",
        "list[start:end]: параметр start указывает на индекс элемента, начиная с которого надо скопировать элементы\n",
        "\n",
        "list[start:end:step]: параметр step указывает на шаг, через который будут копироваться элементы из списка. По умолчанию этот параметр равен 1."
      ]
    },
    {
      "cell_type": "code",
      "metadata": {
        "id": "E7GW2x8IvhJY",
        "colab": {
          "base_uri": "https://localhost:8080/"
        },
        "outputId": "3193c24e-9603-463e-d9f4-4ec09d26421b"
      },
      "source": [
        "users = [\"Tom\", \"Bob\", \"Alice\", \"Sam\", \"Tim\", \"Bill\"]\n",
        "\n",
        "slice_users1 = users[:3]   # с 0 по 3\n",
        "print(slice_users1)   # [\"Tom\", \"Bob\", \"Alice\"]\n",
        "\n",
        "slice_users2 = users[1:3]   # с 1 по 3\n",
        "print(slice_users2)   # [\"Bob\", \"Alice\"]\n",
        "\n",
        "slice_users3 = users[::-1]   # с 1 по 6 с шагом 2\n",
        "print(slice_users3)   # [\"Bob\", \"Sam\", \"Bill\"]"
      ],
      "execution_count": null,
      "outputs": [
        {
          "output_type": "stream",
          "name": "stdout",
          "text": [
            "['Tom', 'Bob', 'Alice']\n",
            "['Bob', 'Alice']\n",
            "['Bill', 'Tim', 'Sam', 'Alice', 'Bob', 'Tom']\n"
          ]
        }
      ]
    },
    {
      "cell_type": "markdown",
      "metadata": {
        "id": "QMYESYrAvi-3"
      },
      "source": [
        "##Соединение списков\n",
        "Для объединения списков применяется операция сложения (+):"
      ]
    },
    {
      "cell_type": "code",
      "metadata": {
        "id": "hsYbata6vmZx"
      },
      "source": [
        "users1 = [\"Tom\", \"Bob\", \"Alice\"]\n",
        "users2 = [\"Tom\", \"Sam\", \"Tim\", \"Bill\"]\n",
        "users3 = users1 + users2\n",
        "print(users3)   # [\"Tom\", \"Bob\", \"Alice\", \"Tom\", \"Sam\", \"Tim\", \"Bill\"]"
      ],
      "execution_count": null,
      "outputs": []
    },
    {
      "cell_type": "markdown",
      "metadata": {
        "id": "ZrEYv6ODv3jq"
      },
      "source": [
        "##Списки списков\n",
        "Списки кроме стандартных данных типа строк, чисел, также могут содержать другие списки. Подобные списки можно ассоциировать с таблицами, где вложенные списки выполняют роль строк. Например:"
      ]
    },
    {
      "cell_type": "code",
      "metadata": {
        "id": "B_0y1nlxv5Z6"
      },
      "source": [
        "users = [\n",
        "    [\"Tom\", 29],\n",
        "    [\"Alice\", 33],\n",
        "    [\"Bob\", 27]\n",
        "]\n",
        "\n",
        "print(users[0])         # [\"Tom\", 29]\n",
        "print(users[0][0])      # Tom\n",
        "print(users[0][1])      # 29\n",
        "# jagged arrays"
      ],
      "execution_count": null,
      "outputs": []
    },
    {
      "cell_type": "markdown",
      "metadata": {
        "id": "vPYAukTFv7Qt"
      },
      "source": [
        "Чтобы обратиться к элементу вложенного списка, необходимо использовать пару индексов: users[0][1] - обращение ко второму элементу первого вложенного списка.\n",
        "\n",
        "Добавление, удаление и исменение общего списка, а также вложенных списков аналогично тому, как это делается с обычными (одномерными) списками."
      ]
    },
    {
      "cell_type": "markdown",
      "metadata": {
        "id": "QkaXHGTLwqCb"
      },
      "source": [
        "#Кортежи"
      ]
    },
    {
      "cell_type": "markdown",
      "metadata": {
        "id": "1HLqhJlxEMYH"
      },
      "source": [
        "Кортеж (tuple) представляет последовательность элементов, которая во многом похожа на список за тем исключением, что кортеж является неизменяемым (immutable) типом. Поэтому мы не можем добавлять или удалять элементы в кортеже, изменять его.\n",
        "\n",
        "Для создания кортежа используются круглые скобки, в которые помещаются его значения, разделенные запятыми:"
      ]
    },
    {
      "cell_type": "code",
      "metadata": {
        "colab": {
          "base_uri": "https://localhost:8080/"
        },
        "id": "EAwMooxuwv73",
        "outputId": "a11a06ce-5154-4f64-807a-d83d786cebc0"
      },
      "source": [
        "user = (\"Tom\", 23)\n",
        "print(user)"
      ],
      "execution_count": null,
      "outputs": [
        {
          "output_type": "stream",
          "name": "stdout",
          "text": [
            "('Tom', 23)\n"
          ]
        }
      ]
    },
    {
      "cell_type": "markdown",
      "metadata": {
        "id": "KYNPtO3NwyxB"
      },
      "source": [
        "Также для определения кортежа мы можем просто перечислить значения через запятую без применения скобок:"
      ]
    },
    {
      "cell_type": "code",
      "metadata": {
        "id": "xQn5pWUUwxj_"
      },
      "source": [
        "user = \"Tom\", 23\n",
        "print(user)"
      ],
      "execution_count": null,
      "outputs": []
    },
    {
      "cell_type": "markdown",
      "metadata": {
        "id": "rYob79GNw1xm"
      },
      "source": [
        "Если вдруг кортеж состоит из одного элемента, то после единственного элемента кортежа необходимо поставить запятую:"
      ]
    },
    {
      "cell_type": "code",
      "metadata": {
        "id": "IG92NLMcw16P"
      },
      "source": [
        "user = (\"Tom\",)"
      ],
      "execution_count": null,
      "outputs": []
    },
    {
      "cell_type": "markdown",
      "metadata": {
        "id": "j4LQMYovw2Bq"
      },
      "source": [
        "Для создания кортежа из списка можно передать список в функцию tuple(), которая возвратит кортеж:"
      ]
    },
    {
      "cell_type": "code",
      "metadata": {
        "id": "liYRquZrw2If"
      },
      "source": [
        "users_list = [\"Tom\", \"Bob\", \"Kate\"]\n",
        "users_tuple = tuple(users_list)\n",
        "print(users_tuple)      # (\"Tom\", \"Bob\", \"Kate\")"
      ],
      "execution_count": null,
      "outputs": []
    },
    {
      "cell_type": "markdown",
      "metadata": {
        "id": "7AkgVvVOw2Ov"
      },
      "source": [
        "Обращение к элементам в кортеже происходит также, как и в списке по индексу. Индексация начинается также с нуля при получении элементов с начала списка и с -1 при получении элементов с конца списка:"
      ]
    },
    {
      "cell_type": "code",
      "metadata": {
        "id": "RsupGDMjxFhq",
        "colab": {
          "base_uri": "https://localhost:8080/"
        },
        "outputId": "cf192239-4ce5-457e-c485-cad388f9a64e"
      },
      "source": [
        "users = (\"Tom\", \"Bob\", \"Sam\", \"Kate\")\n",
        "print(users[0])     # Tom\n",
        "print(users[2])     # Sam\n",
        "print(users[-1])     # Kate\n",
        "\n",
        "# получим часть кортежа со 2 элемента по 4\n",
        "print(users[1:4])       # (\"Bob\", \"Sam\", \"Kate\")"
      ],
      "execution_count": null,
      "outputs": [
        {
          "output_type": "stream",
          "name": "stdout",
          "text": [
            "Tom\n",
            "Sam\n",
            "Kate\n",
            "('Bob', 'Sam', 'Kate')\n"
          ]
        }
      ]
    },
    {
      "cell_type": "markdown",
      "metadata": {
        "id": "41_t-RBPxHNG"
      },
      "source": [
        "Но так как кортеж - неизменяемый тип (immutable), то мы не сможем изменить его элементы. То есть следующая запись работать не будет:"
      ]
    },
    {
      "cell_type": "code",
      "metadata": {
        "id": "KvCieqDRw2Vy",
        "colab": {
          "base_uri": "https://localhost:8080/",
          "height": 179
        },
        "outputId": "743e75e3-b558-49d1-f268-34a5dc68033c"
      },
      "source": [
        "users[1] = \"Tim\""
      ],
      "execution_count": null,
      "outputs": [
        {
          "output_type": "error",
          "ename": "TypeError",
          "evalue": "ignored",
          "traceback": [
            "\u001b[0;31m---------------------------------------------------------------------------\u001b[0m",
            "\u001b[0;31mTypeError\u001b[0m                                 Traceback (most recent call last)",
            "\u001b[0;32m<ipython-input-13-c0a3fabb5994>\u001b[0m in \u001b[0;36m<cell line: 1>\u001b[0;34m()\u001b[0m\n\u001b[0;32m----> 1\u001b[0;31m \u001b[0musers\u001b[0m\u001b[0;34m[\u001b[0m\u001b[0;36m1\u001b[0m\u001b[0;34m]\u001b[0m \u001b[0;34m=\u001b[0m \u001b[0;34m\"Tim\"\u001b[0m\u001b[0;34m\u001b[0m\u001b[0;34m\u001b[0m\u001b[0m\n\u001b[0m",
            "\u001b[0;31mTypeError\u001b[0m: 'tuple' object does not support item assignment"
          ]
        }
      ]
    },
    {
      "cell_type": "markdown",
      "metadata": {
        "id": "45VhbU06w2af"
      },
      "source": [
        "При необходимости мы можем разложить кортеж на отдельные переменные:"
      ]
    },
    {
      "cell_type": "code",
      "metadata": {
        "id": "sbXIr79Hw2gH",
        "colab": {
          "base_uri": "https://localhost:8080/"
        },
        "outputId": "41f4a6cf-5f3a-4afa-86da-fb4192b8aadd"
      },
      "source": [
        "user = (\"Tom\", 22, False)\n",
        "name, age, isMarried = user\n",
        "print(name)             # Tom\n",
        "print(age)              # 22\n",
        "print(isMarried)        # False"
      ],
      "execution_count": null,
      "outputs": [
        {
          "output_type": "stream",
          "name": "stdout",
          "text": [
            "Tom\n",
            "22\n",
            "False\n"
          ]
        }
      ]
    },
    {
      "cell_type": "markdown",
      "metadata": {
        "id": "kpvVYi8ww2lf"
      },
      "source": [
        "Особенно удобно использовать кортежи, когда необходимо возвратить из функции сразу несколько значений. Когда функция возвращает несколько значений, фактически она возвращает в кортеж:"
      ]
    },
    {
      "cell_type": "code",
      "metadata": {
        "id": "jf-QHqrEw2q0",
        "colab": {
          "base_uri": "https://localhost:8080/"
        },
        "outputId": "c91d4a73-5436-4bfd-fb4d-b369bfac1cdc"
      },
      "source": [
        "def get_user():\n",
        "    name = \"Tom\"\n",
        "    age = 22\n",
        "    is_married = False\n",
        "    return name, age, is_married\n",
        "\n",
        "\n",
        "user = get_user()\n",
        "print(user[0])              # Tom\n",
        "print(user[1])              # 22\n",
        "print(user[2])              # False\n",
        "\n",
        "\n",
        "name, _, _ = get_user()"
      ],
      "execution_count": null,
      "outputs": [
        {
          "output_type": "stream",
          "name": "stdout",
          "text": [
            "Tom\n",
            "22\n",
            "False\n"
          ]
        }
      ]
    },
    {
      "cell_type": "markdown",
      "metadata": {
        "id": "NmkUF0dKw2wp"
      },
      "source": [
        "С помощью встроенной функции len() можно получить длину кортежа:"
      ]
    },
    {
      "cell_type": "code",
      "metadata": {
        "id": "D_SPZPjnw22D",
        "colab": {
          "base_uri": "https://localhost:8080/"
        },
        "outputId": "809ee83c-58a6-4590-ad64-458aa7bdae25"
      },
      "source": [
        "user = (\"Tom\", 22, False)\n",
        "print(len(user))        # 3"
      ],
      "execution_count": null,
      "outputs": [
        {
          "output_type": "stream",
          "name": "stdout",
          "text": [
            "3\n"
          ]
        }
      ]
    },
    {
      "cell_type": "markdown",
      "metadata": {
        "id": "YpmQjmBTw27v"
      },
      "source": [
        "##Перебор кортежей\n",
        "Для перебора кортежа можно использовать стандартные циклы for и while. С помощью цикла for:"
      ]
    },
    {
      "cell_type": "code",
      "metadata": {
        "id": "cq00nvItw3BJ"
      },
      "source": [
        "user = (\"Tom\", 22, False)\n",
        "for item in user:\n",
        "    print(item)"
      ],
      "execution_count": null,
      "outputs": []
    },
    {
      "cell_type": "markdown",
      "metadata": {
        "id": "CznVSXq1w3HG"
      },
      "source": [
        "С помощью цикла while:"
      ]
    },
    {
      "cell_type": "code",
      "metadata": {
        "id": "RKuhq2x6w3Lw"
      },
      "source": [
        "user = (\"Tom\", 22, False)\n",
        "\n",
        "i = 0\n",
        "while i < len(user):\n",
        "    print(user[i])\n",
        "    i += 1"
      ],
      "execution_count": null,
      "outputs": []
    },
    {
      "cell_type": "markdown",
      "metadata": {
        "id": "GFnm8LOpw3RE"
      },
      "source": [
        "Как для списка с помощью выражения элемент in кортеж можно проверить наличие элемента в кортеже:\n",
        "\n"
      ]
    },
    {
      "cell_type": "code",
      "metadata": {
        "id": "k_QPzsOcw3WK"
      },
      "source": [
        "user = (\"Tom\", 22, False)\n",
        "name = \"Tom\"\n",
        "if name in user:\n",
        "    print(\"Пользователя зовут Tom\")\n",
        "else:\n",
        "    print(\"Пользователь имеет другое имя\")"
      ],
      "execution_count": null,
      "outputs": []
    },
    {
      "cell_type": "markdown",
      "metadata": {
        "id": "d_6_mTCHw3bX"
      },
      "source": [
        "##Сложные кортежи\n",
        "Один кортеж может содержать другие кортежи в виде элементов. Например:"
      ]
    },
    {
      "cell_type": "code",
      "metadata": {
        "id": "rnLXlCyzw3g2"
      },
      "source": [
        "countries = (\n",
        "    (\"Germany\", 80.2, ((\"Berlin\",3.326), (\"Hamburg\", 1.718))),\n",
        "    (\"France\", 66, ((\"Paris\", 2.2),(\"Marsel\", 1.6)))\n",
        ")\n",
        "\n",
        "for country in countries:\n",
        "    countryName, countryPopulation, cities = country\n",
        "    print(\"\\nCountry: {}  population: {}\".format(countryName, countryPopulation))\n",
        "    for city in cities:\n",
        "        cityName, cityPopulation = city\n",
        "        print(\"City: {}  population: {}\".format(cityName, cityPopulation))"
      ],
      "execution_count": null,
      "outputs": []
    },
    {
      "cell_type": "markdown",
      "metadata": {
        "id": "2TCHRAfNys4V"
      },
      "source": [
        "#Словари"
      ]
    },
    {
      "cell_type": "markdown",
      "metadata": {
        "id": "bbeP-Wg0y0K3"
      },
      "source": [
        "Наряду со списками и кортежами Python имеет еще одну встроенную структуру данных, которая называется словарь (dictionary). В ряде языков программирования есть похожие структуры (словарь в C#, ассоциативный массив в PHP).\n",
        "\n",
        "Как и список, словарь хранит коллекцию элементов. Каждый элемент в словаре имеет уникальный ключ, с которым ассоциировано некоторое значение.\n",
        "\n",
        "Определение словаря имеет следующий синтаксис:\n",
        "\n",
        "`dictionary = { ключ1:значение1, ключ2:значение2, ....}`\n",
        "\n",
        "Определим пару словарей:\n",
        "\n"
      ]
    },
    {
      "cell_type": "code",
      "metadata": {
        "id": "zn8TmCj4ytIF",
        "colab": {
          "base_uri": "https://localhost:8080/"
        },
        "outputId": "86197ae2-98a7-46c6-d478-aa1c0a27d82d"
      },
      "source": [
        "users = {1: \"Tom\", 2: \"Bob\", 3: \"Bill\"}\n",
        "\n",
        "elements = {\"Au\": \"Золото\", \"Fe\": \"Железо\", \"H\": \"Водород\", \"O\": \"Кислород\"}\n",
        "\n",
        "print(users)"
      ],
      "execution_count": null,
      "outputs": [
        {
          "output_type": "stream",
          "name": "stdout",
          "text": [
            "{1: 'Tom', 2: 'Bob', 3: 'Bill'}\n"
          ]
        }
      ]
    },
    {
      "cell_type": "markdown",
      "metadata": {
        "id": "fnlHanzNytPd"
      },
      "source": [
        "В словаре users в качестве ключей используются числа, а в качестве значений - строки. В словаре element в качестве ключей используются строки.\n",
        "\n",
        "Но необязательно ключи и строки должны быть однотипными. Они могу представлять разные типы:"
      ]
    },
    {
      "cell_type": "code",
      "metadata": {
        "id": "HqoG1iVtytYG"
      },
      "source": [
        "objects = {1: \"Tom\", \"2\": True, 3: 100.6}"
      ],
      "execution_count": null,
      "outputs": []
    },
    {
      "cell_type": "markdown",
      "metadata": {
        "id": "Yw6Yh-Srytet"
      },
      "source": [
        "Мы можем также вообще определить пустой словарь без элементов:\n",
        "\n"
      ]
    },
    {
      "cell_type": "code",
      "metadata": {
        "id": "G8WKqI8mytma"
      },
      "source": [
        "objects = {}"
      ],
      "execution_count": null,
      "outputs": []
    },
    {
      "cell_type": "markdown",
      "metadata": {
        "id": "HxXfNI_gytvI"
      },
      "source": [
        "или так:\n",
        "\n"
      ]
    },
    {
      "cell_type": "code",
      "metadata": {
        "id": "MgzxxbEWyt0r"
      },
      "source": [
        "objects = dict()"
      ],
      "execution_count": null,
      "outputs": []
    },
    {
      "cell_type": "markdown",
      "metadata": {
        "id": "Cz7atIpKyt7q"
      },
      "source": [
        "##Преобразование из списка в словарь\n",
        "Несмотря на то, что словарь и список - непохожие по структуре типы, но тем не менее существует возможности для отдельных видов списков преобразования их в словарь с помощью встроенной функции dict(). Для этого список должен хранить набор вложенных списков. Каждый вложенный список должен состоять из двух элементов - при конвертации в словарь первый элемент станет ключом, а второй - значением:"
      ]
    },
    {
      "cell_type": "code",
      "metadata": {
        "id": "lH5s2dKzyuD5"
      },
      "source": [
        "users_list = [\n",
        "    [\"+111123455\", \"Tom\"],\n",
        "    [\"+384767557\", \"Bob\"],\n",
        "    [\"+958758767\", \"Alice\"]\n",
        "]\n",
        "users_dict = dict(users_list)\n",
        "print(users_dict)  # {\"+111123455\": \"Tom\", \"+384767557\": \"Bob\", \"+958758767\": \"Alice\"}"
      ],
      "execution_count": null,
      "outputs": []
    },
    {
      "cell_type": "markdown",
      "metadata": {
        "id": "ZLBtlvwWyuK_"
      },
      "source": [
        "Подобным образом можно преобразовать в словарь двухмерные кортежи, которые в свою очередь содержать кортежи из двух элементов:"
      ]
    },
    {
      "cell_type": "code",
      "metadata": {
        "id": "vYiGaswLyuQT"
      },
      "source": [
        "users_tuple = (\n",
        "    (\"+111123455\", \"Tom\"),\n",
        "    (\"+384767557\", \"Bob\"),\n",
        "    (\"+958758767\", \"Alice\")\n",
        ")\n",
        "users_dict = dict(users_tuple)\n",
        "print(users_dict)"
      ],
      "execution_count": null,
      "outputs": []
    },
    {
      "cell_type": "markdown",
      "metadata": {
        "id": "nsH4-JAIyuZU"
      },
      "source": [
        "##Получение и изменение элементов\n",
        "Для доступа к элементам словаря необходимо использовать ключ:\n",
        "\n",
        "`dictionary[ключ]`\n",
        "\n",
        "Например, получим и изменим элементы в словаре:"
      ]
    },
    {
      "cell_type": "code",
      "metadata": {
        "id": "cjQi5r3dyueR",
        "colab": {
          "base_uri": "https://localhost:8080/"
        },
        "outputId": "7e340902-bdb9-4773-b996-35ddae877580"
      },
      "source": [
        "users = {\n",
        "    \"+11111111\": \"Tom\",\n",
        "    \"+33333333\": \"Bob\",\n",
        "    \"+55555555\": \"Alice\"\n",
        "}\n",
        "\n",
        "# получаем элемент с ключом \"+11111111\"\n",
        "print(users[\"+11111111\"])      # Tom\n",
        "\n",
        "# установка значения элемента с ключом \"+33333333\"\n",
        "users[\"+33333333\"] = \"Bob Smith\"\n",
        "print(users[\"+33333333\"])      # Bob Smith"
      ],
      "execution_count": null,
      "outputs": [
        {
          "output_type": "stream",
          "name": "stdout",
          "text": [
            "Tom\n",
            "Bob Smith\n"
          ]
        }
      ]
    },
    {
      "cell_type": "markdown",
      "metadata": {
        "id": "YMVwIwn6yur6"
      },
      "source": [
        "Если при установке значения элемента с таким ключом в словаре не окажется, то произойдет его добавление:"
      ]
    },
    {
      "cell_type": "code",
      "metadata": {
        "id": "rmBuHMfpyu0l",
        "colab": {
          "base_uri": "https://localhost:8080/"
        },
        "outputId": "6e02ad9f-3ed1-4f26-f1c7-ccad9841e0d6"
      },
      "source": [
        "users[\"+4444444\"] = \"Sam\"\n",
        "print(users)"
      ],
      "execution_count": null,
      "outputs": [
        {
          "output_type": "stream",
          "name": "stdout",
          "text": [
            "{'+11111111': 'Tom', '+33333333': 'Bob Smith', '+55555555': 'Alice', '+4444444': 'Sam'}\n"
          ]
        }
      ]
    },
    {
      "cell_type": "markdown",
      "metadata": {
        "id": "inmS7fRSyu7p"
      },
      "source": [
        "Но если мы попробуем получить значение с ключом, которого нет в словаре, то Python сгенерирует ошибку KeyError:"
      ]
    },
    {
      "cell_type": "code",
      "metadata": {
        "id": "T-pOgnv4yvDF",
        "colab": {
          "base_uri": "https://localhost:8080/",
          "height": 163
        },
        "outputId": "51cda96c-2224-4005-e58d-b090ed8a7843"
      },
      "source": [
        "user = users[\"+4444445\"]    # KeyError"
      ],
      "execution_count": null,
      "outputs": [
        {
          "output_type": "error",
          "ename": "KeyError",
          "evalue": "ignored",
          "traceback": [
            "\u001b[0;31m---------------------------------------------------------------------------\u001b[0m",
            "\u001b[0;31mKeyError\u001b[0m                                  Traceback (most recent call last)",
            "\u001b[0;32m<ipython-input-47-990383162055>\u001b[0m in \u001b[0;36m<module>\u001b[0;34m()\u001b[0m\n\u001b[0;32m----> 1\u001b[0;31m \u001b[0muser\u001b[0m \u001b[0;34m=\u001b[0m \u001b[0musers\u001b[0m\u001b[0;34m[\u001b[0m\u001b[0;34m\"+4444445\"\u001b[0m\u001b[0;34m]\u001b[0m    \u001b[0;31m# KeyError\u001b[0m\u001b[0;34m\u001b[0m\u001b[0;34m\u001b[0m\u001b[0m\n\u001b[0m",
            "\u001b[0;31mKeyError\u001b[0m: '+4444445'"
          ]
        }
      ]
    },
    {
      "cell_type": "markdown",
      "metadata": {
        "id": "kcLRClVVziD-"
      },
      "source": [
        "И чтобы предупредить эту ситуацию перед обращением к элементу мы можем проверять наличие ключа в словаре с помощью выражения ключ in словарь. Если ключ имеется в словаре, то данное выражение возвращает True:"
      ]
    },
    {
      "cell_type": "code",
      "metadata": {
        "id": "2r28sGrfzjhs",
        "colab": {
          "base_uri": "https://localhost:8080/"
        },
        "outputId": "9e3d90e8-cec6-486e-e57c-c6fab748b5b5"
      },
      "source": [
        "key = \"+4444444\"\n",
        "if key in users:\n",
        "    user = users[key]\n",
        "    print(user)\n",
        "else:\n",
        "    print(\"Элемент не найден\")"
      ],
      "execution_count": null,
      "outputs": [
        {
          "output_type": "stream",
          "name": "stdout",
          "text": [
            "Sam\n"
          ]
        }
      ]
    },
    {
      "cell_type": "markdown",
      "metadata": {
        "id": "5foh43uOzktB"
      },
      "source": [
        "Также для получения элементов можно использовать метод get, который имеет две формы:\n",
        "\n",
        "get(key): возвращает из словаря элемент с ключом key. Если элемента с таким ключом нет, то возвращает значение None\n",
        "\n",
        "get(key, default): возвращает из словаря элемент с ключом key. Если элемента с таким ключом нет, то возвращает значение по умолчанию default"
      ]
    },
    {
      "cell_type": "code",
      "metadata": {
        "id": "9jQSoGqYzmAb",
        "colab": {
          "base_uri": "https://localhost:8080/",
          "height": 35
        },
        "outputId": "32f4e141-894a-407b-a9b6-03606c8340de"
      },
      "source": [
        "key = \"+555555655\"\n",
        "\n",
        "user = users.get(key, \"Unknown user\")\n",
        "\n",
        "user"
      ],
      "execution_count": null,
      "outputs": [
        {
          "output_type": "execute_result",
          "data": {
            "text/plain": [
              "'Unknown user'"
            ],
            "application/vnd.google.colaboratory.intrinsic+json": {
              "type": "string"
            }
          },
          "metadata": {},
          "execution_count": 27
        }
      ]
    },
    {
      "cell_type": "markdown",
      "metadata": {
        "id": "YOBsqr3Lznaz"
      },
      "source": [
        "##Удаление\n",
        "Для удаления элемента по ключу применяется оператор del:"
      ]
    },
    {
      "cell_type": "code",
      "metadata": {
        "id": "mtpLG-Vyzp0T"
      },
      "source": [
        "users = {\n",
        "    \"+11111111\": \"Tom\",\n",
        "    \"+33333333\": \"Bob\",\n",
        "    \"+55555555\": \"Alice\"\n",
        "}\n",
        "\n",
        "del users[\"+55555555\"]\n",
        "print(users)"
      ],
      "execution_count": null,
      "outputs": []
    },
    {
      "cell_type": "markdown",
      "metadata": {
        "id": "qrx9Aomozrdh"
      },
      "source": [
        "Но стоит учитывать, что если подобного ключа не окажется в словаре, то будет выброшено исключение KeyError. Поэтому опять же перед удалением желательно проверять наличие элемента с данным ключом."
      ]
    },
    {
      "cell_type": "code",
      "metadata": {
        "id": "wBNgYUrbztbr"
      },
      "source": [
        "key = \"+55555555\"\n",
        "if key in users:\n",
        "    user = users[key]\n",
        "    del users[key]\n",
        "    print(user, \"удален\")\n",
        "else:\n",
        "    print(\"Элемент не найден\")"
      ],
      "execution_count": null,
      "outputs": []
    },
    {
      "cell_type": "markdown",
      "metadata": {
        "id": "zgvpQDtIzwtk"
      },
      "source": [
        "Другой способ удаления представляет метод pop(). Он имеет две формы:\n",
        "\n",
        "pop(key): удаляет элемент по ключу key и возвращает удаленный элемент. Если элемент с данным ключом отсутствует, то генерируется исключение KeyError\n",
        "\n",
        "pop(key, default): удаляет элемент по ключу key и возвращает удаленный элемент. Если элемент с данным ключом отсутствует, то возвращается значение default"
      ]
    },
    {
      "cell_type": "code",
      "metadata": {
        "id": "d5TDibBqzzSt",
        "colab": {
          "base_uri": "https://localhost:8080/"
        },
        "outputId": "1c971209-21aa-482e-a43c-8de818c06fff"
      },
      "source": [
        "users = {\n",
        "    \"+11111111\": \"Tom\",\n",
        "    \"+33333333\": \"Bob\",\n",
        "    \"+55555555\": \"Alice\"\n",
        "}\n",
        "key = \"+55555555\"\n",
        "user = users.pop(key)\n",
        "print(user)\n",
        "\n",
        "user = users.pop(\"+4444444\", \"Unknown user\")\n",
        "print(user)"
      ],
      "execution_count": null,
      "outputs": [
        {
          "output_type": "stream",
          "name": "stdout",
          "text": [
            "Alice\n",
            "Unknown user\n"
          ]
        }
      ]
    },
    {
      "cell_type": "markdown",
      "metadata": {
        "id": "ZmMnaoL3z2Np"
      },
      "source": [
        "Если необходимо удалить все элементы, то в этом случае можно воспользоваться методом clear():"
      ]
    },
    {
      "cell_type": "code",
      "metadata": {
        "id": "bOO3ZHKyz3go"
      },
      "source": [
        "users.clear()"
      ],
      "execution_count": null,
      "outputs": []
    },
    {
      "cell_type": "markdown",
      "metadata": {
        "id": "S3cHmlUGz5N5"
      },
      "source": [
        "##Копирование и объединение словарей\n",
        "Метод copy() копирует содержимое словаря, возвращая новый словарь:"
      ]
    },
    {
      "cell_type": "code",
      "metadata": {
        "id": "XsxPyUzcz7p5"
      },
      "source": [
        "users = {\"+1111111\": \"Tom\",\"+3333333\": \"Bob\",\"+5555555\": \"Alice\"}\n",
        "users2 = users.copy()"
      ],
      "execution_count": null,
      "outputs": []
    },
    {
      "cell_type": "markdown",
      "metadata": {
        "id": "l_Jx5qkJz_YR"
      },
      "source": [
        "Метод update() объединяет два словаря:"
      ]
    },
    {
      "cell_type": "code",
      "metadata": {
        "id": "Ymie7oePz9Po",
        "colab": {
          "base_uri": "https://localhost:8080/"
        },
        "outputId": "ee4eba1f-53b3-47ae-a411-6729f3519a17"
      },
      "source": [
        "users = {\"+1111111\": \"Tom\",\"+3333333\": \"Bob\",\"+5555555\": \"Alice\"}\n",
        "\n",
        "users2 = {\"+2222222\": \"Sam\",\"+6666666\": \"Kate\"}\n",
        "users.update(users2)\n",
        "\n",
        "print(users)    # {\"+1111111\": \"Tom\", \"+3333333\": \"Bob\", \"+5555555\": \"Alice\", \"+2222222\": \"Sam\", \"+6666666\": \"Kate\"}\n",
        "print(users2)   # {\"+2222222\": \"Sam\", \"+6666666\": \"Kate\"}"
      ],
      "execution_count": null,
      "outputs": [
        {
          "output_type": "stream",
          "name": "stdout",
          "text": [
            "{'+1111111': 'Tom', '+3333333': 'Bob', '+5555555': 'Alice', '+2222222': 'Sam', '+6666666': 'Kate'}\n",
            "{'+2222222': 'Sam', '+6666666': 'Kate'}\n"
          ]
        }
      ]
    },
    {
      "cell_type": "markdown",
      "metadata": {
        "id": "99rWOIDP0EqJ"
      },
      "source": [
        "При этом словарь users2 остается без изменений. Изменяется словарь users, в который добавляются элементы другого словаря. Но если необходимо, чтобы оба исходных словаря были без изменений, а результатом объединения был какой-то третий словарь, то можно предварительно скопировать один словарь в другой:"
      ]
    },
    {
      "cell_type": "code",
      "metadata": {
        "id": "wYkTwmn40GGj"
      },
      "source": [
        "users3 = users.copy()\n",
        "users3.update(users2)"
      ],
      "execution_count": null,
      "outputs": []
    },
    {
      "cell_type": "markdown",
      "metadata": {
        "id": "sySpEdKv0HqV"
      },
      "source": [
        "##Перебор словаря\n",
        "Для перебора словаря можно воспользоваться циклом for:"
      ]
    },
    {
      "cell_type": "code",
      "metadata": {
        "id": "H1kTj9eY0J2C",
        "colab": {
          "base_uri": "https://localhost:8080/"
        },
        "outputId": "6cc47b4a-3fd7-42c6-d9a0-67c6ca34a06a"
      },
      "source": [
        "users = {\n",
        "    \"+11111111\": \"Tom\",\n",
        "    \"+33333333\": \"Bob\",\n",
        "    \"+55555555\": \"Alice\"\n",
        "}\n",
        "for key in users:\n",
        "    print(key, \" - \", users[key])"
      ],
      "execution_count": null,
      "outputs": [
        {
          "output_type": "stream",
          "name": "stdout",
          "text": [
            "+11111111  -  Tom\n",
            "+33333333  -  Bob\n",
            "+55555555  -  Alice\n"
          ]
        }
      ]
    },
    {
      "cell_type": "markdown",
      "metadata": {
        "id": "XKP0SK9s0MYm"
      },
      "source": [
        "При переборе элементов мы получаем ключ текущего элемента и по нему можем получить сам элемент.\n",
        "\n",
        "Другой способ перебора элементов представляет использование метода items():"
      ]
    },
    {
      "cell_type": "code",
      "metadata": {
        "id": "GdeePYQM0QL9",
        "colab": {
          "base_uri": "https://localhost:8080/"
        },
        "outputId": "c3088e5e-6bbe-4746-f011-54d148bf9991"
      },
      "source": [
        "for key, value in users.items():\n",
        "    print(key, \" - \", value)"
      ],
      "execution_count": null,
      "outputs": [
        {
          "output_type": "stream",
          "name": "stdout",
          "text": [
            "+11111111  -  Tom\n",
            "+33333333  -  Bob\n",
            "+55555555  -  Alice\n"
          ]
        }
      ]
    },
    {
      "cell_type": "markdown",
      "metadata": {
        "id": "NEfD_RAr0Rrj"
      },
      "source": [
        "Метод items() возвращает набор кортежей. Каждый кортеж содержит ключ и значение элемента, которые при переборе мы тут же можем получить в переменные key и value.\n",
        "\n",
        "Также существуют отдельно возможности перебора ключей и перебора значений. Для перебора ключей мы можем вызвать у словаря метод keys():"
      ]
    },
    {
      "cell_type": "code",
      "metadata": {
        "id": "Q2UNP_hy0T6b",
        "colab": {
          "base_uri": "https://localhost:8080/"
        },
        "outputId": "8348c34d-fb16-45b7-8be1-cbbee3e83c1b"
      },
      "source": [
        "for key in users.keys():\n",
        "    print(key)"
      ],
      "execution_count": null,
      "outputs": [
        {
          "output_type": "stream",
          "name": "stdout",
          "text": [
            "+11111111\n",
            "+33333333\n",
            "+55555555\n"
          ]
        }
      ]
    },
    {
      "cell_type": "markdown",
      "metadata": {
        "id": "cSJPvIx-0Whv"
      },
      "source": [
        "Правда, этот способ перебора не имеет смысла, так как и без вызова метода keys() мы можем перебрать ключи, как было показано выше.\n",
        "\n",
        "Для перебора только значений мы можем вызвать у словаря метод values():"
      ]
    },
    {
      "cell_type": "code",
      "metadata": {
        "id": "i6_aX2UV0Yej",
        "colab": {
          "base_uri": "https://localhost:8080/"
        },
        "outputId": "b3ee8ff2-8b4b-40a7-f9f5-446c313e3feb"
      },
      "source": [
        "for value in users.values():\n",
        "    print(value)"
      ],
      "execution_count": null,
      "outputs": [
        {
          "output_type": "stream",
          "name": "stdout",
          "text": [
            "Tom\n",
            "Bob\n",
            "Alice\n"
          ]
        }
      ]
    },
    {
      "cell_type": "code",
      "source": [
        "test_list = [(1,2),(3,4),(5,6),(7,8)]\n",
        "\n",
        "for i, j in test_list:\n",
        "  print(i, j)"
      ],
      "metadata": {
        "colab": {
          "base_uri": "https://localhost:8080/"
        },
        "id": "h-F0WPP3-ytj",
        "outputId": "2316f2fa-4802-49a4-c651-f2f2c90917bd"
      },
      "execution_count": null,
      "outputs": [
        {
          "output_type": "stream",
          "name": "stdout",
          "text": [
            "1 2\n",
            "3 4\n",
            "5 6\n",
            "7 8\n"
          ]
        }
      ]
    },
    {
      "cell_type": "markdown",
      "metadata": {
        "id": "7JupRTUz0-5F"
      },
      "source": [
        "#Множества"
      ]
    },
    {
      "cell_type": "markdown",
      "metadata": {
        "id": "LuIu_LHq1CQR"
      },
      "source": [
        "Множество (set) представляют еще один вид набора элементов. Для определения множества используются фигурные скобки, в которых перечисляются элементы:"
      ]
    },
    {
      "cell_type": "code",
      "metadata": {
        "id": "yGYD12T11MHq",
        "colab": {
          "base_uri": "https://localhost:8080/"
        },
        "outputId": "487d2960-35a5-4c0c-aad6-021797e1c507"
      },
      "source": [
        "users = {\"Tom\",\"Bob\",\"Alice\", \"Tom\"}\n",
        "print(users)    # {\"Tom\",\"Bob\",\"Alice\"}"
      ],
      "execution_count": null,
      "outputs": [
        {
          "output_type": "stream",
          "name": "stdout",
          "text": [
            "{'Tom', 'Alice', 'Bob'}\n"
          ]
        }
      ]
    },
    {
      "cell_type": "markdown",
      "metadata": {
        "id": "Gm9EBJ8t1N0k"
      },
      "source": [
        "Обратите внимание, что несмотря на то, что функция print вывела один раз элемент \"Tom\", хотя в определении множества этот элемент содержится два раза. Все потому что множество содержит только уникальные значения.\n",
        "\n",
        "Также для определения множества может применяться функция set(), в которую передается список или кортеж элементов:"
      ]
    },
    {
      "cell_type": "code",
      "metadata": {
        "id": "OUL-GxCu1QAv"
      },
      "source": [
        "users3 = set([\"Mike\", \"Bill\", \"Ted\"])"
      ],
      "execution_count": null,
      "outputs": []
    },
    {
      "cell_type": "markdown",
      "metadata": {
        "id": "Q-XNhsrR1RqF"
      },
      "source": [
        "Функцию set удобно применять для создания пустого множества:"
      ]
    },
    {
      "cell_type": "code",
      "metadata": {
        "id": "GmvwmsEx1Udl"
      },
      "source": [
        "users = set()"
      ],
      "execution_count": null,
      "outputs": []
    },
    {
      "cell_type": "markdown",
      "metadata": {
        "id": "xUFsKNPi1V_t"
      },
      "source": [
        "Для получения длины множества применяется встроенная функция len():"
      ]
    },
    {
      "cell_type": "code",
      "metadata": {
        "id": "E0-6gglZ1YTF",
        "colab": {
          "base_uri": "https://localhost:8080/"
        },
        "outputId": "fc10930f-8cec-44f9-ef6a-b7d10358e84f"
      },
      "source": [
        "users = {\"Tom\",\"Bob\",\"Alice\"}\n",
        "print(len(users))  # 3"
      ],
      "execution_count": null,
      "outputs": [
        {
          "output_type": "stream",
          "name": "stdout",
          "text": [
            "3\n"
          ]
        }
      ]
    },
    {
      "cell_type": "markdown",
      "metadata": {
        "id": "7n68X2GT1atP"
      },
      "source": [
        "Добавление элементов\n",
        "Для добавления одиночного элемента вызывается метод add():"
      ]
    },
    {
      "cell_type": "code",
      "metadata": {
        "id": "K5PIYygF1aH-"
      },
      "source": [
        "users = set()\n",
        "users.add(\"Sam\")\n",
        "print(users)"
      ],
      "execution_count": null,
      "outputs": []
    },
    {
      "cell_type": "markdown",
      "metadata": {
        "id": "HIaa8aoo1fLb"
      },
      "source": [
        "##Удаление элементов\n",
        "Для удаления одного элемента вызывается метод remove(), в который передается удаляемый элемент. Но следует учитывать, что если такого элемента не окажется в множестве, то будет сгенерирована ошибка. Поэтому перед удалением следует проверять на наличие элемента с помощью оператора in:\n",
        "\n"
      ]
    },
    {
      "cell_type": "code",
      "metadata": {
        "id": "668XayKs1k50"
      },
      "source": [
        "users = {\"Tom\", \"Bob\", \"Alice\"}\n",
        "\n",
        "user = \"Tom\"\n",
        "if user in users:\n",
        "    users.remove(user)\n",
        "print(users)    # {\"Bob\", \"Alice\"}"
      ],
      "execution_count": null,
      "outputs": []
    },
    {
      "cell_type": "markdown",
      "metadata": {
        "id": "FLTcrO4z1no1"
      },
      "source": [
        "Также для удаления можно использовать метод discard(), который не будет генерировать исключения при отсутствии элемента:"
      ]
    },
    {
      "cell_type": "code",
      "metadata": {
        "id": "un5dG9411pPh"
      },
      "source": [
        "user = \"Tim\"\n",
        "users.discard(user)"
      ],
      "execution_count": null,
      "outputs": []
    },
    {
      "cell_type": "markdown",
      "metadata": {
        "id": "BgTy0_0i1rJ1"
      },
      "source": [
        "Для удаления всех элементов вызывается метод clear():\n",
        "\n"
      ]
    },
    {
      "cell_type": "code",
      "metadata": {
        "id": "iVu1q0PP1seL"
      },
      "source": [
        "users.clear()"
      ],
      "execution_count": null,
      "outputs": []
    },
    {
      "cell_type": "markdown",
      "metadata": {
        "id": "Oe9EQc0a1vDD"
      },
      "source": [
        "##Перебор множества\n",
        "Для перебора элементов можно использовать цикл for:\n",
        "\n"
      ]
    },
    {
      "cell_type": "code",
      "metadata": {
        "id": "p2y-gUwJ1wqK",
        "colab": {
          "base_uri": "https://localhost:8080/"
        },
        "outputId": "1130dc37-bf51-426f-ea85-898f8e95e661"
      },
      "source": [
        "users = {\"Tom\",\"Bob\",\"Alice\"}\n",
        "\n",
        "for user in users:\n",
        "    print(user)"
      ],
      "execution_count": null,
      "outputs": [
        {
          "output_type": "stream",
          "name": "stdout",
          "text": [
            "Alice\n",
            "Tom\n",
            "Bob\n"
          ]
        }
      ]
    },
    {
      "cell_type": "markdown",
      "metadata": {
        "id": "6Sur9U_S1yRo"
      },
      "source": [
        "При переборе каждый элемент помещается в переменную user.\n",
        "\n",
        "Операции с множествами\n",
        "С помощью метода copy() можно скопировать содержимое одного множества в другую переменную:"
      ]
    },
    {
      "cell_type": "code",
      "metadata": {
        "id": "hxxw_g1z1zxX"
      },
      "source": [
        "users = {\"Tom\",\"Bob\",\"Alice\"}\n",
        "users3 = users.copy()"
      ],
      "execution_count": null,
      "outputs": []
    },
    {
      "cell_type": "markdown",
      "metadata": {
        "id": "ksYp-G3U2Aoy"
      },
      "source": [
        "Метод union() объединяет два множества и возвращает новое множество:\n",
        "\n"
      ]
    },
    {
      "cell_type": "code",
      "metadata": {
        "id": "eI-iTtbR2C4i",
        "colab": {
          "base_uri": "https://localhost:8080/"
        },
        "outputId": "dfadfbdd-6153-4f41-f329-53043288f561"
      },
      "source": [
        "users = {\"Tom\",\"Bob\",\"Alice\"}\n",
        "users2 = {\"Sam\",\"Kate\", \"Bob\"}\n",
        "\n",
        "users3 = users.union(users2)\n",
        "print(users3)   # {\"Bob\", \"Alice\", \"Sam\", \"Kate\", \"Tom\"}"
      ],
      "execution_count": null,
      "outputs": [
        {
          "output_type": "stream",
          "name": "stdout",
          "text": [
            "{'Kate', 'Alice', 'Tom', 'Bob', 'Sam'}\n"
          ]
        }
      ]
    },
    {
      "cell_type": "markdown",
      "metadata": {
        "id": "10MP6lz72ElM"
      },
      "source": [
        "Пересечение множеств позволяет получить только те элементы, которые есть одновременно в обоих множествах. Метод intersection() производит операцию пересечения множеств и возвращает новое множество:"
      ]
    },
    {
      "cell_type": "code",
      "metadata": {
        "id": "DnkuZAtK2GrC",
        "colab": {
          "base_uri": "https://localhost:8080/"
        },
        "outputId": "309e788d-a687-428c-fa15-355c2cda4c3a"
      },
      "source": [
        "users = {\"Tom\",\"Bob\",\"Alice\"}\n",
        "users2 = {\"Sam\",\"Kate\", \"Bob\"}\n",
        "\n",
        "users3 = users.intersection(users2)\n",
        "print(users3)   # {\"Bob\"}"
      ],
      "execution_count": null,
      "outputs": [
        {
          "output_type": "stream",
          "name": "stdout",
          "text": [
            "{'Bob'}\n"
          ]
        }
      ]
    },
    {
      "cell_type": "markdown",
      "metadata": {
        "id": "AAw0kxlG2IEx"
      },
      "source": [
        "Вместо метода intersection мы могли бы использовать операцию логического умножения:\n",
        "\n"
      ]
    },
    {
      "cell_type": "code",
      "metadata": {
        "id": "Pt25vvPN2LGI",
        "colab": {
          "base_uri": "https://localhost:8080/"
        },
        "outputId": "104e9c5a-9838-4241-ea5b-494a5667d6e3"
      },
      "source": [
        "users = {\"Tom\",\"Bob\",\"Alice\"}\n",
        "users2 = {\"Sam\",\"Kate\", \"Bob\"}\n",
        "\n",
        "print(users & users2)   # {\"Bob\"}"
      ],
      "execution_count": null,
      "outputs": [
        {
          "output_type": "stream",
          "name": "stdout",
          "text": [
            "{'Bob'}\n"
          ]
        }
      ]
    },
    {
      "cell_type": "markdown",
      "metadata": {
        "id": "j5vxcYp_2NFA"
      },
      "source": [
        "В этом случае мы получили бы тот же результат.\n",
        "\n",
        "Еще одна операция - разность множеств возвращает те элементы, которые есть в первом множестве, но отсутствуют во втором. Для получения разности множеств можно использовать метод difference или операцию вычитания:"
      ]
    },
    {
      "cell_type": "code",
      "metadata": {
        "id": "iQZZb-XK2Owg",
        "colab": {
          "base_uri": "https://localhost:8080/"
        },
        "outputId": "e3761870-db2d-4c8b-ef3d-e9ef3c61dd09"
      },
      "source": [
        "users = {\"Tom\",\"Bob\",\"Alice\"}\n",
        "users2 = {\"Sam\",\"Kate\", \"Bob\"}\n",
        "\n",
        "users3 = users.difference(users2)\n",
        "print(users3)           # {\"Tom\", \"Alice\"}\n",
        "print(users - users2)   # {\"Tom\", \"Alice\"}"
      ],
      "execution_count": null,
      "outputs": [
        {
          "output_type": "stream",
          "name": "stdout",
          "text": [
            "{'Alice', 'Tom'}\n",
            "{'Alice', 'Tom'}\n"
          ]
        }
      ]
    },
    {
      "cell_type": "markdown",
      "metadata": {
        "id": "K_uZgBq12QEY"
      },
      "source": [
        "Отношения между множествами\n",
        "Метод issubset позволяет выяснить, является ли текущее множество подмножеством (то есть частью) другого множества:"
      ]
    },
    {
      "cell_type": "code",
      "metadata": {
        "id": "66XiBd412SDM",
        "colab": {
          "base_uri": "https://localhost:8080/"
        },
        "outputId": "eed3309e-62ec-4201-b22a-3308ba99252a"
      },
      "source": [
        "users = {\"Tom\", \"Bob\", \"Alice\"}\n",
        "superusers = {\"Sam\", \"Tom\", \"Bob\", \"Alice\", \"Greg\"}\n",
        "\n",
        "print(users.issubset(superusers))   # True\n",
        "print(superusers.issubset(users))   # False"
      ],
      "execution_count": null,
      "outputs": [
        {
          "output_type": "stream",
          "name": "stdout",
          "text": [
            "True\n",
            "False\n"
          ]
        }
      ]
    },
    {
      "cell_type": "markdown",
      "metadata": {
        "id": "W7vZvB1G2ZLm"
      },
      "source": [
        "Метод issuperset, наоборот, возвращает True, если текущее множество является надмножеством (то есть содержит) для другого множества:"
      ]
    },
    {
      "cell_type": "code",
      "metadata": {
        "id": "vGnRfbx31t9f",
        "colab": {
          "base_uri": "https://localhost:8080/"
        },
        "outputId": "2d4d83b0-4674-4ac8-bf18-3d786f9dfe82"
      },
      "source": [
        "users = {\"Tom\", \"Bob\", \"Alice\"}\n",
        "superusers = {\"Sam\", \"Tom\", \"Bob\", \"Alice\", \"Greg\"}\n",
        "\n",
        "print(users.issuperset(superusers))   # False\n",
        "print(superusers.issuperset(users))   # True"
      ],
      "execution_count": null,
      "outputs": [
        {
          "output_type": "stream",
          "name": "stdout",
          "text": [
            "False\n",
            "True\n"
          ]
        }
      ]
    },
    {
      "cell_type": "code",
      "source": [
        "test_list = [9,8,7,5,5,5,5,3,9]\n",
        "\n",
        "test_list = sorted(list(set(test_list)))\n",
        "\n",
        "test_list"
      ],
      "metadata": {
        "colab": {
          "base_uri": "https://localhost:8080/"
        },
        "id": "w6usw61M_7dP",
        "outputId": "2a06e61a-f3f9-42dc-a38f-d8dcc08f1416"
      },
      "execution_count": null,
      "outputs": [
        {
          "output_type": "execute_result",
          "data": {
            "text/plain": [
              "[3, 5, 7, 8, 9]"
            ]
          },
          "metadata": {},
          "execution_count": 38
        }
      ]
    },
    {
      "cell_type": "markdown",
      "metadata": {
        "id": "aZwb3ncv2cDb"
      },
      "source": [
        "##frozen set\n",
        "Тип frozen set является видом множеств, которое не может быть изменено. Для его создания используется функция frozenset:"
      ]
    },
    {
      "cell_type": "code",
      "metadata": {
        "id": "VXxMSbKi2dm6"
      },
      "source": [
        "users = frozenset({\"Tom\", \"Bob\", \"Alice\"})"
      ],
      "execution_count": null,
      "outputs": []
    },
    {
      "cell_type": "markdown",
      "metadata": {
        "id": "h6QNHCpG2gOd"
      },
      "source": [
        "В функцию frozenset передается набор элементов - список, кортеж, другое множество.\n",
        "\n",
        "В такое множество мы не можем добавить новые элементы, как и удалить из него уже имеющиеся. Собственно поэтому frozen set поддерживает ограниченный набор операций:\n",
        "\n",
        "- len(s): возвращает длину множества\n",
        "\n",
        "- x in s: возвращает True, если элемент x присутствует в множестве s\n",
        "\n",
        "- x not in s: возвращает True, если элемент x отсутствует в множестве s\n",
        "\n",
        "- s.issubset(t): возвращает True, если t содержит множество s\n",
        "\n",
        "- s.issuperset(t): возвращает True, если t содержится в множестве s\n",
        "\n",
        "- s.union(t): возвращает объединение множеств s и t\n",
        "\n",
        "- s.intersection(t): возвращает пересечение множеств s и t\n",
        "\n",
        "- s.difference(t): возвращает разность множеств s и t\n",
        "\n",
        "- s.copy(): возвращает копию множества s"
      ]
    },
    {
      "cell_type": "markdown",
      "metadata": {
        "id": "RIB1ZEvzZstV"
      },
      "source": [
        "# Регулярные выражения\n",
        "\n",
        "Регулярные выражения - формальный язык поиска и осуществления манипуляций с подстроками в тексте, в том числе:\n",
        "\n",
        "* для проверки валидности формата строка, например телефонного номера или email-адреса;\n",
        "* для разбивки строк на подстроки;\n",
        "* для поиска, замены и извлечения символов и т.д.\n",
        "\n",
        "Синтаксис таких выражений в основном стандартизирован, что позволяет использовать одни регулярные выражения в разных языках программирования.\n",
        "\n",
        "Для использования регулярных выражение в Python используется модуль `re`.\n",
        "\n",
        "**Примечание** Не стоит забывать, что регулярные выражения не всегда оптимальны, и для простых операций часто достаточно встроенных в Python функций.\n",
        "\n"
      ]
    },
    {
      "cell_type": "code",
      "metadata": {
        "id": "TL0acUw9ZstV"
      },
      "source": [
        "import re"
      ],
      "execution_count": null,
      "outputs": []
    },
    {
      "cell_type": "markdown",
      "metadata": {
        "id": "cpv4yJMiZstV"
      },
      "source": [
        "## re.match(pattern, string)\n",
        "\n",
        "Этот метод ищет по заданному шаблону в начале строки. Например, если мы вызовем метод match() на строке «AV Analytics AV» с шаблоном «AV», то он завершится успешно. Но если мы будем искать «Analytics», то результат будет отрицательный:"
      ]
    },
    {
      "cell_type": "code",
      "metadata": {
        "scrolled": true,
        "id": "w5BFJGq1ZstV",
        "colab": {
          "base_uri": "https://localhost:8080/"
        },
        "outputId": "f98d9d1b-bac5-4247-ef71-cc6bcfb41167"
      },
      "source": [
        "result = re.match(r'AV', 'AV Analytics Vidhya AV')\n",
        "print(result)"
      ],
      "execution_count": null,
      "outputs": [
        {
          "output_type": "stream",
          "name": "stdout",
          "text": [
            "<re.Match object; span=(0, 2), match='AV'>\n"
          ]
        }
      ]
    },
    {
      "cell_type": "markdown",
      "metadata": {
        "id": "dafkltscZstV"
      },
      "source": [
        "Искомая подстрока найдена. Чтобы вывести её содержимое, применим метод group() (мы используем «r» перед строкой шаблона, чтобы показать, что это «сырая» строка в Python):"
      ]
    },
    {
      "cell_type": "code",
      "metadata": {
        "id": "GEEBNNFYZstV",
        "colab": {
          "base_uri": "https://localhost:8080/"
        },
        "outputId": "7ed27b60-1e3b-4a51-b1bb-d801be8034e8"
      },
      "source": [
        "result = re.match(r'AV', 'AV Analytics Vidhya AV')\n",
        "print(result.group(0))"
      ],
      "execution_count": null,
      "outputs": [
        {
          "output_type": "stream",
          "name": "stdout",
          "text": [
            "AV\n"
          ]
        }
      ]
    },
    {
      "cell_type": "markdown",
      "metadata": {
        "id": "KO0NIH9DZstW"
      },
      "source": [
        "Теперь попробуем найти «Analytics» в данной строке. Поскольку строка начинается на «AV», метод вернет None:"
      ]
    },
    {
      "cell_type": "code",
      "metadata": {
        "id": "XbLiT2L8ZstW",
        "colab": {
          "base_uri": "https://localhost:8080/"
        },
        "outputId": "30529cdb-82f2-4a43-d874-59c78899d9f4"
      },
      "source": [
        "result = re.match(r'Analytics', 'AV Analytics Vidhya AV')\n",
        "print(result)"
      ],
      "execution_count": null,
      "outputs": [
        {
          "output_type": "stream",
          "name": "stdout",
          "text": [
            "None\n"
          ]
        }
      ]
    },
    {
      "cell_type": "markdown",
      "metadata": {
        "id": "0gVCwnjpZstW"
      },
      "source": [
        "Также есть методы start() и end() для того, чтобы узнать начальную и конечную позицию найденной строки."
      ]
    },
    {
      "cell_type": "code",
      "metadata": {
        "id": "P4hjlzrJZstW",
        "colab": {
          "base_uri": "https://localhost:8080/"
        },
        "outputId": "7916cc3d-a1ef-4d66-a02a-6ff13192fb26"
      },
      "source": [
        "result = re.match(r'AV', 'AV Analytics Vidhya AV')\n",
        "print(result.start())\n",
        "print(result.end())"
      ],
      "execution_count": null,
      "outputs": [
        {
          "output_type": "stream",
          "name": "stdout",
          "text": [
            "0\n",
            "2\n"
          ]
        }
      ]
    },
    {
      "cell_type": "markdown",
      "metadata": {
        "id": "Tk6ZgSmdZstW"
      },
      "source": [
        "## re.search(pattern, string)\n",
        "\n",
        "Метод похож на match(), но ищет не только в начале строки. В отличие от предыдущего, search() вернёт объект, если мы попытаемся найти «Analytics»:"
      ]
    },
    {
      "cell_type": "code",
      "metadata": {
        "id": "DBCTsAwnZstW",
        "colab": {
          "base_uri": "https://localhost:8080/"
        },
        "outputId": "e1efa5e7-5440-4608-df53-a0ffa9891e70"
      },
      "source": [
        "result = re.search(r'Analytics', 'AV Analytics Vidhya AV')\n",
        "print(result.group(0))"
      ],
      "execution_count": null,
      "outputs": [
        {
          "output_type": "stream",
          "name": "stdout",
          "text": [
            "Analytics\n"
          ]
        }
      ]
    },
    {
      "cell_type": "markdown",
      "metadata": {
        "id": "xSnpRhvtZstW"
      },
      "source": [
        "## re.findall(pattern, string)\n",
        "Возвращает список всех найденных совпадений. У метода ``findall()`` нет ограничений на поиск в начале или конце строки. Если мы будем искать «AV» в нашей строке, он вернет все вхождения «AV». Для поиска рекомендуется использовать именно ``findall()``, так как он может работать и как ``re.search()``, и как ``re.match()``."
      ]
    },
    {
      "cell_type": "code",
      "metadata": {
        "id": "SudcarKdZstW",
        "colab": {
          "base_uri": "https://localhost:8080/"
        },
        "outputId": "b1e97a61-4ca3-4988-b1ce-75cacf6e2955"
      },
      "source": [
        "result = re.findall(r'AV', 'AV Analytics Vidhya AV')\n",
        "print (result)"
      ],
      "execution_count": null,
      "outputs": [
        {
          "output_type": "stream",
          "name": "stdout",
          "text": [
            "['AV', 'AV']\n"
          ]
        }
      ]
    },
    {
      "cell_type": "markdown",
      "metadata": {
        "id": "cb2D8CS_ZstW"
      },
      "source": [
        "## re.split(pattern, string, [maxsplit=0])\n",
        "Этот метод разделяет строку по заданному шаблону."
      ]
    },
    {
      "cell_type": "code",
      "metadata": {
        "id": "N8y4ITcIZstW",
        "colab": {
          "base_uri": "https://localhost:8080/"
        },
        "outputId": "5b0fb626-84a5-4e36-88a6-fa9167bb2098"
      },
      "source": [
        "result = re.split(r'y', 'Analytics')\n",
        "print (result)"
      ],
      "execution_count": null,
      "outputs": [
        {
          "output_type": "stream",
          "name": "stdout",
          "text": [
            "['Anal', 'tics']\n"
          ]
        }
      ]
    },
    {
      "cell_type": "markdown",
      "metadata": {
        "id": "dPm7WRgVZstW"
      },
      "source": [
        "## re.sub(pattern, repl, string)\n",
        "Ищет шаблон в строке и заменяет его на указанную подстроку. Если шаблон не найден, строка остается неизменной."
      ]
    },
    {
      "cell_type": "code",
      "metadata": {
        "id": "qv6g9s4kZstW",
        "colab": {
          "base_uri": "https://localhost:8080/"
        },
        "outputId": "f9b3307b-dc53-49f2-a6dc-6d5bdef73747"
      },
      "source": [
        "result = re.sub(r'India', 'the World', 'AV is largest Analytics community of India')\n",
        "print (result)"
      ],
      "execution_count": null,
      "outputs": [
        {
          "output_type": "stream",
          "name": "stdout",
          "text": [
            "AV is largest Analytics community of the World\n"
          ]
        }
      ]
    },
    {
      "cell_type": "markdown",
      "metadata": {
        "id": "qGIF3sp2ZstX"
      },
      "source": [
        "## re.compile(pattern, repl, string)\n",
        "Мы можем собрать регулярное выражение в отдельный объект, который может быть использован для поиска. Это также избавляет от переписывания одного и того же выражения."
      ]
    },
    {
      "cell_type": "code",
      "metadata": {
        "id": "Ne6czBLSZstX",
        "colab": {
          "base_uri": "https://localhost:8080/"
        },
        "outputId": "1dcd7c02-87f7-4361-dcf7-26f48a0c1b52"
      },
      "source": [
        "pattern = re.compile('AV')\n",
        "result = pattern.findall('AV Analytics Vidhya AV')\n",
        "print (result)\n",
        "result2 = pattern.findall('AV is largest analytics community of India')\n",
        "print (result2)"
      ],
      "execution_count": null,
      "outputs": [
        {
          "output_type": "stream",
          "name": "stdout",
          "text": [
            "['AV', 'AV']\n",
            "['AV']\n"
          ]
        }
      ]
    },
    {
      "cell_type": "markdown",
      "metadata": {
        "id": "z0jnq3G6ZstX"
      },
      "source": [
        "До сих пор мы рассматривали поиск определенной последовательности символов. Регулярные выражения часто используются в сценариях, когда необходимо найти / заменить подстроку, отвечающую определенным правилам. Для этого используются в регулярных выражениях могут использоваться специальные символы (метасимволы) и операторы. Наиболее часто используемые из них:\n",
        "\n",
        "|Оператор\t|Описание|\n",
        "|---|---|\n",
        "|.\t|Один любой символ, кроме новой строки \\n.|\n",
        "|?\t|0 или 1 вхождение шаблона слева|\n",
        "|+\t|1 и более вхождений шаблона слева|\n",
        "|*\t|0 и более вхождений шаблона слева|\n",
        "|\\w\t|Любая цифра или буква (\\W — все, кроме буквы или цифры)|\n",
        "|\\d\t|Любая цифра [0-9] (\\D — все, кроме цифры)|\n",
        "|\\s\t|Любой пробельный символ (\\S — любой непробельный символ)|\n",
        "|\\b\t|Граница слова|\n",
        "|[..]\t|Один из символов в скобках ([^..] — любой символ, кроме тех, что в скобках)|\n",
        "|\\\t|Экранирование специальных символов (\\. означает точку или \\+ — знак «плюс»)|\n",
        "|^ и $\t|Начало и конец строки соответственно|\n",
        "|{n,m}\t|От n до m вхождений ({,m} — от 0 до m)|\n",
        "|a\\|b\t|Соответствует a или b|\n",
        "|()\t|Группирует выражение и возвращает найденный текст|\n",
        "|\\t, \\n, \\r\t|Символ табуляции, новой строки и возврата каретки соответственно|"
      ]
    },
    {
      "cell_type": "markdown",
      "metadata": {
        "id": "2n5wQKX9ZstX"
      },
      "source": [
        "## Примеры"
      ]
    },
    {
      "cell_type": "markdown",
      "metadata": {
        "id": "MKNN03EKE3D_"
      },
      "source": [
        "### Вернуть домены из списка email-адресов\n",
        "\n",
        "Сначала вернём все символы после «@»:"
      ]
    },
    {
      "cell_type": "code",
      "metadata": {
        "id": "03rr8yLwZstX",
        "colab": {
          "base_uri": "https://localhost:8080/"
        },
        "outputId": "e9308cf1-403f-4580-8b4c-5bded3b976ab"
      },
      "source": [
        "result = re.findall(r'@\\w+', 'abc.test@gmail.com, xyz@test.in, test.first@analyticsvidhya.com, first.test@rest.biz')\n",
        "print (result)"
      ],
      "execution_count": null,
      "outputs": [
        {
          "output_type": "stream",
          "name": "stdout",
          "text": [
            "['@test', '@analyticsvidhya', '@rest']\n"
          ]
        }
      ]
    },
    {
      "cell_type": "markdown",
      "metadata": {
        "id": "wn0EN2nSZstX"
      },
      "source": [
        "Как видим, части «.com», «.in» и т. д. не попали в результат. Изменим наш код:"
      ]
    },
    {
      "cell_type": "code",
      "metadata": {
        "id": "k5b0wWm0ZstX",
        "colab": {
          "base_uri": "https://localhost:8080/"
        },
        "outputId": "079a5c93-683b-4cae-cae3-8150765ccedf"
      },
      "source": [
        "result = re.findall(r'@\\w+.\\w+', 'abc.test@gmail.com, xyz@test.in, test.first@analyticsvidhya.com, first.test@rest.biz')\n",
        "print (result)"
      ],
      "execution_count": null,
      "outputs": [
        {
          "output_type": "stream",
          "name": "stdout",
          "text": [
            "['@gmail.com', '@test.in', '@analyticsvidhya.com', '@rest.biz']\n"
          ]
        }
      ]
    },
    {
      "cell_type": "markdown",
      "metadata": {
        "id": "8LTYCxYsZstX"
      },
      "source": [
        "Получение домена верхнего уровня, используя группировку — ( ):"
      ]
    },
    {
      "cell_type": "code",
      "metadata": {
        "id": "W0VjT_aIZstX",
        "colab": {
          "base_uri": "https://localhost:8080/"
        },
        "outputId": "ec138d77-5a9e-4a47-d6d6-36fb2f5e58ec"
      },
      "source": [
        "result = re.findall(r'@\\w+.(\\w+)', 'abc.test@gmail.com, xyz@test.in, test.first@analyticsvidhya.com, first.test@rest.biz')\n",
        "print (result)"
      ],
      "execution_count": null,
      "outputs": [
        {
          "output_type": "stream",
          "name": "stdout",
          "text": [
            "['com', 'in', 'com', 'biz']\n"
          ]
        }
      ]
    },
    {
      "cell_type": "markdown",
      "metadata": {
        "id": "Z-BAqBNDZstX"
      },
      "source": [
        "#### Проверить формат телефонного номера\n",
        "\n",
        "Номер должен быть длиной 10 знаков и начинаться с 8 или 9:"
      ]
    },
    {
      "cell_type": "code",
      "metadata": {
        "id": "YJlJWvSyZstX",
        "colab": {
          "base_uri": "https://localhost:8080/"
        },
        "outputId": "d3fa32e8-80d3-4c28-f2b1-7d7ec9caaa2d"
      },
      "source": [
        "li = ['9999999999', '999999-999', '99999x9999']\n",
        "\n",
        "for val in li:\n",
        "    if re.match(r'[8-9]{1}[0-9]{9}', val) and len(val) == 10:\n",
        "        print ('yes')\n",
        "    else:\n",
        "        print ('no')"
      ],
      "execution_count": null,
      "outputs": [
        {
          "output_type": "stream",
          "name": "stdout",
          "text": [
            "yes\n",
            "no\n",
            "no\n"
          ]
        }
      ]
    },
    {
      "cell_type": "markdown",
      "metadata": {
        "id": "J0N6z1LU3WQs"
      },
      "source": [
        "#Функции"
      ]
    },
    {
      "cell_type": "markdown",
      "metadata": {
        "id": "nF4Us5cg3bGA"
      },
      "source": [
        "Функции представляют блок кода, который выполняет определенную задачу и который можно повторно использовать в других частях программы. Формальное определение функции:\n",
        "\n",
        "\n",
        "```\n",
        "def имя_функции ([параметры]):\n",
        "    инструкции\n",
        "```\n",
        "\n",
        "\n",
        "Определение функции начинается с выражения def, которое состоит из имени функции, набора скобок с параметрами и двоеточия. Параметры в скобках необязательны. А со следующей строки идет блок инструкций, которые выполняет функция. Все инструкции функции имеют отступы от начала строки.\n",
        "\n",
        "Например, определение простейшей функции:"
      ]
    },
    {
      "cell_type": "code",
      "metadata": {
        "id": "YD5xNYlQ3YGK"
      },
      "source": [
        "def say_hello():\n",
        "    print(\"Hello\")"
      ],
      "execution_count": null,
      "outputs": []
    },
    {
      "cell_type": "markdown",
      "metadata": {
        "id": "KEFUQ3T33iZI"
      },
      "source": [
        "Функция называется say_hello. Она не имеет параметров и содержит одну единственную инструкцию, которая выводит на консоль строку \"Hello\".\n",
        "\n",
        "Для вызова функции указывается имя функции, после которого в скобках идет передача значений для всех ее параметров. Например:"
      ]
    },
    {
      "cell_type": "code",
      "metadata": {
        "id": "5wmNRS8X3kG4",
        "colab": {
          "base_uri": "https://localhost:8080/"
        },
        "outputId": "2b5bb0b3-63ef-4542-d072-0a5853261f81"
      },
      "source": [
        "def say_hello():\n",
        "    print(\"Hello\")\n",
        "\n",
        "def say_hi():\n",
        "  print(\"hi\")\n",
        "\n",
        "say_hello()\n",
        "say_hi()"
      ],
      "execution_count": null,
      "outputs": [
        {
          "output_type": "stream",
          "name": "stdout",
          "text": [
            "Hello\n",
            "hi\n"
          ]
        }
      ]
    },
    {
      "cell_type": "markdown",
      "metadata": {
        "id": "MC4xmkCM3nHf"
      },
      "source": [
        "Теперь определим и используем функцию с параметрами:\n",
        "\n"
      ]
    },
    {
      "cell_type": "code",
      "metadata": {
        "id": "mdzHEjTB3pbO",
        "colab": {
          "base_uri": "https://localhost:8080/"
        },
        "outputId": "23a6c49c-39cb-4530-dd75-557a0dfcf47e"
      },
      "source": [
        "def say_hello(name):\n",
        "    print(\"Hello,\", name)\n",
        "\n",
        "say_hello(\"Tom\")\n",
        "say_hello(\"Bob\")\n",
        "say_hello(\"Alice\")"
      ],
      "execution_count": null,
      "outputs": [
        {
          "output_type": "stream",
          "name": "stdout",
          "text": [
            "Hello, Tom\n",
            "Hello, Bob\n",
            "Hello, Alice\n"
          ]
        }
      ]
    },
    {
      "cell_type": "markdown",
      "metadata": {
        "id": "QaAL0A0K3tVa"
      },
      "source": [
        "##Значения по умолчанию\n",
        "Некоторые параметры функции мы можем сделать необязательными, указав для них значения по умолчанию при определении функции. Например:"
      ]
    },
    {
      "cell_type": "code",
      "metadata": {
        "id": "3V9fY_ZC3uvD",
        "colab": {
          "base_uri": "https://localhost:8080/"
        },
        "outputId": "6c5c62b2-db02-452c-d905-0752354863f8"
      },
      "source": [
        "def say_hello(name=\"Tom\"):\n",
        "    print(\"Hello,\", name)\n",
        "\n",
        "say_hello()\n",
        "say_hello(\"Bob\")"
      ],
      "execution_count": null,
      "outputs": [
        {
          "output_type": "stream",
          "name": "stdout",
          "text": [
            "Hello, Tom\n",
            "Hello, Bob\n"
          ]
        }
      ]
    },
    {
      "cell_type": "markdown",
      "metadata": {
        "id": "Ru-Fy5jY30PD"
      },
      "source": [
        "Здесь параметр name является необязательным. И если мы не передаем при вызове функции для него значение, то применяется значение по умолчанию, то есть строка \"Tom\".\n",
        "\n",
        "##Именованные параметры\n",
        "При передаче значений функция сопоставляет их с параметрами в том порядке, в котором они передаются. Например, пусть есть следующая функция:"
      ]
    },
    {
      "cell_type": "code",
      "metadata": {
        "id": "uM-SeguD3yBX",
        "colab": {
          "base_uri": "https://localhost:8080/"
        },
        "outputId": "42054b48-fcbc-4e20-bde7-1b1b5b337f72"
      },
      "source": [
        "def display_info(name, age):\n",
        "    print(\"Name:\", name, \"\\t\", \"Age:\", age)\n",
        "\n",
        "display_info(\"Tom\", 22)"
      ],
      "execution_count": null,
      "outputs": [
        {
          "output_type": "stream",
          "name": "stdout",
          "text": [
            "Name: Tom \t Age: 22\n"
          ]
        }
      ]
    },
    {
      "cell_type": "markdown",
      "metadata": {
        "id": "eFmQ6DxH34rb"
      },
      "source": [
        "При вызове функции первое значение \"Tom\" передается первому параметру - параметру name, второе значение - число 22 передается второму параметру - age. И так далее по порядку. Использование именованных параметров позволяет переопределить порядок передачи:"
      ]
    },
    {
      "cell_type": "code",
      "metadata": {
        "id": "uthMxwNb35yk",
        "colab": {
          "base_uri": "https://localhost:8080/"
        },
        "outputId": "395ac2f6-cafc-4bea-b608-9fda9d51df0e"
      },
      "source": [
        "def display_info(name, age):\n",
        "    print(\"Name:\", name, \"\\t\", \"Age:\", age)\n",
        "\n",
        "display_info(age=22, name=\"Tom\")"
      ],
      "execution_count": null,
      "outputs": [
        {
          "output_type": "stream",
          "name": "stdout",
          "text": [
            "Name: Tom \t Age: 22\n"
          ]
        }
      ]
    },
    {
      "cell_type": "markdown",
      "metadata": {
        "id": "lYsauIEH37ON"
      },
      "source": [
        "Именованные параметры предполагают указание имени параметра с присвоением ему значения при вызове функции.\n",
        "\n",
        "##Неопределенное количество параметров\n",
        "С помощью символа звездочки можно определить неопределенное количество параметров:"
      ]
    },
    {
      "cell_type": "code",
      "metadata": {
        "id": "PD5kVzGp38cG",
        "colab": {
          "base_uri": "https://localhost:8080/"
        },
        "outputId": "00f6a013-a851-4643-d072-7ec67074611f"
      },
      "source": [
        "def sum(*params):\n",
        "    result = 0\n",
        "    for n in params:\n",
        "        result += n\n",
        "    return result\n",
        "\n",
        "\n",
        "sumOfNumbers1 = sum(1, 2, 3, 4, 5)      # 15\n",
        "sumOfNumbers2 = sum(3, 4, 5, 6)         # 18\n",
        "print(sumOfNumbers1)\n",
        "print(sumOfNumbers2)"
      ],
      "execution_count": null,
      "outputs": [
        {
          "output_type": "stream",
          "name": "stdout",
          "text": [
            "15\n",
            "18\n"
          ]
        }
      ]
    },
    {
      "cell_type": "markdown",
      "metadata": {
        "id": "zYwGbM5l3986"
      },
      "source": [
        "В данном случае функция sum принимает один параметр - *params, но звездочка перед названием параметра указывает, что фактически на место этого параметра мы можем передать неопределенное количество значений или набор значений. В самой функции с помощью цикла for можно пройтись по этому набору и произвести с переданными значениями различные действия. Например, в данном случае возвращается сумма чисел.\n",
        "\n",
        "##Возвращение результата\n",
        "Функция может возвращать результат. Для этого в функции используется оператор return, после которого указывается возвращаемое значение:"
      ]
    },
    {
      "cell_type": "code",
      "metadata": {
        "id": "73fkIkVR4AOD"
      },
      "source": [
        "def exchange(usd_rate, money):\n",
        "    result = round(money/usd_rate, 2)\n",
        "    return result\n",
        "\n",
        "result1 = exchange(60, 30000)\n",
        "print(result1)\n",
        "result2 = exchange(56, 30000)\n",
        "print(result2)\n",
        "result3 = exchange(65, 30000)\n",
        "print(result3)"
      ],
      "execution_count": null,
      "outputs": []
    },
    {
      "cell_type": "markdown",
      "metadata": {
        "id": "vmPJ0pdt4CB1"
      },
      "source": [
        "В Python функция может возвращать сразу несколько значений:"
      ]
    },
    {
      "cell_type": "code",
      "metadata": {
        "id": "gofBEkbn4Ebg",
        "colab": {
          "base_uri": "https://localhost:8080/"
        },
        "outputId": "3faadc5d-bfd1-487c-c461-8f222fa42534"
      },
      "source": [
        "from typing import Tuple\n",
        "\n",
        "def create_default_user() -> Tuple[str, int]:\n",
        "    name = \"Tom\"\n",
        "    age = 33\n",
        "    return name, age\n",
        "\n",
        "\n",
        "user_name, user_age = create_default_user()\n",
        "print(\"Name:\", user_name, \"\\t Age:\", user_age)"
      ],
      "execution_count": null,
      "outputs": [
        {
          "output_type": "stream",
          "name": "stdout",
          "text": [
            "Name: Tom \t Age: 33\n"
          ]
        }
      ]
    },
    {
      "cell_type": "markdown",
      "metadata": {
        "id": "miTiLjD54aRG"
      },
      "source": [
        "#Область видимости переменных"
      ]
    },
    {
      "cell_type": "markdown",
      "metadata": {
        "id": "DB_6jQi74eQ1"
      },
      "source": [
        "Область видимости или scope определяет контекст переменной, в рамках которого ее можно использовать. В Python есть два типа контекста: глобальный и локальный.\n",
        "\n",
        "Глобальный контекст подразумевает, что переменная является глобальной, она определена вне любой из функций и доступна любой функции в программе. Например:"
      ]
    },
    {
      "cell_type": "code",
      "metadata": {
        "id": "L4K-unHe4gwg",
        "colab": {
          "base_uri": "https://localhost:8080/"
        },
        "outputId": "8ac049b2-f050-4b2d-dca3-8ff24cb49044"
      },
      "source": [
        "name = \"Tom\"\n",
        "\n",
        "\n",
        "def say_hi():\n",
        "    print(\"Hello\", name)\n",
        "\n",
        "\n",
        "def say_bye():\n",
        "    print(\"Good bye\", name)\n",
        "\n",
        "say_hi()\n",
        "say_bye()"
      ],
      "execution_count": null,
      "outputs": [
        {
          "output_type": "stream",
          "name": "stdout",
          "text": [
            "Hello Tom\n",
            "Good bye Tom\n"
          ]
        }
      ]
    },
    {
      "cell_type": "markdown",
      "metadata": {
        "id": "SjHFZoi-4iAI"
      },
      "source": [
        "Здесь переменная name является глобальной и имеет глобальную область видимости. И обе определенные здесь функции могут свободно ее использовать.\n",
        "\n",
        "В отличие от глобальных переменных локальная переменная определяется внутри функции и доступна только из этой функции, то есть имеет локальную область видимости:"
      ]
    },
    {
      "cell_type": "code",
      "metadata": {
        "id": "m3aDBPPs4jwX",
        "colab": {
          "base_uri": "https://localhost:8080/"
        },
        "outputId": "2a44ede1-6846-43e3-8059-a1db946c2331"
      },
      "source": [
        "def say_hi():\n",
        "    name = \"Sam\"\n",
        "    surname = \"Johnson\"\n",
        "    print(\"Hello\", name, surname)\n",
        "\n",
        "\n",
        "def say_bye():\n",
        "    name = \"Tom\"\n",
        "    print(\"Good bye\", name)\n",
        "\n",
        "say_hi()\n",
        "say_bye()"
      ],
      "execution_count": null,
      "outputs": [
        {
          "output_type": "stream",
          "name": "stdout",
          "text": [
            "Hello Sam Johnson\n",
            "Good bye Tom\n"
          ]
        }
      ]
    },
    {
      "cell_type": "markdown",
      "metadata": {
        "id": "z3BRGuwA4ls1"
      },
      "source": [
        "В данном случае в каждой из двух функций определяется локальная переменная name. И хотя эти переменные называются одинаково, но тем не менее это дву разных переменных, каждая из которых доступна только в рамках своей функции. Также в функции say_hi определена переменная surname, которая также является локальной, поэтому в функции say_bye мы ее использовать не сможем.\n",
        "\n",
        "Есть еще один вариант определения переменной, когда локальная переменная скрывают глобальную с тем же именем:"
      ]
    },
    {
      "cell_type": "code",
      "metadata": {
        "id": "3xLq9XV74nPq",
        "colab": {
          "base_uri": "https://localhost:8080/"
        },
        "outputId": "f51cb1bb-2e93-4e65-b44e-859c8df75982"
      },
      "source": [
        "name = \"Tom\"\n",
        "\n",
        "\n",
        "def say_hi():\n",
        "    print(\"Hello\", name)\n",
        "\n",
        "\n",
        "def say_bye():\n",
        "    name = \"Bob\"\n",
        "    print(\"Good bye\", name)\n",
        "\n",
        "say_hi()  # Hello Tom\n",
        "result = say_bye()  # Good bye Bob"
      ],
      "execution_count": null,
      "outputs": [
        {
          "output_type": "stream",
          "name": "stdout",
          "text": [
            "Hello Tom\n",
            "Good bye Bob\n",
            "None\n"
          ]
        }
      ]
    },
    {
      "cell_type": "markdown",
      "metadata": {
        "id": "Awu1SiUg4omh"
      },
      "source": [
        "Здесь определена глобальная переменная name. Однако в функции say_bye определена локальная переменная с тем же именем name. И если функция say_hi использует глобальную переменную, то функция say_bye использует локальную переменную, которая скрывает глобальную.\n",
        "\n",
        "Если же мы хотим изменить в локальной функции глобальную переменную, а не определить локальную, то необходимо использовать ключевое слово global:"
      ]
    },
    {
      "cell_type": "code",
      "metadata": {
        "id": "DWijux6i4qqm"
      },
      "source": [
        "def say_bye():\n",
        "    global name\n",
        "    name = \"Bob\"\n",
        "    print(\"Good bye\", name)"
      ],
      "execution_count": null,
      "outputs": []
    },
    {
      "cell_type": "markdown",
      "metadata": {
        "id": "vjPn0vK84s3R"
      },
      "source": [
        "В Python, как и во многих других языках программирования, **не рекомендуется использовать глобальные переменные**. Единственной допустимой практикой является определение небольшого числа глобальных констант, которые не изменяются в процессе работы программы."
      ]
    },
    {
      "cell_type": "code",
      "metadata": {
        "id": "OTn6BDYd4vsy",
        "colab": {
          "base_uri": "https://localhost:8080/"
        },
        "outputId": "22044691-99a3-41a2-eb98-0775259301b6"
      },
      "source": [
        "PI = 3.14\n",
        "\n",
        "\n",
        "# вычисление площади круга\n",
        "def get_circle_square(radius):\n",
        "\n",
        "    print(\"Площадь круга с радиусом\", radius, \"равна\", PI * radius * radius)\n",
        "\n",
        "get_circle_square(50)"
      ],
      "execution_count": null,
      "outputs": [
        {
          "output_type": "stream",
          "name": "stdout",
          "text": [
            "Площадь круга с радиусом 50 равна 7850.0\n"
          ]
        }
      ]
    },
    {
      "cell_type": "markdown",
      "metadata": {
        "id": "Wctx8HaA4yAR"
      },
      "source": [
        "В данном случае число 3.14 представлено константой PI. Понятно, что это значение в принципе не изменится, поэтому его можно вынести из функций и определить в виде константы. Как правило, имя константы определяется заглавными буквами."
      ]
    },
    {
      "cell_type": "markdown",
      "metadata": {
        "id": "8TXpW_5N6Ddt"
      },
      "source": [
        "#Lambda-функции (анонимные функции)"
      ]
    },
    {
      "cell_type": "code",
      "metadata": {
        "id": "ndy8WS_V6dxX",
        "colab": {
          "base_uri": "https://localhost:8080/"
        },
        "outputId": "91e2fdd6-1e12-4176-d192-333cd34ed2fe"
      },
      "source": [
        "import math #Подключаем библиотеку math\n",
        "\n",
        "pi_const = round(math.pi, 2) #округляем pi до второго знака\n",
        "# после запятой иначе она будет выглядеть\n",
        "# как 3.141592653589793 а нам это будет неудобно\n",
        "\n",
        "print((lambda radius: pi_const*(radius**2))(5))\n",
        "print((lambda radius: pi_const*(radius**2))(12))\n",
        "print((lambda radius: pi_const*(radius**2))(26))"
      ],
      "execution_count": null,
      "outputs": [
        {
          "output_type": "stream",
          "name": "stdout",
          "text": [
            "78.5\n",
            "452.16\n",
            "2122.64\n"
          ]
        }
      ]
    },
    {
      "cell_type": "markdown",
      "metadata": {
        "id": "fQ1SO-Si6lNX"
      },
      "source": [
        "Чтобы было понятнее, анонимный вызов функции подразумевает то, что вы используете её, нигде не объявляя, как в примере выше.\n",
        "\n",
        "Лямбда функция работает по следующему принципу\n",
        "\n",
        "`print((lambda перечисляются аргументы через запятую : что то с ними делается)(передаем аргументы))`"
      ]
    },
    {
      "cell_type": "code",
      "metadata": {
        "id": "VxtgYafo6DC4",
        "colab": {
          "base_uri": "https://localhost:8080/"
        },
        "outputId": "e93979f0-5661-4b59-f20f-2948ca4afdb6"
      },
      "source": [
        "inv = lambda x: -x\n",
        "sum = lambda x, y: x + y\n",
        "\n",
        "print(inv(5), sum(5, 7))"
      ],
      "execution_count": null,
      "outputs": [
        {
          "output_type": "stream",
          "name": "stdout",
          "text": [
            "-5 12\n"
          ]
        }
      ]
    },
    {
      "cell_type": "code",
      "metadata": {
        "colab": {
          "base_uri": "https://localhost:8080/"
        },
        "id": "JJ7sSNfq7bk3",
        "outputId": "16e1088e-e35a-4f73-b146-ccd29c1b09fd"
      },
      "source": [
        "# Создали список из словарей книг\n",
        "asoiaf_books = [\n",
        "  {'title' : 'Game of Thrones', 'published' : '1996-08-01', 'pages': 694},\n",
        "  {'title' : 'Clash of Kings', 'published' : '1998-11-16', 'pages': 761},\n",
        "  {'title' : 'Storm of Swords', 'published' : '2000-08-08', 'pages': 973},\n",
        "  {'title' : 'Feast for Crows', 'published' : '2005-10-17', 'pages': 753},\n",
        "  {'title' : 'Dance with Dragons', 'published' : '2011-07-12', 'pages': 1016}\n",
        "]\n",
        "\n",
        "# Сортируем по названию\n",
        "for book in sorted(asoiaf_books, key=lambda book: book.get('title')):\n",
        "  print(book)\n",
        "\n",
        "print('-------------')\n",
        "\n",
        "# Сортируем по датам\n",
        "for book in sorted(asoiaf_books, key=lambda book: book.get('published')):\n",
        "  print(book)\n",
        "\n",
        "print('-------------')\n",
        "\n",
        "# Сортируем по количеству страниц\n",
        "for book in sorted(asoiaf_books, key=lambda book: book.get('pages')):\n",
        "  print(book)"
      ],
      "execution_count": null,
      "outputs": [
        {
          "output_type": "stream",
          "name": "stdout",
          "text": [
            "{'title': 'Clash of Kings', 'published': '1998-11-16', 'pages': 761}\n",
            "{'title': 'Dance with Dragons', 'published': '2011-07-12', 'pages': 1016}\n",
            "{'title': 'Feast for Crows', 'published': '2005-10-17', 'pages': 753}\n",
            "{'title': 'Game of Thrones', 'published': '1996-08-01', 'pages': 694}\n",
            "{'title': 'Storm of Swords', 'published': '2000-08-08', 'pages': 973}\n",
            "-------------\n",
            "{'title': 'Game of Thrones', 'published': '1996-08-01', 'pages': 694}\n",
            "{'title': 'Clash of Kings', 'published': '1998-11-16', 'pages': 761}\n",
            "{'title': 'Storm of Swords', 'published': '2000-08-08', 'pages': 973}\n",
            "{'title': 'Feast for Crows', 'published': '2005-10-17', 'pages': 753}\n",
            "{'title': 'Dance with Dragons', 'published': '2011-07-12', 'pages': 1016}\n",
            "-------------\n",
            "{'title': 'Game of Thrones', 'published': '1996-08-01', 'pages': 694}\n",
            "{'title': 'Feast for Crows', 'published': '2005-10-17', 'pages': 753}\n",
            "{'title': 'Clash of Kings', 'published': '1998-11-16', 'pages': 761}\n",
            "{'title': 'Storm of Swords', 'published': '2000-08-08', 'pages': 973}\n",
            "{'title': 'Dance with Dragons', 'published': '2011-07-12', 'pages': 1016}\n"
          ]
        }
      ]
    },
    {
      "cell_type": "markdown",
      "metadata": {
        "id": "DqgGD2008EEf"
      },
      "source": [
        "Range, zip, map, filter"
      ]
    },
    {
      "cell_type": "markdown",
      "metadata": {
        "id": "bOC6GxmTB5XT"
      },
      "source": [
        "## Enumerate"
      ]
    },
    {
      "cell_type": "markdown",
      "metadata": {
        "id": "5qK8JA2Wyz0D"
      },
      "source": [
        "Функция `enumerate()` применяется для так называемых итерируемых объектов (список относится к таковым) и создает объект-генератор, который генерирует кортежи, состоящие из двух элементов – индекса элемента и самого элемента.\n",
        "\n",
        "\n",
        "`enumerate()` часто используется в заголовке `for`"
      ]
    },
    {
      "cell_type": "code",
      "metadata": {
        "id": "lWyW8BIRzVSc",
        "colab": {
          "base_uri": "https://localhost:8080/"
        },
        "outputId": "396b8770-d8b9-4636-c728-dc7b1485206d"
      },
      "source": [
        "b = \"hello\"\n",
        "for i in enumerate(b):\n",
        "  print(i)"
      ],
      "execution_count": null,
      "outputs": [
        {
          "output_type": "stream",
          "name": "stdout",
          "text": [
            "(0, 'h')\n",
            "(1, 'e')\n",
            "(2, 'l')\n",
            "(3, 'l')\n",
            "(4, 'o')\n"
          ]
        }
      ]
    },
    {
      "cell_type": "markdown",
      "metadata": {
        "id": "yig0OIuLzrx1"
      },
      "source": [
        "Полученные кортежи можно распаковать, то есть извлечь индекс и значение в теле цикла:"
      ]
    },
    {
      "cell_type": "code",
      "metadata": {
        "id": "SYm_Y-7j0MSh"
      },
      "source": [
        "example_list = [16, 46, 26, 36]"
      ],
      "execution_count": null,
      "outputs": []
    },
    {
      "cell_type": "code",
      "metadata": {
        "id": "vGnYlma-zzNd",
        "colab": {
          "base_uri": "https://localhost:8080/"
        },
        "outputId": "108f417f-4be6-42d5-dc6b-b420f033bf71"
      },
      "source": [
        "for item in enumerate(example_list):\n",
        "  print(item[0], item[1])"
      ],
      "execution_count": null,
      "outputs": [
        {
          "output_type": "stream",
          "name": "stdout",
          "text": [
            "0 16\n",
            "1 46\n",
            "2 26\n",
            "3 36\n"
          ]
        }
      ]
    },
    {
      "cell_type": "markdown",
      "metadata": {
        "id": "71AH02k3z4K6"
      },
      "source": [
        "Однако, лучше это делать в заголовке `for` следующим образом:"
      ]
    },
    {
      "cell_type": "code",
      "metadata": {
        "id": "LQBLKaoBz3qL",
        "colab": {
          "base_uri": "https://localhost:8080/"
        },
        "outputId": "33bb87fa-4fe8-46fb-f72d-54a67df64828"
      },
      "source": [
        "for id, val in enumerate(example_list):\n",
        "  print(id, val)"
      ],
      "execution_count": null,
      "outputs": [
        {
          "output_type": "stream",
          "name": "stdout",
          "text": [
            "0 16\n",
            "1 46\n",
            "2 26\n",
            "3 36\n"
          ]
        }
      ]
    },
    {
      "cell_type": "code",
      "source": [
        "for i in range(len(test_list)):\n",
        "  print(test_list[i], i)\n",
        "\n",
        "\n",
        "for i, element in enumerate(test_list):\n",
        "  print(element, i)"
      ],
      "metadata": {
        "id": "9ZQMCoeF1o-e"
      },
      "execution_count": null,
      "outputs": []
    },
    {
      "cell_type": "markdown",
      "metadata": {
        "id": "KtYl8kXIB_G5"
      },
      "source": [
        "## Zip"
      ]
    },
    {
      "cell_type": "markdown",
      "metadata": {
        "id": "2opd3jay0jET"
      },
      "source": [
        "Функция `zip()` в Python создает итератор, который объединяет элементы из нескольких источников данных. Эта функция работает со списками, кортежами, множествами и словарями для создания списков или кортежей, включающих все эти данные."
      ]
    },
    {
      "cell_type": "code",
      "metadata": {
        "id": "ZnuBbYkg0t46",
        "colab": {
          "base_uri": "https://localhost:8080/"
        },
        "outputId": "11a53629-44a5-40e1-f5c0-0e0b09368a22"
      },
      "source": [
        "employee_numbers = [2, 9, 18, 28]\n",
        "employee_names = [\"Дима\", \"Марина\", \"Андрей\", \"Никита\"]\n",
        "\n",
        "zipped_values = zip(employee_names, employee_numbers)\n",
        "zipped_list = list(zipped_values)\n",
        "\n",
        "print(zipped_list)"
      ],
      "execution_count": null,
      "outputs": [
        {
          "output_type": "stream",
          "name": "stdout",
          "text": [
            "[('Дима', 2), ('Марина', 9), ('Андрей', 18), ('Никита', 28)]\n"
          ]
        }
      ]
    },
    {
      "cell_type": "code",
      "metadata": {
        "id": "nFodtQyM09cs",
        "colab": {
          "base_uri": "https://localhost:8080/"
        },
        "outputId": "9ce823e3-039d-4d35-eb8e-24ebdf2ebe35"
      },
      "source": [
        "employee_numbers = [2, 9, 18, 28]\n",
        "employee_names = [\"Дима\", \"Марина\", \"Андрей\", \"Никита\"]\n",
        "\n",
        "for name, number in zip(employee_names, employee_numbers):\n",
        "\tprint(name, number)"
      ],
      "execution_count": null,
      "outputs": [
        {
          "output_type": "stream",
          "name": "stdout",
          "text": [
            "Дима 2\n",
            "Марина 9\n",
            "Андрей 18\n",
            "Никита 28\n"
          ]
        }
      ]
    },
    {
      "cell_type": "code",
      "source": [
        "for i in range(min(len(employee_names), len(employee_numbers))):\n",
        "  print(employee_names[i], employee_numbers[i])"
      ],
      "metadata": {
        "colab": {
          "base_uri": "https://localhost:8080/"
        },
        "id": "vKsQ6H_63oJK",
        "outputId": "4ed8819e-fae8-46de-8005-1be13092119f"
      },
      "execution_count": null,
      "outputs": [
        {
          "output_type": "stream",
          "name": "stdout",
          "text": [
            "Дима 2\n",
            "Марина 9\n",
            "Андрей 18\n",
            "Никита 28\n"
          ]
        }
      ]
    },
    {
      "cell_type": "markdown",
      "metadata": {
        "id": "faII0OWp1GzA"
      },
      "source": [
        "А что если ... мы хотим сделать `unzip`?"
      ]
    },
    {
      "cell_type": "code",
      "metadata": {
        "colab": {
          "base_uri": "https://localhost:8080/"
        },
        "id": "jKbqphV41GOf",
        "outputId": "979e750c-b332-4f1f-9795-39464cd749fd"
      },
      "source": [
        "employee_names, employee_numbers = zip(*zipped_list)\n",
        "\n",
        "print(employee_names)\n",
        "print(employee_numbers)"
      ],
      "execution_count": null,
      "outputs": [
        {
          "output_type": "stream",
          "name": "stdout",
          "text": [
            "('Дима', 'Марина', 'Андрей', 'Никита')\n",
            "(2, 9, 18, 28)\n"
          ]
        }
      ]
    },
    {
      "cell_type": "markdown",
      "metadata": {
        "id": "R_bVzTeCC31V"
      },
      "source": [
        "## Map"
      ]
    },
    {
      "cell_type": "markdown",
      "metadata": {
        "id": "h4Kynu6_9DMB"
      },
      "source": [
        "* `map(func, iterables)` - выполняет преобразование func над элементами iterables и возвращает **новый** `iterable`:"
      ]
    },
    {
      "cell_type": "code",
      "metadata": {
        "colab": {
          "base_uri": "https://localhost:8080/"
        },
        "id": "r-VAqDQe-R_l",
        "outputId": "65826860-7244-49aa-b650-b06ee393e4db"
      },
      "source": [
        "words = [\"pattern\", \"reserach\", \"CNN\", \"PCA\", \"SVM\"]\n",
        "\n",
        "letter_counts = list(map(lambda x: len(x), words))\n",
        "\n",
        "\n",
        "\n",
        "print(letter_counts)\n",
        "print()\n",
        "print(words)"
      ],
      "execution_count": null,
      "outputs": [
        {
          "output_type": "stream",
          "name": "stdout",
          "text": [
            "[7, 8, 3, 3, 3]\n",
            "\n",
            "['pattern', 'reserach', 'CNN', 'PCA', 'SVM']\n"
          ]
        }
      ]
    },
    {
      "cell_type": "markdown",
      "metadata": {
        "id": "E0Kd1D11DKSx"
      },
      "source": [
        "* `filter(predicate, iterable)` - оставляет только те элементы, для которых **верен** предикат (функция, возвращающая bool):"
      ]
    },
    {
      "cell_type": "code",
      "metadata": {
        "colab": {
          "base_uri": "https://localhost:8080/"
        },
        "id": "Z5XFEgWX_O1k",
        "outputId": "c88f3330-bd53-456e-9e2c-7abb947673df"
      },
      "source": [
        "mixed = ['мак', 'просо', 'мак', 'мак', 'просо', 'мак', 'просо', 'просо', 'просо', 'мак']\n",
        "only_mac = list(filter(lambda x: x == 'мак', mixed))\n",
        "print(only_mac)\n",
        "\n",
        "only_mac = [x for x in mixed if x == 'мак']\n",
        "print(only_mac)"
      ],
      "execution_count": null,
      "outputs": [
        {
          "output_type": "stream",
          "name": "stdout",
          "text": [
            "['мак', 'мак', 'мак', 'мак', 'мак']\n",
            "['мак', 'мак', 'мак', 'мак', 'мак']\n"
          ]
        }
      ]
    }
  ]
}