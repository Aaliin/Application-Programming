{
  "cells": [
    {
      "cell_type": "markdown",
      "metadata": {
        "id": "Pywghjmsv9Rz"
      },
      "source": [
        "# Заголовок\n",
        "## Заголовок 2"
      ]
    },
    {
      "cell_type": "code",
      "source": [
        "!ls"
      ],
      "metadata": {
        "colab": {
          "base_uri": "https://localhost:8080/"
        },
        "id": "7C0KFoin5CfN",
        "outputId": "f522b580-3c42-4cf4-b688-f40cf845ef55"
      },
      "execution_count": null,
      "outputs": [
        {
          "output_type": "stream",
          "name": "stdout",
          "text": [
            "sample_data\n"
          ]
        }
      ]
    },
    {
      "cell_type": "markdown",
      "metadata": {
        "id": "-CAzm5rev_XG"
      },
      "source": [
        "# Лекция 1\n",
        "## Динамическая типизация\n"
      ]
    },
    {
      "cell_type": "code",
      "execution_count": null,
      "metadata": {
        "colab": {
          "base_uri": "https://localhost:8080/"
        },
        "id": "BQUK3qoHwBMb",
        "outputId": "636d881a-774d-4493-f02a-6acccce9f858"
      },
      "outputs": [
        {
          "output_type": "stream",
          "name": "stdout",
          "text": [
            "(2+4j)\n",
            "<class 'complex'>\n"
          ]
        }
      ],
      "source": [
        "a = 2000.0\n",
        "a = 2000\n",
        "a = \"asd\"\n",
        "a = \"a'a\"\n",
        "a = r\"C:\\Users\\folder\"\n",
        "a = True\n",
        "a = range(0, 2**128)\n",
        "a = complex(1, 2)\n",
        "a = 2+4j\n",
        "print(a)\n",
        "print(type(a))"
      ]
    },
    {
      "cell_type": "code",
      "execution_count": null,
      "metadata": {
        "colab": {
          "base_uri": "https://localhost:8080/"
        },
        "id": "fLhiH1_TwL9v",
        "outputId": "eac0df55-13ec-4adb-b654-b0455259f95d"
      },
      "outputs": [
        {
          "output_type": "execute_result",
          "data": {
            "text/plain": [
              "{'a': [1, 2, 3, 2, {1, 2, 3}, 2, 2, 2], 'b': {1, 2, 3}, 'c': 3}"
            ]
          },
          "metadata": {},
          "execution_count": 39
        }
      ],
      "source": [
        "b = {1, 2, 3, 2,2,2,2,2}\n",
        "c = {'a':[1, 2, 3, 2,b,2,2,2], 'b':b, 'c':3}\n",
        "c"
      ]
    },
    {
      "cell_type": "code",
      "execution_count": null,
      "metadata": {
        "colab": {
          "base_uri": "https://localhost:8080/"
        },
        "id": "0QSKoCxgzl51",
        "outputId": "9c94c876-acbb-49da-85a5-9271ffdce5c6"
      },
      "outputs": [
        {
          "output_type": "execute_result",
          "data": {
            "text/plain": [
              "(2+4j)"
            ]
          },
          "metadata": {},
          "execution_count": 40
        }
      ],
      "source": [
        "a"
      ]
    },
    {
      "cell_type": "code",
      "execution_count": null,
      "metadata": {
        "colab": {
          "base_uri": "https://localhost:8080/"
        },
        "id": "WFMGZdb9zb7j",
        "outputId": "ccf6de0c-ba12-4e29-af2d-a2ca22c1e741"
      },
      "outputs": [
        {
          "output_type": "stream",
          "name": "stdout",
          "text": [
            "0\n"
          ]
        }
      ],
      "source": [
        "#комментарий\n",
        "\"\"\"\n",
        "комментарий\n",
        "\"\"\"\n",
        "print(0)"
      ]
    },
    {
      "cell_type": "code",
      "execution_count": null,
      "metadata": {
        "id": "Qq09BHlszwTu"
      },
      "outputs": [],
      "source": [
        "a = 2\n",
        "b = 3"
      ]
    },
    {
      "cell_type": "code",
      "execution_count": null,
      "metadata": {
        "colab": {
          "base_uri": "https://localhost:8080/"
        },
        "id": "6Gic5Ax80PXP",
        "outputId": "11d6bfbe-f3df-49a4-8525-25abfbec9aba"
      },
      "outputs": [
        {
          "output_type": "execute_result",
          "data": {
            "text/plain": [
              "5"
            ]
          },
          "metadata": {},
          "execution_count": 43
        }
      ],
      "source": [
        "a+b"
      ]
    },
    {
      "cell_type": "code",
      "execution_count": null,
      "metadata": {
        "colab": {
          "base_uri": "https://localhost:8080/"
        },
        "id": "lXqey3BA0RM-",
        "outputId": "129fdf29-b17f-471f-9e78-c56ba1789e57"
      },
      "outputs": [
        {
          "output_type": "execute_result",
          "data": {
            "text/plain": [
              "-1"
            ]
          },
          "metadata": {},
          "execution_count": 44
        }
      ],
      "source": [
        "a-b"
      ]
    },
    {
      "cell_type": "code",
      "execution_count": null,
      "metadata": {
        "colab": {
          "base_uri": "https://localhost:8080/"
        },
        "id": "mEswrC_N0SSf",
        "outputId": "b97f99e7-d742-4b7e-b0de-0fb67e47a64b"
      },
      "outputs": [
        {
          "output_type": "execute_result",
          "data": {
            "text/plain": [
              "6"
            ]
          },
          "metadata": {},
          "execution_count": 45
        }
      ],
      "source": [
        "a*b"
      ]
    },
    {
      "cell_type": "code",
      "execution_count": null,
      "metadata": {
        "colab": {
          "base_uri": "https://localhost:8080/"
        },
        "id": "rmn9N5zh0TbI",
        "outputId": "092d6fb1-c976-4fda-a617-86ea65e50821"
      },
      "outputs": [
        {
          "output_type": "execute_result",
          "data": {
            "text/plain": [
              "0.6666666666666666"
            ]
          },
          "metadata": {},
          "execution_count": 46
        }
      ],
      "source": [
        "a/b"
      ]
    },
    {
      "cell_type": "code",
      "execution_count": null,
      "metadata": {
        "colab": {
          "base_uri": "https://localhost:8080/"
        },
        "id": "tKsFkv--0URk",
        "outputId": "48d1d8ff-914a-40ae-cc3d-5f5b6625c150"
      },
      "outputs": [
        {
          "output_type": "execute_result",
          "data": {
            "text/plain": [
              "0"
            ]
          },
          "metadata": {},
          "execution_count": 47
        }
      ],
      "source": [
        "a//b"
      ]
    },
    {
      "cell_type": "code",
      "execution_count": null,
      "metadata": {
        "colab": {
          "base_uri": "https://localhost:8080/"
        },
        "id": "F19gpSsn0VFr",
        "outputId": "68d2c05b-0ec6-4587-d36a-a66d2ff0a646"
      },
      "outputs": [
        {
          "output_type": "execute_result",
          "data": {
            "text/plain": [
              "2"
            ]
          },
          "metadata": {},
          "execution_count": 48
        }
      ],
      "source": [
        "a%b"
      ]
    },
    {
      "cell_type": "code",
      "execution_count": null,
      "metadata": {
        "colab": {
          "base_uri": "https://localhost:8080/"
        },
        "id": "ochWdXdF0WSg",
        "outputId": "f1bb12ad-8988-4e3d-f232-5cd9ca1d4f5a"
      },
      "outputs": [
        {
          "output_type": "execute_result",
          "data": {
            "text/plain": [
              "8"
            ]
          },
          "metadata": {},
          "execution_count": 49
        }
      ],
      "source": [
        "a**b"
      ]
    },
    {
      "cell_type": "code",
      "execution_count": null,
      "metadata": {
        "colab": {
          "base_uri": "https://localhost:8080/"
        },
        "id": "odSeiQrL0aR4",
        "outputId": "bf97fac6-191e-43da-bbd1-edb5445274a0"
      },
      "outputs": [
        {
          "output_type": "stream",
          "name": "stdout",
          "text": [
            "-0b1\n"
          ]
        }
      ],
      "source": [
        "a = 0b1001\n",
        "b = ~a\n",
        "print(bin(a|b))"
      ]
    },
    {
      "cell_type": "code",
      "source": [
        "class TestClass:\n",
        "  def __init__(self, number) -> None:\n",
        "    self.number = number\n",
        "\n",
        "\n",
        "\n",
        "a = TestClass(5)\n",
        "type(a)\n",
        "list_a = [a, a, a]\n",
        "list_a[0].number"
      ],
      "metadata": {
        "colab": {
          "base_uri": "https://localhost:8080/"
        },
        "id": "LdDUVaEI9mHQ",
        "outputId": "6963ab4e-444a-45e2-df21-26d05a356a2c"
      },
      "execution_count": null,
      "outputs": [
        {
          "output_type": "execute_result",
          "data": {
            "text/plain": [
              "5"
            ]
          },
          "metadata": {},
          "execution_count": 67
        }
      ]
    },
    {
      "cell_type": "code",
      "source": [
        "test_tuple = (a, a, a)"
      ],
      "metadata": {
        "id": "MMFiU4jh-Q4J"
      },
      "execution_count": null,
      "outputs": []
    },
    {
      "cell_type": "code",
      "source": [
        "test_tuple[0].number+=1"
      ],
      "metadata": {
        "id": "EfVInxTl-UdE"
      },
      "execution_count": null,
      "outputs": []
    },
    {
      "cell_type": "code",
      "source": [
        "test_tuple[1].number"
      ],
      "metadata": {
        "colab": {
          "base_uri": "https://localhost:8080/"
        },
        "id": "WIGpdPyS-8Dn",
        "outputId": "a05343fe-7291-4184-a3cc-8e26d8058051"
      },
      "execution_count": null,
      "outputs": [
        {
          "output_type": "execute_result",
          "data": {
            "text/plain": [
              "6"
            ]
          },
          "metadata": {},
          "execution_count": 75
        }
      ]
    },
    {
      "cell_type": "code",
      "execution_count": null,
      "metadata": {
        "id": "ZJ9uErhU3Lbx"
      },
      "outputs": [],
      "source": [
        "def swap(a, b):\n",
        "  return (b, a)"
      ]
    },
    {
      "cell_type": "code",
      "execution_count": null,
      "metadata": {
        "colab": {
          "base_uri": "https://localhost:8080/"
        },
        "id": "CYyGFwPi3cE5",
        "outputId": "12f7202f-37e8-4cd1-9744-e772d24445c2"
      },
      "outputs": [
        {
          "output_type": "stream",
          "name": "stdout",
          "text": [
            "(2, 1)\n"
          ]
        }
      ],
      "source": [
        "print(swap(1,2))\n",
        "a = 3\n",
        "b = 2\n"
      ]
    },
    {
      "cell_type": "code",
      "execution_count": null,
      "metadata": {
        "id": "Jfhs0mru4Gso"
      },
      "outputs": [],
      "source": [
        "condition = False"
      ]
    },
    {
      "cell_type": "code",
      "execution_count": null,
      "metadata": {
        "colab": {
          "base_uri": "https://localhost:8080/"
        },
        "id": "mlNtuuI637YI",
        "outputId": "bfe8e6f4-e297-40f4-91e5-b33619994c92"
      },
      "outputs": [
        {
          "output_type": "stream",
          "name": "stdout",
          "text": [
            "a>b\n"
          ]
        }
      ],
      "source": [
        "if a == b:\n",
        "  print(\"a==b\")\n",
        "elif a>b:\n",
        "  print(\"a>b\")\n",
        "else:\n",
        "  print(\"a<b\")"
      ]
    },
    {
      "cell_type": "code",
      "execution_count": null,
      "metadata": {
        "colab": {
          "base_uri": "https://localhost:8080/"
        },
        "id": "vZBObcSj5JTG",
        "outputId": "f917613c-4c0b-4ad5-a14e-7dd2f1b354bd"
      },
      "outputs": [
        {
          "output_type": "stream",
          "name": "stdout",
          "text": [
            "0\n",
            "1\n",
            "2\n",
            "3\n",
            "4\n"
          ]
        }
      ],
      "source": [
        "a = 0\n",
        "while a<5:\n",
        "  print(a)\n",
        "  a+=1"
      ]
    },
    {
      "cell_type": "code",
      "execution_count": null,
      "metadata": {
        "colab": {
          "base_uri": "https://localhost:8080/"
        },
        "id": "d6rPtxRG5mBI",
        "outputId": "dbf095b3-bacb-4fc6-c6e9-9cac02a7703d"
      },
      "outputs": [
        {
          "output_type": "stream",
          "name": "stdout",
          "text": [
            "0\n",
            "1\n",
            "2\n",
            "3\n",
            "4\n"
          ]
        }
      ],
      "source": [
        "for i in range(5):\n",
        "  print(i)"
      ]
    }
  ],
  "metadata": {
    "colab": {
      "provenance": []
    },
    "kernelspec": {
      "display_name": "Python 3",
      "name": "python3"
    },
    "language_info": {
      "name": "python"
    }
  },
  "nbformat": 4,
  "nbformat_minor": 0
}